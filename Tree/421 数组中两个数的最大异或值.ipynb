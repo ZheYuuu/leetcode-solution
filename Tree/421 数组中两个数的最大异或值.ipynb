{
 "cells": [
  {
   "cell_type": "code",
   "execution_count": null,
   "metadata": {
    "collapsed": true
   },
   "outputs": [],
   "source": [
    "给定一个非空数组，数组中元素为 a0, a1, a2, … , an-1，其中 0 ≤ ai < 231 。\n",
    "\n",
    "找到 ai 和aj 最大的异或 (XOR) 运算结果，其中0 ≤ i,  j < n 。\n",
    "\n",
    "你能在O(n)的时间解决这个问题吗？\n",
    "\n",
    "示例:\n",
    "\n",
    "输入: [3, 10, 5, 25, 2, 8]\n",
    "\n",
    "输出: 28\n",
    "\n",
    "解释: 最大的结果是 5 ^ 25 = 28."
   ]
  },
  {
   "cell_type": "code",
   "execution_count": 25,
   "metadata": {
    "collapsed": true
   },
   "outputs": [],
   "source": [
    "class Solution(object):\n",
    "    def findMaximumXOR(self, nums):\n",
    "        \"\"\"\n",
    "        :type nums: List[int]\n",
    "        :rtype: int\n",
    "        \"\"\"\n",
    "        root = {}\n",
    "        for n in nums:\n",
    "            curr = root\n",
    "            for i in reversed(range(32)):\n",
    "                t = 1 & n>>i\n",
    "                if t not in curr:\n",
    "                    curr[t] = {}\n",
    "                curr = curr[t]\n",
    "        res = 0\n",
    "        # print(root)\n",
    "        for n in nums:\n",
    "            curr = root\n",
    "            local = 0\n",
    "            for i in reversed(range(32)):\n",
    "                t = 1& n>>i\n",
    "                if t^1 in curr:\n",
    "                    local = local*2+1\n",
    "                    curr = curr[t^1]\n",
    "                else:\n",
    "                    local = local*2\n",
    "                    curr = curr[t]                 \n",
    "            res = max(local,res)\n",
    "        return res"
   ]
  },
  {
   "cell_type": "code",
   "execution_count": 26,
   "metadata": {
    "collapsed": true
   },
   "outputs": [],
   "source": [
    "sol = Solution()"
   ]
  },
  {
   "cell_type": "code",
   "execution_count": 27,
   "metadata": {},
   "outputs": [
    {
     "data": {
      "text/plain": [
       "28"
      ]
     },
     "execution_count": 27,
     "metadata": {},
     "output_type": "execute_result"
    }
   ],
   "source": [
    "sol.findMaximumXOR([3,10,5,25,2,8])"
   ]
  },
  {
   "cell_type": "code",
   "execution_count": 19,
   "metadata": {
    "collapsed": true
   },
   "outputs": [],
   "source": [
    "class Solution(object):\n",
    "    def findMaximumXOR(self, nums):\n",
    "        \"\"\"\n",
    "        :type nums: List[int]\n",
    "        :rtype: int\n",
    "        \"\"\"\n",
    "        root = {}\n",
    "        for n in nums:\n",
    "            curr = root\n",
    "            for i in reversed(range(32)):\n",
    "                t = 1 & n>>i\n",
    "                if t not in curr:\n",
    "                    curr[t] = {}\n",
    "                curr = curr[t]\n",
    "        res = 0\n",
    "        print(root)\n",
    "        for num in nums:\n",
    "            curr = root\n",
    "            local = 0\n",
    "            for i in range(31,-1,-1):\n",
    "                bit = 1 & num>>i\n",
    "                t = bit^1\n",
    "                if t in curr:\n",
    "                    local += 1<<i\n",
    "                    curr = curr[t]\n",
    "                else:\n",
    "                    curr = curr[bit]\n",
    "            res = max(local,res)\n",
    "        return res\n",
    "                \n",
    "                    \n",
    "                "
   ]
  },
  {
   "cell_type": "code",
   "execution_count": 20,
   "metadata": {
    "collapsed": true
   },
   "outputs": [],
   "source": [
    "sol = Solution()"
   ]
  },
  {
   "cell_type": "code",
   "execution_count": 21,
   "metadata": {},
   "outputs": [
    {
     "name": "stdout",
     "output_type": "stream",
     "text": [
      "{0: {0: {0: {0: {0: {0: {0: {0: {0: {0: {0: {0: {0: {0: {0: {0: {0: {0: {0: {0: {0: {0: {0: {0: {0: {0: {0: {0: {0: {0: {1: {1: {}, 0: {}}}, 1: {0: {1: {}}}}, 1: {0: {1: {0: {}}, 0: {0: {}}}}}, 1: {1: {0: {0: {1: {}}}}}}}}}}}}}}}}}}}}}}}}}}}}}}}}}\n"
     ]
    },
    {
     "data": {
      "text/plain": [
       "28"
      ]
     },
     "execution_count": 21,
     "metadata": {},
     "output_type": "execute_result"
    }
   ],
   "source": [
    "sol.findMaximumXOR([3,10,5,25,2,8])"
   ]
  },
  {
   "cell_type": "code",
   "execution_count": 9,
   "metadata": {},
   "outputs": [
    {
     "data": {
      "text/plain": [
       "True"
      ]
     },
     "execution_count": 9,
     "metadata": {},
     "output_type": "execute_result"
    }
   ],
   "source": [
    "\"{0: {0: {0: {0: {0: {0: {0: {0: {0: {0: {0: {0: {0: {0: {0: {0: {0: {0: {0: {0: {0: {0: {0: {0: {0: {0: {0: {0: {0: {0: {1: {1: {}, 0: {}}}, 1: {0: {1: {}}}}, 1: {0: {1: {0: {}}, 0: {0: {}}}}}, 1: {1: {0: {0: {1: {}}}}}}}}}}}}}}}}}}}}}}}}}}}}}}}}}\"==\"{0: {0: {0: {0: {0: {0: {0: {0: {0: {0: {0: {0: {0: {0: {0: {0: {0: {0: {0: {0: {0: {0: {0: {0: {0: {0: {0: {0: {0: {0: {1: {1: {}, 0: {}}}, 1: {0: {1: {}}}}, 1: {0: {1: {0: {}}, 0: {0: {}}}}}, 1: {1: {0: {0: {1: {}}}}}}}}}}}}}}}}}}}}}}}}}}}}}}}}}\""
   ]
  },
  {
   "cell_type": "code",
   "execution_count": null,
   "metadata": {
    "collapsed": true
   },
   "outputs": [],
   "source": []
  }
 ],
 "metadata": {
  "kernelspec": {
   "display_name": "Python 3",
   "language": "python",
   "name": "python3"
  },
  "language_info": {
   "codemirror_mode": {
    "name": "ipython",
    "version": 3
   },
   "file_extension": ".py",
   "mimetype": "text/x-python",
   "name": "python",
   "nbconvert_exporter": "python",
   "pygments_lexer": "ipython3",
   "version": "3.6.1"
  }
 },
 "nbformat": 4,
 "nbformat_minor": 2
}
