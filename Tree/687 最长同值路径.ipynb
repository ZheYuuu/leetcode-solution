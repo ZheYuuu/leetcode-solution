{
 "cells": [
  {
   "cell_type": "code",
   "execution_count": null,
   "metadata": {
    "collapsed": true
   },
   "outputs": [],
   "source": [
    "给定一个二叉树，找到最长的路径，这个路径中的每个节点具有相同值。 这条路径可以经过也可以不经过根节点。\n",
    "\n",
    "注意：两个节点之间的路径长度由它们之间的边数表示。\n",
    "\n",
    "示例 1:\n",
    "\n",
    "输入:\n",
    "\n",
    "              5\n",
    "             / \\\n",
    "            4   5\n",
    "           / \\   \\\n",
    "          1   1   5\n",
    "输出:\n",
    "\n",
    "2\n",
    "示例 2:\n",
    "\n",
    "输入:\n",
    "\n",
    "              1\n",
    "             / \\\n",
    "            4   5\n",
    "           / \\   \\\n",
    "          4   4   5\n",
    "输出:\n",
    "\n",
    "2"
   ]
  },
  {
   "cell_type": "code",
   "execution_count": null,
   "metadata": {
    "collapsed": true
   },
   "outputs": [],
   "source": [
    "class Solution:\n",
    "    def longestUnivaluePath(self, root):\n",
    "        \"\"\"\n",
    "        :type root: TreeNode\n",
    "        :rtype: int\n",
    "        \"\"\"\n",
    "        maxL = 0\n",
    "        \n",
    "        def getMaxL(node, val):\n",
    "            nonlocal maxL\n",
    "            if node == None:\n",
    "                return 0\n",
    "            leftMaxL = getMaxL(node.left, node.val)\n",
    "            rightMaxL = getMaxL(node.right, node.val)\n",
    "            \n",
    "            maxL = max(maxL,leftMaxL+rightMaxL)\n",
    "            \n",
    "            if(node.val == val):\n",
    "                return max(leftMaxL, rightMaxL) + 1\n",
    "            else:\n",
    "                return 0\n",
    "        if root != None:\n",
    "            getMaxL(root, root.val)\n",
    "        return maxL"
   ]
  },
  {
   "cell_type": "code",
   "execution_count": null,
   "metadata": {
    "collapsed": true
   },
   "outputs": [],
   "source": [
    "# 注意是无分叉的路径，只能单向拓展，所以递归返回应该是max(left,right)，但是判断最大就该是把当前节点作为左右两边的连接点，\n",
    "# 用max(self.max, left+right)\n",
    "\n",
    "# Definition for a binary tree node.\n",
    "# class TreeNode(object):\n",
    "#     def __init__(self, x):\n",
    "#         self.val = x\n",
    "#         self.left = None\n",
    "#         self.right = None\n",
    "\n",
    "class Solution(object):\n",
    "    def longestUnivaluePath(self, root):\n",
    "        \"\"\"\n",
    "        :type root: TreeNode\n",
    "        :rtype: int\n",
    "        \"\"\"\n",
    "        self.max = 0\n",
    "        def func(root):\n",
    "            if not root:\n",
    "                return 0\n",
    "            left,right = 0,0\n",
    "            if root.left:\n",
    "                if root.left.val==root.val:\n",
    "                    left = func(root.left)+1\n",
    "                else:\n",
    "                    func(root.left)\n",
    "            if root.right:\n",
    "                if root.right.val==root.val:\n",
    "                    right = func(root.right)+1\n",
    "                else:\n",
    "                    func(root.right)\n",
    "            if left!=0 or right!=0:\n",
    "                self.max = max(self.max,left+right)\n",
    "                return max(left,right)\n",
    "            else:\n",
    "                \n",
    "                return 0\n",
    "        func(root)\n",
    "        return self.max"
   ]
  }
 ],
 "metadata": {
  "kernelspec": {
   "display_name": "Python 3",
   "language": "python",
   "name": "python3"
  },
  "language_info": {
   "codemirror_mode": {
    "name": "ipython",
    "version": 3
   },
   "file_extension": ".py",
   "mimetype": "text/x-python",
   "name": "python",
   "nbconvert_exporter": "python",
   "pygments_lexer": "ipython3",
   "version": "3.6.1"
  }
 },
 "nbformat": 4,
 "nbformat_minor": 2
}
