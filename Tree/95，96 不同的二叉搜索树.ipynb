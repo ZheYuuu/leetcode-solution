{
 "cells": [
  {
   "cell_type": "code",
   "execution_count": null,
   "metadata": {
    "collapsed": true
   },
   "outputs": [],
   "source": [
    "给定一个整数 n，生成所有由 1 ... n 为节点所组成的二叉搜索树。\n",
    "\n",
    "示例:\n",
    "\n",
    "输入: 3\n",
    "输出:\n",
    "[\n",
    "  [1,null,3,2],\n",
    "  [3,2,null,1],\n",
    "  [3,1,null,null,2],\n",
    "  [2,1,3],\n",
    "  [1,null,2,null,3]\n",
    "]\n",
    "解释:\n",
    "以上的输出对应以下 5 种不同结构的二叉搜索树：\n",
    "\n",
    "   1         3     3      2      1\n",
    "    \\       /     /      / \\      \\\n",
    "     3     2     1      1   3      2\n",
    "    /     /       \\                 \\\n",
    "   2     1         2                 3"
   ]
  },
  {
   "cell_type": "code",
   "execution_count": null,
   "metadata": {
    "collapsed": true
   },
   "outputs": [],
   "source": [
    "# Definition for a binary tree node.\n",
    "# class TreeNode(object):\n",
    "#     def __init__(self, x):\n",
    "#         self.val = x\n",
    "#         self.left = None\n",
    "#         self.right = None\n",
    "\n",
    "class Solution(object):\n",
    "    def generateTrees(self, n):\n",
    "        \"\"\"\n",
    "        :type n: int\n",
    "        :rtype: List[TreeNode]\n",
    "        \"\"\"\n",
    "        if n==0:\n",
    "            return []\n",
    "        def helper(left, right):\n",
    "            res = []\n",
    "            if left > right:\n",
    "                return [None]\n",
    "            \n",
    "            # 在[left,right]区间内选取k作为根节点\n",
    "            for k in range(left,right+1):\n",
    "                left_trees = helper(left,k-1)\n",
    "                # 选取k为节点后，对应的左子树的可能情况\n",
    "                right_trees = helper(k+1,right)\n",
    "                # 选取k为节点后，对应的右子树的可能情况\n",
    "                \n",
    "                # 进行组合\n",
    "                for i in left_trees:\n",
    "                    for j in right_trees:\n",
    "                        tmp = TreeNode(k)\n",
    "                        tmp.left = i\n",
    "                        tmp.right = j\n",
    "                        # 左节点 i，右节点j，root k\n",
    "                        res.append(tmp)\n",
    "            return res           \n",
    "        return helper(1, n)\n"
   ]
  },
  {
   "cell_type": "code",
   "execution_count": null,
   "metadata": {
    "collapsed": true
   },
   "outputs": [],
   "source": []
  },
  {
   "cell_type": "code",
   "execution_count": null,
   "metadata": {
    "collapsed": true
   },
   "outputs": [],
   "source": [
    "给定一个整数 n，求以 1 ... n 为节点组成的二叉搜索树有多少种？\n",
    "\n",
    "示例:\n",
    "\n",
    "输入: 3\n",
    "输出: 5\n",
    "解释:\n",
    "给定 n = 3, 一共有 5 种不同结构的二叉搜索树:\n",
    "\n",
    "   1         3     3      2      1\n",
    "    \\       /     /      / \\      \\\n",
    "     3     2     1      1   3      2\n",
    "    /     /       \\                 \\\n",
    "   2     1         2                 3"
   ]
  },
  {
   "cell_type": "code",
   "execution_count": null,
   "metadata": {
    "collapsed": true
   },
   "outputs": [],
   "source": [
    "# dp[i] 以i为根节点的不同二叉搜索数个数\n",
    "\n",
    "class Solution:\n",
    "    def numTrees(self, n):\n",
    "        \"\"\"\n",
    "        :type n: int\n",
    "        :rtype: int\n",
    "        \"\"\"\n",
    "        dp = [1 for _ in range(n+1)]\n",
    "        for i in range(2,n+1):\n",
    "            dp[i] = sum([dp[j-1]*dp[i-j] for j in range(1,i+1)])\n",
    "        return dp[-1]"
   ]
  }
 ],
 "metadata": {
  "kernelspec": {
   "display_name": "Python 3",
   "language": "python",
   "name": "python3"
  },
  "language_info": {
   "codemirror_mode": {
    "name": "ipython",
    "version": 3
   },
   "file_extension": ".py",
   "mimetype": "text/x-python",
   "name": "python",
   "nbconvert_exporter": "python",
   "pygments_lexer": "ipython3",
   "version": "3.6.1"
  }
 },
 "nbformat": 4,
 "nbformat_minor": 2
}
