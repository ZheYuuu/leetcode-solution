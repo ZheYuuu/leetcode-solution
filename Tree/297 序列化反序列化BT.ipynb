{
 "cells": [
  {
   "cell_type": "code",
   "execution_count": null,
   "metadata": {
    "collapsed": true
   },
   "outputs": [],
   "source": [
    "序列化是将一个数据结构或者对象转换为连续的比特位的操作，进而可以将转换后的数据存储在一个文件或者内存中，同时也可以通过网络传输到另一个计算机环境，采取相反方式重构得到原数据。\n",
    "\n",
    "请设计一个算法来实现二叉树的序列化与反序列化。这里不限定你的序列 / 反序列化算法执行逻辑，你只需要保证一个二叉树可以被序列化为一个字符串并且将这个字符串反序列化为原始的树结构。\n",
    "\n",
    "示例: \n",
    "\n",
    "你可以将以下二叉树：\n",
    "\n",
    "    1\n",
    "   / \\\n",
    "  2   3\n",
    "     / \\\n",
    "    4   5\n",
    "\n",
    "序列化为 \"[1,2,3,null,null,4,5]\"\n",
    "提示: 这与 LeetCode 目前使用的方式一致，详情请参阅 LeetCode 序列化二叉树的格式。你并非必须采取这种方式，你也可以采用其他的方法解决这个问题。\n",
    "\n",
    "说明: 不要使用类的成员 / 全局 / 静态变量来存储状态，你的序列化和反序列化算法应该是无状态的。\n"
   ]
  },
  {
   "cell_type": "code",
   "execution_count": 47,
   "metadata": {
    "collapsed": true
   },
   "outputs": [],
   "source": [
    "# 层次遍历\n",
    "# Definition for a binary tree node.\n",
    "class TreeNode(object):\n",
    "    def __init__(self, x):\n",
    "        self.val = x\n",
    "        self.left = None\n",
    "        self.right = None\n",
    "\n",
    "class Codec1:\n",
    "\n",
    "    def serialize(self, root):\n",
    "        \"\"\"Encodes a tree to a single string.\n",
    "        \n",
    "        :type root: TreeNode\n",
    "        :rtype: str\n",
    "        \"\"\"\n",
    "        if not root:\n",
    "            return \"null\"\n",
    "        stack = [root]        \n",
    "        ret = []\n",
    "        while(stack):\n",
    "            n = len(stack)\n",
    "            # print(stack)\n",
    "            for i in range(n):\n",
    "                root = stack.pop(0)\n",
    "                if root:\n",
    "                    ret.append(str(root.val))\n",
    "                    stack.append(root.left)\n",
    "                    stack.append(root.right)\n",
    "                else:\n",
    "                    ret.append(\"null\")\n",
    "        while(ret[-1]==\"null\"):\n",
    "            ret.pop()\n",
    "        return \" \".join(ret)\n",
    "                \n",
    "            \n",
    "\n",
    "    def deserialize(self, data):\n",
    "        \"\"\"Decodes your encoded data to tree.\n",
    "        \n",
    "        :type data: str\n",
    "        :rtype: TreeNode\n",
    "        \"\"\"\n",
    "        tree = data.split()\n",
    "#         print(tree)\n",
    "        root = TreeNode(int(tree[0])) if tree[0]!=\"null\" else None\n",
    "        pre = [root]\n",
    "        tree.pop(0)\n",
    "        while(pre and tree):\n",
    "            n = len(pre)\n",
    "            # print(tree,n)\n",
    "            for i in range(n):\n",
    "                if not pre[i]:\n",
    "                    continue\n",
    "                left = tree.pop(0)\n",
    "                left = TreeNode(int(left)) if left!=\"null\" else None\n",
    "                right = tree.pop(0)\n",
    "                right = TreeNode(int(right)) if right!=\"null\" else None\n",
    "                pre[i].left = left\n",
    "                pre[i].right = right\n",
    "                pre.append(left)\n",
    "                pre.append(right)\n",
    "            pre = pre[n:]\n",
    "        return root\n",
    "                \n",
    "                \n",
    "\n",
    "# Your Codec object will be instantiated and called as such:\n",
    "# codec = Codec()\n",
    "# codec.deserialize(codec.serialize(root))"
   ]
  },
  {
   "cell_type": "code",
   "execution_count": null,
   "metadata": {},
   "outputs": [],
   "source": []
  },
  {
   "cell_type": "code",
   "execution_count": 39,
   "metadata": {},
   "outputs": [],
   "source": [
    "# 递归\n",
    "\n",
    "# Definition for a binary tree node.\n",
    "# class TreeNode(object):\n",
    "#     def __init__(self, x):\n",
    "#         self.val = x\n",
    "#         self.left = None\n",
    "#         self.right = None\n",
    "\n",
    "class Codec2:\n",
    "\n",
    "    def serialize(self, root):\n",
    "        \"\"\"Encodes a tree to a single string.\n",
    "        \n",
    "        :type root: TreeNode\n",
    "        :rtype: str\n",
    "        \"\"\"\n",
    "        if not root:\n",
    "            return \"null\"\n",
    "        ret = []\n",
    "        def preorder(node):\n",
    "            if not node:\n",
    "                ret.append(\"null\")\n",
    "                return\n",
    "            ret.append(str(node.val))\n",
    "            preorder(node.left)\n",
    "            preorder(node.right)\n",
    "        preorder(root)\n",
    "        return \" \".join(ret)\n",
    "                \n",
    "            \n",
    "\n",
    "    def deserialize(self, data):\n",
    "        \"\"\"Decodes your encoded data to tree.\n",
    "        \n",
    "        :type data: str\n",
    "        :rtype: TreeNode\n",
    "        \"\"\"\n",
    "        self.data = data.split()\n",
    "        # print(data)\n",
    "        def func(data):\n",
    "            if not self.data:\n",
    "                return\n",
    "            val = self.data.pop(0)\n",
    "            if val==\"null\":\n",
    "                return None\n",
    "            else:\n",
    "                node = TreeNode(int(val))\n",
    "                node.left = func(self.data)\n",
    "                node.right = func(self.data)\n",
    "                return node\n",
    "        return func(data)\n",
    "            \n",
    "\n",
    "                \n",
    "                \n",
    "\n",
    "# Your Codec object will be instantiated and called as such:\n",
    "# codec = Codec()\n",
    "# codec.deserialize(codec.serialize(root))"
   ]
  },
  {
   "cell_type": "code",
   "execution_count": 48,
   "metadata": {
    "collapsed": true
   },
   "outputs": [],
   "source": [
    "codec1 = Codec1()\n",
    "codec2 = Codec2()\n",
    "\n",
    "s = \"7 2 8 1 4 null 9 null null 3 6 null null null null null 5\"\n",
    "\n"
   ]
  },
  {
   "cell_type": "code",
   "execution_count": 41,
   "metadata": {},
   "outputs": [
    {
     "data": {
      "text/plain": [
       "'7 2 8 1 4 null 9 null null 3 6 null null null null null 5 null null'"
      ]
     },
     "execution_count": 41,
     "metadata": {},
     "output_type": "execute_result"
    }
   ],
   "source": []
  },
  {
   "cell_type": "code",
   "execution_count": 42,
   "metadata": {
    "collapsed": true
   },
   "outputs": [],
   "source": [
    "root = codec1.deserialize(s)"
   ]
  },
  {
   "cell_type": "code",
   "execution_count": 44,
   "metadata": {},
   "outputs": [
    {
     "data": {
      "text/plain": [
       "<__main__.TreeNode at 0x1677f41cc18>"
      ]
     },
     "execution_count": 44,
     "metadata": {},
     "output_type": "execute_result"
    }
   ],
   "source": [
    "# codec2.serialize(codec2.deserialize(s)) √\n",
    "# codec2.serialize(root) √\n",
    "# codec2.deserialize(codec2.serialize(root))   √\n",
    "# codec2.deserialize(s) √"
   ]
  },
  {
   "cell_type": "code",
   "execution_count": 53,
   "metadata": {},
   "outputs": [
    {
     "data": {
      "text/plain": [
       "'7 2 8 1 4 null 9 null null 3 6 null null null null null 5'"
      ]
     },
     "execution_count": 53,
     "metadata": {},
     "output_type": "execute_result"
    }
   ],
   "source": [
    "root = codec1.deserialize(s) \n",
    "codec1.deserialize(codec1.serialize(root)) \n",
    "# codec1.serialize(codec2.deserialize(s)) \n",
    "codec1.serialize(root)\n",
    "\n"
   ]
  },
  {
   "cell_type": "code",
   "execution_count": null,
   "metadata": {
    "collapsed": true
   },
   "outputs": [],
   "source": []
  }
 ],
 "metadata": {
  "kernelspec": {
   "display_name": "Python 3",
   "language": "python",
   "name": "python3"
  },
  "language_info": {
   "codemirror_mode": {
    "name": "ipython",
    "version": 3
   },
   "file_extension": ".py",
   "mimetype": "text/x-python",
   "name": "python",
   "nbconvert_exporter": "python",
   "pygments_lexer": "ipython3",
   "version": "3.6.1"
  }
 },
 "nbformat": 4,
 "nbformat_minor": 2
}
