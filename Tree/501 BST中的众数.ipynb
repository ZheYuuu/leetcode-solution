{
 "cells": [
  {
   "cell_type": "code",
   "execution_count": null,
   "metadata": {
    "collapsed": true
   },
   "outputs": [],
   "source": [
    "给定一个有相同值的二叉搜索树（BST），找出 BST 中的所有众数（出现频率最高的元素）。\n",
    "\n",
    "假定 BST 有如下定义：\n",
    "\n",
    "结点左子树中所含结点的值小于等于当前结点的值\n",
    "结点右子树中所含结点的值大于等于当前结点的值\n",
    "左子树和右子树都是二叉搜索树\n",
    "例如：\n",
    "给定 BST [1,null,2,2],\n",
    "\n",
    "   1\n",
    "    \\\n",
    "     2\n",
    "    /\n",
    "   2\n",
    "返回[2].\n",
    "\n",
    "提示：如果众数超过1个，不需考虑输出顺序\n",
    "\n",
    "进阶：你可以不使用额外的空间吗？（假设由递归产生的隐式调用栈的开销不被计算在内）\n",
    "\n",
    "在真实的面试中遇到过这道题？"
   ]
  },
  {
   "cell_type": "code",
   "execution_count": null,
   "metadata": {
    "collapsed": true
   },
   "outputs": [],
   "source": [
    "# 正确思路：BST中序遍历得到递增序列\n",
    "# Definition for a binary tree node.\n",
    "# class TreeNode:\n",
    "#     def __init__(self, x):\n",
    "#         self.val = x\n",
    "#         self.left = None\n",
    "#         self.right = None\n",
    "\n",
    "class Solution:\n",
    "    def findMode(self, root):\n",
    "        \"\"\"\n",
    "        :type root: TreeNode\n",
    "        :rtype: List[int]\n",
    "        \"\"\"\n",
    "        self.res = []\n",
    "        if not root:\n",
    "            return self.res\n",
    "        def inorder(root):\n",
    "            if not root:\n",
    "                return\n",
    "            inorder(root.left):\n",
    "            self.res.append(root.val)\n",
    "            inorder(root.right)\n",
    "        inorder(root)\n",
    "        max_ = 1\n",
    "        cnt = 1\n",
    "        ret = [self.res[0]]\n",
    "        for i in range(1,len(self.res)):\n",
    "            cnt = cnt+1 if self.res[i]==self.res[i-1] else 1\n",
    "            if(cnt==max_):\n",
    "                ret.append(self.res[i])\n",
    "            if(cnt>max_):\n",
    "                ret = []\n",
    "                ret.append(self.res[i])"
   ]
  },
  {
   "cell_type": "code",
   "execution_count": null,
   "metadata": {
    "collapsed": true
   },
   "outputs": [],
   "source": [
    "# 错误思路：想通过递归解决，但是只考虑了相邻节点相同，但是在不同位置处，BST节点值也可能相同，如下面这组数据\n",
    "#   [2,1,3,0,2,null,null,null,null,2,null,1,null,null,1]\n",
    "\n",
    "# Definition for a binary tree node.\n",
    "# class TreeNode:\n",
    "#     def __init__(self, x):\n",
    "#         self.val = x\n",
    "#         self.left = None\n",
    "#         self.right = None\n",
    "\n",
    "class Solution:\n",
    "    def findMode(self, root):\n",
    "        \"\"\"\n",
    "        :type root: TreeNode\n",
    "        :rtype: List[int]\n",
    "        \"\"\"\n",
    "        res = []\n",
    "        self.max_ = float(\"-inf\")\n",
    "        if not root:\n",
    "            return res\n",
    "        def func(root,curr):\n",
    "            if not root.left and not root.right:\n",
    "                return 1\n",
    "            if root.left:\n",
    "                if root.val == root.left.val:\n",
    "                    curr += func(root.left,curr+1)\n",
    "                else:\n",
    "                    func(root.left,1)\n",
    "            if root.right:\n",
    "                if root.val == root.right.val:\n",
    "                    curr += func(root.right, curr+1)\n",
    "                else:\n",
    "                    func(root.right,1)\n",
    "            if(curr==self.max_):\n",
    "                res.append(root.val)\n",
    "            if(curr>self.max_):\n",
    "                res.clear()\n",
    "                res.append(root.val)\n",
    "                self.max_ = curr\n",
    "        func(root,1)\n",
    "        return res\n",
    "                \n",
    "            "
   ]
  }
 ],
 "metadata": {
  "kernelspec": {
   "display_name": "Python 3",
   "language": "python",
   "name": "python3"
  },
  "language_info": {
   "codemirror_mode": {
    "name": "ipython",
    "version": 3
   },
   "file_extension": ".py",
   "mimetype": "text/x-python",
   "name": "python",
   "nbconvert_exporter": "python",
   "pygments_lexer": "ipython3",
   "version": "3.6.1"
  }
 },
 "nbformat": 4,
 "nbformat_minor": 2
}
