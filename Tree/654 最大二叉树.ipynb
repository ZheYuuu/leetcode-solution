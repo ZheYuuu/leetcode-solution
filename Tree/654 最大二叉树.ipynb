{
 "cells": [
  {
   "cell_type": "code",
   "execution_count": null,
   "metadata": {
    "collapsed": true
   },
   "outputs": [],
   "source": [
    "给定一个不含重复元素的整数数组。一个以此数组构建的最大二叉树定义如下：\n",
    "\n",
    "二叉树的根是数组中的最大元素。\n",
    "左子树是通过数组中最大值左边部分构造出的最大二叉树。\n",
    "右子树是通过数组中最大值右边部分构造出的最大二叉树。\n",
    "通过给定的数组构建最大二叉树，并且输出这个树的根节点。\n",
    "\n",
    "Example 1:\n",
    "\n",
    "输入: [3,2,1,6,0,5]\n",
    "输入: 返回下面这棵树的根节点：\n",
    "\n",
    "      6\n",
    "    /   \\\n",
    "   3     5\n",
    "    \\    / \n",
    "     2  0   \n",
    "       \\\n",
    "        1\n",
    "注意:\n",
    "\n",
    "给定的数组的大小在 [1, 1000] 之间。"
   ]
  },
  {
   "cell_type": "code",
   "execution_count": null,
   "metadata": {
    "collapsed": true
   },
   "outputs": [],
   "source": [
    "# Definition for a binary tree node.\n",
    "# class TreeNode(object):\n",
    "#     def __init__(self, x):\n",
    "#         self.val = x\n",
    "#         self.left = None\n",
    "#         self.right = None\n",
    "\n",
    "class Solution(object):\n",
    "    def constructMaximumBinaryTree(self, nums):\n",
    "        \"\"\"\n",
    "        :type nums: List[int]\n",
    "        :rtype: TreeNode\n",
    "        \"\"\"\n",
    "        if not nums:\n",
    "            return None\n",
    "        max_idx = self.maxIdx(nums,0,len(nums))\n",
    "#         print(max_idx,nums[max_idx])\n",
    "        root = TreeNode(nums[max_idx])\n",
    "        root.left = self.constructMaximumBinaryTree(nums[0:max_idx])\n",
    "        root.right = self.constructMaximumBinaryTree(nums[max_idx+1:len(nums)])\n",
    "        return root\n",
    "    \n",
    "    def maxIdx(self,nums,p,q):\n",
    "        max_idx = 0\n",
    "        max_num = float(\"-inf\")\n",
    "        for i in range(p,q):\n",
    "            if(nums[i]>max_num):\n",
    "                max_idx = i\n",
    "                max_num = nums[i]\n",
    "        return max_idx\n",
    "       \n",
    "            \n",
    "            "
   ]
  }
 ],
 "metadata": {
  "kernelspec": {
   "display_name": "Python 3",
   "language": "python",
   "name": "python3"
  },
  "language_info": {
   "codemirror_mode": {
    "name": "ipython",
    "version": 3
   },
   "file_extension": ".py",
   "mimetype": "text/x-python",
   "name": "python",
   "nbconvert_exporter": "python",
   "pygments_lexer": "ipython3",
   "version": "3.6.1"
  }
 },
 "nbformat": 4,
 "nbformat_minor": 2
}
