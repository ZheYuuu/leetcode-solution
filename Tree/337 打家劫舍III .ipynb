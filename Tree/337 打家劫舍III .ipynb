{
 "cells": [
  {
   "cell_type": "code",
   "execution_count": null,
   "metadata": {
    "collapsed": true
   },
   "outputs": [],
   "source": []
  },
  {
   "cell_type": "code",
   "execution_count": null,
   "metadata": {
    "collapsed": true
   },
   "outputs": [],
   "source": [
    "# Definition for a binary tree node.\n",
    "# class TreeNode:\n",
    "#     def __init__(self, x):\n",
    "#         self.val = x\n",
    "#         self.left = None\n",
    "#         self.right = None\n",
    "\n",
    "class Solution:\n",
    "    def rob(self, root):\n",
    "        \"\"\"\n",
    "        :type root: TreeNode\n",
    "        :rtype: int\n",
    "        \"\"\"\n",
    "#         def getNodeList(node):\n",
    "#             if not node:\n",
    "#                 return None\n",
    "#             stack = [node]\n",
    "#             ret = []\n",
    "#             while(stack):\n",
    "#                 n = len(stack)\n",
    "#                 for i in range(n):\n",
    "#                     node = stack.pop(0)\n",
    "#                     if not node:\n",
    "#                         ret.append(float(\"-inf\"))\n",
    "#                     else:\n",
    "#                         ret.append(node.val)\n",
    "                    \n",
    "#         一开始没有使用记忆化搜索超时 \n",
    "        dp = {}\n",
    "        def func1(node, avaliable):\n",
    "            if not node:\n",
    "                return 0\n",
    "            if avaliable:\n",
    "                if id(root) in dp:\n",
    "                    return dp[id(root)]\n",
    "                else:\n",
    "                    robbed = node.val + func(node.left,False) + func(node.right,False)\n",
    "                    notRobbed = func(node.left,True) + func(node.right,True)\n",
    "                    dp(id(node)) = max(robbed,notRobbed)\n",
    "                    return dp[id(root)]\n",
    "            else:\n",
    "                return func(node.left,True)+func(node.right,True)\n",
    "            \n",
    "        \n",
    "#     尝试不引入avaliable\n",
    "        def func2(node):\n",
    "#         [不偷当前节点，偷当前节点]\n",
    "            if not node:\n",
    "                return [0,0]\n",
    "            left = func2(node.left)\n",
    "            right = func2(node.right)\n",
    "#             为什么是max(left),max(right)???\n",
    "            return node.val+left[1]+right[1],max(left)+max(right)\n",
    "        return func1(root)\n",
    "\n",
    "\n",
    "            "
   ]
  }
 ],
 "metadata": {
  "kernelspec": {
   "display_name": "Python 3",
   "language": "python",
   "name": "python3"
  },
  "language_info": {
   "codemirror_mode": {
    "name": "ipython",
    "version": 3
   },
   "file_extension": ".py",
   "mimetype": "text/x-python",
   "name": "python",
   "nbconvert_exporter": "python",
   "pygments_lexer": "ipython3",
   "version": "3.6.1"
  }
 },
 "nbformat": 4,
 "nbformat_minor": 2
}
