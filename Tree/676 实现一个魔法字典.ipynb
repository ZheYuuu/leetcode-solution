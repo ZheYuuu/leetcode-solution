{
 "cells": [
  {
   "cell_type": "code",
   "execution_count": null,
   "metadata": {
    "collapsed": true
   },
   "outputs": [],
   "source": [
    "实现一个带有buildDict, 以及 search方法的魔法字典。\n",
    "\n",
    "对于buildDict方法，你将被给定一串不重复的单词来构建一个字典。\n",
    "\n",
    "对于search方法，你将被给定一个单词，并且判定能否只将这个单词中一个字母换成另一个字母，使得所形成的新单词存在于你构建的字典中。\n",
    "\n",
    "示例 1:\n",
    "\n",
    "Input: buildDict([\"hello\", \"leetcode\"]), Output: Null\n",
    "Input: search(\"hello\"), Output: False\n",
    "Input: search(\"hhllo\"), Output: True\n",
    "Input: search(\"hell\"), Output: False\n",
    "Input: search(\"leetcoded\"), Output: False\n",
    "注意:\n",
    "\n",
    "你可以假设所有输入都是小写字母 a-z。\n",
    "为了便于竞赛，测试所用的数据量很小。你可以在竞赛结束后，考虑更高效的算法。\n",
    "请记住重置MagicDictionary类中声明的类变量，因为静态/类变量会在多个测试用例中保留。 请参阅这里了解更多详情。"
   ]
  },
  {
   "cell_type": "code",
   "execution_count": null,
   "metadata": {
    "collapsed": true
   },
   "outputs": [],
   "source": [
    "class MagicDictionary(object):\n",
    "    def __init__(self):\n",
    "        \"\"\"\n",
    "        Initialize your data structure here.\n",
    "        \"\"\"\n",
    "        self.root = {}\n",
    "    def buildDict(self, dict):\n",
    "        \"\"\"\n",
    "        Build a dictionary through a list of words\n",
    "        :type dict: List[str]\n",
    "        :rtype: None\n",
    "        \"\"\"\n",
    "        for word in dict:\n",
    "            curr = self.root\n",
    "            for i in range(len(word)):\n",
    "                if word[i] not in curr:\n",
    "                    curr[word[i]] = {}\n",
    "                curr = curr[word[i]]\n",
    "            curr[\"isEnd\"] = {}\n",
    "            \n",
    "    def search(self, word):\n",
    "        \"\"\"\n",
    "        Returns if there is any word in the trie that equals to the given word after modifying exactly one character\n",
    "        :type word: str\n",
    "        :rtype: bool\n",
    "        \"\"\"\n",
    "        def func(curr,word):\n",
    "            for w in word:\n",
    "                if w not in curr:\n",
    "                    return False\n",
    "                curr = curr[w]\n",
    "            return \"isEnd\" in curr\n",
    "            \n",
    "        curr = self.root\n",
    "        ret = False\n",
    "        for i in range(len(word)):\n",
    "            for key in curr.keys():\n",
    "                if key!=word[i]:\n",
    "                    ret = ret|func(curr[key],word[i+1:])\n",
    "            if word[i] in curr:\n",
    "                curr = curr[word[i]]\n",
    "        return ret\n",
    "            \n",
    "# Your MagicDictionary object will be instantiated and called as such:\n",
    "# obj = MagicDictionary()\n",
    "# obj.buildDict(dict)\n",
    "# param_2 = obj.search(word)"
   ]
  },
  {
   "cell_type": "code",
   "execution_count": 1,
   "metadata": {
    "collapsed": true
   },
   "outputs": [],
   "source": [
    "word= \"123455\""
   ]
  },
  {
   "cell_type": "code",
   "execution_count": 2,
   "metadata": {},
   "outputs": [
    {
     "data": {
      "text/plain": [
       "'2'"
      ]
     },
     "execution_count": 2,
     "metadata": {},
     "output_type": "execute_result"
    }
   ],
   "source": [
    "word[1]"
   ]
  },
  {
   "cell_type": "code",
   "execution_count": 3,
   "metadata": {
    "collapsed": true
   },
   "outputs": [],
   "source": [
    "d = {}\n",
    "for w in word:\n",
    "    d[w] = {}"
   ]
  },
  {
   "cell_type": "code",
   "execution_count": 4,
   "metadata": {},
   "outputs": [
    {
     "data": {
      "text/plain": [
       "{'1': {}, '2': {}, '3': {}, '4': {}, '5': {}}"
      ]
     },
     "execution_count": 4,
     "metadata": {},
     "output_type": "execute_result"
    }
   ],
   "source": [
    "d"
   ]
  },
  {
   "cell_type": "code",
   "execution_count": 5,
   "metadata": {},
   "outputs": [
    {
     "name": "stdout",
     "output_type": "stream",
     "text": [
      "True\n",
      "True\n",
      "True\n",
      "True\n",
      "True\n"
     ]
    }
   ],
   "source": [
    "for key in d.keys():\n",
    "    print(key in d)"
   ]
  },
  {
   "cell_type": "code",
   "execution_count": null,
   "metadata": {
    "collapsed": true
   },
   "outputs": [],
   "source": []
  }
 ],
 "metadata": {
  "kernelspec": {
   "display_name": "Python 3",
   "language": "python",
   "name": "python3"
  },
  "language_info": {
   "codemirror_mode": {
    "name": "ipython",
    "version": 3
   },
   "file_extension": ".py",
   "mimetype": "text/x-python",
   "name": "python",
   "nbconvert_exporter": "python",
   "pygments_lexer": "ipython3",
   "version": "3.6.1"
  }
 },
 "nbformat": 4,
 "nbformat_minor": 2
}
