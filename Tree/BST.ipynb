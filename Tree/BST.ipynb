{
 "cells": [
  {
   "cell_type": "code",
   "execution_count": null,
   "metadata": {
    "collapsed": true
   },
   "outputs": [],
   "source": [
    "class Node(object):\n",
    "    def __init__(self, data=None):\n",
    "        self._left = None\n",
    "        self._right = None\n",
    "        self._data = data\n",
    "    def getLeft(self):\n",
    "        return self._left\n",
    "    def getRight(self):\n",
    "        return self._right\n",
    "    def getData(self):\n",
    "        return self._data\n",
    "    def setLeft(self, node):\n",
    "        self._left = node\n",
    "    def setRight(self, node):\n",
    "        self._right = node\n",
    "    def setData(self, data):\n",
    "        self._data = data\n",
    "class BinaryTree(object):\n",
    "    def __init__(self,root):\n",
    "        self._inOrder = []\n",
    "        self._preOrder = []\n",
    "        self._postOrder = []\n",
    "    def _"
   ]
  }
 ],
 "metadata": {
  "kernelspec": {
   "display_name": "Python 2",
   "language": "python",
   "name": "python2"
  },
  "language_info": {
   "codemirror_mode": {
    "name": "ipython",
    "version": 2.0
   },
   "file_extension": ".py",
   "mimetype": "text/x-python",
   "name": "python",
   "nbconvert_exporter": "python",
   "pygments_lexer": "ipython2",
   "version": "2.7.6"
  }
 },
 "nbformat": 4,
 "nbformat_minor": 0
}