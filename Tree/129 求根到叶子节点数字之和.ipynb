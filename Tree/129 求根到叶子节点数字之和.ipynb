{
 "cells": [
  {
   "cell_type": "code",
   "execution_count": null,
   "metadata": {
    "collapsed": true
   },
   "outputs": [],
   "source": [
    "给定一个二叉树，它的每个结点都存放一个 0-9 的数字，每条从根到叶子节点的路径都代表一个数字。\n",
    "\n",
    "例如，从根到叶子节点路径 1->2->3 代表数字 123。\n",
    "\n",
    "计算从根到叶子节点生成的所有数字之和。\n",
    "\n",
    "说明: 叶子节点是指没有子节点的节点。\n",
    "\n",
    "示例 1:\n",
    "\n",
    "输入: [1,2,3]\n",
    "    1\n",
    "   / \\\n",
    "  2   3\n",
    "输出: 25\n",
    "解释:\n",
    "从根到叶子节点路径 1->2 代表数字 12.\n",
    "从根到叶子节点路径 1->3 代表数字 13.\n",
    "因此，数字总和 = 12 + 13 = 25.\n",
    "示例 2:\n",
    "\n",
    "输入: [4,9,0,5,1]\n",
    "    4\n",
    "   / \\\n",
    "  9   0\n",
    " / \\\n",
    "5   1\n",
    "输出: 1026\n",
    "解释:\n",
    "从根到叶子节点路径 4->9->5 代表数字 495.\n",
    "从根到叶子节点路径 4->9->1 代表数字 491.\n",
    "从根到叶子节点路径 4->0 代表数字 40.\n",
    "因此，数字总和 = 495 + 491 + 40 = 1026."
   ]
  },
  {
   "cell_type": "code",
   "execution_count": null,
   "metadata": {
    "collapsed": true
   },
   "outputs": [],
   "source": [
    "# 这个方法有点蠢\n",
    "# Definition for a binary tree node.\n",
    "# class TreeNode(object):\n",
    "#     def __init__(self, x):\n",
    "#         self.val = x\n",
    "#         self.left = None\n",
    "#         self.right = None\n",
    "\n",
    "class Solution(object):\n",
    "    def sumNumbers(self, root):\n",
    "        \"\"\"\n",
    "        :type root: TreeNode\n",
    "        :rtype: int\n",
    "        \"\"\"\n",
    "        res = []\n",
    "        def func(node,route):\n",
    "            if not node:\n",
    "                return\n",
    "            route = route+[node.val]\n",
    "            if not node.left and not node.right:\n",
    "                res.append(route)\n",
    "            func(node.left,route)\n",
    "            func(node.right,route)\n",
    "        func(root,[])\n",
    "        ret = 0\n",
    "        for route in res:\n",
    "            tmp = route[0]\n",
    "            for val in route[1:]:\n",
    "                tmp = tmp*10+val\n",
    "            ret +=tmp\n",
    "        return ret\n",
    "        "
   ]
  },
  {
   "cell_type": "code",
   "execution_count": null,
   "metadata": {
    "collapsed": true
   },
   "outputs": [],
   "source": [
    "# Definition for a binary tree node.\n",
    "# class TreeNode(object):\n",
    "#     def __init__(self, x):\n",
    "#         self.val = x\n",
    "#         self.left = None\n",
    "#         self.right = None\n",
    "\n",
    "class Solution(object):\n",
    "    def sumNumbers(self, root):\n",
    "        \"\"\"\n",
    "        :type root: TreeNode\n",
    "        :rtype: int\n",
    "        \"\"\"\n",
    "        def func(node, total):\n",
    "            if not node:\n",
    "                return 0\n",
    "            total = total*10 + node.val\n",
    "            if not node.left and not node.right:\n",
    "                return total\n",
    "            return func(node.left,total)+func(node.right,total)\n",
    "        return func(root,0)"
   ]
  }
 ],
 "metadata": {
  "kernelspec": {
   "display_name": "Python 3",
   "language": "python",
   "name": "python3"
  },
  "language_info": {
   "codemirror_mode": {
    "name": "ipython",
    "version": 3
   },
   "file_extension": ".py",
   "mimetype": "text/x-python",
   "name": "python",
   "nbconvert_exporter": "python",
   "pygments_lexer": "ipython3",
   "version": "3.6.1"
  }
 },
 "nbformat": 4,
 "nbformat_minor": 2
}
