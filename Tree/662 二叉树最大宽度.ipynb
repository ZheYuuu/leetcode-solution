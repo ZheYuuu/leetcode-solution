{
 "cells": [
  {
   "cell_type": "code",
   "execution_count": null,
   "metadata": {
    "collapsed": true
   },
   "outputs": [],
   "source": [
    "给定一个二叉树，编写一个函数来获取这个树的最大宽度。树的宽度是所有层中的最大宽度。这个二叉树与满二叉树（full binary tree）结构相同，但一些节点为空。\n",
    "\n",
    "每一层的宽度被定义为两个端点（该层最左和最右的非空节点，两端点间的null节点也计入长度）之间的长度。\n",
    "\n",
    "示例 1:\n",
    "\n",
    "输入: \n",
    "\n",
    "           1\n",
    "         /   \\\n",
    "        3     2\n",
    "       / \\     \\  \n",
    "      5   3     9 \n",
    "\n",
    "输出: 4\n",
    "解释: 最大值出现在树的第 3 层，宽度为 4 (5,3,null,9)。\n",
    "示例 2:\n",
    "\n",
    "输入: \n",
    "\n",
    "          1\n",
    "         /  \n",
    "        3    \n",
    "       / \\       \n",
    "      5   3     \n",
    "\n",
    "输出: 2\n",
    "解释: 最大值出现在树的第 3 层，宽度为 2 (5,3)。\n",
    "示例 3:\n",
    "\n",
    "输入: \n",
    "\n",
    "          1\n",
    "         / \\\n",
    "        3   2 \n",
    "       /        \n",
    "      5      \n",
    "\n",
    "输出: 2\n",
    "解释: 最大值出现在树的第 2 层，宽度为 2 (3,2)。\n",
    "示例 4:\n",
    "\n",
    "输入: \n",
    "\n",
    "          1\n",
    "         / \\\n",
    "        3   2\n",
    "       /     \\  \n",
    "      5       9 \n",
    "     /         \\\n",
    "    6           7\n",
    "输出: 8\n",
    "解释: 最大值出现在树的第 4 层，宽度为 8 (6,null,null,null,null,null,null,7)。"
   ]
  },
  {
   "cell_type": "code",
   "execution_count": null,
   "metadata": {
    "collapsed": true
   },
   "outputs": [],
   "source": [
    "# Definition for a binary tree node.\n",
    "# class TreeNode(object):\n",
    "#     def __init__(self, x):\n",
    "#         self.val = x\n",
    "#         self.left = None\n",
    "#         self.right = None\n",
    "\n",
    "class Solution(object):\n",
    "    def widthOfBinaryTree(self, root):\n",
    "        \"\"\"\n",
    "        :type root: TreeNode\n",
    "        :rtype: int\n",
    "        \"\"\"\n",
    "        if not root:\n",
    "            return 0\n",
    "        stack = [(root,0)]\n",
    "        max_width = 0\n",
    "        while(stack):\n",
    "            n = len(stack)\n",
    "            max_width = max(max_width,stack[-1][1]-stack[0][1]+1)\n",
    "            for i in range(n):\n",
    "                node,idx = stack.pop(0)\n",
    "                if not node:\n",
    "                    continue\n",
    "                if node.left:\n",
    "                    stack.append((node.left,idx*2+1))\n",
    "                if node.right:\n",
    "                    stack.append((node.right,idx*2+2))\n",
    "        return max_width\n",
    "                    \n",
    "            "
   ]
  },
  {
   "cell_type": "code",
   "execution_count": null,
   "metadata": {
    "collapsed": true
   },
   "outputs": [],
   "source": [
    "# TLE\n",
    "\n",
    "# Definition for a binary tree node.\n",
    "# class TreeNode(object):\n",
    "#     def __init__(self, x):\n",
    "#         self.val = x\n",
    "#         self.left = None\n",
    "#         self.right = None\n",
    "\n",
    "class Solution(object):\n",
    "    def widthOfBinaryTree(self, root):\n",
    "        \"\"\"\n",
    "        :type root: TreeNode\n",
    "        :rtype: int\n",
    "        \"\"\"\n",
    "        stack = [root]\n",
    "        max_width = 0\n",
    "        while(stack):\n",
    "            tmp = set(stack)\n",
    "            if len(tmp)==1 and tmp[0] == None:\n",
    "                break\n",
    "            n = len(stack)\n",
    "            first = last = -1\n",
    "            for i in range(n):\n",
    "                node = stack.pop(0)\n",
    "                if not node:\n",
    "                    stack.append(None)\n",
    "                    stack.append(None)\n",
    "                else:\n",
    "                    if first==-1:\n",
    "                        first=last=i\n",
    "                    else:\n",
    "                        last = i\n",
    "                    stack.append(node.left)\n",
    "                    stack.append(node.right)\n",
    "                max_width = max(max_width,last-first+1)\n",
    "        return max_width\n",
    "                    \n",
    "            "
   ]
  },
  {
   "cell_type": "code",
   "execution_count": 1,
   "metadata": {},
   "outputs": [
    {
     "data": {
      "text/plain": [
       "1"
      ]
     },
     "execution_count": 1,
     "metadata": {},
     "output_type": "execute_result"
    }
   ],
   "source": [
    "t = (0,1)\n",
    "t[1]"
   ]
  },
  {
   "cell_type": "code",
   "execution_count": null,
   "metadata": {
    "collapsed": true
   },
   "outputs": [],
   "source": []
  }
 ],
 "metadata": {
  "kernelspec": {
   "display_name": "Python 3",
   "language": "python",
   "name": "python3"
  },
  "language_info": {
   "codemirror_mode": {
    "name": "ipython",
    "version": 3
   },
   "file_extension": ".py",
   "mimetype": "text/x-python",
   "name": "python",
   "nbconvert_exporter": "python",
   "pygments_lexer": "ipython3",
   "version": "3.6.1"
  }
 },
 "nbformat": 4,
 "nbformat_minor": 2
}
