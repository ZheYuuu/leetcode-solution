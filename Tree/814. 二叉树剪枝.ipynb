{
 "cells": [
  {
   "cell_type": "code",
   "execution_count": null,
   "metadata": {
    "collapsed": true
   },
   "outputs": [],
   "source": [
    "给定二叉树根结点 root ，此外树的每个结点的值要么是 0，要么是 1。\n",
    "\n",
    "返回移除了所有不包含 1 的子树的原二叉树。\n",
    "\n",
    "( 节点 X 的子树为 X 本身，以及所有 X 的后代。)\n",
    "\n",
    "示例1:\n",
    "输入: [1,null,0,0,1]\n",
    "输出: [1,null,0,null,1]\n",
    " \n",
    "解释: \n",
    "只有红色节点满足条件“所有不包含 1 的子树”。\n",
    "右图为返回的答案。\n",
    "\n",
    "\n",
    "示例2:\n",
    "输入: [1,0,1,0,0,0,1]\n",
    "输出: [1,null,1,null,1]\n",
    "\n",
    "\n",
    "\n",
    "示例3:\n",
    "输入: [1,1,0,1,1,0,1,0]\n",
    "输出: [1,1,0,1,1,null,1]\n",
    "\n",
    "\n"
   ]
  },
  {
   "cell_type": "code",
   "execution_count": 17,
   "metadata": {
    "collapsed": true
   },
   "outputs": [],
   "source": [
    "# 层次遍历\n",
    "# Definition for a binary tree node.\n",
    "class TreeNode(object):\n",
    "    def __init__(self, x):\n",
    "        self.val = x\n",
    "        self.left = None\n",
    "        self.right = None\n",
    "\n",
    "class Codec1:\n",
    "\n",
    "    def serialize(self, root):\n",
    "        \"\"\"Encodes a tree to a single string.\n",
    "        \n",
    "        :type root: TreeNode\n",
    "        :rtype: str\n",
    "        \"\"\"\n",
    "        if not root:\n",
    "            return \"null\"\n",
    "        stack = [root]        \n",
    "        ret = []\n",
    "        while(stack):\n",
    "            n = len(stack)\n",
    "            # print(stack)\n",
    "            for i in range(n):\n",
    "                root = stack.pop(0)\n",
    "                if root:\n",
    "                    ret.append(str(root.val))\n",
    "                    stack.append(root.left)\n",
    "                    stack.append(root.right)\n",
    "                else:\n",
    "                    ret.append(\"null\")\n",
    "        while(ret[-1]==\"null\"):\n",
    "            ret.pop()\n",
    "        return \" \".join(ret)\n",
    "                \n",
    "            \n",
    "\n",
    "    def deserialize(self, data):\n",
    "        \"\"\"Decodes your encoded data to tree.\n",
    "        \n",
    "        :type data: str\n",
    "        :rtype: TreeNode\n",
    "        \"\"\"\n",
    "        tree = data.split()\n",
    "#         print(tree)\n",
    "        root = TreeNode(int(tree[0])) if tree[0]!=\"null\" else None\n",
    "        pre = [root]\n",
    "        tree.pop(0)\n",
    "        while(pre and tree):\n",
    "            n = len(pre)\n",
    "            # print(tree,n)\n",
    "            for i in range(n):\n",
    "                if not pre[i]:\n",
    "                    continue\n",
    "                left = tree.pop(0)\n",
    "                left = TreeNode(int(left)) if left!=\"null\" else None\n",
    "                right = tree.pop(0)\n",
    "                right = TreeNode(int(right)) if right!=\"null\" else None\n",
    "                pre[i].left = left\n",
    "                pre[i].right = right\n",
    "                pre.append(left)\n",
    "                pre.append(right)\n",
    "            pre = pre[n:]\n",
    "        return root\n",
    "                \n",
    "                \n",
    "\n",
    "# Your Codec object will be instantiated and called as such:\n",
    "# codec = Codec()\n",
    "# codec.deserialize(codec.serialize(root))"
   ]
  },
  {
   "cell_type": "code",
   "execution_count": 25,
   "metadata": {},
   "outputs": [],
   "source": [
    "# Definition for a binary tree node.\n",
    "# class TreeNode(object):\n",
    "#     def __init__(self, x):\n",
    "#         self.val = x\n",
    "#         self.left = None\n",
    "#         self.right = None\n",
    "\n",
    "class Solution(object):\n",
    "    def pruneTree(self, root):\n",
    "        \"\"\"\n",
    "        :type root: TreeNode\n",
    "        :rtype: TreeNode\n",
    "        \"\"\"\n",
    "        if not root:\n",
    "            return None\n",
    "        root.left = self.pruneTree(root.left)\n",
    "        root.right = self.pruneTree(root.right)\n",
    "        if not root.left and not root.right and root.val==0:\n",
    "            root = None\n",
    "            return None\n",
    "        else:\n",
    "            return root\n",
    "        "
   ]
  },
  {
   "cell_type": "code",
   "execution_count": 26,
   "metadata": {
    "collapsed": true
   },
   "outputs": [],
   "source": [
    "codec = Codec1()"
   ]
  },
  {
   "cell_type": "code",
   "execution_count": 27,
   "metadata": {},
   "outputs": [],
   "source": [
    "input_ = \"1 0 1 0 0 0 1\"\n",
    "root = codec.deserialize(input_)"
   ]
  },
  {
   "cell_type": "code",
   "execution_count": 28,
   "metadata": {},
   "outputs": [
    {
     "data": {
      "text/plain": [
       "'1 0 1 0 0 0 1'"
      ]
     },
     "execution_count": 28,
     "metadata": {},
     "output_type": "execute_result"
    }
   ],
   "source": [
    "codec.serialize(root)"
   ]
  },
  {
   "cell_type": "code",
   "execution_count": 29,
   "metadata": {
    "collapsed": true
   },
   "outputs": [],
   "source": [
    "sol = Solution()"
   ]
  },
  {
   "cell_type": "code",
   "execution_count": 30,
   "metadata": {},
   "outputs": [
    {
     "data": {
      "text/plain": [
       "<__main__.TreeNode at 0x1cf63801208>"
      ]
     },
     "execution_count": 30,
     "metadata": {},
     "output_type": "execute_result"
    }
   ],
   "source": [
    "sol.pruneTree(root)"
   ]
  },
  {
   "cell_type": "code",
   "execution_count": 31,
   "metadata": {},
   "outputs": [
    {
     "data": {
      "text/plain": [
       "'1 null 1 null 1'"
      ]
     },
     "execution_count": 31,
     "metadata": {},
     "output_type": "execute_result"
    }
   ],
   "source": [
    "codec.serialize(root)"
   ]
  },
  {
   "cell_type": "code",
   "execution_count": null,
   "metadata": {
    "collapsed": true
   },
   "outputs": [],
   "source": []
  }
 ],
 "metadata": {
  "kernelspec": {
   "display_name": "Python 3",
   "language": "python",
   "name": "python3"
  },
  "language_info": {
   "codemirror_mode": {
    "name": "ipython",
    "version": 3
   },
   "file_extension": ".py",
   "mimetype": "text/x-python",
   "name": "python",
   "nbconvert_exporter": "python",
   "pygments_lexer": "ipython3",
   "version": "3.6.1"
  }
 },
 "nbformat": 4,
 "nbformat_minor": 2
}
