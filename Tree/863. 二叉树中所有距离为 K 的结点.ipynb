{
 "cells": [
  {
   "cell_type": "code",
   "execution_count": null,
   "metadata": {
    "collapsed": true
   },
   "outputs": [],
   "source": []
  },
  {
   "cell_type": "code",
   "execution_count": null,
   "metadata": {
    "collapsed": true
   },
   "outputs": [],
   "source": [
    "# Definition for a binary tree node.\n",
    "# class TreeNode(object):\n",
    "#     def __init__(self, x):\n",
    "#         self.val = x\n",
    "#         self.left = None\n",
    "#         self.right = None\n",
    "\n",
    "class Solution(object):\n",
    "    def distanceK(self, root, target, K):\n",
    "        \"\"\"\n",
    "        :type root: TreeNode\n",
    "        :type target: TreeNode\n",
    "        :type K: int\n",
    "        :rtype: List[int]\n",
    "        \"\"\"\n",
    "        self.path = []\n",
    "        def func(node,path):\n",
    "            if not node:\n",
    "                return \n",
    "            if node == target:\n",
    "                print(\"!\")\n",
    "                self.path = path+ [node]\n",
    "                return \n",
    "            func(node.left,path+[node])\n",
    "            func(node.right,path+[node])\n",
    "        func(root,[])\n",
    "        self.ret = collections.defaultdict(0)\n",
    "        def findK(node,k):\n",
    "            if not node:\n",
    "                return\n",
    "            if k==K:\n",
    "                self.ret[node.val]+=1\n",
    "            left = node.left\n",
    "            right = node.right\n",
    "            if left in self.path:\n",
    "                findK(node.left,k-1)\n",
    "            else:\n",
    "                findK(node.left,k+1)\n",
    "            if right in self.path:\n",
    "                findK(node.right,k-1)\n",
    "            else:\n",
    "                findK(node.right,k+1)\n",
    "#       获得target_idx      \n",
    "        for i,node in enumerate(self.path):\n",
    "            if node == target:\n",
    "                self.target_idx = i\n",
    "#       对path上的各点进行运算\n",
    "        for i,node in enumerate(self.path):\n",
    "            findK(node,abs(self.target_idx-i))\n",
    "        return self.ret.keys()\n",
    "            \n",
    "        "
   ]
  },
  {
   "cell_type": "code",
   "execution_count": 1,
   "metadata": {},
   "outputs": [
    {
     "data": {
      "text/plain": [
       "True"
      ]
     },
     "execution_count": 1,
     "metadata": {},
     "output_type": "execute_result"
    }
   ],
   "source": [
    "class Solution(object):\n",
    "    def distanceK(self, root, target, K):\n",
    "        \"\"\"\n",
    "        :type root: TreeNode\n",
    "        :type target: TreeNode\n",
    "        :type K: int\n",
    "        :rtype: List[int]\n",
    "        \"\"\"\n",
    "        conn = collections.defaultdict(list)\n",
    "        def connect(parent, child):\n",
    "            if parent and child:\n",
    "                conn[parent.val].append(child.val)\n",
    "                conn[child.val].append(parent.val)\n",
    "            if child.left: connect(child, child.left)\n",
    "            if child.right: connect(child, child.right)\n",
    "        connect(None, root)\n",
    "        bfs = [target.val]\n",
    "        seen = set(bfs)\n",
    "        \n",
    "        for i in xrange(K):\n",
    "            bfs = [y for x in bfs for y in conn[x] if y not in seen]\n",
    "            seen |= set(bfs)\n",
    "            print(bfs,seen)\n",
    "        return bfs"
   ]
  },
  {
   "cell_type": "code",
   "execution_count": 3,
   "metadata": {},
   "outputs": [
    {
     "data": {
      "text/plain": [
       "1"
      ]
     },
     "execution_count": 3,
     "metadata": {},
     "output_type": "execute_result"
    }
   ],
   "source": [
    "l.index(2)"
   ]
  },
  {
   "cell_type": "code",
   "execution_count": 5,
   "metadata": {},
   "outputs": [
    {
     "data": {
      "text/plain": [
       "['b', 'b', 'cc', 'c', 'cccc', 'd', 'd', 'd']"
      ]
     },
     "execution_count": 5,
     "metadata": {},
     "output_type": "execute_result"
    }
   ],
   "source": [
    "bfs = [1,2,3]\n",
    "con = [[\"aaa\",\"aaa\"],[\"b\",\"b\"],[\"cc\",\"c\",\"cccc\"],[\"d\",\"d\",\"d\"]]\n",
    "[y for x in bfs for y in con[x]]"
   ]
  },
  {
   "cell_type": "code",
   "execution_count": null,
   "metadata": {
    "collapsed": true
   },
   "outputs": [],
   "source": []
  }
 ],
 "metadata": {
  "kernelspec": {
   "display_name": "Python 3",
   "language": "python",
   "name": "python3"
  },
  "language_info": {
   "codemirror_mode": {
    "name": "ipython",
    "version": 3
   },
   "file_extension": ".py",
   "mimetype": "text/x-python",
   "name": "python",
   "nbconvert_exporter": "python",
   "pygments_lexer": "ipython3",
   "version": "3.6.1"
  }
 },
 "nbformat": 4,
 "nbformat_minor": 2
}
