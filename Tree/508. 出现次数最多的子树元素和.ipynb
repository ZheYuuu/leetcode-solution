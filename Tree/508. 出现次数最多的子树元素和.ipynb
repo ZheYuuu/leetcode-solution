{
 "cells": [
  {
   "cell_type": "code",
   "execution_count": null,
   "metadata": {
    "collapsed": true
   },
   "outputs": [],
   "source": [
    "给出二叉树的根，找出出现次数最多的子树元素和。一个结点的子树元素和定义为以该结点为根的二叉树上所有结点的元素之和（包括结点本身）。然后求出出现次数最多的子树元素和。如果有多个元素出现的次数相同，返回所有出现次数最多的元素（不限顺序）。\n",
    "\n",
    " \n",
    "\n",
    "示例 1\n",
    "输入:\n",
    "\n",
    "  5\n",
    " /  \\\n",
    "2   -3\n",
    "返回 [2, -3, 4]，所有的值均只出现一次，以任意顺序返回所有值。\n",
    "\n",
    "示例 2\n",
    "输入:\n",
    "\n",
    "  5\n",
    " /  \\\n",
    "2   -5\n",
    "返回 [2]，只有 2 出现两次，-5 只出现 1 次。"
   ]
  },
  {
   "cell_type": "code",
   "execution_count": null,
   "metadata": {
    "collapsed": true
   },
   "outputs": [],
   "source": [
    "# Definition for a binary tree node.\n",
    "# class TreeNode(object):\n",
    "#     def __init__(self, x):\n",
    "#         self.val = x\n",
    "#         self.left = None\n",
    "#         self.right = None\n",
    "\n",
    "class Solution(object):\n",
    "    def findFrequentTreeSum(self, root):\n",
    "        \"\"\"\n",
    "        :type root: TreeNode\n",
    "        :rtype: List[int]\n",
    "        \"\"\"\n",
    "        res = {}\n",
    "        def func(node):\n",
    "            if not node:\n",
    "                return 0\n",
    "            val = func(node.left) + func(node.right) + node.val\n",
    "            if val in res:\n",
    "                res[val] +=1\n",
    "            else:\n",
    "                res[val] = 1\n",
    "        func(root)\n",
    "        ret = []\n",
    "        max_= max(dic.values())\n",
    "        for key,val in dic.items():\n",
    "            if val == max_:\n",
    "                ret.append(key)\n",
    "        return ret"
   ]
  },
  {
   "cell_type": "code",
   "execution_count": 1,
   "metadata": {
    "collapsed": true
   },
   "outputs": [],
   "source": [
    "dic = {1:4,2:4,3:1}"
   ]
  },
  {
   "cell_type": "code",
   "execution_count": 4,
   "metadata": {},
   "outputs": [
    {
     "name": "stdout",
     "output_type": "stream",
     "text": [
      "1 4\n",
      "2 4\n",
      "3 1\n"
     ]
    }
   ],
   "source": [
    "for key,val in dic.items():\n",
    "    print(key,val)"
   ]
  },
  {
   "cell_type": "code",
   "execution_count": null,
   "metadata": {
    "collapsed": true
   },
   "outputs": [],
   "source": []
  }
 ],
 "metadata": {
  "kernelspec": {
   "display_name": "Python 3",
   "language": "python",
   "name": "python3"
  },
  "language_info": {
   "codemirror_mode": {
    "name": "ipython",
    "version": 3
   },
   "file_extension": ".py",
   "mimetype": "text/x-python",
   "name": "python",
   "nbconvert_exporter": "python",
   "pygments_lexer": "ipython3",
   "version": "3.6.1"
  }
 },
 "nbformat": 4,
 "nbformat_minor": 2
}
