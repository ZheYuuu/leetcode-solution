{
 "cells": [
  {
   "cell_type": "code",
   "execution_count": null,
   "metadata": {
    "collapsed": true
   },
   "outputs": [],
   "source": [
    "给定一个非空二叉树，返回其最大路径和。\n",
    "\n",
    "本题中，路径被定义为一条从树中任意节点出发，达到任意节点的序列。该路径至少包含一个节点，且不一定经过根节点。\n",
    "\n",
    "示例 1:\n",
    "\n",
    "输入: [1,2,3]\n",
    "\n",
    "       1\n",
    "      / \\\n",
    "     2   3\n",
    "\n",
    "输出: 6\n",
    "示例 2:\n",
    "\n",
    "输入: [-10,9,20,null,null,15,7]\n",
    "\n",
    "   -10\n",
    "   / \\\n",
    "  9  20\n",
    "    /  \\\n",
    "   15   7\n",
    "\n",
    "输出: 42"
   ]
  },
  {
   "cell_type": "code",
   "execution_count": null,
   "metadata": {
    "collapsed": true
   },
   "outputs": [],
   "source": [
    "# Definition for a binary tree node.\n",
    "# class TreeNode(object):\n",
    "#     def __init__(self, x):\n",
    "#         self.val = x\n",
    "#         self.left = None\n",
    "#         self.right = None\n",
    "\n",
    "\"\"\"  \n",
    "        对于任意一个节点, 如果最大和路径包含该节点, 那么只可能是两种情况:\n",
    "        1. 其左右子树中所构成的和路径值较大的那个加上该节点的值后向父节点回溯构成最大路径\n",
    "        2. 左右子树都在最大路径中, 加上该节点的值构成了最终的最大路径\n",
    "\"\"\"\n",
    "\n",
    "class Solution(object):\n",
    "    def maxPathSum(self, root):\n",
    "        \"\"\"\n",
    "        :type root: TreeNode\n",
    "        :rtype: int\n",
    "        \"\"\"\n",
    "        if not root:\n",
    "            return 0\n",
    "        self.max_ = float(\"-inf\")\n",
    "        def func(node):\n",
    "            if not node:\n",
    "                return 0\n",
    "            left = max(func(node.left),0)\n",
    "            right = max(func(node.right),0)\n",
    "            # 该步将 上述两种情况 简化为 left+right+node.val\n",
    "            self.max_ = max(self.max_,left+right+node.val)\n",
    "            # 返回值定义为 以当前节点为终点的最大路径长度\n",
    "            return max(left+node.val,right+node.val)\n",
    "        func(root)\n",
    "        return self.max_\n",
    "            \n",
    "        "
   ]
  }
 ],
 "metadata": {
  "kernelspec": {
   "display_name": "Python 3",
   "language": "python",
   "name": "python3"
  },
  "language_info": {
   "codemirror_mode": {
    "name": "ipython",
    "version": 3
   },
   "file_extension": ".py",
   "mimetype": "text/x-python",
   "name": "python",
   "nbconvert_exporter": "python",
   "pygments_lexer": "ipython3",
   "version": "3.6.1"
  }
 },
 "nbformat": 4,
 "nbformat_minor": 2
}
