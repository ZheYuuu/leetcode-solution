{
 "cells": [
  {
   "cell_type": "code",
   "execution_count": null,
   "metadata": {
    "collapsed": true
   },
   "outputs": [],
   "source": [
    "返回与给定的前序和后序遍历匹配的任何二叉树。\n",
    "\n",
    " pre 和 post 遍历中的值是不同的正整数。\n",
    "\n",
    " \n",
    "\n",
    "示例：\n",
    "\n",
    "输入：pre = [1,2,4,5,3,6,7], post = [4,5,2,6,7,3,1]\n",
    "输出：[1,2,3,4,5,6,7]"
   ]
  },
  {
   "cell_type": "code",
   "execution_count": null,
   "metadata": {
    "collapsed": true
   },
   "outputs": [],
   "source": [
    "# Definition for a binary tree node.\n",
    "# class TreeNode(object):\n",
    "#     def __init__(self, x):\n",
    "#         self.val = x\n",
    "#         self.left = None\n",
    "#         self.right = None\n",
    "\n",
    "class Solution(object):\n",
    "    def constructFromPrePost(self, pre, post):\n",
    "        \"\"\"\n",
    "        :type pre: List[int]\n",
    "        :type post: List[int]\n",
    "        :rtype: TreeNode\n",
    "        \"\"\"\n",
    "        if not pre:\n",
    "            return None\n",
    "        node = TreeNode(pre[0])\n",
    "        i = 1\n",
    "        while(i<len(pre) and pre[i]!=post[-2]):\n",
    "            i+=1\n",
    "        node.left = self.constructFromPrePost(pre[1:i],post[:i-1])\n",
    "        node.right = self.constructFromPrePost(pre[i:],post[i-1:-1])\n",
    "        return node\n",
    "            "
   ]
  }
 ],
 "metadata": {
  "kernelspec": {
   "display_name": "Python 3",
   "language": "python",
   "name": "python3"
  },
  "language_info": {
   "codemirror_mode": {
    "name": "ipython",
    "version": 3
   },
   "file_extension": ".py",
   "mimetype": "text/x-python",
   "name": "python",
   "nbconvert_exporter": "python",
   "pygments_lexer": "ipython3",
   "version": "3.6.1"
  }
 },
 "nbformat": 4,
 "nbformat_minor": 2
}
