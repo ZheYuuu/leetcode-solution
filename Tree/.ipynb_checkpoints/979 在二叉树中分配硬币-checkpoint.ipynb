{
 "cells": [
  {
   "cell_type": "code",
   "execution_count": null,
   "metadata": {
    "collapsed": true
   },
   "outputs": [],
   "source": [
    "给定一个有 N 个结点的二叉树的根结点 root，树中的每个结点上都对应有 node.val 枚硬币，并且总共有 N 枚硬币。\n",
    "\n",
    "在一次移动中，我们可以选择两个相邻的结点，然后将一枚硬币从其中一个结点移动到另一个结点。(移动可以是从父结点到子结点，或者从子结点移动到父结点。)。\n",
    "\n",
    "返回使每个结点上只有一枚硬币所需的移动次数。\n",
    "\n",
    " \n",
    "\n",
    "示例 1：\n",
    "\n",
    "\n",
    "\n",
    "输入：[3,0,0]\n",
    "输出：2\n",
    "解释：从树的根结点开始，我们将一枚硬币移到它的左子结点上，一枚硬币移到它的右子结点上。\n",
    "示例 2：\n",
    "\n",
    "\n",
    "\n",
    "输入：[0,3,0]\n",
    "输出：3\n",
    "解释：从根结点的左子结点开始，我们将两枚硬币移到根结点上 [移动两次]。然后，我们把一枚硬币从根结点移到右子结点上。\n",
    "示例 3：\n",
    "\n",
    "\n",
    "\n",
    "输入：[1,0,2]\n",
    "输出：2\n",
    "示例 4：\n",
    "\n",
    "\n",
    "\n",
    "输入：[1,0,0,null,3]\n",
    "输出：4\n",
    " \n",
    "\n",
    "提示：\n",
    "\n",
    "1<= N <= 100\n",
    "0 <= node.val <= N"
   ]
  },
  {
   "cell_type": "code",
   "execution_count": null,
   "metadata": {
    "collapsed": true
   },
   "outputs": [],
   "source": [
    "# Definition for a binary tree node.\n",
    "# class TreeNode(object):\n",
    "#     def __init__(self, x):\n",
    "#         self.val = x\n",
    "#         self.left = None\n",
    "#         self.right = None\n",
    "\n",
    "class Solution(object):\n",
    "    def distributeCoins(self, root):\n",
    "        \"\"\"\n",
    "        :type root: TreeNode\n",
    "        :rtype: int\n",
    "        \"\"\"\n",
    "        self.cnt = 0\n",
    "        def dfs(node):\n",
    "            if not node:\n",
    "                return 0\n",
    "\n",
    "            left = dfs(node.left)\n",
    "            right = dfs(node.right)\n",
    "            node.val = node.val + left + right\n",
    "            self.cnt += abs(left) + abs(right)\n",
    "            if node.val==0:\n",
    "                return -1\n",
    "            else:\n",
    "                return (node.val-1)\n",
    "        dfs(root)\n",
    "        return self.cnt\n",
    "        "
   ]
  }
 ],
 "metadata": {
  "kernelspec": {
   "display_name": "Python 3",
   "language": "python",
   "name": "python3"
  },
  "language_info": {
   "codemirror_mode": {
    "name": "ipython",
    "version": 3
   },
   "file_extension": ".py",
   "mimetype": "text/x-python",
   "name": "python",
   "nbconvert_exporter": "python",
   "pygments_lexer": "ipython3",
   "version": "3.6.1"
  }
 },
 "nbformat": 4,
 "nbformat_minor": 2
}
