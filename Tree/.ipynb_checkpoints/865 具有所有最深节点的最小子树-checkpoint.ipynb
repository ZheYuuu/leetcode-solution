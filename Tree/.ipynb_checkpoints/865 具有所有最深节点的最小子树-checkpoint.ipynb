{
 "cells": [
  {
   "cell_type": "code",
   "execution_count": null,
   "metadata": {
    "collapsed": true
   },
   "outputs": [],
   "source": [
    "给定一个根为 root 的二叉树，每个结点的深度是它到根的最短距离。\n",
    "\n",
    "如果一个结点在整个树的任意结点之间具有最大的深度，则该结点是最深的。\n",
    "\n",
    "一个结点的子树是该结点加上它的所有后代的集合。\n",
    "\n",
    "返回能满足“以该结点为根的子树中包含所有最深的结点”这一条件的具有最大深度的结点。\n",
    "\n",
    " \n",
    "\n",
    "示例：\n",
    "\n",
    "输入：[3,5,1,6,2,0,8,null,null,7,4]\n",
    "输出：[2,7,4]\n",
    "解释：\n",
    "\n",
    "我们返回值为 2 的结点，在图中用黄色标记。\n",
    "在图中用蓝色标记的是树的最深的结点。\n",
    "输入 \"[3, 5, 1, 6, 2, 0, 8, null, null, 7, 4]\" 是对给定的树的序列化表述。\n",
    "输出 \"[2, 7, 4]\" 是对根结点的值为 2 的子树的序列化表述。\n",
    "输入和输出都具有 TreeNode 类型。"
   ]
  },
  {
   "cell_type": "code",
   "execution_count": null,
   "metadata": {
    "collapsed": true
   },
   "outputs": [],
   "source": [
    "# 先层次遍历寻找到节点的父节点，保存最深一层的节点于leaf，\n",
    "# 如果该层节点的父节点只有一个，则输出该父节点，若不是，将该层节点的父节点覆盖leaf，再次判断\n",
    "\n",
    "# Definition for a binary tree node.\n",
    "# class TreeNode(object):\n",
    "#     def __init__(self, x):\n",
    "#         self.val = x\n",
    "#         self.left = None\n",
    "#         self.right = None\n",
    "\n",
    "class Solution(object):\n",
    "    def subtreeWithAllDeepest(self, root):\n",
    "        \"\"\"、、\n",
    "        :type root: TreeNode\n",
    "        :rtype: TreeNode\n",
    "        \"\"\"\n",
    "        stack = [root]\n",
    "        \n",
    "        connect = {}\n",
    "        while(stack):\n",
    "            n = len(stack)\n",
    "            leaf = []\n",
    "            for i in range(n):\n",
    "                node = stack.pop(0)\n",
    "                if not node:\n",
    "                    continue\n",
    "                leaf.append(node)\n",
    "                if node.left:\n",
    "                    stack.append(node.left)\n",
    "                    connect[node.left.val] = node\n",
    "                if node.right:\n",
    "                    stack.append(node.right)\n",
    "                    connect[node.right.val] = node\n",
    "      \n",
    "        while(len(leaf)!=1):\n",
    "            tmp = []\n",
    "            n = len(leaf)\n",
    "            for i in range(n):\n",
    "                node = connect[leaf.pop(0).val]\n",
    "                if node not in tmp:\n",
    "                    tmp.append(node)\n",
    "            leaf = tmp\n",
    "        return leaf[0]\n",
    "                \n",
    "                "
   ]
  },
  {
   "cell_type": "code",
   "execution_count": null,
   "metadata": {
    "collapsed": true
   },
   "outputs": [],
   "source": [
    "# 目标节点 左右子树最大深度相同（若最大深度节点只有一个，那么左右子树也就都是None），左>右，说明目标节点在左，右>左同理。\n",
    "# 注意一旦满足条件左右相等，当前节点就会被一直传递至上层节点，直至左右不等，所以在递归过程中，满足条件的当前节点一直被传递\n",
    "\n",
    "# Definition for a binary tree node.\n",
    "# class TreeNode(object):\n",
    "#     def __init__(self, x):\n",
    "#         self.val = x\n",
    "#         self.left = None\n",
    "#         self.right = None\n",
    "\n",
    "class Solution(object):\n",
    "    def subtreeWithAllDeepest(self, root):\n",
    "        \"\"\"、、\n",
    "        :type root: TreeNode\n",
    "        :rtype: TreeNode\n",
    "        \"\"\"\n",
    "        if not root:\n",
    "            return None,0\n",
    "        left_node,left_depth = subtreeWithAllDeepest(root.left)\n",
    "        right_node,right_depth = subtreeWithAllDeepest(root.right)\n",
    "        if left_depth>right_depth:\n",
    "            return left_node,left_depth+1\n",
    "        if left_depth<right_depth:\n",
    "            return right_node,right_depth+1\n",
    "        return root,left_depth+1"
   ]
  }
 ],
 "metadata": {
  "kernelspec": {
   "display_name": "Python 3",
   "language": "python",
   "name": "python3"
  },
  "language_info": {
   "codemirror_mode": {
    "name": "ipython",
    "version": 3
   },
   "file_extension": ".py",
   "mimetype": "text/x-python",
   "name": "python",
   "nbconvert_exporter": "python",
   "pygments_lexer": "ipython3",
   "version": "3.6.1"
  }
 },
 "nbformat": 4,
 "nbformat_minor": 2
}
