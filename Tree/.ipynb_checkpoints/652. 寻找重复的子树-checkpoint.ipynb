{
 "cells": [
  {
   "cell_type": "code",
   "execution_count": null,
   "metadata": {
    "collapsed": true
   },
   "outputs": [],
   "source": [
    "给定一棵二叉树，返回所有重复的子树。对于同一类的重复子树，你只需要返回其中任意一棵的根结点即可。\n",
    "\n",
    "两棵树重复是指它们具有相同的结构以及相同的结点值。\n",
    "\n",
    "示例 1：\n",
    "\n",
    "        1\n",
    "       / \\\n",
    "      2   3\n",
    "     /   / \\\n",
    "    4   2   4\n",
    "       /\n",
    "      4\n",
    "下面是两个重复的子树：\n",
    "\n",
    "      2\n",
    "     /\n",
    "    4\n",
    "和\n",
    "\n",
    "    4"
   ]
  },
  {
   "cell_type": "code",
   "execution_count": null,
   "metadata": {
    "collapsed": true
   },
   "outputs": [],
   "source": [
    "# Definition for a binary tree node.\n",
    "# class TreeNode(object):\n",
    "#     def __init__(self, x):\n",
    "#         self.val = x\n",
    "#         self.left = None\n",
    "#         self.right = None\n",
    "\n",
    "class Solution(object):\n",
    "    def findDuplicateSubtrees(self, root):\n",
    "        \"\"\"\n",
    "        :type root: TreeNode\n",
    "        :rtype: List[TreeNode]\n",
    "        \"\"\"\n",
    "        tree = collections.defaultdict(int)\n",
    "        res = []\n",
    "        def func(node):\n",
    "            if not node:\n",
    "                return \"#\"\n",
    "            s =\"%d \"%(node.val) +  func(node.left) + \" \" + func(node.right)  \n",
    "            if tree[s]==1:\n",
    "                res.append(node)\n",
    "            tree[s]+=1\n",
    "            return s\n",
    "        func(root)\n",
    "        return res\n",
    "                "
   ]
  },
  {
   "cell_type": "code",
   "execution_count": 2,
   "metadata": {},
   "outputs": [
    {
     "data": {
      "text/plain": [
       "' 1'"
      ]
     },
     "execution_count": 2,
     "metadata": {},
     "output_type": "execute_result"
    }
   ],
   "source": [
    "\" %d\"%(1)"
   ]
  },
  {
   "cell_type": "code",
   "execution_count": null,
   "metadata": {
    "collapsed": true
   },
   "outputs": [],
   "source": [
    "# Definition for a binary tree node.\n",
    "# class TreeNode(object):\n",
    "#     def __init__(self, x):\n",
    "#         self.val = x\n",
    "#         self.left = None\n",
    "#         self.right = None\n",
    "\n",
    "class Solution(object):\n",
    "    def findDuplicateSubtrees(self, root):\n",
    "        \"\"\"\n",
    "        :type root: TreeNode\n",
    "        :rtype: List[TreeNode]\n",
    "        \"\"\"\n",
    "        tree = {}\n",
    "        res = []\n",
    "        def func(node):\n",
    "            if not node:\n",
    "                return \"#\"\n",
    "            s =\"%d \"%(node.val) +  func(node.left) + \" \" + func(node.right)  \n",
    "            s = s.strip()\n",
    "            if s in tree and tree[s]==1:   \n",
    "                res.append(node)\n",
    "            if s not in tree:\n",
    "                tree[s] = 0\n",
    "            tree[s] += 1\n",
    "            return s\n",
    "        func(root)\n",
    "        return res\n",
    "                "
   ]
  }
 ],
 "metadata": {
  "kernelspec": {
   "display_name": "Python 3",
   "language": "python",
   "name": "python3"
  },
  "language_info": {
   "codemirror_mode": {
    "name": "ipython",
    "version": 3
   },
   "file_extension": ".py",
   "mimetype": "text/x-python",
   "name": "python",
   "nbconvert_exporter": "python",
   "pygments_lexer": "ipython3",
   "version": "3.6.1"
  }
 },
 "nbformat": 4,
 "nbformat_minor": 2
}
