{
 "cells": [
  {
   "cell_type": "code",
   "execution_count": null,
   "metadata": {
    "collapsed": true
   },
   "outputs": [],
   "source": [
    "给出一个完全二叉树，求出该树的节点个数。\n",
    "\n",
    "说明：\n",
    "\n",
    "完全二叉树的定义如下：在完全二叉树中，除了最底层节点可能没填满外，其余每层节点数都达到最大值，并且最下面一层的节点都集中在该层最左边的若干位置。若最底层为第 h 层，则该层包含 1~ 2h 个节点。\n",
    "\n",
    "示例:\n",
    "\n",
    "输入: \n",
    "    1\n",
    "   / \\\n",
    "  2   3\n",
    " / \\  /\n",
    "4  5 6\n",
    "\n",
    "输出: 6"
   ]
  },
  {
   "cell_type": "code",
   "execution_count": null,
   "metadata": {
    "collapsed": true
   },
   "outputs": [],
   "source": [
    "# 迭代法\n",
    "# Definition for a binary tree node.\n",
    "# class TreeNode:\n",
    "#     def __init__(self, x):\n",
    "#         self.val = x\n",
    "#         self.left = None\n",
    "#         self.right = None\n",
    "\n",
    "class Solution:\n",
    "    def countNodes(self, root):\n",
    "        \"\"\"\n",
    "        :type root: TreeNode\n",
    "        :rtype: int\n",
    "        \"\"\"\n",
    "        def height(node):\n",
    "            h = -1\n",
    "            while(node):\n",
    "                h = h+1\n",
    "                node = node.left\n",
    "            return h\n",
    "        h = height(root)\n",
    "        cnt = 0\n",
    "        while(root):\n",
    "            # 若右子树高度为h-1，则说明左子树为完全二叉树，则cnt = 左子树结点树(2^0+2^1+...+2^h-1)+1+右子树节点数 = 2^h + 右子树节点数\n",
    "            if height(root.right)==h-1:\n",
    "                cnt += 2**h\n",
    "                root = root.right\n",
    "            #  若右子树高度不为h-1（只可能为h-2），则说明右子树为完全二叉树，则cnt = 左子树结点树+1+右子树节点数 (2^0+2^1+...+2^h-2)\n",
    "            #                                                                      = 左子树节点数 + 2^h-1 \n",
    "            else:\n",
    "                cnt += 2**(h-1)\n",
    "                root = root.left\n",
    "            h = h-1\n",
    "        return int(cnt)\n",
    "                \n",
    "            \n",
    "    \n",
    "        "
   ]
  },
  {
   "cell_type": "code",
   "execution_count": null,
   "metadata": {
    "collapsed": true
   },
   "outputs": [],
   "source": [
    "# 递归法\n",
    "# Definition for a binary tree node.\n",
    "# class TreeNode:\n",
    "#     def __init__(self, x):\n",
    "#         self.val = x\n",
    "#         self.left = None\n",
    "#         self.right = None\n",
    "\n",
    "class Solution:\n",
    "    def countNodes(self, root):\n",
    "        \"\"\"\n",
    "        :type root: TreeNode\n",
    "        :rtype: int\n",
    "        \"\"\"\n",
    "        if not root:\n",
    "            return 0\n",
    "        return self.countNodes(root.left)+self.countNodes(root.right)+1"
   ]
  }
 ],
 "metadata": {
  "kernelspec": {
   "display_name": "Python 3",
   "language": "python",
   "name": "python3"
  },
  "language_info": {
   "codemirror_mode": {
    "name": "ipython",
    "version": 3
   },
   "file_extension": ".py",
   "mimetype": "text/x-python",
   "name": "python",
   "nbconvert_exporter": "python",
   "pygments_lexer": "ipython3",
   "version": "3.6.1"
  }
 },
 "nbformat": 4,
 "nbformat_minor": 2
}
