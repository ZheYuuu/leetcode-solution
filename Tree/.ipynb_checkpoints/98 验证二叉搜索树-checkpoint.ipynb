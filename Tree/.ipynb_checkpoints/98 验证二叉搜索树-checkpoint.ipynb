{
 "cells": [
  {
   "cell_type": "code",
   "execution_count": null,
   "metadata": {
    "collapsed": true
   },
   "outputs": [],
   "source": [
    "给定一个二叉树，判断其是否是一个有效的二叉搜索树。\n",
    "\n",
    "假设一个二叉搜索树具有如下特征：\n",
    "\n",
    "节点的左子树只包含小于当前节点的数。\n",
    "节点的右子树只包含大于当前节点的数。\n",
    "所有左子树和右子树自身必须也是二叉搜索树。\n",
    "示例 1:\n",
    "\n",
    "输入:\n",
    "    2\n",
    "   / \\\n",
    "  1   3\n",
    "输出: true\n",
    "示例 2:\n",
    "\n",
    "输入:\n",
    "    5\n",
    "   / \\\n",
    "  1   4\n",
    "     / \\\n",
    "    3   6\n",
    "输出: false\n",
    "解释: 输入为: [5,1,4,null,null,3,6]。\n",
    "     根节点的值为 5 ，但是其右子节点值为 4 。"
   ]
  },
  {
   "cell_type": "code",
   "execution_count": null,
   "metadata": {
    "collapsed": true
   },
   "outputs": [],
   "source": [
    "# Definition for a binary tree node.\n",
    "# class TreeNode:\n",
    "#     def __init__(self, x):\n",
    "#         self.val = x\n",
    "#         self.left = None\n",
    "#         self.right = None\n",
    "\n",
    "class Solution:\n",
    "    def isValidBST(self, root):\n",
    "        \"\"\"\n",
    "        :type root: TreeNode\n",
    "        :rtype: bool\n",
    "        \"\"\"\n",
    "        if(not root):\n",
    "            return True\n",
    "        return self.isValidBSTMethod(root,float(\"-inf\"),float(\"inf\"))[0]\n",
    "    \n",
    "    def isValidBSTMethod(self,root,premax,premin):\n",
    "        flag_left = False\n",
    "        flag_right = False\n",
    "        max_left = max_right = premax\n",
    "        min_left = min_right = premin\n",
    "        if(root.left==None):\n",
    "            flag_left = True\n",
    "            \n",
    "        else:\n",
    "            if(root.left.val<root.val):\n",
    "                tmp_flag_left,max_left,min_left = self.isValidBSTMethod(root.left,premax,premin)\n",
    "                if(max_left>=root.val):\n",
    "                    flag_left=False\n",
    "                else:\n",
    "                    flag_left = tmp_flag_left\n",
    "            else:\n",
    "                flag_left = False\n",
    "        if(root.right==None):\n",
    "            flag_right = True\n",
    "        else:\n",
    "            if(root.right.val>root.val):\n",
    "                tmp_flag_right,max_right,min_right = self.isValidBSTMethod(root.right,premax,premin)\n",
    "                if(min_right<=root.val):\n",
    "                    flag_right = False\n",
    "                else:\n",
    "                    flag_right = tmp_flag_right\n",
    "            else:\n",
    "                flag_right = False\n",
    "        nowmax = max(premax,max_left,max_right,root.val)\n",
    "        nowmin = min(premin,min_left,min_right,root.val)\n",
    "        return flag_right and flag_left,nowmax,nowmin\n",
    "        "
   ]
  },
  {
   "cell_type": "code",
   "execution_count": null,
   "metadata": {
    "collapsed": true
   },
   "outputs": [],
   "source": [
    "# 中序---递归，利用BST中序遍历输出严格递增序列的性质\n",
    "# Definition for a binary tree node.\n",
    "# class TreeNode:\n",
    "#     def __init__(self, x):\n",
    "#         self.val = x\n",
    "#         self.left = None\n",
    "#         self.right = None\n",
    "\n",
    "class Solution:\n",
    "    def isValidBST(self, root):\n",
    "        \"\"\"\n",
    "        :type root: TreeNode\n",
    "        :rtype: bool\n",
    "        \"\"\"\n",
    "        order = []\n",
    "        def inorder(root):\n",
    "            if(root==None):\n",
    "                return \n",
    "            inorder(root.left)\n",
    "            order.append(root.val)\n",
    "            inorder(root.right)\n",
    "        inorder(root)\n",
    "        for i in range(1,len(order)):\n",
    "            if(order[i]<=order[i-1]):\n",
    "                return False\n",
    "        return True\n",
    "            "
   ]
  },
  {
   "cell_type": "code",
   "execution_count": null,
   "metadata": {
    "collapsed": true
   },
   "outputs": [],
   "source": [
    "# 中序-迭代\n",
    "class Solution:\n",
    "    def isValidBST(self, root):\n",
    "        \"\"\"\n",
    "        :type root: TreeNode\n",
    "        :rtype: bool\n",
    "        \"\"\"\n",
    "        order = []\n",
    "        stack = collections.deque()\n",
    "        while(root!=None or stack):\n",
    "            while(root!=None):\n",
    "                stack.append(root)\n",
    "                root = root.left\n",
    "            root = stack.pop()\n",
    "            order.append(root.val)\n",
    "            root = root.right\n",
    "        for i in range(1,len(order)):\n",
    "            if order[i]<order[i-1]:\n",
    "                return False\n",
    "        return True"
   ]
  }
 ],
 "metadata": {
  "kernelspec": {
   "display_name": "Python 3",
   "language": "python",
   "name": "python3"
  },
  "language_info": {
   "codemirror_mode": {
    "name": "ipython",
    "version": 3
   },
   "file_extension": ".py",
   "mimetype": "text/x-python",
   "name": "python",
   "nbconvert_exporter": "python",
   "pygments_lexer": "ipython3",
   "version": "3.6.1"
  }
 },
 "nbformat": 4,
 "nbformat_minor": 2
}
