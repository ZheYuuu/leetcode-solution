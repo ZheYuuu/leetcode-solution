{
 "cells": [
  {
   "cell_type": "code",
   "execution_count": null,
   "metadata": {
    "collapsed": true
   },
   "outputs": [],
   "source": [
    "给定两个非空二叉树 s 和 t，检验 s 中是否包含和 t 具有相同结构和节点值的子树。s 的一个子树包括 s 的一个节点和这个节点的所有子孙。s 也可以看做它自身的一棵子树。\n",
    "\n",
    "示例 1:\n",
    "给定的树 s:\n",
    "\n",
    "     3\n",
    "    / \\\n",
    "   4   5\n",
    "  / \\\n",
    " 1   2\n",
    "给定的树 t：\n",
    "\n",
    "   4 \n",
    "  / \\\n",
    " 1   2\n",
    "返回 true，因为 t 与 s 的一个子树拥有相同的结构和节点值。\n",
    "\n",
    "示例 2:\n",
    "给定的树 s：\n",
    "\n",
    "     3\n",
    "    / \\\n",
    "   4   5\n",
    "  / \\\n",
    " 1   2\n",
    "    /\n",
    "   0\n",
    "给定的树 t：\n",
    "\n",
    "   4\n",
    "  / \\\n",
    " 1   2\n",
    "返回 false。"
   ]
  },
  {
   "cell_type": "code",
   "execution_count": null,
   "metadata": {
    "collapsed": true
   },
   "outputs": [],
   "source": [
    "# Definition for a binary tree node.\n",
    "# class TreeNode(object):\n",
    "#     def __init__(self, x):\n",
    "#         self.val = x\n",
    "#         self.left = None\n",
    "#         self.right = None\n",
    "\n",
    "class Solution(object):\n",
    "    def isSubtree(self, s, t):\n",
    "        \"\"\"\n",
    "        :type s: TreeNode\n",
    "        :type t: TreeNode\n",
    "        :rtype: bool\n",
    "        \"\"\"\n",
    "        stack = []\n",
    "        flag = False\n",
    "        while((s or stack) and not flag ):\n",
    "            while(s):\n",
    "                stack.append(s)\n",
    "                if s.val==t.val:\n",
    "                    flag = self.func(s,t)\n",
    "                s = s.left\n",
    "            s = stack.pop(0)\n",
    "            s = s.right\n",
    "        return flag\n",
    "    \n",
    "    def func(self,s,t):\n",
    "        if not s and not t:\n",
    "            return True\n",
    "        if (not s and t) or (s and not t):\n",
    "            return False\n",
    "        if s and t:\n",
    "            if s.val != t.val:\n",
    "                return False\n",
    "            else:\n",
    "                return self.func(s.left,t.left) and self.func(s.right,t.right)\n",
    "        "
   ]
  }
 ],
 "metadata": {
  "kernelspec": {
   "display_name": "Python 3",
   "language": "python",
   "name": "python3"
  },
  "language_info": {
   "codemirror_mode": {
    "name": "ipython",
    "version": 3
   },
   "file_extension": ".py",
   "mimetype": "text/x-python",
   "name": "python",
   "nbconvert_exporter": "python",
   "pygments_lexer": "ipython3",
   "version": "3.6.1"
  }
 },
 "nbformat": 4,
 "nbformat_minor": 2
}
