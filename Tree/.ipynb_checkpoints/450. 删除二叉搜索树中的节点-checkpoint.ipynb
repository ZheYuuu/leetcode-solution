{
 "cells": [
  {
   "cell_type": "code",
   "execution_count": null,
   "metadata": {
    "collapsed": true
   },
   "outputs": [],
   "source": []
  },
  {
   "cell_type": "code",
   "execution_count": null,
   "metadata": {
    "collapsed": true
   },
   "outputs": [],
   "source": [
    "# Definition for a binary tree node.\n",
    "# class TreeNode:\n",
    "#     def __init__(self, x):\n",
    "#         self.val = x\n",
    "#         self.left = None\n",
    "#         self.right = None\n",
    "\n",
    "class Solution:\n",
    "    def deleteNode(self, root, key):\n",
    "        \"\"\"\n",
    "        :type root: TreeNode\n",
    "        :type key: int\n",
    "        :rtype: TreeNode\n",
    "        \"\"\"\n",
    "        if not root:\n",
    "            return None\n",
    "        def func(node, key):\n",
    "            if node.val==key:\n",
    "                return node,node\n",
    "            if node.val<key and node.right:\n",
    "                if node.right.val==key:\n",
    "                    return node,node.right\n",
    "                else:\n",
    "                    return func(node.right,key)\n",
    "                \n",
    "            if node.val>key and node.left:\n",
    "                if node.left.val==key:\n",
    "                    return node,node.left\n",
    "                else:\n",
    "                    return func(node.left,key)\n",
    "        def findMin(node):\n",
    "            if not node:\n",
    "                return None\n",
    "            while(node.left):\n",
    "                pre = node\n",
    "                node = node.left\n",
    "            val = node.val\n",
    "            node = None\n",
    "            return TreeNode(val)\n",
    "        def findMax(node):\n",
    "            if not node:\n",
    "                return None\n",
    "            while(node.right):\n",
    "                node = node.right\n",
    "            val = node.val\n",
    "            node = None\n",
    "            return TreeNode(val)\n",
    "        \n",
    "        \n",
    "        pre,curr = func(root,key)\n",
    "        print(pre.val)\n",
    "        print(curr[0].val,curr[1].val)\n",
    "        if pre==curr:\n",
    "            if not curr.right:\n",
    "                return curr.left\n",
    "            else:\n",
    "                curr = findMin(curr.right)\n",
    "                return curr\n",
    "        else:\n",
    "            node = findMin(curr.right)\n",
    "            curr = node if node else findMax(curr.left)\n",
    "            return root"
   ]
  }
 ],
 "metadata": {
  "kernelspec": {
   "display_name": "Python 3",
   "language": "python",
   "name": "python3"
  },
  "language_info": {
   "codemirror_mode": {
    "name": "ipython",
    "version": 3
   },
   "file_extension": ".py",
   "mimetype": "text/x-python",
   "name": "python",
   "nbconvert_exporter": "python",
   "pygments_lexer": "ipython3",
   "version": "3.6.1"
  }
 },
 "nbformat": 4,
 "nbformat_minor": 2
}
