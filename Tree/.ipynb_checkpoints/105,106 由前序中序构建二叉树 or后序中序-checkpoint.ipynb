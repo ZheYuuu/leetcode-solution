{
 "cells": [
  {
   "cell_type": "code",
   "execution_count": null,
   "metadata": {
    "collapsed": true
   },
   "outputs": [],
   "source": [
    "根据一棵树的前序遍历与中序遍历构造二叉树。\n",
    "\n",
    "注意:\n",
    "你可以假设树中没有重复的元素。\n",
    "\n",
    "例如，给出\n",
    "\n",
    "前序遍历 preorder = [3,9,20,15,7]\n",
    "中序遍历 inorder = [9,3,15,20,7]\n",
    "返回如下的二叉树：\n",
    "\n",
    "    3\n",
    "   / \\\n",
    "  9  20\n",
    "    /  \\\n",
    "   15   7"
   ]
  },
  {
   "cell_type": "code",
   "execution_count": 1,
   "metadata": {
    "collapsed": true
   },
   "outputs": [],
   "source": [
    "# Definition for a binary tree node.\n",
    "# class TreeNode:\n",
    "#     def __init__(self, x):\n",
    "#         self.val = x\n",
    "#         self.left = None\n",
    "#         self.right = None\n",
    "\n",
    "class Solution:\n",
    "    def buildTree(self, preorder, inorder):\n",
    "        \"\"\"\n",
    "        :type preorder: List[int]\n",
    "        :type inorder: List[int]\n",
    "        :rtype: TreeNode\n",
    "        \"\"\"\n",
    "        def build(idx, tmpInorder):\n",
    "            # idx = 0\n",
    "            # print(preorder[idx],tmpInorder)\n",
    "            if(len(tmpInorder)==0):\n",
    "                return None\n",
    "            if(len(tmpInorder)==1):\n",
    "                return TreeNode(tmpInorder[0])\n",
    "            while(idx<len(preorder)):\n",
    "                for i in range(len(tmpInorder)):\n",
    "                    if(preorder[idx]==tmpInorder[i]):\n",
    "                        root = TreeNode(preorder[idx])\n",
    "                        root.left = build(idx+1,tmpInorder[:i])\n",
    "                        root.right = build(idx+1,tmpInorder[i+1:])\n",
    "                        return root\n",
    "                idx += 1\n",
    "            return None       \n",
    "        return build(0,inorder)"
   ]
  },
  {
   "cell_type": "code",
   "execution_count": 2,
   "metadata": {},
   "outputs": [
    {
     "data": {
      "text/plain": [
       "[]"
      ]
     },
     "execution_count": 2,
     "metadata": {},
     "output_type": "execute_result"
    }
   ],
   "source": [
    "# Definition for a binary tree node.\n",
    "# class TreeNode:\n",
    "#     def __init__(self, x):\n",
    "#         self.val = x\n",
    "#         self.left = None\n",
    "#         self.right = None\n",
    "\n",
    "class Solution:\n",
    "    def buildTree(self, preorder, inorder):\n",
    "        \"\"\"\n",
    "        :type preorder: List[int]\n",
    "        :type inorder: List[int]\n",
    "        :rtype: TreeNode\n",
    "        \"\"\"\n",
    "        if(not preorder or not inorder):\n",
    "            return None\n",
    "        root = TreeNode(preorder[0])\n",
    "        idx = inorder.index(root.val)\n",
    "        root.left = self.buildTree(preorder[1:idx+1],inorder[:idx])\n",
    "        root.right = self.buildTree(preorder[idx+1:],inorder[idx+1:])\n",
    "        return root\n",
    "        \n",
    "        "
   ]
  },
  {
   "cell_type": "code",
   "execution_count": null,
   "metadata": {
    "collapsed": true
   },
   "outputs": [],
   "source": [
    "根据一棵树的中序遍历与后序遍历构造二叉树。\n",
    "\n",
    "注意:\n",
    "你可以假设树中没有重复的元素。\n",
    "\n",
    "例如，给出\n",
    "\n",
    "中序遍历 inorder = [9,3,15,20,7]\n",
    "后序遍历 postorder = [9,15,7,20,3]\n",
    "返回如下的二叉树：\n",
    "\n",
    "    3\n",
    "   / \\\n",
    "  9  20\n",
    "    /  \\\n",
    "   15   7"
   ]
  },
  {
   "cell_type": "code",
   "execution_count": 3,
   "metadata": {
    "collapsed": true
   },
   "outputs": [],
   "source": [
    "# Definition for a binary tree node.\n",
    "# class TreeNode:\n",
    "#     def __init__(self, x):\n",
    "#         self.val = x\n",
    "#         self.left = None\n",
    "#         self.right = None\n",
    "\n",
    "class Solution:\n",
    "    def buildTree(self, inorder, postorder):\n",
    "        \"\"\"\n",
    "        :type inorder: List[int]\n",
    "        :type postorder: List[int]\n",
    "        :rtype: TreeNode\n",
    "        \"\"\"\n",
    "        if not inorder or not postorder:\n",
    "            return None\n",
    "        idx = inorder.index(postorder[-1])\n",
    "        root = TreeNode(postorder[-1])\n",
    "        root.left = self.buildTree(inorder[:idx],postorder[:idx])\n",
    "        root.right = self.buildTree(inorder[idx+1:],postorder[idx:-1])\n",
    "        return root"
   ]
  },
  {
   "cell_type": "code",
   "execution_count": 4,
   "metadata": {},
   "outputs": [
    {
     "data": {
      "text/plain": [
       "1"
      ]
     },
     "execution_count": 4,
     "metadata": {},
     "output_type": "execute_result"
    }
   ],
   "source": []
  },
  {
   "cell_type": "code",
   "execution_count": null,
   "metadata": {
    "collapsed": true
   },
   "outputs": [],
   "source": []
  }
 ],
 "metadata": {
  "kernelspec": {
   "display_name": "Python 3",
   "language": "python",
   "name": "python3"
  },
  "language_info": {
   "codemirror_mode": {
    "name": "ipython",
    "version": 3
   },
   "file_extension": ".py",
   "mimetype": "text/x-python",
   "name": "python",
   "nbconvert_exporter": "python",
   "pygments_lexer": "ipython3",
   "version": "3.6.1"
  }
 },
 "nbformat": 4,
 "nbformat_minor": 2
}
