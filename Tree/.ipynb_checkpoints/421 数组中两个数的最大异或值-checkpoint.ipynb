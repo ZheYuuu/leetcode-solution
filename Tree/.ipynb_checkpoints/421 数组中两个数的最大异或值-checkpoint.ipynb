{
 "cells": [
  {
   "cell_type": "code",
   "execution_count": null,
   "metadata": {
    "collapsed": true
   },
   "outputs": [],
   "source": [
    "给定一个非空数组，数组中元素为 a0, a1, a2, … , an-1，其中 0 ≤ ai < 231 。\n",
    "\n",
    "找到 ai 和aj 最大的异或 (XOR) 运算结果，其中0 ≤ i,  j < n 。\n",
    "\n",
    "你能在O(n)的时间解决这个问题吗？\n",
    "\n",
    "示例:\n",
    "\n",
    "输入: [3, 10, 5, 25, 2, 8]\n",
    "\n",
    "输出: 28\n",
    "\n",
    "解释: 最大的结果是 5 ^ 25 = 28."
   ]
  },
  {
   "cell_type": "code",
   "execution_count": null,
   "metadata": {
    "collapsed": true
   },
   "outputs": [],
   "source": [
    "class Solution(object):\n",
    "    def findMaximumXOR(self, nums):\n",
    "        \"\"\"\n",
    "        :type nums: List[int]\n",
    "        :rtype: int\n",
    "        \"\"\"\n",
    "        root = {}\n",
    "        for num in nums:\n",
    "            curr = root\n",
    "            for i in range(31,-1,-1):\n",
    "                bit = 1 & num>>i\n",
    "                if bit not in curr:\n",
    "                    curr[bit] = {}\n",
    "                curr = curr[bit]\n",
    "        res = 0\n",
    "        for num in nums:\n",
    "            curr = root\n",
    "            tmp = 0\n",
    "            for i in range(31,-1,-1):\n",
    "                bit = 1 & num>>i\n",
    "                if bit==0:\n",
    "                    if 1 in curr:\n",
    "                        tmp += 1<<i\n",
    "                        curr = curr[1]\n",
    "                    else:\n",
    "                        curr = curr[0]\n",
    "                else:\n",
    "                    if 0 in curr:\n",
    "                        tmp += 1<<i\n",
    "                        curr = curr[0]\n",
    "                    else:\n",
    "                        curr = curr[1]\n",
    "            res = max(res,tmp)\n",
    "        return res\n",
    "                    \n",
    "        "
   ]
  }
 ],
 "metadata": {
  "kernelspec": {
   "display_name": "Python 3",
   "language": "python",
   "name": "python3"
  },
  "language_info": {
   "codemirror_mode": {
    "name": "ipython",
    "version": 3
   },
   "file_extension": ".py",
   "mimetype": "text/x-python",
   "name": "python",
   "nbconvert_exporter": "python",
   "pygments_lexer": "ipython3",
   "version": "3.6.1"
  }
 },
 "nbformat": 4,
 "nbformat_minor": 2
}
