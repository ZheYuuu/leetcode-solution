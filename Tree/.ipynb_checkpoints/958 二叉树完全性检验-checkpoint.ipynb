{
 "cells": [
  {
   "cell_type": "code",
   "execution_count": null,
   "metadata": {
    "collapsed": true
   },
   "outputs": [],
   "source": [
    "给定一个二叉树，确定它是否是一个完全二叉树。\n",
    "\n",
    "百度百科中对完全二叉树的定义如下：\n",
    "\n",
    "若设二叉树的深度为 h，除第 h 层外，其它各层 (1～h-1) 的结点数都达到最大个数，第 h 层所有的结点都连续集中在最左边，这就是完全二叉树。（注：第 h 层可能包含 1~ 2h 个节点。）\n",
    "\n",
    " \n",
    "\n",
    "示例 1：\n",
    "\n",
    "\n",
    "\n",
    "输入：[1,2,3,4,5,6]\n",
    "输出：true\n",
    "解释：最后一层前的每一层都是满的（即，结点值为 {1} 和 {2,3} 的两层），且最后一层中的所有结点（{4,5,6}）都尽可能地向左。\n",
    "示例 2：\n",
    "\n",
    "\n",
    "\n",
    "输入：[1,2,3,4,5,null,7]\n",
    "输出：false\n",
    "解释：值为 7 的结点没有尽可能靠向左侧。\n",
    " \n",
    "\n",
    "提示：\n",
    "\n",
    "树中将会有 1 到 100 个结点。"
   ]
  },
  {
   "cell_type": "code",
   "execution_count": null,
   "metadata": {
    "collapsed": true
   },
   "outputs": [],
   "source": [
    "# Definition for a binary tree node.\n",
    "# class TreeNode(object):\n",
    "#     def __init__(self, x):\n",
    "#         self.val = x\n",
    "#         self.left = None\n",
    "#         self.right = None\n",
    "\n",
    "class Solution(object):\n",
    "    def isCompleteTree(self, root):\n",
    "        \"\"\"\n",
    "        :type root: TreeNode\n",
    "        :rtype: bool\n",
    "        \"\"\"\n",
    "        if not root:\n",
    "            return True\n",
    "        stack = [root]\n",
    "        flag = False\n",
    "        while(stack):\n",
    "            n = len(stack)\n",
    "            for i in range(0,n):\n",
    "                node = stack.pop(0)\n",
    "                if not node:\n",
    "                    if not flag:\n",
    "                        flag = True\n",
    "                else:\n",
    "                    if flag:\n",
    "                        return False\n",
    "                    stack.append(node.left)\n",
    "                    stack.append(node.right)\n",
    "        return True\n",
    "                        "
   ]
  }
 ],
 "metadata": {
  "kernelspec": {
   "display_name": "Python 3",
   "language": "python",
   "name": "python3"
  },
  "language_info": {
   "codemirror_mode": {
    "name": "ipython",
    "version": 3
   },
   "file_extension": ".py",
   "mimetype": "text/x-python",
   "name": "python",
   "nbconvert_exporter": "python",
   "pygments_lexer": "ipython3",
   "version": "3.6.1"
  }
 },
 "nbformat": 4,
 "nbformat_minor": 2
}
