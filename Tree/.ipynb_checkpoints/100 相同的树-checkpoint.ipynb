{
 "cells": [
  {
   "cell_type": "code",
   "execution_count": null,
   "metadata": {
    "collapsed": true
   },
   "outputs": [],
   "source": [
    "给定两个二叉树，编写一个函数来检验它们是否相同。\n",
    "\n",
    "如果两个树在结构上相同，并且节点具有相同的值，则认为它们是相同的。\n",
    "\n",
    "示例 1:\n",
    "\n",
    "输入:       1         1\n",
    "          / \\       / \\\n",
    "         2   3     2   3\n",
    "\n",
    "        [1,2,3],   [1,2,3]\n",
    "\n",
    "输出: true\n",
    "示例 2:\n",
    "\n",
    "输入:      1          1\n",
    "          /           \\\n",
    "         2             2\n",
    "\n",
    "        [1,2],     [1,null,2]\n",
    "\n",
    "输出: false\n",
    "示例 3:\n",
    "\n",
    "输入:       1         1\n",
    "          / \\       / \\\n",
    "         2   1     1   2\n",
    "\n",
    "        [1,2,1],   [1,1,2]\n",
    "\n",
    "输出: false"
   ]
  },
  {
   "cell_type": "code",
   "execution_count": null,
   "metadata": {
    "collapsed": true
   },
   "outputs": [],
   "source": [
    "# 递归\n",
    "\n",
    "# Definition for a binary tree node.\n",
    "# class TreeNode:\n",
    "#     def __init__(self, x):\n",
    "#         self.val = x\n",
    "#         self.left = None\n",
    "#         self.right = None\n",
    "\n",
    "class Solution:\n",
    "    def isSameTree(self, p, q):\n",
    "        \"\"\"\n",
    "        :type p: TreeNode\n",
    "        :type q: TreeNode\n",
    "        :rtype: bool\n",
    "        \"\"\"\n",
    "        if(p==None and q==None):\n",
    "            return True\n",
    "        if(p==None or q==None):\n",
    "            return False\n",
    "        if(p.val==q.val):\n",
    "            return self.isSameTree(p.left,q.left) and self.isSameTree(p.right,q.right)\n",
    "        else:\n",
    "            return False\n",
    "                \n",
    "            \n",
    "        "
   ]
  },
  {
   "cell_type": "code",
   "execution_count": null,
   "metadata": {
    "collapsed": true
   },
   "outputs": [],
   "source": [
    "# 层次遍历判断\n",
    "class Solution:\n",
    "    def isSameTree(self, p, q):\n",
    "        \"\"\"\n",
    "        :type p: TreeNode\n",
    "        :type q: TreeNode\n",
    "        :rtype: bool\n",
    "        \"\"\"\n",
    "        p_queue = [p]\n",
    "        q_queue = [q]\n",
    "        while(p_queue or q_queue):\n",
    "            tmp_p_queue = []\n",
    "            tmp_p_val = []\n",
    "            # print(p_queue,q_queue)\n",
    "            if(set(p_queue)=={None} and set(q_queue)=={None}):\n",
    "                break\n",
    "            for i,node in enumerate(p_queue):\n",
    "                if node:\n",
    "                    tmp_p_val.append(node.val)\n",
    "                    tmp_p_queue.append(node.left)\n",
    "                    tmp_p_queue.append(node.right)\n",
    "                else:\n",
    "                    tmp_p_val.append(None)\n",
    "                    tmp_p_queue.append(None)\n",
    "                    tmp_p_queue.append(None)\n",
    "            p_queue = tmp_p_queue\n",
    "            \n",
    "            tmp_q_queue = []\n",
    "            tmp_q_val = []\n",
    "            for i,node in enumerate(q_queue):                \n",
    "                if node:\n",
    "                    tmp_q_val.append(node.val)\n",
    "                    tmp_q_queue.append(node.left)\n",
    "                    tmp_q_queue.append(node.right)\n",
    "                else:\n",
    "                    tmp_q_val.append(None)\n",
    "                    tmp_q_queue.append(None)\n",
    "                    tmp_q_queue.append(None)\n",
    "            q_queue = tmp_q_queue\n",
    "            # print(tmp_p_val,tmp_q_val)\n",
    "            if tmp_p_val!=tmp_q_val:\n",
    "                return False\n",
    "        return True"
   ]
  },
  {
   "cell_type": "code",
   "execution_count": 3,
   "metadata": {},
   "outputs": [
    {
     "data": {
      "text/plain": [
       "True"
      ]
     },
     "execution_count": 3,
     "metadata": {},
     "output_type": "execute_result"
    }
   ],
   "source": [
    "set([None,None])=={None}"
   ]
  },
  {
   "cell_type": "code",
   "execution_count": null,
   "metadata": {
    "collapsed": true
   },
   "outputs": [],
   "source": []
  }
 ],
 "metadata": {
  "kernelspec": {
   "display_name": "Python 3",
   "language": "python",
   "name": "python3"
  },
  "language_info": {
   "codemirror_mode": {
    "name": "ipython",
    "version": 3
   },
   "file_extension": ".py",
   "mimetype": "text/x-python",
   "name": "python",
   "nbconvert_exporter": "python",
   "pygments_lexer": "ipython3",
   "version": "3.6.1"
  }
 },
 "nbformat": 4,
 "nbformat_minor": 2
}
