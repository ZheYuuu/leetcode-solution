{
 "cells": [
  {
   "cell_type": "code",
   "execution_count": null,
   "metadata": {
    "collapsed": true
   },
   "outputs": [],
   "source": [
    "实现一个二叉搜索树迭代器。你将使用二叉搜索树的根节点初始化迭代器。\n",
    "\n",
    "调用 next() 将返回二叉搜索树中的下一个最小的数。\n",
    "\n",
    " \n",
    "\n",
    "示例：\n",
    "\n",
    "\n",
    "\n",
    "BSTIterator iterator = new BSTIterator(root);\n",
    "iterator.next();    // 返回 3\n",
    "iterator.next();    // 返回 7\n",
    "iterator.hasNext(); // 返回 true\n",
    "iterator.next();    // 返回 9\n",
    "iterator.hasNext(); // 返回 true\n",
    "iterator.next();    // 返回 15\n",
    "iterator.hasNext(); // 返回 true\n",
    "iterator.next();    // 返回 20\n",
    "iterator.hasNext(); // 返回 false\n",
    " \n",
    "\n",
    "提示：\n",
    "\n",
    "next() 和 hasNext() 操作的时间复杂度是 O(1)，并使用 O(h) 内存，其中 h 是树的高度。\n",
    "你可以假设 next() 调用总是有效的，也就是说，当调用 next() 时，BST 中至少存在一个下一个最小的数。"
   ]
  },
  {
   "cell_type": "code",
   "execution_count": null,
   "metadata": {
    "collapsed": true
   },
   "outputs": [],
   "source": [
    "# Definition for a binary tree node.\n",
    "# class TreeNode:\n",
    "#     def __init__(self, x):\n",
    "#         self.val = x\n",
    "#         self.left = None\n",
    "#         self.right = None\n",
    "\n",
    "class BSTIterator:\n",
    "\n",
    "    def __init__(self, root):\n",
    "        \"\"\"\n",
    "        :type root: TreeNode\n",
    "        \"\"\"\n",
    "        self.current = root\n",
    "        self.stack = []\n",
    "        while(self.current):\n",
    "            self.stack.append(self.current)\n",
    "            self.current = self.current.left \n",
    "        \n",
    "\n",
    "    def next(self):\n",
    "        \"\"\"\n",
    "        @return the next smallest number\n",
    "        :rtype: int\n",
    "        \"\"\"\n",
    "        self.current = self.stack.pop()\n",
    "        val = self.current.val\n",
    "        \n",
    "        if self.current.right:\n",
    "            self.current = self.current.right\n",
    "            while(self.current):\n",
    "                self.stack.append(self.current)\n",
    "                self.current = self.current.left\n",
    "        return val\n",
    "\n",
    "    def hasNext(self):\n",
    "        \"\"\"\n",
    "        @return whether we have a next smallest number\n",
    "        :rtype: bool\n",
    "        \"\"\"\n",
    "        if self.stack:\n",
    "            return True\n",
    "        return False\n",
    "        \n",
    "\n",
    "\n",
    "# Your BSTIterator object will be instantiated and called as such:\n",
    "# obj = BSTIterator(root)\n",
    "# param_1 = obj.next()\n",
    "# param_2 = obj.hasNext()"
   ]
  }
 ],
 "metadata": {
  "kernelspec": {
   "display_name": "Python 3",
   "language": "python",
   "name": "python3"
  },
  "language_info": {
   "codemirror_mode": {
    "name": "ipython",
    "version": 3
   },
   "file_extension": ".py",
   "mimetype": "text/x-python",
   "name": "python",
   "nbconvert_exporter": "python",
   "pygments_lexer": "ipython3",
   "version": "3.6.1"
  }
 },
 "nbformat": 4,
 "nbformat_minor": 2
}
