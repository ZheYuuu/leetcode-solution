{
 "cells": [
  {
   "cell_type": "code",
   "execution_count": null,
   "metadata": {
    "collapsed": true
   },
   "outputs": [],
   "source": [
    "我们可以为二叉树 T 定义一个翻转操作，如下所示：选择任意节点，然后交换它的左子树和右子树。\n",
    "\n",
    "只要经过一定次数的翻转操作后，能使 X 等于 Y，我们就称二叉树 X 翻转等价于二叉树 Y。\n",
    "\n",
    "编写一个判断两个二叉树是否是翻转等价的函数。这些树由根节点 root1 和 root2 给出。\n",
    "\n",
    " \n",
    "\n",
    "示例：\n",
    "\n",
    "输入：root1 = [1,2,3,4,5,6,null,null,null,7,8], root2 = [1,3,2,null,6,4,5,null,null,null,null,8,7]\n",
    "输出：true\n",
    "解释：We flipped at nodes with values 1, 3, and 5.\n",
    "Flipped Trees Diagram\n",
    " \n",
    "\n",
    "提示：\n",
    "\n",
    "每棵树最多有 100 个节点。\n",
    "每棵树中的每个值都是唯一的、在 [0, 99] 范围内的整数。"
   ]
  },
  {
   "cell_type": "code",
   "execution_count": null,
   "metadata": {
    "collapsed": true
   },
   "outputs": [],
   "source": [
    "# Definition for a binary tree node.\n",
    "# class TreeNode(object):\n",
    "#     def __init__(self, x):\n",
    "#         self.val = x\n",
    "#         self.left = None\n",
    "#         self.right = None\n",
    "\n",
    "class Solution(object):\n",
    "    def flipEquiv(self, root1, root2):\n",
    "        \"\"\"\n",
    "        :type root1: TreeNode\n",
    "        :type root2: TreeNode\n",
    "        :rtype: bool\n",
    "        \"\"\"\n",
    "        if not root1 and root2:\n",
    "            return False\n",
    "        if root1 and not root2:\n",
    "            return False\n",
    "        \n",
    "        def func(node1,node2):\n",
    "            if not node1 and not node2:\n",
    "                return True\n",
    "            l1 = node1.left.val if node1.left else None\n",
    "            r1 = node1.right.val if node1.right else None\n",
    "            l2 = node2.left.val if node2.left else None\n",
    "            r2 = node2.right.val if node2.right else None\n",
    "            flag1 = False\n",
    "            flag2 = False\n",
    "            if (l1==l2 and r1==r2) :\n",
    "                flag1 = True and (func(node1.left,node2.left) and func(node1.right,node2.right)) \n",
    "            if (l1==r2 and r1==l2):\n",
    "                flag2 = True and (func(node1.right,node2.left) and func(node1.left,node2.right))\n",
    "            return flag1 or flag2\n",
    "        return func(root1,root2)"
   ]
  }
 ],
 "metadata": {
  "kernelspec": {
   "display_name": "Python 3",
   "language": "python",
   "name": "python3"
  },
  "language_info": {
   "codemirror_mode": {
    "name": "ipython",
    "version": 3
   },
   "file_extension": ".py",
   "mimetype": "text/x-python",
   "name": "python",
   "nbconvert_exporter": "python",
   "pygments_lexer": "ipython3",
   "version": "3.6.1"
  }
 },
 "nbformat": 4,
 "nbformat_minor": 2
}
