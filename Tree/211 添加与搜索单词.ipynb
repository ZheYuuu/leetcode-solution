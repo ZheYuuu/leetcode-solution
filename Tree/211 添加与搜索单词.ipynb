{
 "cells": [
  {
   "cell_type": "code",
   "execution_count": null,
   "metadata": {
    "collapsed": true
   },
   "outputs": [],
   "source": [
    "设计一个支持以下两种操作的数据结构：\n",
    "\n",
    "void addWord(word)\n",
    "bool search(word)\n",
    "search(word) 可以搜索文字或正则表达式字符串，字符串只包含字母 . 或 a-z 。 . 可以表示任何一个字母。\n",
    "\n",
    "示例:\n",
    "\n",
    "addWord(\"bad\")\n",
    "addWord(\"dad\")\n",
    "addWord(\"mad\")\n",
    "search(\"pad\") -> false\n",
    "search(\"bad\") -> true\n",
    "search(\".ad\") -> true\n",
    "search(\"b..\") -> true\n",
    "说明:\n",
    "\n",
    "你可以假设所有单词都是由小写字母 a-z 组成的。"
   ]
  },
  {
   "cell_type": "code",
   "execution_count": null,
   "metadata": {
    "collapsed": true
   },
   "outputs": [],
   "source": [
    "class WordDictionary(object):\n",
    "\n",
    "    def __init__(self):\n",
    "        \"\"\"\n",
    "        Initialize your data structure here.\n",
    "        \"\"\"\n",
    "        self.root = {}\n",
    "        \n",
    "\n",
    "    def addWord(self, word):\n",
    "        \"\"\"\n",
    "        Adds a word into the data structure.\n",
    "        :type word: str\n",
    "        :rtype: None\n",
    "        \"\"\"\n",
    "        curr = self.root\n",
    "        for s in word:\n",
    "            if s not in curr:\n",
    "                curr[s] = {}\n",
    "            curr = curr[s]\n",
    "        curr[\"isEnd\"] = True\n",
    "        \n",
    "\n",
    "    def search(self, word):\n",
    "        \"\"\"\n",
    "        Returns if the word is in the data structure. A word could contain the dot character '.' to represent any one letter.\n",
    "        :type word: str\n",
    "        :rtype: bool\n",
    "        \"\"\"\n",
    "        def dfs(curr,word):\n",
    "            if not word:\n",
    "                return \"isEnd\" in curr\n",
    "            s = word[0]\n",
    "            if s=='.':    \n",
    "                for key,val in curr.items():\n",
    "                    if key!=\"isEnd\" and dfs(curr[key],word[1:]):\n",
    "                        return True\n",
    "                return False\n",
    "            elif not curr or s not in curr:\n",
    "                return False\n",
    "            else:\n",
    "                return dfs(curr[s],word[1:])\n",
    "        return dfs(self.root,word)\n",
    "                \n",
    "                \n",
    "        \n",
    "        \n",
    "\n",
    "\n",
    "# Your WordDictionary object will be instantiated and called as such:\n",
    "# obj = WordDictionary()\n",
    "# obj.addWord(word)\n",
    "# param_2 = obj.search(word)"
   ]
  }
 ],
 "metadata": {
  "kernelspec": {
   "display_name": "Python 3",
   "language": "python",
   "name": "python3"
  },
  "language_info": {
   "codemirror_mode": {
    "name": "ipython",
    "version": 3
   },
   "file_extension": ".py",
   "mimetype": "text/x-python",
   "name": "python",
   "nbconvert_exporter": "python",
   "pygments_lexer": "ipython3",
   "version": "3.6.1"
  }
 },
 "nbformat": 4,
 "nbformat_minor": 2
}
