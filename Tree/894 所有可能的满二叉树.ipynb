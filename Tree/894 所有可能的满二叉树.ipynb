{
 "cells": [
  {
   "cell_type": "code",
   "execution_count": null,
   "metadata": {
    "collapsed": true
   },
   "outputs": [],
   "source": [
    "https://leetcode-cn.com/problems/all-possible-full-binary-trees/\n",
    "    \n",
    "满二叉树是一类二叉树，其中每个结点恰好有 0 或 2 个子结点。\n",
    "\n",
    "返回包含 N 个结点的所有可能满二叉树的列表。 答案的每个元素都是一个可能树的根结点。\n",
    "\n",
    "答案中每个树的每个结点都必须有 node.val=0。\n",
    "\n",
    "你可以按任何顺序返回树的最终列表。\n",
    "\n",
    " \n",
    "\n",
    "示例：\n",
    "\n",
    "输入：7\n",
    "输出：[[0,0,0,null,null,0,0,null,null,0,0],[0,0,0,null,null,0,0,0,0],[0,0,0,0,0,0,0],[0,0,0,0,0,null,null,null,null,0,0],[0,0,0,0,0,null,null,0,0]]\n",
    "解释：\n"
   ]
  },
  {
   "cell_type": "code",
   "execution_count": null,
   "metadata": {
    "collapsed": true
   },
   "outputs": [],
   "source": [
    "# Definition for a binary tree node.\n",
    "# class TreeNode(object):\n",
    "#     def __init__(self, x):\n",
    "#         self.val = x\n",
    "#         self.left = None\n",
    "#         self.right = None\n",
    "\n",
    "class Solution(object):\n",
    "    def allPossibleFBT(self, N):\n",
    "        \"\"\"\n",
    "        :type N: int\n",
    "        :rtype: List[TreeNode]\n",
    "        \"\"\"\n",
    "        self.dic = {1:[TreeNode(0)]}\n",
    "        def func(N): \n",
    "            if N%2 == 0:\n",
    "                return []\n",
    "            if N in self.dic:\n",
    "                return self.dic[N]\n",
    "            N = N-1\n",
    "            curr_list = []\n",
    "#   分解\n",
    "            for i in range(1,N,2):\n",
    "                left = func(i)\n",
    "                right = func(N-i)\n",
    "#   分解\n",
    "#   合并\n",
    "                for l in left:\n",
    "                    for r in right:\n",
    "                        curr = TreeNode(0)\n",
    "                        curr.left = l\n",
    "                        curr.right = r\n",
    "                        curr_list.append(curr)\n",
    "            self.dic[N] = curr_list\n",
    "#   合并\n",
    "            return self.dic[N]\n",
    "        return func(N)"
   ]
  },
  {
   "cell_type": "code",
   "execution_count": 3,
   "metadata": {},
   "outputs": [
    {
     "data": {
      "text/plain": [
       "1"
      ]
     },
     "execution_count": 3,
     "metadata": {},
     "output_type": "execute_result"
    }
   ],
   "source": []
  },
  {
   "cell_type": "code",
   "execution_count": 4,
   "metadata": {},
   "outputs": [
    {
     "data": {
      "text/plain": [
       "[1]"
      ]
     },
     "execution_count": 4,
     "metadata": {},
     "output_type": "execute_result"
    }
   ],
   "source": [
    "[i for i in range(1,3,2)]"
   ]
  },
  {
   "cell_type": "code",
   "execution_count": null,
   "metadata": {
    "collapsed": true
   },
   "outputs": [],
   "source": []
  }
 ],
 "metadata": {
  "kernelspec": {
   "display_name": "Python 3",
   "language": "python",
   "name": "python3"
  },
  "language_info": {
   "codemirror_mode": {
    "name": "ipython",
    "version": 3
   },
   "file_extension": ".py",
   "mimetype": "text/x-python",
   "name": "python",
   "nbconvert_exporter": "python",
   "pygments_lexer": "ipython3",
   "version": "3.6.1"
  }
 },
 "nbformat": 4,
 "nbformat_minor": 2
}
