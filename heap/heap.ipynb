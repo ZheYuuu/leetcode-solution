{
 "cells": [
  {
   "cell_type": "code",
   "execution_count": 42,
   "metadata": {
    "collapsed": true
   },
   "outputs": [],
   "source": [
    "class maxHeap(object):\n",
    "    def __init__(self,A=[]):\n",
    "        self.heapSize = len(A)\n",
    "        self.A = A\n",
    "    def buildMaxHeap(self):\n",
    "        for i in range(len(self.A)//2-1,-1,-1):\n",
    "            self.maxHeapify(i)\n",
    "    \n",
    "    def maxHeapify(self,i):\n",
    "        left = i*2+1\n",
    "        right = i*2+2\n",
    "        largest = i\n",
    "        if left<self.heapSize and self.A[left]>self.A[largest]:\n",
    "            largest = left\n",
    "        if right<self.heapSize and self.A[right]>self.A[largest]:\n",
    "            largest = right\n",
    "        if i!=largest:\n",
    "            self.A[i],self.A[largest] = self.A[largest],self.A[i]\n",
    "            self.maxHeapify(largest)\n",
    "    \n",
    "    def heapSort(self):\n",
    "        self.buildMaxHeap()\n",
    "        n = len(self.A)\n",
    "        for i in range(n-1,0,-1):\n",
    "            self.A[i],self.A[0] = self.A[0],self.A[i]\n",
    "            self.heapSize -= 1\n",
    "            self.maxHeapify(0)\n",
    "        return self.A"
   ]
  },
  {
   "cell_type": "code",
   "execution_count": 43,
   "metadata": {
    "collapsed": true
   },
   "outputs": [],
   "source": [
    "A = [4,1,3,2,16,9,10,14,8,7]"
   ]
  },
  {
   "cell_type": "code",
   "execution_count": 44,
   "metadata": {
    "collapsed": true
   },
   "outputs": [],
   "source": [
    "heap = maxHeap(A)"
   ]
  },
  {
   "cell_type": "code",
   "execution_count": 45,
   "metadata": {},
   "outputs": [
    {
     "data": {
      "text/plain": [
       "[1, 2, 3, 4, 7, 8, 9, 10, 14, 16]"
      ]
     },
     "execution_count": 45,
     "metadata": {},
     "output_type": "execute_result"
    }
   ],
   "source": [
    "heap.heapSort()"
   ]
  },
  {
   "cell_type": "code",
   "execution_count": 62,
   "metadata": {},
   "outputs": [],
   "source": [
    "class Stu(object):\n",
    "    def __init__(self,name,age,nationally):\n",
    "        self.name = name\n",
    "        self.age = age\n",
    "        self.nationally = nationally\n",
    "    def __repr__(self):\n",
    "        return \"name:%s,age:%d,nationally:%s\"%(self.name,self.age,self.nationally)"
   ]
  },
  {
   "cell_type": "code",
   "execution_count": 63,
   "metadata": {},
   "outputs": [],
   "source": [
    "s1 = Stu(\"Allice\",18,\"UK\")\n",
    "s2 = Stu(\"Lina\",25,\"US\")\n",
    "s3 = Stu(\"RBQ\",20,\"JAPAN\")"
   ]
  },
  {
   "cell_type": "code",
   "execution_count": 64,
   "metadata": {},
   "outputs": [],
   "source": [
    "l = [s1,s2,s3]"
   ]
  },
  {
   "cell_type": "code",
   "execution_count": 65,
   "metadata": {},
   "outputs": [],
   "source": [
    "Stu.__lt__ = lambda self,other: self.age>other.age"
   ]
  },
  {
   "cell_type": "code",
   "execution_count": 66,
   "metadata": {},
   "outputs": [],
   "source": [
    "l.sort()"
   ]
  },
  {
   "cell_type": "code",
   "execution_count": 67,
   "metadata": {},
   "outputs": [
    {
     "data": {
      "text/plain": [
       "[name:Lina,age:25,nationally:US,\n",
       " name:RBQ,age:20,nationally:JAPAN,\n",
       " name:Allice,age:18,nationally:UK]"
      ]
     },
     "execution_count": 67,
     "metadata": {},
     "output_type": "execute_result"
    }
   ],
   "source": [
    "l"
   ]
  },
  {
   "cell_type": "code",
   "execution_count": null,
   "metadata": {
    "collapsed": true
   },
   "outputs": [],
   "source": []
  }
 ],
 "metadata": {
  "kernelspec": {
   "display_name": "Python 3",
   "language": "python",
   "name": "python3"
  },
  "language_info": {
   "codemirror_mode": {
    "name": "ipython",
    "version": 3
   },
   "file_extension": ".py",
   "mimetype": "text/x-python",
   "name": "python",
   "nbconvert_exporter": "python",
   "pygments_lexer": "ipython3",
   "version": "3.6.1"
  }
 },
 "nbformat": 4,
 "nbformat_minor": 2
}
