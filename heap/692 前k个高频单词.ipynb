{
 "cells": [
  {
   "cell_type": "code",
   "execution_count": null,
   "metadata": {
    "collapsed": true
   },
   "outputs": [],
   "source": [
    "给一非空的单词列表，返回前 k 个出现次数最多的单词。\n",
    "\n",
    "返回的答案应该按单词出现频率由高到低排序。如果不同的单词有相同出现频率，按字母顺序排序。\n",
    "\n",
    "示例 1：\n",
    "\n",
    "输入: [\"i\", \"love\", \"leetcode\", \"i\", \"love\", \"coding\"], k = 2\n",
    "输出: [\"i\", \"love\"]\n",
    "解析: \"i\" 和 \"love\" 为出现次数最多的两个单词，均为2次。\n",
    "    注意，按字母顺序 \"i\" 在 \"love\" 之前。\n",
    " \n",
    "\n",
    "示例 2：\n",
    "\n",
    "输入: [\"the\", \"day\", \"is\", \"sunny\", \"the\", \"the\", \"the\", \"sunny\", \"is\", \"is\"], k = 4\n",
    "输出: [\"the\", \"is\", \"sunny\", \"day\"]\n",
    "解析: \"the\", \"is\", \"sunny\" 和 \"day\" 是出现次数最多的四个单词，\n",
    "    出现次数依次为 4, 3, 2 和 1 次。\n",
    " \n",
    "\n",
    "注意：\n",
    "\n",
    "假定 k 总为有效值， 1 ≤ k ≤ 集合元素数。\n",
    "输入的单词均由小写字母组成。\n",
    " \n",
    "\n",
    "扩展练习：\n",
    "\n",
    "尝试以 O(n log k) 时间复杂度和 O(n) 空间复杂度解决。"
   ]
  },
  {
   "cell_type": "code",
   "execution_count": null,
   "metadata": {
    "collapsed": true
   },
   "outputs": [],
   "source": [
    "import heapq\n",
    "class Solution(object):\n",
    "    def topKFrequent(self, words, k):\n",
    "        \"\"\"\n",
    "        :type words: List[str]\n",
    "        :type k: int\n",
    "        :rtype: List[str]\n",
    "        \"\"\"\n",
    "        counters = collections.Counter(words)\n",
    "        heap = [(-c[1],c[0]) for c in counters.items()]\n",
    "        heapq.heapify(heap)\n",
    "        return [heapq.heappop(heap)[1] for _ in range(k)]"
   ]
  }
 ],
 "metadata": {
  "kernelspec": {
   "display_name": "Python 3",
   "language": "python",
   "name": "python3"
  },
  "language_info": {
   "codemirror_mode": {
    "name": "ipython",
    "version": 3
   },
   "file_extension": ".py",
   "mimetype": "text/x-python",
   "name": "python",
   "nbconvert_exporter": "python",
   "pygments_lexer": "ipython3",
   "version": "3.6.1"
  }
 },
 "nbformat": 4,
 "nbformat_minor": 2
}
