{
 "cells": [
  {
   "cell_type": "code",
   "execution_count": 1,
   "metadata": {
    "collapsed": true
   },
   "outputs": [],
   "source": [
    "class Solution(object):\n",
    "    def maxSubArray(self, nums):\n",
    "        \"\"\"\n",
    "        :type nums: List[int]\n",
    "        :rtype: int\n",
    "        \"\"\"\n",
    "        \n",
    "        res = nums[0]\n",
    "        current = nums[0]\n",
    "        for i in range(1,len(nums)):\n",
    "            if(current>0):\n",
    "                current += nums[i]\n",
    "            else:\n",
    "                current = nums[i]\n",
    "            if res<current:\n",
    "                res = current\n",
    "        return res"
   ]
  },
  {
   "cell_type": "code",
   "execution_count": null,
   "metadata": {
    "collapsed": true
   },
   "outputs": [],
   "source": [
    "class Solution(object):\n",
    "    def maxSubArray(self, nums):\n",
    "        \"\"\"\n",
    "        :type nums: List[int]\n",
    "        :rtype: int\n",
    "        \"\"\"\n",
    "        \n",
    "        res = nums[0]\n",
    "        #dp_sum[i] 以第i个元素结尾且和最大的子序列\n",
    "        dp_sum = [None for _ in range(len(nums))]\n",
    "        dp_sum[0] = nums[0]\n",
    "        for i in range(1,len(nums)):\n",
    "            #状态转移\n",
    "            dp_sum[i] = max(dp_sum[i-1]+nums[i],nums[i])\n",
    "            if(dp_sum[i]>res):\n",
    "                res = dp_sum[i]\n",
    "        return res"
   ]
  }
 ],
 "metadata": {
  "kernelspec": {
   "display_name": "Python 3",
   "language": "python",
   "name": "python3"
  },
  "language_info": {
   "codemirror_mode": {
    "name": "ipython",
    "version": 3
   },
   "file_extension": ".py",
   "mimetype": "text/x-python",
   "name": "python",
   "nbconvert_exporter": "python",
   "pygments_lexer": "ipython3",
   "version": "3.6.1"
  }
 },
 "nbformat": 4,
 "nbformat_minor": 2
}
