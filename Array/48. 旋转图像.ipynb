{
 "cells": [
  {
   "cell_type": "markdown",
   "metadata": {},
   "source": [
    "给定一个 n × n 的二维矩阵表示一个图像。\n",
    "\n",
    "将图像顺时针旋转 90 度。\n",
    "\n",
    "说明：\n",
    "\n",
    "你必须在原地旋转图像，这意味着你需要直接修改输入的二维矩阵。请不要使用另一个矩阵来旋转图像。\n",
    "\n",
    "示例 1:\n",
    "\n",
    "给定 matrix = \n",
    "[\n",
    "  [1,2,3],\n",
    "  [4,5,6],\n",
    "  [7,8,9]\n",
    "],\n",
    "\n",
    "原地旋转输入矩阵，使其变为:\n",
    "[\n",
    "  [7,4,1],\n",
    "  [8,5,2],\n",
    "  [9,6,3]\n",
    "]\n",
    "示例 2:\n",
    "\n",
    "给定 matrix =\n",
    "[\n",
    "  [ 5, 1, 9,11],\n",
    "  [ 2, 4, 8,10],\n",
    "  [13, 3, 6, 7],\n",
    "  [15,14,12,16]\n",
    "], \n",
    "\n",
    "原地旋转输入矩阵，使其变为:\n",
    "[\n",
    "  [15,13, 2, 5],\n",
    "  [14, 3, 4, 1],\n",
    "  [12, 6, 8, 9],\n",
    "  [16, 7,10,11]\n",
    "]"
   ]
  },
  {
   "cell_type": "code",
   "execution_count": null,
   "metadata": {
    "collapsed": true
   },
   "outputs": [],
   "source": [
    "class Solution:\n",
    "    def rotate(self, matrix):\n",
    "        \"\"\"\n",
    "        :type matrix: List[List[int]]\n",
    "        :rtype: void Do not return anything, modify matrix in-place instead.\n",
    "        \"\"\"\n",
    "        r_cnt = len(matrix)\n",
    "        c_cnt = len(matrix[0])\n",
    "        # 先根据对角线对半翻转，再上下翻转  ---->  逆时针旋转90°\n",
    "        \n",
    "#         for i in range(r_cnt):\n",
    "#             for j in range(i,c_cnt):\n",
    "#                 matrix[i][j],matrix[j][i] = matrix[j][i],matrix[i][j]\n",
    "#         for i in range(r_cnt//2):\n",
    "#             for j in range(c_cnt):\n",
    "#                 matrix[i][j],matrix[r_cnt-1-i][j] = matrix[r_cnt-1-i][j],matrix[i][j]\n",
    "    \n",
    "        # 先上下翻转，再对角线对半翻转  -------->   顺时针旋转90°\n",
    "        for i in range(r_cnt//2):\n",
    "            for j in range(c_cnt):\n",
    "                matrix[i][j],matrix[r_cnt-1-i][j] = matrix[r_cnt-1-i][j],matrix[i][j]\n",
    "        for i in range(r_cnt):\n",
    "            for j in range(i,c_cnt):\n",
    "                matrix[i][j],matrix[j][i] = matrix[j][i],matrix[i][j]\n",
    "        "
   ]
  }
 ],
 "metadata": {
  "kernelspec": {
   "display_name": "Python 3",
   "language": "python",
   "name": "python3"
  },
  "language_info": {
   "codemirror_mode": {
    "name": "ipython",
    "version": 3
   },
   "file_extension": ".py",
   "mimetype": "text/x-python",
   "name": "python",
   "nbconvert_exporter": "python",
   "pygments_lexer": "ipython3",
   "version": "3.6.1"
  }
 },
 "nbformat": 4,
 "nbformat_minor": 2
}
