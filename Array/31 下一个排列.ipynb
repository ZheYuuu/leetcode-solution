{
 "cells": [
  {
   "cell_type": "code",
   "execution_count": 30,
   "metadata": {
    "collapsed": true
   },
   "outputs": [],
   "source": [
    "# 模式：先定位末尾开始的逆序序列的开头，如下8，接着将逆序序列头前的一位a 与 逆序序列中 大于该a 的最小值交换，最后 将交换后的逆序序列重排为升序\n",
    "# 6，5，4，8，7，5，1    --------->  6,5,5,8,7,4,1  ------------> 6,5,5,1,4,7,8\n",
    "class Solution(object):\n",
    "    def nextPermutation(self, nums):\n",
    "        \"\"\"\n",
    "        :type nums: List[int]\n",
    "        :rtype: void Do not return anything, modify nums in-place instead.\n",
    "        \"\"\"\n",
    "        i = len(nums)-1\n",
    "        if(i==-1):\n",
    "            return []\n",
    "        while(i>0 and nums[i]<=nums[i-1]):\n",
    "            i -= 1\n",
    "        left_exchange_point = i-1\n",
    "        if(left_exchange_point==-1):\n",
    "            nums.sort()\n",
    "            return\n",
    "        j = len(nums)-1\n",
    "        while(j>left_exchange_point and nums[j]<=nums[left_exchange_point]):\n",
    "            j -= 1\n",
    "        right_exchange_point = j\n",
    "        nums[left_exchange_point],nums[right_exchange_point] = nums[right_exchange_point],nums[left_exchange_point]\n",
    "        l = left_exchange_point+1\n",
    "        r = len(nums)-1\n",
    "        while(l<r):\n",
    "            nums[l],nums[r] = nums[r],nums[l]\n",
    "            l += 1\n",
    "            r -= 1\n",
    "        return nums\n",
    "            "
   ]
  },
  {
   "cell_type": "code",
   "execution_count": 31,
   "metadata": {
    "collapsed": true
   },
   "outputs": [],
   "source": [
    "sol = Solution()"
   ]
  },
  {
   "cell_type": "code",
   "execution_count": 32,
   "metadata": {},
   "outputs": [
    {
     "data": {
      "text/plain": [
       "[1, 3, 5, 2, 7, 9, 4, 10]"
      ]
     },
     "execution_count": 32,
     "metadata": {},
     "output_type": "execute_result"
    }
   ],
   "source": [
    "sol.nextPermutation([1,3,5,2,7,4,10,9])"
   ]
  },
  {
   "cell_type": "code",
   "execution_count": 33,
   "metadata": {},
   "outputs": [
    {
     "data": {
      "text/plain": [
       "[6, 5, 5, 1, 4, 7, 8]"
      ]
     },
     "execution_count": 33,
     "metadata": {},
     "output_type": "execute_result"
    }
   ],
   "source": [
    "sol.nextPermutation([6,5,4,8,7,5,1])"
   ]
  },
  {
   "cell_type": "code",
   "execution_count": 34,
   "metadata": {},
   "outputs": [
    {
     "data": {
      "text/plain": [
       "[1, 6, 1, 1, 1]"
      ]
     },
     "execution_count": 34,
     "metadata": {},
     "output_type": "execute_result"
    }
   ],
   "source": [
    "sol.nextPermutation([1,1,6,1,1])"
   ]
  },
  {
   "cell_type": "code",
   "execution_count": 35,
   "metadata": {
    "collapsed": true
   },
   "outputs": [],
   "source": [
    "sol.nextPermutation([3,2,1])"
   ]
  },
  {
   "cell_type": "code",
   "execution_count": null,
   "metadata": {
    "collapsed": true
   },
   "outputs": [],
   "source": [
    "class Solution(object):\n",
    "    def nextPermutation(self, nums):\n",
    "        \"\"\"\n",
    "        :type nums: List[int]\n",
    "        :rtype: None Do not return anything, modify nums in-place instead.\n",
    "        \"\"\"\n",
    "        # 6，5，4，8，7，5，1 \n",
    "        if len(nums)<=1:\n",
    "            return nums\n",
    "        curr = 0\n",
    "        for i in range(len(nums)-1,0,-1):\n",
    "            if nums[i-1]<nums[i]:\n",
    "                curr = i\n",
    "                break\n",
    "        if curr > 0:\n",
    "            idx = curr\n",
    "            for i in range(curr,len(nums)):\n",
    "                if nums[i]>nums[curr-1]:\n",
    "                    idx = i if nums[idx]>=nums[i] else idx\n",
    "            nums[curr-1],nums[idx] = nums[idx],nums[curr-1]\n",
    "        l = curr\n",
    "        r = len(nums)-1\n",
    "        while(l<r):\n",
    "            nums[l],nums[r] = nums[r],nums[l]\n",
    "            l += 1\n",
    "            r -= 1\n",
    "        return nums\n",
    "            \n",
    "        \n",
    "            \n",
    "        "
   ]
  }
 ],
 "metadata": {
  "kernelspec": {
   "display_name": "Python 3",
   "language": "python",
   "name": "python3"
  },
  "language_info": {
   "codemirror_mode": {
    "name": "ipython",
    "version": 3
   },
   "file_extension": ".py",
   "mimetype": "text/x-python",
   "name": "python",
   "nbconvert_exporter": "python",
   "pygments_lexer": "ipython3",
   "version": "3.6.1"
  }
 },
 "nbformat": 4,
 "nbformat_minor": 2
}
