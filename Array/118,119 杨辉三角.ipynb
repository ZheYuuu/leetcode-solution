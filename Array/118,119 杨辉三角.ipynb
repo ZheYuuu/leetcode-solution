{
 "cells": [
  {
   "cell_type": "code",
   "execution_count": 9,
   "metadata": {
    "collapsed": true
   },
   "outputs": [],
   "source": [
    "class Solution(object):\n",
    "    def generate(self, numRows):\n",
    "        \"\"\"\n",
    "        :type numRows: int\n",
    "        :rtype: List[List[int]]\n",
    "        \"\"\"\n",
    "        res = []\n",
    "        for i in range(numRows):\n",
    "            row = [None for _ in range(i+1)]\n",
    "            row[0]=1\n",
    "            row[-1]=1\n",
    "#             print(row)\n",
    "            for j in range(i-1):\n",
    "                row[j+1] = res[i-1][j]+res[i-1][j+1]\n",
    "            print(row)\n",
    "            res.append(row)\n",
    "        return res"
   ]
  },
  {
   "cell_type": "code",
   "execution_count": 10,
   "metadata": {},
   "outputs": [
    {
     "name": "stdout",
     "output_type": "stream",
     "text": [
      "[1]\n",
      "[1, 1]\n",
      "[1, 2, 1]\n",
      "[1, 3, 3, 1]\n",
      "[1, 4, 6, 4, 1]\n"
     ]
    },
    {
     "data": {
      "text/plain": [
       "[[1], [1, 1], [1, 2, 1], [1, 3, 3, 1], [1, 4, 6, 4, 1]]"
      ]
     },
     "execution_count": 10,
     "metadata": {},
     "output_type": "execute_result"
    }
   ],
   "source": [
    "sol = Solution()\n",
    "sol.generate(5)"
   ]
  },
  {
   "cell_type": "code",
   "execution_count": 11,
   "metadata": {
    "collapsed": true
   },
   "outputs": [],
   "source": [
    "class Solution(object):\n",
    "    def getRow(self, rowIndex):\n",
    "        \"\"\"\n",
    "        :type rowIndex: int\n",
    "        :rtype: List[int]\n",
    "        \"\"\"\n",
    "        tmp = []\n",
    "        for i in range(rowIndex):\n",
    "            row = [None for _ in range(i+1)]\n",
    "            row[0],row[-1]=1,1\n",
    "            for j in range(i-1):\n",
    "                row[j+1] = tmp[j]+tmp[j+1]\n",
    "            tmp = row\n",
    "        return tmp"
   ]
  },
  {
   "cell_type": "code",
   "execution_count": 18,
   "metadata": {},
   "outputs": [
    {
     "data": {
      "text/plain": [
       "[1, 1]"
      ]
     },
     "execution_count": 18,
     "metadata": {},
     "output_type": "execute_result"
    }
   ],
   "source": [
    "sol = Solution()\n",
    "sol.getRow(2)"
   ]
  },
  {
   "cell_type": "code",
   "execution_count": null,
   "metadata": {
    "collapsed": true
   },
   "outputs": [],
   "source": []
  }
 ],
 "metadata": {
  "kernelspec": {
   "display_name": "Python 3",
   "language": "python",
   "name": "python3"
  },
  "language_info": {
   "codemirror_mode": {
    "name": "ipython",
    "version": 3
   },
   "file_extension": ".py",
   "mimetype": "text/x-python",
   "name": "python",
   "nbconvert_exporter": "python",
   "pygments_lexer": "ipython3",
   "version": "3.6.1"
  }
 },
 "nbformat": 4,
 "nbformat_minor": 2
}
