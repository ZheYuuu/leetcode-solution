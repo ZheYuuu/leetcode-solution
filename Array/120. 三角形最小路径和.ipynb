{
 "cells": [
  {
   "cell_type": "code",
   "execution_count": 6,
   "metadata": {
    "collapsed": true
   },
   "outputs": [],
   "source": [
    "#自上而下累加\n",
    "class Solution(object):\n",
    "    def minimumTotal(self, triangle):\n",
    "        \"\"\"\n",
    "        :type triangle: List[List[int]]\n",
    "        :rtype: int\n",
    "        \"\"\"\n",
    "        n = len(triangle)\n",
    "        for i in range(1,n):\n",
    "            for j in range(i+1):\n",
    "                if j==0:\n",
    "                    triangle[i][j] += triangle[i-1][0]\n",
    "                    continue\n",
    "                if j==i:\n",
    "                    triangle[i][j] += triangle[i-1][-1]\n",
    "                    continue\n",
    "                triangle[i][j] += triangle[i-1][j-1] if triangle[i-1][j-1]<triangle[i-1][j] else triangle[i-1][j]\n",
    "        print(triangle)\n",
    "        return min(triangle[n-1])"
   ]
  },
  {
   "cell_type": "code",
   "execution_count": 7,
   "metadata": {
    "collapsed": true
   },
   "outputs": [],
   "source": [
    "sol = Solution()"
   ]
  },
  {
   "cell_type": "code",
   "execution_count": 8,
   "metadata": {},
   "outputs": [
    {
     "name": "stdout",
     "output_type": "stream",
     "text": [
      "[[1], [3, 4]]\n"
     ]
    },
    {
     "data": {
      "text/plain": [
       "3"
      ]
     },
     "execution_count": 8,
     "metadata": {},
     "output_type": "execute_result"
    }
   ],
   "source": [
    "sol.minimumTotal([[1],[2,3]])"
   ]
  },
  {
   "cell_type": "code",
   "execution_count": 9,
   "metadata": {
    "collapsed": true
   },
   "outputs": [],
   "source": [
    "#自下而上dp\n",
    "class Solution(object):\n",
    "    def minimumTotal(self, triangle):\n",
    "        \"\"\"\n",
    "        :type triangle: List[List[int]]\n",
    "        :rtype: int\n",
    "        \"\"\"\n",
    "        n = len(triangle)\n",
    "        dp = triangle[-1]\n",
    "        for i in range(n-2,-1,-1):\n",
    "            for j in range(i+1):\n",
    "                dp[j] = min(dp[j],dp[j+1]) + triangle[i][j]\n",
    "        return dp[0]"
   ]
  },
  {
   "cell_type": "code",
   "execution_count": null,
   "metadata": {
    "collapsed": true
   },
   "outputs": [],
   "source": []
  }
 ],
 "metadata": {
  "kernelspec": {
   "display_name": "Python 3",
   "language": "python",
   "name": "python3"
  },
  "language_info": {
   "codemirror_mode": {
    "name": "ipython",
    "version": 3
   },
   "file_extension": ".py",
   "mimetype": "text/x-python",
   "name": "python",
   "nbconvert_exporter": "python",
   "pygments_lexer": "ipython3",
   "version": "3.6.1"
  }
 },
 "nbformat": 4,
 "nbformat_minor": 2
}
