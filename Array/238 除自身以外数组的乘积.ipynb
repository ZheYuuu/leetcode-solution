{
 "cells": [
  {
   "cell_type": "code",
   "execution_count": 1,
   "metadata": {
    "collapsed": true
   },
   "outputs": [],
   "source": [
    "# 时间复杂度O(n)\n",
    "class Solution(object):\n",
    "    def productExceptSelf(self, nums):\n",
    "        \"\"\"\n",
    "        :type nums: List[int]\n",
    "        :rtype: List[int]\n",
    "        \"\"\"\n",
    "        left = [1 for _ in range(len(nums)+1)]\n",
    "        right = [1 for _ in range(len(nums)+1)]\n",
    "        for i in range(1,len(nums)+1):\n",
    "            left[i] = left[i-1]*nums[i-1]\n",
    "            right[i] = right[i-1]*nums[len(nums)-i]\n",
    "        return [left[i]*right[len(nums)-1-i] for i in range(len(nums))]\n",
    "        "
   ]
  },
  {
   "cell_type": "code",
   "execution_count": null,
   "metadata": {
    "collapsed": true
   },
   "outputs": [],
   "source": [
    "# 空间复杂度O(n)   除res外 空间复杂度为O(1)\n",
    "class Solution(object):\n",
    "    def productExceptSelf(self, nums):\n",
    "        \"\"\"\n",
    "        :type nums: List[int]\n",
    "        :rtype: List[int]\n",
    "        \"\"\"\n",
    "        res = [1 for i in range(len(nums)+1)]\n",
    "        left = 1\n",
    "        for i in range(len(nums)):\n",
    "            res[i+1] = res[i] * nums[i]\n",
    "        right = 1\n",
    "        for i in range(len(nums)-2,-1,-1):\n",
    "            right *= nums[i+1] \n",
    "            res[i] = res[i] * right\n",
    "        return res[:len(nums)]"
   ]
  }
 ],
 "metadata": {
  "kernelspec": {
   "display_name": "Python 3",
   "language": "python",
   "name": "python3"
  },
  "language_info": {
   "codemirror_mode": {
    "name": "ipython",
    "version": 3
   },
   "file_extension": ".py",
   "mimetype": "text/x-python",
   "name": "python",
   "nbconvert_exporter": "python",
   "pygments_lexer": "ipython3",
   "version": "3.6.1"
  }
 },
 "nbformat": 4,
 "nbformat_minor": 2
}
