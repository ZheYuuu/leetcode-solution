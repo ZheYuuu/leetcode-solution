{
 "cells": [
  {
   "cell_type": "markdown",
   "metadata": {},
   "source": [
    "给定 n 个非负整数 a1，a2，...，an，每个数代表坐标中的一个点 (i, ai) 。在坐标内画 n 条垂直线，垂直线 i 的两个端点分别为 (i, ai) 和 (i, 0)。找出其中的两条线，使得它们与 x 轴共同构成的容器可以容纳最多的水。\n",
    "\n",
    "说明：你不能倾斜容器，且 n 的值至少为 2。\n",
    "\n",
    "\n",
    "\n",
    "图中垂直线代表输入数组 [1,8,6,2,5,4,8,3,7]。在此情况下，容器能够容纳水（表示为蓝色部分）的最大值为 49。\n",
    "\n",
    " \n",
    "\n",
    "示例:\n",
    "\n",
    "输入: [1,8,6,2,5,4,8,3,7]\n",
    "输出: 49"
   ]
  },
  {
   "cell_type": "code",
   "execution_count": 94,
   "metadata": {
    "collapsed": true
   },
   "outputs": [],
   "source": [
    "# O（n²） 想提前剪枝优化复杂度，但还是TLE，因为本质上还是brute force，错得不冤枉\n",
    "# 优化思路：先排序，优先考虑height高的，然后计算该组bar的容量，如果大于ret，则修改ret\n",
    "# 另外idx_diff_max 是用来提前剪枝的：如果当前的height*idx_diff_max< ret，则break\n",
    "from collections import namedtuple\n",
    "class Solution:\n",
    "    def maxArea(self, height):\n",
    "        \"\"\"\n",
    "        :type height: List[int]\n",
    "        :rtype: int\n",
    "        \"\"\"\n",
    "        Height = namedtuple(\"Height\",\"h idx\")\n",
    "        bar = []\n",
    "        for i in range(len(height)):\n",
    "            bar.append(Height(height[i],i))\n",
    "        bar = sorted(bar,key=lambda s:s.h,reverse=True)\n",
    "#         print(bar)\n",
    "        ret = 0\n",
    "        idx_diff_max = len(bar)-1\n",
    "        for i in range(len(bar)-1):  \n",
    "            \n",
    "            if(bar[i].h==0):\n",
    "                continue\n",
    "            if(idx_diff_max *bar[i].h<=ret):\n",
    "                break\n",
    "            print(\"i:\",i)\n",
    "            for j in range(i+1,len(bar)):\n",
    "                \n",
    "                if(idx_diff_max*bar[j].h<=ret):\n",
    "                    break\n",
    "                tmp = bar[j].h * abs(bar[i].idx-bar[j].idx)\n",
    "#                 tmp_idx = set([k for k in range(len(bar))]) - set([bar[j].idx])\n",
    "                print(i,j,tmp,tmp_idx)\n",
    "#                 idx_diff_max = max(tmp_idx) - min(tmp_idx)\n",
    "                ret = ret>tmp and ret or tmp\n",
    "        return ret"
   ]
  },
  {
   "cell_type": "code",
   "execution_count": 86,
   "metadata": {
    "collapsed": true
   },
   "outputs": [],
   "source": [
    "sol = Solution()"
   ]
  },
  {
   "cell_type": "code",
   "execution_count": 87,
   "metadata": {},
   "outputs": [
    {
     "name": "stdout",
     "output_type": "stream",
     "text": [
      "i: 0\n",
      "0 1 1 {1, 2}\n"
     ]
    },
    {
     "data": {
      "text/plain": [
       "1"
      ]
     },
     "execution_count": 87,
     "metadata": {},
     "output_type": "execute_result"
    }
   ],
   "source": [
    "sol.maxArea([1,2,1])"
   ]
  },
  {
   "cell_type": "code",
   "execution_count": 95,
   "metadata": {
    "collapsed": true
   },
   "outputs": [],
   "source": [
    "# O(n)\n",
    "class Solution:\n",
    "    def maxArea(self, height):\n",
    "        \"\"\"\n",
    "        :type height: List[int]\n",
    "        :rtype: int\n",
    "        \"\"\"\n",
    "        i,j = 0,len(height)-1\n",
    "        ret = 0\n",
    "        while(i<j):\n",
    "            \n",
    "            if(min(height[i],height[j])*(j-i)>ret):\n",
    "                ret = min(height[i],height[j])*(j-i)\n",
    "            if(height[i]<height[j]):\n",
    "                i+=1\n",
    "            else:\n",
    "                j-=1\n",
    "        return ret"
   ]
  },
  {
   "cell_type": "code",
   "execution_count": 96,
   "metadata": {},
   "outputs": [
    {
     "data": {
      "text/plain": [
       "6"
      ]
     },
     "execution_count": 96,
     "metadata": {},
     "output_type": "execute_result"
    }
   ],
   "source": [
    "sol = Solution()\n",
    "sol.maxArea([1,6,1,3])"
   ]
  },
  {
   "cell_type": "code",
   "execution_count": null,
   "metadata": {
    "collapsed": true
   },
   "outputs": [],
   "source": []
  }
 ],
 "metadata": {
  "kernelspec": {
   "display_name": "Python 3",
   "language": "python",
   "name": "python3"
  },
  "language_info": {
   "codemirror_mode": {
    "name": "ipython",
    "version": 3
   },
   "file_extension": ".py",
   "mimetype": "text/x-python",
   "name": "python",
   "nbconvert_exporter": "python",
   "pygments_lexer": "ipython3",
   "version": "3.6.1"
  }
 },
 "nbformat": 4,
 "nbformat_minor": 2
}
