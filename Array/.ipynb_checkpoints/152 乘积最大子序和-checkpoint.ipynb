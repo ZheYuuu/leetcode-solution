{
 "cells": [
  {
   "cell_type": "code",
   "execution_count": null,
   "metadata": {
    "collapsed": true
   },
   "outputs": [],
   "source": [
    "class Solution(object):\n",
    "    def maxProduct(self, nums):\n",
    "        \"\"\"\n",
    "        :type nums: List[int]\n",
    "        :rtype: int\n",
    "        \"\"\"\n",
    "        min_local = nums[0]\n",
    "        max_local = nums[0]\n",
    "        max_global = nums[0]\n",
    "        for i in range(1,len(nums)):\n",
    "            tmp = max_local\n",
    "            max_local = max(max_local*nums[i],min_local*nums[i],nums[i])\n",
    "            min_local = min(tmp*nums[i],min_local*nums[i],nums[i])\n",
    "            if(max_local>max_global):\n",
    "                max_global = max_local\n",
    "        return max_global"
   ]
  }
 ],
 "metadata": {
  "kernelspec": {
   "display_name": "Python 3",
   "language": "python",
   "name": "python3"
  },
  "language_info": {
   "codemirror_mode": {
    "name": "ipython",
    "version": 3
   },
   "file_extension": ".py",
   "mimetype": "text/x-python",
   "name": "python",
   "nbconvert_exporter": "python",
   "pygments_lexer": "ipython3",
   "version": "3.6.1"
  }
 },
 "nbformat": 4,
 "nbformat_minor": 2
}
