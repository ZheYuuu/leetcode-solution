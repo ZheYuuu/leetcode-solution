{
 "cells": [
  {
   "cell_type": "code",
   "execution_count": 73,
   "metadata": {
    "collapsed": true
   },
   "outputs": [],
   "source": [
    "# 贪心 每次排n+1个，权值大的优先排\n",
    "class Solution(object):\n",
    "    def leastInterval(self, tasks, n):\n",
    "        \"\"\"\n",
    "        :type tasks: List[str]\n",
    "        :type n: int\n",
    "        :rtype: int\n",
    "        \"\"\"\n",
    "        dic = dict()\n",
    "        for task in tasks:\n",
    "            if task not in dic:\n",
    "                dic[task] = 1\n",
    "            else:\n",
    "                dic[task] += 1\n",
    "        cnt_sorted = sorted(dic.values(),reverse=True)\n",
    "        cnt_sum = sum(cnt_sorted)\n",
    "        res,cnt = 0,0\n",
    "#         print(cnt_sorted)\n",
    "        \n",
    "        while(cnt_sum>0):\n",
    "            cnt = 0\n",
    "            for i in range(len(cnt_sorted)):\n",
    "                if(cnt_sorted[i]>0):\n",
    "                    cnt += 1\n",
    "                    cnt_sorted[i] -= 1\n",
    "                    cnt_sum -= 1\n",
    "                    test.append(i)\n",
    "                if(cnt==n+1):\n",
    "                    cnt_sorted.sort(reverse=True)\n",
    "                    break\n",
    "            if(cnt_sum == 0):\n",
    "#                 print(test)\n",
    "                return res+cnt\n",
    "            res += n+1"
   ]
  },
  {
   "cell_type": "code",
   "execution_count": null,
   "metadata": {
    "collapsed": true
   },
   "outputs": [],
   "source": [
    "sol = Solution()"
   ]
  },
  {
   "cell_type": "code",
   "execution_count": 81,
   "metadata": {},
   "outputs": [
    {
     "name": "stdout",
     "output_type": "stream",
     "text": [
      "1000\n"
     ]
    }
   ],
   "source": [
    "tasks = [\"G\",\"C\",\"A\",\"H\",\"A\",\"G\",\"G\",\"F\",\"G\",\"J\",\"H\",\"C\",\"A\",\"G\",\"E\",\"A\",\"H\",\"E\",\"F\",\"D\",\"B\",\"D\",\"H\",\"H\",\"E\",\"G\",\"F\",\"B\",\"C\",\"G\",\"F\",\"H\",\"J\",\"F\",\"A\",\"C\",\"G\",\"D\",\"I\",\"J\",\"A\",\"G\",\"D\",\"F\",\"B\",\"F\",\"H\",\"I\",\"G\",\"J\",\"G\",\"H\",\"F\",\"E\",\"H\",\"J\",\"C\",\"E\",\"H\",\"F\",\"C\",\"E\",\"F\",\"H\",\"H\",\"I\",\"G\",\"A\",\"G\",\"D\",\"C\",\"B\",\"I\",\"D\",\"B\",\"C\",\"J\",\"I\",\"B\",\"G\",\"C\",\"H\",\"D\",\"I\",\"A\",\"B\",\"A\",\"J\",\"C\",\"E\",\"B\",\"F\",\"B\",\"J\",\"J\",\"D\",\"D\",\"H\",\"I\",\"I\",\"B\",\"A\",\"E\",\"H\",\"J\",\"J\",\"A\",\"J\",\"E\",\"H\",\"G\",\"B\",\"F\",\"C\",\"H\",\"C\",\"B\",\"J\",\"B\",\"A\",\"H\",\"B\",\"D\",\"I\",\"F\",\"A\",\"E\",\"J\",\"H\",\"C\",\"E\",\"G\",\"F\",\"G\",\"B\",\"G\",\"C\",\"G\",\"A\",\"H\",\"E\",\"F\",\"H\",\"F\",\"C\",\"G\",\"B\",\"I\",\"E\",\"B\",\"J\",\"D\",\"B\",\"B\",\"G\",\"C\",\"A\",\"J\",\"B\",\"J\",\"J\",\"F\",\"J\",\"C\",\"A\",\"G\",\"J\",\"E\",\"G\",\"J\",\"C\",\"D\",\"D\",\"A\",\"I\",\"A\",\"J\",\"F\",\"H\",\"J\",\"D\",\"D\",\"D\",\"C\",\"E\",\"D\",\"D\",\"F\",\"B\",\"A\",\"J\",\"D\",\"I\",\"H\",\"B\",\"A\",\"F\",\"E\",\"B\",\"J\",\"A\",\"H\",\"D\",\"E\",\"I\",\"B\",\"H\",\"C\",\"C\",\"C\",\"G\",\"C\",\"B\",\"E\",\"A\",\"G\",\"H\",\"H\",\"A\",\"I\",\"A\",\"B\",\"A\",\"D\",\"A\",\"I\",\"E\",\"C\",\"C\",\"D\",\"A\",\"B\",\"H\",\"D\",\"E\",\"C\",\"A\",\"H\",\"B\",\"I\",\"A\",\"B\",\"E\",\"H\",\"C\",\"B\",\"A\",\"D\",\"H\",\"E\",\"J\",\"B\",\"J\",\"A\",\"B\",\"G\",\"J\",\"J\",\"F\",\"F\",\"H\",\"I\",\"A\",\"H\",\"F\",\"C\",\"H\",\"D\",\"H\",\"C\",\"C\",\"E\",\"I\",\"G\",\"J\",\"H\",\"D\",\"E\",\"I\",\"J\",\"C\",\"C\",\"H\",\"J\",\"C\",\"G\",\"I\",\"E\",\"D\",\"E\",\"H\",\"J\",\"A\",\"H\",\"D\",\"A\",\"B\",\"F\",\"I\",\"F\",\"J\",\"J\",\"H\",\"D\",\"I\",\"C\",\"G\",\"J\",\"C\",\"C\",\"D\",\"B\",\"E\",\"B\",\"E\",\"B\",\"G\",\"B\",\"A\",\"C\",\"F\",\"E\",\"H\",\"B\",\"D\",\"C\",\"H\",\"F\",\"A\",\"I\",\"A\",\"E\",\"J\",\"F\",\"A\",\"E\",\"B\",\"I\",\"G\",\"H\",\"D\",\"B\",\"F\",\"D\",\"B\",\"I\",\"B\",\"E\",\"D\",\"I\",\"D\",\"F\",\"A\",\"E\",\"H\",\"B\",\"I\",\"G\",\"F\",\"D\",\"E\",\"B\",\"E\",\"C\",\"C\",\"C\",\"J\",\"J\",\"C\",\"H\",\"I\",\"B\",\"H\",\"F\",\"H\",\"F\",\"D\",\"J\",\"D\",\"D\",\"H\",\"H\",\"C\",\"D\",\"A\",\"J\",\"D\",\"F\",\"D\",\"G\",\"B\",\"I\",\"F\",\"J\",\"J\",\"C\",\"C\",\"I\",\"F\",\"G\",\"F\",\"C\",\"E\",\"G\",\"E\",\"F\",\"D\",\"A\",\"I\",\"I\",\"H\",\"G\",\"H\",\"H\",\"A\",\"J\",\"D\",\"J\",\"G\",\"F\",\"G\",\"E\",\"E\",\"A\",\"H\",\"B\",\"G\",\"A\",\"J\",\"J\",\"E\",\"I\",\"H\",\"A\",\"G\",\"E\",\"C\",\"D\",\"I\",\"B\",\"E\",\"A\",\"G\",\"A\",\"C\",\"E\",\"B\",\"J\",\"C\",\"B\",\"A\",\"D\",\"J\",\"E\",\"J\",\"I\",\"F\",\"F\",\"C\",\"B\",\"I\",\"H\",\"C\",\"F\",\"B\",\"C\",\"G\",\"D\",\"A\",\"A\",\"B\",\"F\",\"C\",\"D\",\"B\",\"I\",\"I\",\"H\",\"H\",\"J\",\"A\",\"F\",\"J\",\"F\",\"J\",\"F\",\"H\",\"G\",\"F\",\"D\",\"J\",\"G\",\"I\",\"E\",\"B\",\"C\",\"G\",\"I\",\"F\",\"F\",\"J\",\"H\",\"H\",\"G\",\"A\",\"A\",\"J\",\"C\",\"G\",\"F\",\"B\",\"A\",\"A\",\"E\",\"E\",\"A\",\"E\",\"I\",\"G\",\"F\",\"D\",\"B\",\"I\",\"F\",\"A\",\"B\",\"J\",\"F\",\"F\",\"J\",\"B\",\"F\",\"J\",\"F\",\"J\",\"F\",\"I\",\"E\",\"J\",\"H\",\"D\",\"G\",\"G\",\"D\",\"F\",\"G\",\"B\",\"J\",\"F\",\"J\",\"A\",\"J\",\"E\",\"G\",\"H\",\"I\",\"E\",\"G\",\"D\",\"I\",\"B\",\"D\",\"J\",\"A\",\"A\",\"G\",\"A\",\"I\",\"I\",\"A\",\"A\",\"I\",\"I\",\"H\",\"E\",\"C\",\"A\",\"G\",\"I\",\"F\",\"F\",\"C\",\"D\",\"J\",\"J\",\"I\",\"A\",\"A\",\"F\",\"C\",\"J\",\"G\",\"C\",\"C\",\"H\",\"E\",\"A\",\"H\",\"F\",\"B\",\"J\",\"G\",\"I\",\"A\",\"A\",\"H\",\"G\",\"B\",\"E\",\"G\",\"D\",\"I\",\"C\",\"G\",\"J\",\"C\",\"C\",\"I\",\"H\",\"B\",\"D\",\"J\",\"H\",\"B\",\"J\",\"H\",\"B\",\"F\",\"J\",\"E\",\"J\",\"A\",\"G\",\"H\",\"B\",\"E\",\"H\",\"B\",\"F\",\"F\",\"H\",\"E\",\"B\",\"E\",\"G\",\"H\",\"J\",\"G\",\"J\",\"B\",\"H\",\"C\",\"H\",\"A\",\"A\",\"B\",\"E\",\"I\",\"H\",\"B\",\"I\",\"D\",\"J\",\"J\",\"C\",\"D\",\"G\",\"I\",\"J\",\"G\",\"J\",\"D\",\"F\",\"J\",\"E\",\"F\",\"D\",\"E\",\"B\",\"D\",\"B\",\"C\",\"B\",\"B\",\"C\",\"C\",\"I\",\"F\",\"D\",\"E\",\"I\",\"G\",\"G\",\"I\",\"B\",\"H\",\"G\",\"J\",\"A\",\"A\",\"H\",\"I\",\"I\",\"H\",\"A\",\"I\",\"F\",\"C\",\"D\",\"A\",\"C\",\"G\",\"E\",\"G\",\"E\",\"E\",\"H\",\"D\",\"C\",\"G\",\"D\",\"I\",\"A\",\"G\",\"G\",\"D\",\"A\",\"H\",\"H\",\"I\",\"F\",\"E\",\"I\",\"A\",\"D\",\"H\",\"B\",\"B\",\"G\",\"I\",\"C\",\"G\",\"B\",\"I\",\"I\",\"D\",\"F\",\"F\",\"C\",\"C\",\"A\",\"I\",\"E\",\"A\",\"E\",\"J\",\"A\",\"H\",\"C\",\"D\",\"A\",\"C\",\"B\",\"G\",\"H\",\"G\",\"J\",\"G\",\"I\",\"H\",\"B\",\"A\",\"C\",\"H\",\"I\",\"D\",\"D\",\"C\",\"F\",\"G\",\"B\",\"H\",\"E\",\"B\",\"B\",\"H\",\"C\",\"B\",\"G\",\"G\",\"C\",\"F\",\"B\",\"E\",\"J\",\"B\",\"B\",\"I\",\"D\",\"H\",\"D\",\"I\",\"I\",\"A\",\"A\",\"H\",\"G\",\"F\",\"B\",\"J\",\"F\",\"D\",\"E\",\"G\",\"F\",\"A\",\"G\",\"G\",\"D\",\"A\",\"B\",\"B\",\"B\",\"J\",\"A\",\"F\",\"H\",\"H\",\"D\",\"C\",\"J\",\"I\",\"A\",\"H\",\"G\",\"C\",\"J\",\"I\",\"F\",\"J\",\"C\",\"A\",\"E\",\"C\",\"H\",\"J\",\"H\",\"H\",\"F\",\"G\",\"E\",\"A\",\"C\",\"F\",\"J\",\"H\",\"D\",\"G\",\"G\",\"D\",\"D\",\"C\",\"B\",\"H\",\"B\",\"C\",\"E\",\"F\",\"B\",\"D\",\"J\",\"H\",\"J\",\"J\",\"J\",\"A\",\"F\",\"F\",\"D\",\"E\",\"F\",\"C\",\"I\",\"B\",\"H\",\"H\",\"D\",\"E\",\"A\",\"I\",\"A\",\"B\",\"F\",\"G\",\"F\",\"F\",\"I\",\"E\",\"E\",\"G\",\"A\",\"I\",\"D\",\"F\",\"C\",\"H\",\"E\",\"C\",\"G\",\"H\",\"F\",\"F\",\"H\",\"J\",\"H\",\"G\",\"A\",\"E\",\"H\",\"B\",\"G\",\"G\",\"D\",\"D\",\"D\",\"F\",\"I\",\"A\",\"F\",\"F\",\"D\",\"E\",\"H\",\"J\",\"E\",\"D\",\"D\",\"A\",\"J\",\"F\",\"E\",\"E\",\"E\",\"F\",\"I\",\"D\",\"A\",\"F\",\"F\",\"J\",\"E\",\"I\",\"J\",\"D\",\"D\",\"G\",\"A\",\"C\",\"G\",\"G\",\"I\",\"E\",\"G\",\"E\",\"H\",\"E\",\"D\",\"E\",\"J\",\"B\",\"G\",\"I\",\"J\",\"C\",\"H\",\"C\",\"C\",\"A\",\"A\",\"B\",\"C\",\"G\",\"B\",\"D\",\"I\",\"D\",\"E\",\"H\",\"J\",\"J\",\"B\",\"F\",\"E\",\"J\",\"H\",\"H\",\"I\",\"G\",\"B\",\"D\"]\n",
    "# tasks = [\"A\",\"A\",\"A\",\"A\",\"B\",\"B\",\"B\",\"C\"]\n",
    "# tasks = [\"A\",\"A\",\"A\",\"B\",\"B\",\"B\"]\n",
    "n = 2\n",
    "print(len(tasks))"
   ]
  },
  {
   "cell_type": "code",
   "execution_count": 78,
   "metadata": {},
   "outputs": [
    {
     "data": {
      "text/plain": [
       "8"
      ]
     },
     "execution_count": 78,
     "metadata": {},
     "output_type": "execute_result"
    }
   ],
   "source": [
    "sol.leastInterval(tasks,n)"
   ]
  },
  {
   "cell_type": "code",
   "execution_count": 18,
   "metadata": {
    "collapsed": true
   },
   "outputs": [],
   "source": [
    "# 贪心 用heap实现优先队列做的\n",
    "class Solution(object):\n",
    "    def leastInterval(self, tasks, n):\n",
    "        ans = 0\n",
    "        dic = collections.Counter(tasks)\n",
    "        heap = [-val for val in dic.values()]\n",
    "        heapq.heapify(heap)\n",
    "        while(heap):\n",
    "            stack = []\n",
    "            cnt = 0\n",
    "            for _ in range(n+1):\n",
    "                if heap:\n",
    "                    tmp = heapq.heappop(heap)\n",
    "                    cnt += 1\n",
    "                    tmp += 1\n",
    "                    if(tmp<=-1):\n",
    "                        stack.append(tmp)\n",
    "            for item in stack:\n",
    "                heapq.heappush(heap,item)\n",
    "            ans += heap and n+1 or cnt\n",
    "        return ans\n",
    "                        \n",
    "                        \n",
    "            "
   ]
  },
  {
   "cell_type": "code",
   "execution_count": 23,
   "metadata": {},
   "outputs": [
    {
     "data": {
      "text/plain": [
       "8"
      ]
     },
     "execution_count": 23,
     "metadata": {},
     "output_type": "execute_result"
    }
   ],
   "source": [
    "# 数学：找出 权值最大的任务m，以该任务设置n+1的interval，共计cnt(n)-1个（最后一个不管） 将剩下的任务依权值大小填充至interval中。 \n",
    "# 如果interval不够用，说明就是所需时间就是任务总数\n",
    "class Solution(object):\n",
    "    def leastInterval(self, tasks, n):\n",
    "        ans = 0\n",
    "        dic = collections.Counter(tasks)\n",
    "        counts = dic.values()\n",
    "        max_task = max(counts)\n",
    "        ans = (max_task-1)*(n+1)\n",
    "        for count in counts:\n",
    "            ans += count==max_task and 1 or 0\n",
    "        return max(ans,len(tasks))\n",
    "        "
   ]
  },
  {
   "cell_type": "code",
   "execution_count": null,
   "metadata": {
    "collapsed": true
   },
   "outputs": [],
   "source": []
  }
 ],
 "metadata": {
  "kernelspec": {
   "display_name": "Python 3",
   "language": "python",
   "name": "python3"
  },
  "language_info": {
   "codemirror_mode": {
    "name": "ipython",
    "version": 3
   },
   "file_extension": ".py",
   "mimetype": "text/x-python",
   "name": "python",
   "nbconvert_exporter": "python",
   "pygments_lexer": "ipython3",
   "version": "3.6.1"
  }
 },
 "nbformat": 4,
 "nbformat_minor": 2
}
