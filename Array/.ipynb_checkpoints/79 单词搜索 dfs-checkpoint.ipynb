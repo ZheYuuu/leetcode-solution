{
 "cells": [
  {
   "cell_type": "markdown",
   "metadata": {},
   "source": [
    "给定一个二维网格和一个单词，找出该单词是否存在于网格中。\n",
    "\n",
    "单词必须按照字母顺序，通过相邻的单元格内的字母构成，其中“相邻”单元格是那些水平相邻或垂直相邻的单元格。同一个单元格内的字母不允许被重复使用。\n",
    "\n",
    "示例:\n",
    "\n",
    "board =\n",
    "[\n",
    "  ['A','B','C','E'],\n",
    "  ['S','F','C','S'],\n",
    "  ['A','D','E','E']\n",
    "]\n",
    "\n",
    "给定 word = \"ABCCED\", 返回 true.\n",
    "给定 word = \"SEE\", 返回 true.\n",
    "给定 word = \"ABCB\", 返回 false."
   ]
  },
  {
   "cell_type": "code",
   "execution_count": 1,
   "metadata": {
    "collapsed": true
   },
   "outputs": [],
   "source": [
    "class Solution:\n",
    "    def exist(self, board, word):\n",
    "        \"\"\"\n",
    "        :type board: List[List[str]]\n",
    "        :type word: str\n",
    "        :rtype: bool\n",
    "        \"\"\"\n",
    "        starts = []\n",
    "        self.directions = [[0,1],[1,0],[-1,0],[0,-1]]\n",
    "        self.flag = False\n",
    "        self.vis = [[0 for _ in board[0]] for _ in board]\n",
    "        for i in range(len(board)):\n",
    "            for j in range(len(board[0])):\n",
    "                if(board[i][j]==word[0]):\n",
    "                    starts.append((i,j))\n",
    "        for start in starts:\n",
    "            # print(board[start[0]][start[1]])\n",
    "            self.vis[start[0]][start[1]] = 1\n",
    "            self.dfs(board,start,0,word)\n",
    "            self.vis[start[0]][start[1]] = 0\n",
    "        return self.flag\n",
    "    \n",
    "    def dfs(self, board, pos, idx, word):\n",
    "        if(self.flag):\n",
    "            return \n",
    "        r,c = pos[0],pos[1]\n",
    "        # print(board[r][c])\n",
    "        if(idx==len(word)-1):\n",
    "            self.flag = True\n",
    "            return\n",
    "        for i in range(4):\n",
    "            tmp_r = r+self.directions[i][0]\n",
    "            tmp_c = c+self.directions[i][1]\n",
    "            if(tmp_r<0 or tmp_r>=len(board) or tmp_c<0 or tmp_c>=len(board[0]) or self. vis[tmp_r][tmp_c]==1):\n",
    "                continue\n",
    "            if(board[tmp_r][tmp_c]==word[idx+1]):\n",
    "                self.vis[tmp_r][tmp_c] = 1\n",
    "                self.dfs(board,(tmp_r,tmp_c),idx+1,word)\n",
    "                self.vis[tmp_r][tmp_c] = 0\n",
    "        return"
   ]
  },
  {
   "cell_type": "code",
   "execution_count": null,
   "metadata": {
    "collapsed": true
   },
   "outputs": [],
   "source": []
  }
 ],
 "metadata": {
  "kernelspec": {
   "display_name": "Python 3",
   "language": "python",
   "name": "python3"
  },
  "language_info": {
   "codemirror_mode": {
    "name": "ipython",
    "version": 3
   },
   "file_extension": ".py",
   "mimetype": "text/x-python",
   "name": "python",
   "nbconvert_exporter": "python",
   "pygments_lexer": "ipython3",
   "version": "3.6.1"
  }
 },
 "nbformat": 4,
 "nbformat_minor": 2
}
