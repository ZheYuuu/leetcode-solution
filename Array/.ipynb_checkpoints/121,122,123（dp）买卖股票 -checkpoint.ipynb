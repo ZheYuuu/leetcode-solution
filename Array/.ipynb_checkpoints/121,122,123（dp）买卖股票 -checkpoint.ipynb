{
 "cells": [
  {
   "cell_type": "code",
   "execution_count": 6,
   "metadata": {
    "collapsed": true
   },
   "outputs": [],
   "source": [
    "class Solution(object):\n",
    "    def maxProfit(self, prices):\n",
    "        \"\"\"\n",
    "        :type prices: List[int]\n",
    "        :rtype: int\n",
    "        \"\"\"\n",
    "        min = 1e6\n",
    "        res = 0\n",
    "        for price in prices:\n",
    "            if(price<min):\n",
    "                min = price\n",
    "                continue\n",
    "            else:\n",
    "                res = price-min if price-min>res else res\n",
    "        return res\n",
    "            "
   ]
  },
  {
   "cell_type": "code",
   "execution_count": 8,
   "metadata": {},
   "outputs": [
    {
     "data": {
      "text/plain": [
       "9999999.0"
      ]
     },
     "execution_count": 8,
     "metadata": {},
     "output_type": "execute_result"
    }
   ],
   "source": [
    "sol = Solution()\n",
    "sol.maxProfit([1,2,3,1e7])"
   ]
  },
  {
   "cell_type": "code",
   "execution_count": 9,
   "metadata": {
    "collapsed": true
   },
   "outputs": [],
   "source": [
    "list = [1,2,3,4,5]"
   ]
  },
  {
   "cell_type": "code",
   "execution_count": 12,
   "metadata": {},
   "outputs": [
    {
     "data": {
      "text/plain": [
       "[1, 2]"
      ]
     },
     "execution_count": 12,
     "metadata": {},
     "output_type": "execute_result"
    }
   ],
   "source": [
    "list[0:2]"
   ]
  },
  {
   "cell_type": "code",
   "execution_count": 15,
   "metadata": {
    "collapsed": true
   },
   "outputs": [],
   "source": [
    "class Solution(object):\n",
    "    def maxProfit(self, prices):\n",
    "        \"\"\"\n",
    "        :type prices: List[int]\n",
    "        :rtype: int\n",
    "        \"\"\"\n",
    "        if(len(prices)==0):\n",
    "            return 0\n",
    "        res,i = 0,0\n",
    "        local_max,local_min = prices[0],prices[0]\n",
    "        while(i<len(prices)-1):\n",
    "            while(i<len(prices)-1 and prices[i]>=prices[i+1]):\n",
    "                i+=1\n",
    "            local_min = prices[i]\n",
    "            while(i<len(prices)-1 and prices[i]<prices[i+1]):\n",
    "                i+=1\n",
    "            local_max = prices[i]\n",
    "            res += local_max - local_min\n",
    "        return res"
   ]
  },
  {
   "cell_type": "code",
   "execution_count": 16,
   "metadata": {},
   "outputs": [
    {
     "data": {
      "text/plain": [
       "0"
      ]
     },
     "execution_count": 16,
     "metadata": {},
     "output_type": "execute_result"
    }
   ],
   "source": [
    "sol = Solution()\n",
    "sol.maxProfit([3,3])"
   ]
  },
  {
   "cell_type": "markdown",
   "metadata": {},
   "source": [
    "\n",
    "给定一个数组，它的第 i 个元素是一支给定的股票在第 i 天的价格。\n",
    "\n",
    "设计一个算法来计算你所能获取的最大利润。你最多可以完成 两笔 交易。\n",
    "\n",
    "注意: 你不能同时参与多笔交易（你必须在再次购买前出售掉之前的股票）。\n",
    "\n",
    "示例 1:\n",
    "\n",
    "输入: [3,3,5,0,0,3,1,4]\n",
    "输出: 6\n",
    "解释: 在第 4 天（股票价格 = 0）的时候买入，在第 6 天（股票价格 = 3）的时候卖出，这笔交易所能获得利润 = 3-0 = 3 。\n",
    "     随后，在第 7 天（股票价格 = 1）的时候买入，在第 8 天 （股票价格 = 4）的时候卖出，这笔交易所能获得利润 = 4-1 = 3 。\n",
    "示例 2:\n",
    "\n",
    "输入: [1,2,3,4,5]\n",
    "输出: 4\n",
    "解释: 在第 1 天（股票价格 = 1）的时候买入，在第 5 天 （股票价格 = 5）的时候卖出, 这笔交易所能获得利润 = 5-1 = 4 。   \n",
    "     注意你不能在第 1 天和第 2 天接连购买股票，之后再将它们卖出。   \n",
    "     因为这样属于同时参与了多笔交易，你必须在再次购买前出售掉之前的股票。\n",
    "示例 3:\n",
    "\n",
    "输入: [7,6,4,3,1] \n",
    "输出: 0 \n",
    "解释: 在这个情况下, 没有交易完成, 所以最大利润为 0。"
   ]
  },
  {
   "cell_type": "markdown",
   "metadata": {},
   "source": [
    "该答案是 k 笔交易的通解，没看懂\n",
    "https://blog.csdn.net/linhuanmars/article/details/23236995"
   ]
  },
  {
   "cell_type": "code",
   "execution_count": 243,
   "metadata": {
    "collapsed": true
   },
   "outputs": [],
   "source": [
    "# 相当于在prices序列中 选取 i，i前的最大收益+i后的最大收益  即为最终答案\n",
    "# dp[i]：前i天的最大收益\n",
    "class Solution:\n",
    "    \"\"\"\n",
    "    @param prices: Given an integer array\n",
    "    @return: Maximum profit\n",
    "    \"\"\"\n",
    "    def maxProfit(self, prices):\n",
    "        if(len(prices)==0):\n",
    "            return 0\n",
    "        local_min = prices[0]\n",
    "        dp = [0 for _ in range(len(prices))]\n",
    "        for i in range(1,len(prices)):\n",
    "            \n",
    "            dp[i] = max(dp[i-1],prices[i] - local_min)\n",
    "            local_min = min(prices[i],local_min)\n",
    "#             print(local_min)\n",
    "        local_max = prices[-1]\n",
    "#         print(dp)\n",
    "        res = dp[len(prices)-1]\n",
    "        for j in range(len(prices)-1,0,-1):\n",
    "#             print(res,local_max,prices[j],dp[j-1])\n",
    "            res = max(res,local_max-prices[j]+dp[j-1])\n",
    "            local_max = max(prices[j],local_max)\n",
    "        return res"
   ]
  },
  {
   "cell_type": "code",
   "execution_count": 240,
   "metadata": {
    "collapsed": true
   },
   "outputs": [],
   "source": [
    "sol = Solution()"
   ]
  },
  {
   "cell_type": "code",
   "execution_count": 241,
   "metadata": {},
   "outputs": [
    {
     "name": "stdout",
     "output_type": "stream",
     "text": [
      "[0, 0, 2, 2, 2, 3, 3, 4]\n",
      "4 4 4 3\n",
      "4 4 1 3\n",
      "6 4 3 2\n",
      "6 4 0 2\n",
      "6 4 0 2\n",
      "6 4 5 0\n",
      "6 5 3 0\n"
     ]
    },
    {
     "data": {
      "text/plain": [
       "6"
      ]
     },
     "execution_count": 241,
     "metadata": {},
     "output_type": "execute_result"
    }
   ],
   "source": [
    "sol.maxProfit([3,3,5,0,0,3,1,4])"
   ]
  },
  {
   "cell_type": "code",
   "execution_count": 242,
   "metadata": {},
   "outputs": [
    {
     "name": "stdout",
     "output_type": "stream",
     "text": [
      "[0, 1, 2, 3, 4]\n",
      "4 5 5 3\n",
      "4 5 4 2\n",
      "4 5 3 1\n",
      "4 5 2 0\n"
     ]
    },
    {
     "data": {
      "text/plain": [
       "4"
      ]
     },
     "execution_count": 242,
     "metadata": {},
     "output_type": "execute_result"
    }
   ],
   "source": [
    "sol.maxProfit([1,2,3,4,5])"
   ]
  },
  {
   "cell_type": "code",
   "execution_count": null,
   "metadata": {
    "collapsed": true
   },
   "outputs": [],
   "source": []
  }
 ],
 "metadata": {
  "kernelspec": {
   "display_name": "Python 3",
   "language": "python",
   "name": "python3"
  },
  "language_info": {
   "codemirror_mode": {
    "name": "ipython",
    "version": 3
   },
   "file_extension": ".py",
   "mimetype": "text/x-python",
   "name": "python",
   "nbconvert_exporter": "python",
   "pygments_lexer": "ipython3",
   "version": "3.6.1"
  }
 },
 "nbformat": 4,
 "nbformat_minor": 2
}
