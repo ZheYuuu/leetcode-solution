{
 "cells": [
  {
   "cell_type": "code",
   "execution_count": 1,
   "metadata": {
    "collapsed": true
   },
   "outputs": [],
   "source": [
    "class Solution:\n",
    "    def maxAreaOfIsland(self, grid):\n",
    "        \"\"\"\n",
    "        :type grid: List[List[int]]\n",
    "        :rtype: int\n",
    "        \"\"\"\n",
    "        \n",
    "        ans = 0\n",
    "        for i in range(len(grid)):\n",
    "            for j in range(len(grid[0])):\n",
    "                if(grid[i][j]!=-1):\n",
    "                    if grid[i][j]==1:\n",
    "                        ans = max(self.bfs(i,j,grid),ans)\n",
    "                    else:\n",
    "                        grid[i][j]==-1\n",
    "        return ans\n",
    "                         \n",
    "    def bfs(self,r,c,grid):\n",
    "        cnt = 1\n",
    "        direction = [[1,0],[0,1],[-1,0],[0,-1]]\n",
    "        q = collections.deque()\n",
    "        grid[r][c] = -1\n",
    "        q.append((r,c))\n",
    "        while(q):\n",
    "            curr = q.popleft()\n",
    "            for i in range(4):\n",
    "                tmp = (curr[0]+direction[i][0],curr[1]+direction[i][1])\n",
    "                if 0<=tmp[0]<len(grid) and 0<=tmp[1]<len(grid[0]) and grid[tmp[0]][tmp[1]]==1:\n",
    "                    grid[tmp[0]][tmp[1]] = -1\n",
    "                    q.append(tmp)\n",
    "                    cnt+=1\n",
    "        return cnt\n",
    "        "
   ]
  },
  {
   "cell_type": "code",
   "execution_count": null,
   "metadata": {
    "collapsed": true
   },
   "outputs": [],
   "source": []
  }
 ],
 "metadata": {
  "kernelspec": {
   "display_name": "Python 3",
   "language": "python",
   "name": "python3"
  },
  "language_info": {
   "codemirror_mode": {
    "name": "ipython",
    "version": 3
   },
   "file_extension": ".py",
   "mimetype": "text/x-python",
   "name": "python",
   "nbconvert_exporter": "python",
   "pygments_lexer": "ipython3",
   "version": "3.6.1"
  }
 },
 "nbformat": 4,
 "nbformat_minor": 2
}
