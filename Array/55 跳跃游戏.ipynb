{
 "cells": [
  {
   "cell_type": "markdown",
   "metadata": {},
   "source": [
    "给定一个非负整数数组，你最初位于数组的第一个位置。\n",
    "\n",
    "数组中的每个元素代表你在该位置可以跳跃的最大长度。\n",
    "\n",
    "判断你是否能够到达最后一个位置。\n",
    "\n",
    "示例 1:\n",
    "\n",
    "输入: [2,3,1,1,4]\n",
    "输出: true\n",
    "解释: 从位置 0 到 1 跳 1 步, 然后跳 3 步到达最后一个位置。\n",
    "示例 2:\n",
    "\n",
    "输入: [3,2,1,0,4]\n",
    "输出: false\n",
    "解释: 无论怎样，你总会到达索引为 3 的位置。但该位置的最大跳跃长度是 0 ， 所以你永远不可能到达最后一个位置。"
   ]
  },
  {
   "cell_type": "code",
   "execution_count": 1,
   "metadata": {
    "collapsed": true
   },
   "outputs": [],
   "source": [
    "# dfs 超时\n",
    "class Solution:\n",
    "    def canJump(self, nums):\n",
    "        \"\"\"\n",
    "        :type nums: List[int]\n",
    "        :rtype: bool\n",
    "        \"\"\"\n",
    "        self.vis = [0 for _ in nums]\n",
    "        self.nums = nums\n",
    "        if(self.dfs(0,nums[0],len(nums)-1,False)):\n",
    "            return True\n",
    "        else:\n",
    "            return False\n",
    "    \n",
    "    def dfs(self,idx, jump_range, target,flag):\n",
    "        \n",
    "        if(idx+jump_range>=target):\n",
    "            flag = True \n",
    "        if(flag):\n",
    "            return flag\n",
    "        self.vis[idx] = 1\n",
    "        # print(idx,jump_range)\n",
    "        for i in range(jump_range,0,-1):\n",
    "            tmp_idx = idx+i\n",
    "            if(tmp_idx<=target and self.vis[tmp_idx]==0):\n",
    "                flag = flag or self.dfs(tmp_idx, self.nums[tmp_idx],target,flag)\n",
    "        return flag"
   ]
  },
  {
   "cell_type": "code",
   "execution_count": 2,
   "metadata": {
    "collapsed": true
   },
   "outputs": [],
   "source": [
    "class Solution:\n",
    "    def canJump(self, nums):\n",
    "        \n",
    "        far = 0\n",
    "        for k, v in enumerate(nums):\n",
    "            far = max(far, k+v)\n",
    "            if far <= k and k != len(nums)-1:\n",
    "                return False\n",
    "        return True"
   ]
  },
  {
   "cell_type": "code",
   "execution_count": null,
   "metadata": {
    "collapsed": true
   },
   "outputs": [],
   "source": []
  }
 ],
 "metadata": {
  "kernelspec": {
   "display_name": "Python 3",
   "language": "python",
   "name": "python3"
  },
  "language_info": {
   "codemirror_mode": {
    "name": "ipython",
    "version": 3
   },
   "file_extension": ".py",
   "mimetype": "text/x-python",
   "name": "python",
   "nbconvert_exporter": "python",
   "pygments_lexer": "ipython3",
   "version": "3.6.1"
  }
 },
 "nbformat": 4,
 "nbformat_minor": 2
}
