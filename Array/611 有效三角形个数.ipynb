{
 "cells": [
  {
   "cell_type": "code",
   "execution_count": 1,
   "metadata": {
    "collapsed": true
   },
   "outputs": [],
   "source": [
    "# O(n^3)\n",
    "class Solution(object):\n",
    "    def triangleNumber(self, nums):\n",
    "        \"\"\"\n",
    "        :type nums: List[int]\n",
    "        :rtype: int\n",
    "        \"\"\"\n",
    "        nums.sort()\n",
    "        ans = 0\n",
    "        while(nums):\n",
    "            if nums[0] == 0:\n",
    "                nums.pop(0)\n",
    "            else:\n",
    "                break\n",
    "        for i in range(len(nums)-2):\n",
    "            for j in range(i+1,len(nums)-1):\n",
    "                if nums[i]+nums[j]>nums[-1]:\n",
    "                    ans += len(nums)-1-j\n",
    "                    continue\n",
    "                for k in range(j+1,len(nums)):\n",
    "                    if(nums[i]+nums[j]<=nums[k]):\n",
    "                        break\n",
    "                    ans += 1       \n",
    "        return ans"
   ]
  },
  {
   "cell_type": "code",
   "execution_count": 23,
   "metadata": {
    "collapsed": true
   },
   "outputs": [],
   "source": [
    "#O(n²) 遍历最大边\n",
    "class Solution(object):\n",
    "    def triangleNumber(self, nums):\n",
    "        \"\"\"\n",
    "        :type nums: List[int]\n",
    "        :rtype: int\n",
    "        \"\"\"\n",
    "        nums.sort(reverse=True)\n",
    "        while(nums):\n",
    "            if not nums[-1]:\n",
    "                nums.pop()\n",
    "            else:\n",
    "                break\n",
    "        ans = 0\n",
    "        for i in range(len(nums)-2):\n",
    "            l,r = i+1,len(nums)-1\n",
    "            while(l<r):\n",
    "                if(nums[l]+nums[r]>nums[i]):\n",
    "                    ans += r-l\n",
    "                    l += 1\n",
    "                else:\n",
    "                    r -= 1\n",
    "        return ans\n",
    "        "
   ]
  },
  {
   "cell_type": "code",
   "execution_count": 24,
   "metadata": {
    "collapsed": true
   },
   "outputs": [],
   "source": [
    "sol = Solution()"
   ]
  },
  {
   "cell_type": "code",
   "execution_count": 25,
   "metadata": {},
   "outputs": [
    {
     "data": {
      "text/plain": [
       "19"
      ]
     },
     "execution_count": 25,
     "metadata": {},
     "output_type": "execute_result"
    }
   ],
   "source": [
    "sol.triangleNumber([48,66,61,46,94,75])\n",
    "# [46,48,61,66,75,94]"
   ]
  },
  {
   "cell_type": "code",
   "execution_count": 26,
   "metadata": {},
   "outputs": [
    {
     "data": {
      "text/plain": [
       "True"
      ]
     },
     "execution_count": 26,
     "metadata": {},
     "output_type": "execute_result"
    }
   ],
   "source": [
    "0<3<5"
   ]
  },
  {
   "cell_type": "code",
   "execution_count": null,
   "metadata": {
    "collapsed": true
   },
   "outputs": [],
   "source": []
  }
 ],
 "metadata": {
  "kernelspec": {
   "display_name": "Python 3",
   "language": "python",
   "name": "python3"
  },
  "language_info": {
   "codemirror_mode": {
    "name": "ipython",
    "version": 3
   },
   "file_extension": ".py",
   "mimetype": "text/x-python",
   "name": "python",
   "nbconvert_exporter": "python",
   "pygments_lexer": "ipython3",
   "version": "3.6.1"
  }
 },
 "nbformat": 4,
 "nbformat_minor": 2
}
