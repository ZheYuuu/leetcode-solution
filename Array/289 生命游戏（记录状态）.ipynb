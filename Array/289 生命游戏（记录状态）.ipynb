{
 "cells": [
  {
   "cell_type": "code",
   "execution_count": null,
   "metadata": {
    "collapsed": true
   },
   "outputs": [],
   "source": [
    "class Solution(object):\n",
    "    def gameOfLife(self, board):\n",
    "        \"\"\"\n",
    "        :type board: List[List[int]]\n",
    "        :rtype: void Do not return anything, modify board in-place instead.\n",
    "        \"\"\"\n",
    "        m = len(board)\n",
    "        n = len(board[0])\n",
    "        direction = [[1,0],[0,1],[-1,0],[0,-1],[1,1],[-1,-1],[-1,1],[1,-1]]\n",
    "        for i in range(m):\n",
    "            for j in range(n):\n",
    "                r,c = i,j\n",
    "                sum_board = 0\n",
    "                for k in range(8):\n",
    "                    tmp_r = r+direction[k][0]\n",
    "                    tmp_c = c+direction[k][1]\n",
    "                    if(tmp_r>=0 and tmp_r<m and tmp_c>=0 and tmp_c<n):\n",
    "                        if board[tmp_r][tmp_c]==1 or board[tmp_r][tmp_c]==2:\n",
    "                            sum_board +=1\n",
    "                if (sum_board<2 or sum_board>3) and board[i][j]==1:\n",
    "                    board[i][j] = 2\n",
    "                if sum_board==3 and board[i][j]==0:\n",
    "                    board[i][j] = 3\n",
    "        for i in range(m):\n",
    "            for j in range(n):\n",
    "                if(board[i][j]==2):\n",
    "                    board[i][j]=0\n",
    "                if(board[i][j]==3):\n",
    "                    board[i][j]=1"
   ]
  }
 ],
 "metadata": {
  "kernelspec": {
   "display_name": "Python 3",
   "language": "python",
   "name": "python3"
  },
  "language_info": {
   "codemirror_mode": {
    "name": "ipython",
    "version": 3
   },
   "file_extension": ".py",
   "mimetype": "text/x-python",
   "name": "python",
   "nbconvert_exporter": "python",
   "pygments_lexer": "ipython3",
   "version": "3.6.1"
  }
 },
 "nbformat": 4,
 "nbformat_minor": 2
}
