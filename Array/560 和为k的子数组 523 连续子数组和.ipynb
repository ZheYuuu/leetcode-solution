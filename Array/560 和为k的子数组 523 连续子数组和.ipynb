{
 "cells": [
  {
   "cell_type": "code",
   "execution_count": 5,
   "metadata": {
    "collapsed": true
   },
   "outputs": [],
   "source": [
    "# 方案1：最简单的 o(n2)\n",
    "# TLE\n",
    "class Solution(object):\n",
    "    def subarraySum(self, nums, k):\n",
    "        \"\"\"\n",
    "        :type nums: List[int]\n",
    "        :type k: int\n",
    "        :rtype: int\n",
    "        \"\"\"\n",
    "        res = 0\n",
    "        sum_arr = [0 for _ in range(len(nums)+1)]\n",
    "        for i in range(0,len(nums)):\n",
    "            sum_arr[i+1] = sum_arr[i]+nums[i]\n",
    "        for i in range(len(nums)+1):\n",
    "            for j in range(i+1,len(nums)+1):\n",
    "                diff = sum_arr[j] - sum_arr[i]\n",
    "                if(diff==k):\n",
    "                    res += 1\n",
    "        return res"
   ]
  },
  {
   "cell_type": "code",
   "execution_count": 6,
   "metadata": {
    "collapsed": true
   },
   "outputs": [],
   "source": [
    "sol = Solution()"
   ]
  },
  {
   "cell_type": "code",
   "execution_count": 7,
   "metadata": {},
   "outputs": [
    {
     "data": {
      "text/plain": [
       "0"
      ]
     },
     "execution_count": 7,
     "metadata": {},
     "output_type": "execute_result"
    }
   ],
   "source": [
    "sol.subarraySum([1],0)"
   ]
  },
  {
   "cell_type": "code",
   "execution_count": 57,
   "metadata": {
    "collapsed": true
   },
   "outputs": [],
   "source": [
    "\n",
    "# 方案2：求有几个SUM[i, j]=k, 如果知道SUM[0, j]=x，则只需要知道 几个SUM[0, i - 1]=x-k 即可\n",
    "class Solution(object):\n",
    "    def subarraySum(self, nums, k):\n",
    "        \"\"\"\n",
    "        :type nums: List[int]\n",
    "        :type k: int\n",
    "        :rtype: int\n",
    "        \"\"\"\n",
    "        dic = {0:1}\n",
    "        cal,cnt = 0,0\n",
    "        for i in range(len(nums)):\n",
    "            cal += nums[i]\n",
    "            cnt += dic.get(cal-k,0)\n",
    "            dic[cal] = dic.get(cal,0) + 1 \n",
    "        return cnt"
   ]
  },
  {
   "cell_type": "code",
   "execution_count": 58,
   "metadata": {
    "collapsed": true
   },
   "outputs": [],
   "source": [
    "sol = Solution()"
   ]
  },
  {
   "cell_type": "code",
   "execution_count": 63,
   "metadata": {},
   "outputs": [
    {
     "data": {
      "text/plain": [
       "1"
      ]
     },
     "execution_count": 63,
     "metadata": {},
     "output_type": "execute_result"
    }
   ],
   "source": [
    "sol.subarraySum([1],1)"
   ]
  },
  {
   "cell_type": "code",
   "execution_count": 150,
   "metadata": {},
   "outputs": [],
   "source": [
    "class Solution(object):\n",
    "    def checkSubarraySum(self, nums, k):\n",
    "        \"\"\"\n",
    "        :type nums: List[int]\n",
    "        :type k: int\n",
    "        :rtype: bool\n",
    "        \"\"\"\n",
    "        dic = {0:-1}\n",
    "        s = 0\n",
    "        if(k==0):\n",
    "            for i in range(len(nums)-1):\n",
    "                if(nums[i]==0 and nums[i+1]==0):\n",
    "                    return True\n",
    "            return False\n",
    "        cnt = 0\n",
    "        for i in range(len(nums)):            \n",
    "            if(nums[i]==0):\n",
    "                cnt += 1\n",
    "                if cnt>=2:\n",
    "                    return True\n",
    "            else:\n",
    "                cnt = 0\n",
    "            s = (s+nums[i])%k\n",
    "            if s in dic:\n",
    "#                 print(i,dic[s])\n",
    "                if(abs(i-dic[s])>=2):\n",
    "                    return True\n",
    "            else:\n",
    "                dic[s] = i  \n",
    "        return False"
   ]
  },
  {
   "cell_type": "code",
   "execution_count": 151,
   "metadata": {
    "collapsed": true
   },
   "outputs": [],
   "source": [
    "sol = Solution()"
   ]
  },
  {
   "cell_type": "code",
   "execution_count": 152,
   "metadata": {},
   "outputs": [
    {
     "name": "stdout",
     "output_type": "stream",
     "text": [
      "2 0\n"
     ]
    },
    {
     "data": {
      "text/plain": [
       "True"
      ]
     },
     "execution_count": 152,
     "metadata": {},
     "output_type": "execute_result"
    }
   ],
   "source": [
    "sol.checkSubarraySum([23,2,4,6,7],6)"
   ]
  },
  {
   "cell_type": "code",
   "execution_count": 82,
   "metadata": {},
   "outputs": [
    {
     "data": {
      "text/plain": [
       "0"
      ]
     },
     "execution_count": 82,
     "metadata": {},
     "output_type": "execute_result"
    }
   ],
   "source": []
  },
  {
   "cell_type": "code",
   "execution_count": null,
   "metadata": {
    "collapsed": true
   },
   "outputs": [],
   "source": []
  }
 ],
 "metadata": {
  "kernelspec": {
   "display_name": "Python 3",
   "language": "python",
   "name": "python3"
  },
  "language_info": {
   "codemirror_mode": {
    "name": "ipython",
    "version": 3
   },
   "file_extension": ".py",
   "mimetype": "text/x-python",
   "name": "python",
   "nbconvert_exporter": "python",
   "pygments_lexer": "ipython3",
   "version": "3.6.1"
  }
 },
 "nbformat": 4,
 "nbformat_minor": 2
}
