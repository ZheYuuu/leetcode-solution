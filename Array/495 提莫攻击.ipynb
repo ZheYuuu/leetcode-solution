{
 "cells": [
  {
   "cell_type": "code",
   "execution_count": 1,
   "metadata": {
    "collapsed": true
   },
   "outputs": [],
   "source": [
    "class Solution(object):\n",
    "    def findPoisonedDuration(self, timeSeries, duration):\n",
    "        \"\"\"\n",
    "        :type timeSeries: List[int]\n",
    "        :type duration: int\n",
    "        :rtype: int\n",
    "        \"\"\"\n",
    "        res,i = 0,0\n",
    "        while(i<len(timeSeries)-1):\n",
    "            start = timeSeries[i]\n",
    "            while(i<len(timeSeries)-1 and timeSeries[i]+duration>=timeSeries[i+1]):\n",
    "                i+=1\n",
    "            res += timeSeries[i]+duration-start\n",
    "            i+=1\n",
    "        if(i==len(timeSeries)):\n",
    "            return res\n",
    "        else:\n",
    "            return res+duration"
   ]
  },
  {
   "cell_type": "code",
   "execution_count": null,
   "metadata": {
    "collapsed": true
   },
   "outputs": [],
   "source": [
    "class Solution(object):\n",
    "    def findPoisonedDuration(self, timeSeries, duration):\n",
    "        \"\"\"\n",
    "        :type timeSeries: List[int]\n",
    "        :type duration: int\n",
    "        :rtype: int\n",
    "        \"\"\"\n",
    "        end = 0 \n",
    "        res = 0\n",
    "        for t in timeSeries:\n",
    "            res += min(0,t-end) + duration\n",
    "            end = t + duration\n",
    "        return res"
   ]
  }
 ],
 "metadata": {
  "kernelspec": {
   "display_name": "Python 3",
   "language": "python",
   "name": "python3"
  },
  "language_info": {
   "codemirror_mode": {
    "name": "ipython",
    "version": 3
   },
   "file_extension": ".py",
   "mimetype": "text/x-python",
   "name": "python",
   "nbconvert_exporter": "python",
   "pygments_lexer": "ipython3",
   "version": "3.6.1"
  }
 },
 "nbformat": 4,
 "nbformat_minor": 2
}
