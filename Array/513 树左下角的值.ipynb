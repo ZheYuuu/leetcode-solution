{
 "cells": [
  {
   "cell_type": "code",
   "execution_count": null,
   "metadata": {
    "collapsed": true
   },
   "outputs": [],
   "source": [
    "给定一个二叉树，在树的最后一行找到最左边的值。\n",
    "\n",
    "示例 1:\n",
    "\n",
    "输入:\n",
    "\n",
    "    2\n",
    "   / \\\n",
    "  1   3\n",
    "\n",
    "输出:\n",
    "1\n",
    " \n",
    "\n",
    "示例 2:\n",
    "\n",
    "输入:\n",
    "\n",
    "        1\n",
    "       / \\\n",
    "      2   3\n",
    "     /   / \\\n",
    "    4   5   6\n",
    "       /\n",
    "      7\n",
    "\n",
    "输出:\n",
    "7"
   ]
  },
  {
   "cell_type": "code",
   "execution_count": null,
   "metadata": {
    "collapsed": true
   },
   "outputs": [],
   "source": [
    "# Definition for a binary tree node.\n",
    "# class TreeNode(object):\n",
    "#     def __init__(self, x):\n",
    "#         self.val = x\n",
    "#         self.left = None\n",
    "#         self.right = None\n",
    "\n",
    "class Solution(object):\n",
    "    def findBottomLeftValue(self, root):\n",
    "        \"\"\"\n",
    "        :type root: TreeNode\n",
    "        :rtype: int\n",
    "        \"\"\"\n",
    "        if not root:\n",
    "            return None\n",
    "        stack = [root]\n",
    "        ret = None\n",
    "        while(stack):\n",
    "            n = len(stack)\n",
    "            for i in range(n):\n",
    "                node = stack.pop(0)\n",
    "                if not node:\n",
    "                    continue\n",
    "                else:\n",
    "                    if i==0:\n",
    "                        ret = node.val\n",
    "                    if node.left:\n",
    "                        stack.append(node.left)\n",
    "                    if node.right:\n",
    "                        stack.append(node.right)\n",
    "        return ret\n",
    "                \n",
    "        \n",
    "        "
   ]
  }
 ],
 "metadata": {
  "kernelspec": {
   "display_name": "Python 3",
   "language": "python",
   "name": "python3"
  },
  "language_info": {
   "codemirror_mode": {
    "name": "ipython",
    "version": 3
   },
   "file_extension": ".py",
   "mimetype": "text/x-python",
   "name": "python",
   "nbconvert_exporter": "python",
   "pygments_lexer": "ipython3",
   "version": "3.6.1"
  }
 },
 "nbformat": 4,
 "nbformat_minor": 2
}
