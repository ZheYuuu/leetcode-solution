{
 "cells": [
  {
   "cell_type": "code",
   "execution_count": 38,
   "metadata": {
    "collapsed": true
   },
   "outputs": [],
   "source": [
    "#删除重复出现的\n",
    "#sol-1\n",
    "class Solution(object):\n",
    "    def removeDuplicates(self, nums):\n",
    "        \"\"\"\n",
    "        :type nums: List[int]\n",
    "        :rtype: int\n",
    "        \"\"\"\n",
    "        i,cnt=0,0\n",
    "        if nums:\n",
    "            while(i<len(nums)-1):\n",
    "                while(i<len(nums)-1 and nums[i]==nums[i+1]):\n",
    "                    i+=1\n",
    "                if(i==len(nums)-1):\n",
    "                    break\n",
    "                nums[cnt+1] = nums[i+1]\n",
    "                i+=1\n",
    "                cnt+=1\n",
    "            return cnt+1\n",
    "        else:\n",
    "            return 0"
   ]
  },
  {
   "cell_type": "code",
   "execution_count": 39,
   "metadata": {
    "collapsed": true
   },
   "outputs": [],
   "source": [
    "sol = Solution()"
   ]
  },
  {
   "cell_type": "code",
   "execution_count": 40,
   "metadata": {},
   "outputs": [
    {
     "data": {
      "text/plain": [
       "4"
      ]
     },
     "execution_count": 40,
     "metadata": {},
     "output_type": "execute_result"
    }
   ],
   "source": [
    "arr = [1,1,1,1,2,3,4,4]\n",
    "sol.removeDuplicates(arr)"
   ]
  },
  {
   "cell_type": "code",
   "execution_count": 53,
   "metadata": {
    "collapsed": true
   },
   "outputs": [],
   "source": [
    "# sol-2\n",
    "class Solution(object):\n",
    "    def removeDuplicates(self, nums):\n",
    "        \"\"\"\n",
    "        :type nums: List[int]\n",
    "        :rtype: int\n",
    "        \"\"\"\n",
    "        if not nums:\n",
    "            return 0\n",
    "        tmp,index=nums[0],0\n",
    "        for i,v in enumerate(nums):\n",
    "            if tmp==v:\n",
    "                continue\n",
    "            else:\n",
    "                nums[index] = tmp\n",
    "                tmp = v\n",
    "                index += 1\n",
    "        nums[index] = tmp\n",
    "        return index+1"
   ]
  },
  {
   "cell_type": "code",
   "execution_count": 54,
   "metadata": {},
   "outputs": [
    {
     "data": {
      "text/plain": [
       "[1, 2, 3, 4, 5, 5]"
      ]
     },
     "execution_count": 54,
     "metadata": {},
     "output_type": "execute_result"
    }
   ],
   "source": [
    "sol = Solution()\n",
    "arr = [1,1,2,3,4,5]\n",
    "sol.removeDuplicates(arr)\n",
    "arr"
   ]
  },
  {
   "cell_type": "markdown",
   "metadata": {},
   "source": [
    "给定一个排序数组，你需要在原地删除重复出现的元素，使得每个元素最多出现两次，返回移除后数组的新长度。\n",
    "\n",
    "不要使用额外的数组空间，你必须在原地修改输入数组并在使用 O(1) 额外空间的条件下完成。\n",
    "\n",
    "示例 1:\n",
    "\n",
    "给定 nums = [1,1,1,2,2,3],\n",
    "\n",
    "函数应返回新长度 length = 5, 并且原数组的前五个元素被修改为 1, 1, 2, 2, 3 。\n",
    "\n",
    "你不需要考虑数组中超出新长度后面的元素。\n",
    "示例 2:\n",
    "\n",
    "给定 nums = [0,0,1,1,1,1,2,3,3],\n",
    "\n",
    "函数应返回新长度 length = 7, 并且原数组的前五个元素被修改为 0, 0, 1, 1, 2, 3, 3 。\n",
    "\n",
    "你不需要考虑数组中超出新长度后面的元素。"
   ]
  },
  {
   "cell_type": "code",
   "execution_count": 248,
   "metadata": {
    "collapsed": true
   },
   "outputs": [],
   "source": [
    "#删除重复出现两次以上的  >=3\n",
    "# sol-1\n",
    "class Solution(object):\n",
    "    def removeDuplicates(self, nums):\n",
    "        \"\"\"\n",
    "        :type nums: List[int]\n",
    "        :rtype: int\n",
    "        \"\"\"\n",
    "        if not nums:\n",
    "            return 0\n",
    "        i,index = 0,0\n",
    "        while(i<=len(nums)-1):\n",
    "            j = 1\n",
    "            while(i<len(nums)-1 and nums[i]==nums[i+1]):\n",
    "                j+=1\n",
    "                i+=1\n",
    "            if(i==len(nums)-1):\n",
    "                index = index+j if j<=2 else index+2\n",
    "                break\n",
    "            index += 1 if j<2 else 2\n",
    "            i += 1\n",
    "            nums[index:i] = [nums[i] for _ in range(i-index)]\n",
    "            \n",
    "        return index"
   ]
  },
  {
   "cell_type": "code",
   "execution_count": 249,
   "metadata": {
    "collapsed": true
   },
   "outputs": [],
   "source": [
    "sol = Solution()"
   ]
  },
  {
   "cell_type": "code",
   "execution_count": 251,
   "metadata": {},
   "outputs": [
    {
     "data": {
      "text/plain": [
       "[1, 1]"
      ]
     },
     "execution_count": 251,
     "metadata": {},
     "output_type": "execute_result"
    }
   ],
   "source": [
    "arr = [1,1,1,1,1,1]\n",
    "arr[:sol.removeDuplicates(arr)]"
   ]
  },
  {
   "cell_type": "code",
   "execution_count": 259,
   "metadata": {
    "collapsed": true
   },
   "outputs": [],
   "source": [
    "#sol-2\n",
    "class Solution(object):\n",
    "    def removeDuplicates(self,nums):\n",
    "        if(len(nums)<3):\n",
    "            return len(nums)\n",
    "        pos = 2\n",
    "        for i in range(2,len(nums)):\n",
    "            if(nums[i]!=nums[pos-2]):\n",
    "                nums[pos] = nums[i]\n",
    "                pos += 1\n",
    "        return pos"
   ]
  },
  {
   "cell_type": "code",
   "execution_count": 262,
   "metadata": {},
   "outputs": [
    {
     "data": {
      "text/plain": [
       "[1, 1]"
      ]
     },
     "execution_count": 262,
     "metadata": {},
     "output_type": "execute_result"
    }
   ],
   "source": [
    "sol = Solution()\n",
    "arr = [1,1,1,1,1]\n",
    "arr[:sol.removeDuplicates(arr)]"
   ]
  },
  {
   "cell_type": "code",
   "execution_count": 64,
   "metadata": {},
   "outputs": [
    {
     "data": {
      "text/plain": [
       "[1, 7, 7, 2, 2, 3]"
      ]
     },
     "execution_count": 64,
     "metadata": {},
     "output_type": "execute_result"
    }
   ],
   "source": [
    "arr"
   ]
  },
  {
   "cell_type": "code",
   "execution_count": null,
   "metadata": {
    "collapsed": true
   },
   "outputs": [],
   "source": []
  }
 ],
 "metadata": {
  "kernelspec": {
   "display_name": "Python 3",
   "language": "python",
   "name": "python3"
  },
  "language_info": {
   "codemirror_mode": {
    "name": "ipython",
    "version": 3
   },
   "file_extension": ".py",
   "mimetype": "text/x-python",
   "name": "python",
   "nbconvert_exporter": "python",
   "pygments_lexer": "ipython3",
   "version": "3.6.1"
  }
 },
 "nbformat": 4,
 "nbformat_minor": 2
}
