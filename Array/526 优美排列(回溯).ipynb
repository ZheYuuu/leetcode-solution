{
 "cells": [
  {
   "cell_type": "code",
   "execution_count": 144,
   "metadata": {},
   "outputs": [],
   "source": [
    "class Solution:\n",
    "    def countArrangement(self, N):\n",
    "        \"\"\"\n",
    "        :type N: int\n",
    "        :rtype: int\n",
    "        \"\"\"\n",
    "        def dfs(pos, left):\n",
    "#             print(\"-------------------\")\n",
    "            cnt = 0\n",
    "            if(len(left)==0):\n",
    "                return 1\n",
    "            l = [i for i in left.keys()]\n",
    "#             print(pos,l)\n",
    "            for num in l:\n",
    "#                 print(num)\n",
    "                if num%pos==0 or pos%num==0:\n",
    "                    left.pop(num)\n",
    "#                     print(left)\n",
    "                    cnt += dfs(pos+1,left)\n",
    "#                     print(left)\n",
    "                    left[num] = 1\n",
    "            return cnt\n",
    "        d = {}\n",
    "        for num in range(1,N+1):\n",
    "            d[num] = 1\n",
    "        return dfs(1,d)"
   ]
  },
  {
   "cell_type": "code",
   "execution_count": 145,
   "metadata": {
    "collapsed": true
   },
   "outputs": [],
   "source": [
    "sol = Solution() "
   ]
  },
  {
   "cell_type": "code",
   "execution_count": 146,
   "metadata": {},
   "outputs": [
    {
     "data": {
      "text/plain": [
       "24679"
      ]
     },
     "execution_count": 146,
     "metadata": {},
     "output_type": "execute_result"
    }
   ],
   "source": [
    "sol.countArrangement(15)"
   ]
  },
  {
   "cell_type": "code",
   "execution_count": null,
   "metadata": {},
   "outputs": [],
   "source": []
  },
  {
   "cell_type": "code",
   "execution_count": 147,
   "metadata": {},
   "outputs": [],
   "source": [
    "class Solution(object):\n",
    "    def countArrangement(self, N):\n",
    "        def dfs(pos, unused):\n",
    "            if len(unused) == 0:\n",
    "                return 1\n",
    "            ret = 0\n",
    "            for num in list(unused):\n",
    "                if pos % num == 0 or num % pos == 0:\n",
    "                    unused -= {num}\n",
    "                    ret += dfs(pos + 1, unused)\n",
    "                    unused |= {num}\n",
    "            return ret\n",
    "        return dfs(1, set([i for i in range(1, N + 1)]))"
   ]
  },
  {
   "cell_type": "code",
   "execution_count": 148,
   "metadata": {
    "collapsed": true
   },
   "outputs": [],
   "source": [
    "sol = Solution()"
   ]
  },
  {
   "cell_type": "code",
   "execution_count": 149,
   "metadata": {},
   "outputs": [
    {
     "data": {
      "text/plain": [
       "2"
      ]
     },
     "execution_count": 149,
     "metadata": {},
     "output_type": "execute_result"
    }
   ],
   "source": [
    "sol.countArrangement(2)"
   ]
  },
  {
   "cell_type": "code",
   "execution_count": 142,
   "metadata": {
    "collapsed": true
   },
   "outputs": [],
   "source": [
    "class Solution:\n",
    "    def countArrangement(self, N):\n",
    "        \"\"\"\n",
    "        :type N: int\n",
    "        :rtype: int\n",
    "        \"\"\"\n",
    "        cache = dict()\n",
    "        def solve(idx, nums):\n",
    "            if not nums:\n",
    "                return 1\n",
    "            key = idx, tuple(nums)\n",
    "            if key in cache:\n",
    "                return cache[key]\n",
    "            ans = 0\n",
    "            for i, n in enumerate(nums):\n",
    "                if idx % n == 0 or n % idx == 0:\n",
    "                    ans += solve(idx + 1, nums[:i] + nums[i+1:])\n",
    "                cache[key] = ans\n",
    "            return ans\n",
    "        return solve(1, tuple(range(1,N + 1)))"
   ]
  },
  {
   "cell_type": "code",
   "execution_count": 143,
   "metadata": {},
   "outputs": [
    {
     "ename": "NameError",
     "evalue": "name 'dictg' is not defined",
     "output_type": "error",
     "traceback": [
      "\u001b[1;31m---------------------------------------------------------------------------\u001b[0m",
      "\u001b[1;31mNameError\u001b[0m                                 Traceback (most recent call last)",
      "\u001b[1;32m<ipython-input-143-cb5073e3ac59>\u001b[0m in \u001b[0;36m<module>\u001b[1;34m()\u001b[0m\n\u001b[0;32m      1\u001b[0m \u001b[0msol\u001b[0m \u001b[1;33m=\u001b[0m \u001b[0mSolution\u001b[0m\u001b[1;33m(\u001b[0m\u001b[1;33m)\u001b[0m\u001b[1;33m\u001b[0m\u001b[0m\n\u001b[1;32m----> 2\u001b[1;33m \u001b[0msol\u001b[0m\u001b[1;33m.\u001b[0m\u001b[0mcountArrangement\u001b[0m\u001b[1;33m(\u001b[0m\u001b[1;36m3\u001b[0m\u001b[1;33m)\u001b[0m\u001b[1;33m\u001b[0m\u001b[0m\n\u001b[0m",
      "\u001b[1;32m<ipython-input-142-c6ee1d99a306>\u001b[0m in \u001b[0;36mcountArrangement\u001b[1;34m(self, N)\u001b[0m\n\u001b[0;32m      5\u001b[0m         \u001b[1;33m:\u001b[0m\u001b[0mrtype\u001b[0m\u001b[1;33m:\u001b[0m \u001b[0mint\u001b[0m\u001b[1;33m\u001b[0m\u001b[0m\n\u001b[0;32m      6\u001b[0m         \"\"\"\n\u001b[1;32m----> 7\u001b[1;33m         \u001b[0mcache\u001b[0m \u001b[1;33m=\u001b[0m \u001b[0mdictg\u001b[0m\u001b[1;33m(\u001b[0m\u001b[1;33m)\u001b[0m\u001b[1;33m\u001b[0m\u001b[0m\n\u001b[0m\u001b[0;32m      8\u001b[0m         \u001b[1;32mdef\u001b[0m \u001b[0msolve\u001b[0m\u001b[1;33m(\u001b[0m\u001b[0midx\u001b[0m\u001b[1;33m,\u001b[0m \u001b[0mnums\u001b[0m\u001b[1;33m)\u001b[0m\u001b[1;33m:\u001b[0m\u001b[1;33m\u001b[0m\u001b[0m\n\u001b[0;32m      9\u001b[0m             \u001b[1;32mif\u001b[0m \u001b[1;32mnot\u001b[0m \u001b[0mnums\u001b[0m\u001b[1;33m:\u001b[0m\u001b[1;33m\u001b[0m\u001b[0m\n",
      "\u001b[1;31mNameError\u001b[0m: name 'dictg' is not defined"
     ]
    }
   ],
   "source": [
    "sol = Solution()\n",
    "sol.countArrangement(3)"
   ]
  },
  {
   "cell_type": "code",
   "execution_count": null,
   "metadata": {
    "collapsed": true
   },
   "outputs": [],
   "source": [
    "class Solution:\n",
    "    def constructArray(self, n, k):\n",
    "        \"\"\"\n",
    "        :type n: int\n",
    "        :type k: int\n",
    "        :rtype: List[int]\n",
    "        \"\"\"\n",
    "        arr = collections.deque([i for i in range(n,0,-1)])\n",
    "        ans = [arr.popleft()]\n",
    "        i = 0\n",
    "        for i in range(k-1):\n",
    "            if i%2==0:\n",
    "                ans.append(arr.pop())\n",
    "            else:\n",
    "                ans.append(arr.popleft())\n",
    "        if i%2 == 0:\n",
    "            ans.append(arr)\n",
    "        else:\n",
    "            ans.append(arr[::-1])\n",
    "        return ans"
   ]
  }
 ],
 "metadata": {
  "kernelspec": {
   "display_name": "Python 3",
   "language": "python",
   "name": "python3"
  },
  "language_info": {
   "codemirror_mode": {
    "name": "ipython",
    "version": 3
   },
   "file_extension": ".py",
   "mimetype": "text/x-python",
   "name": "python",
   "nbconvert_exporter": "python",
   "pygments_lexer": "ipython3",
   "version": "3.6.1"
  }
 },
 "nbformat": 4,
 "nbformat_minor": 2
}
