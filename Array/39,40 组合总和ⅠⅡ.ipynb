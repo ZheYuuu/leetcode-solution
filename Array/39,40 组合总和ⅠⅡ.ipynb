{
 "cells": [
  {
   "cell_type": "markdown",
   "metadata": {},
   "source": [
    "给定一个无重复元素的数组 candidates 和一个目标数 target ，找出 candidates 中所有可以使数字和为 target 的组合。\n",
    "\n",
    "candidates 中的数字可以无限制重复被选取。\n",
    "\n",
    "说明：\n",
    "\n",
    "所有数字（包括 target）都是正整数。\n",
    "解集不能包含重复的组合。 \n",
    "示例 1:\n",
    "\n",
    "输入: candidates = [2,3,6,7], target = 7,\n",
    "所求解集为:\n",
    "[\n",
    "  [7],\n",
    "  [2,2,3]\n",
    "]\n",
    "示例 2:\n",
    "\n",
    "输入: candidates = [2,3,5], target = 8,\n",
    "所求解集为:\n",
    "[\n",
    "  [2,2,2,2],\n",
    "  [2,3,3],\n",
    "  [3,5]\n",
    "]"
   ]
  },
  {
   "cell_type": "code",
   "execution_count": 37,
   "metadata": {
    "collapsed": true
   },
   "outputs": [],
   "source": [
    "class Solution:\n",
    "    def combinationSum(self, candidates, target):\n",
    "        \"\"\"\n",
    "        :type candidates: List[int]\n",
    "        :type target: int\n",
    "        :rtype: List[List[int]]\n",
    "        \"\"\"\n",
    "        candidates.sort()\n",
    "        self.ret = []\n",
    "        for i in range(len(candidates)):\n",
    "            self.dfs(candidates,target-candidates[i],[candidates[i]],i)\n",
    "        return self.ret\n",
    "    def dfs(self,candidates,target,arr,i):\n",
    "#         print(target,candidates,i)\n",
    "        if(target==0):\n",
    "            # print(arr)\n",
    "#             print(arr)\n",
    "            self.ret.append(arr.copy())\n",
    "            # print(ret)\n",
    "            return\n",
    "        if(target<0):\n",
    "            return\n",
    "        for j in range(i,len(candidates)):\n",
    "            arr.append(candidates[j])\n",
    "            self.dfs(candidates,target-candidates[j],arr,j)\n",
    "            arr.pop()"
   ]
  },
  {
   "cell_type": "code",
   "execution_count": 38,
   "metadata": {},
   "outputs": [],
   "source": [
    "sol = Solution()"
   ]
  },
  {
   "cell_type": "code",
   "execution_count": 39,
   "metadata": {},
   "outputs": [
    {
     "name": "stdout",
     "output_type": "stream",
     "text": [
      "[1, 1, 1, 1, 1, 1, 1, 1]\n",
      "[1, 1, 1, 1, 1, 1, 2]\n",
      "[1, 1, 1, 1, 2, 2]\n",
      "[1, 1, 2, 2, 2]\n",
      "[2, 2, 2, 2]\n"
     ]
    },
    {
     "data": {
      "text/plain": [
       "[[1, 1, 1, 1, 1, 1, 1, 1],\n",
       " [1, 1, 1, 1, 1, 1, 2],\n",
       " [1, 1, 1, 1, 2, 2],\n",
       " [1, 1, 2, 2, 2],\n",
       " [2, 2, 2, 2]]"
      ]
     },
     "execution_count": 39,
     "metadata": {},
     "output_type": "execute_result"
    }
   ],
   "source": [
    "sol.combinationSum([1,2],8)"
   ]
  },
  {
   "cell_type": "code",
   "execution_count": 40,
   "metadata": {},
   "outputs": [
    {
     "name": "stdout",
     "output_type": "stream",
     "text": [
      "[2, 2, 3]\n",
      "[7]\n"
     ]
    },
    {
     "data": {
      "text/plain": [
       "[[2, 2, 3], [7]]"
      ]
     },
     "execution_count": 40,
     "metadata": {},
     "output_type": "execute_result"
    }
   ],
   "source": [
    "sol.combinationSum([2,3,6,7],7)"
   ]
  },
  {
   "cell_type": "markdown",
   "metadata": {},
   "source": [
    "给定一个数组 candidates 和一个目标数 target ，找出 candidates 中所有可以使数字和为 target 的组合。\n",
    "\n",
    "candidates 中的每个数字在每个组合中只能使用一次。\n",
    "\n",
    "说明：\n",
    "\n",
    "所有数字（包括目标数）都是正整数。\n",
    "解集不能包含重复的组合。 \n",
    "示例 1:\n",
    "\n",
    "输入: candidates = [10,1,2,7,6,1,5], target = 8,\n",
    "所求解集为:\n",
    "[\n",
    "  [1, 7],\n",
    "  [1, 2, 5],\n",
    "  [2, 6],\n",
    "  [1, 1, 6]\n",
    "]\n",
    "示例 2:\n",
    "\n",
    "输入: candidates = [2,5,2,1,2], target = 5,\n",
    "所求解集为:\n",
    "[\n",
    "  [1,2,2],\n",
    "  [5]\n",
    "]"
   ]
  },
  {
   "cell_type": "code",
   "execution_count": 44,
   "metadata": {
    "collapsed": true
   },
   "outputs": [],
   "source": [
    "class Solution:\n",
    "    def combinationSum2(self, candidates, target):\n",
    "        \"\"\"\n",
    "        :type candidates: List[int]\n",
    "        :type target: int\n",
    "        :rtype: List[List[int]]\n",
    "        \"\"\"\n",
    "        candidates.sort()\n",
    "        self.ret = dict()\n",
    "        for i in range(len(candidates)):\n",
    "            self.dfs(candidates,target-candidates[i],[candidates[i]],i+1)\n",
    "        return self.ret.values()\n",
    "    def dfs(self,candidates,target,arr,i):\n",
    "        if(target==0):\n",
    "            self.ret[hash(tuple(arr))] = arr.copy()\n",
    "            return\n",
    "        if(target<0 or i==len(candidates)):\n",
    "            return\n",
    "        for j in range(i,len(candidates)):\n",
    "            arr.append(candidates[j])\n",
    "            self.dfs(candidates,target-candidates[j],arr,j+1)\n",
    "            arr.pop()"
   ]
  },
  {
   "cell_type": "code",
   "execution_count": 45,
   "metadata": {
    "collapsed": true
   },
   "outputs": [],
   "source": [
    "sol = Solution()"
   ]
  },
  {
   "cell_type": "code",
   "execution_count": 46,
   "metadata": {},
   "outputs": [
    {
     "data": {
      "text/plain": [
       "dict_values([[1, 1, 6], [1, 2, 5], [1, 7], [2, 6]])"
      ]
     },
     "execution_count": 46,
     "metadata": {},
     "output_type": "execute_result"
    }
   ],
   "source": [
    "sol.combinationSum2([10,7,1,2,6,1,5],8)"
   ]
  },
  {
   "cell_type": "code",
   "execution_count": 47,
   "metadata": {},
   "outputs": [
    {
     "data": {
      "text/plain": [
       "(1, 2, 3)"
      ]
     },
     "execution_count": 47,
     "metadata": {},
     "output_type": "execute_result"
    }
   ],
   "source": [
    "tuple([1,2,3])"
   ]
  },
  {
   "cell_type": "code",
   "execution_count": 85,
   "metadata": {},
   "outputs": [],
   "source": [
    "from collections import deque\n",
    "class Solution:\n",
    "    def combinationSum2(self, candidates, target):\n",
    "        \"\"\"\n",
    "        :type candidates: List[int]\n",
    "        :type target: int\n",
    "        :rtype: List[List[int]]\n",
    "        \"\"\"\n",
    "        candidates.sort()\n",
    "        ret = dict()\n",
    "        stack = deque()\n",
    "        stack.append((-1,list(),target))\n",
    "        while(len(stack)!=0):\n",
    "            pos,arr,remain = stack.popleft()\n",
    "#             print(pos,arr,remain)\n",
    "            if(remain==0):\n",
    "                ret[hash(tuple(arr))] = arr\n",
    "                continue\n",
    "            if(pos==len(candidates) or remain<0):\n",
    "                continue\n",
    "            for i in range(pos+1,len(candidates)):  \n",
    "#                 注意提前剪枝\n",
    "                if(remain<candidates[i]):\n",
    "                    break\n",
    "                stack.append((i,arr+[candidates[i]],remain-candidates[i]))\n",
    "        return list(ret.values())\n",
    "            \n",
    "            \n",
    "                "
   ]
  },
  {
   "cell_type": "code",
   "execution_count": 86,
   "metadata": {},
   "outputs": [
    {
     "data": {
      "text/plain": [
       "[[8], [1, 7], [2, 6], [1, 1, 6], [1, 2, 5], [1, 1, 1, 5]]"
      ]
     },
     "execution_count": 86,
     "metadata": {},
     "output_type": "execute_result"
    }
   ],
   "source": [
    "sol = Solution()\n",
    "sol.combinationSum2([10,7,1,2,6,1,5,1,8],8)"
   ]
  },
  {
   "cell_type": "code",
   "execution_count": 102,
   "metadata": {
    "collapsed": true
   },
   "outputs": [],
   "source": [
    "from collections import deque\n",
    "class Solution:\n",
    "    def combinationSum2(self, candidates, target):\n",
    "        \"\"\"\n",
    "        :type candidates: List[int]\n",
    "        :type target: int\n",
    "        :rtype: List[List[int]]\n",
    "        \"\"\"\n",
    "        candidates.sort()\n",
    "        ret = []\n",
    "        stack = deque()\n",
    "        stack.append((0,list(),target))\n",
    "        while(len(stack)!=0):\n",
    "            pos,arr,remain = stack.popleft()\n",
    "            for i in range(pos,len(candidates)):\n",
    "                if(i>pos and candidates[i]==candidates[i-1]):\n",
    "                    continue\n",
    "                if(remain<candidates[i]):\n",
    "                    break\n",
    "                if(remain==candidates[i]):\n",
    "#                     print(pos,arr+[candidates[i]],remain-candidates[i])\n",
    "                    ret.append(arr+[candidates[i]])\n",
    "                    break\n",
    "                stack.append((i+1,arr+[candidates[i]],remain-candidates[i]))\n",
    "        return ret"
   ]
  },
  {
   "cell_type": "code",
   "execution_count": 103,
   "metadata": {},
   "outputs": [
    {
     "data": {
      "text/plain": [
       "[[8], [1, 7], [2, 6], [1, 1, 6], [1, 2, 5], [1, 1, 1, 5]]"
      ]
     },
     "execution_count": 103,
     "metadata": {},
     "output_type": "execute_result"
    }
   ],
   "source": [
    "sol = Solution()\n",
    "sol.combinationSum2([10,7,1,2,6,1,5,1,8],8)"
   ]
  },
  {
   "cell_type": "code",
   "execution_count": null,
   "metadata": {
    "collapsed": true
   },
   "outputs": [],
   "source": []
  }
 ],
 "metadata": {
  "kernelspec": {
   "display_name": "Python 3",
   "language": "python",
   "name": "python3"
  },
  "language_info": {
   "codemirror_mode": {
    "name": "ipython",
    "version": 3
   },
   "file_extension": ".py",
   "mimetype": "text/x-python",
   "name": "python",
   "nbconvert_exporter": "python",
   "pygments_lexer": "ipython3",
   "version": "3.6.1"
  }
 },
 "nbformat": 4,
 "nbformat_minor": 2
}
