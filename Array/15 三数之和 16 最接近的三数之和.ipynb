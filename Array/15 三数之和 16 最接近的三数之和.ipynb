{
 "cells": [
  {
   "cell_type": "code",
   "execution_count": 21,
   "metadata": {
    "collapsed": true
   },
   "outputs": [],
   "source": [
    "class Solution:\n",
    "    def threeSum(self, nums):\n",
    "        \"\"\"\n",
    "        :type nums: List[int]\n",
    "        :rtype: List[List[int]]\n",
    "        \"\"\"\n",
    "        i,cnt = 0,0\n",
    "        while(i<len(nums)):\n",
    "            if(nums[i]==0):\n",
    "                if(cnt==3):\n",
    "                    nums.pop(i)\n",
    "                else:\n",
    "                    cnt+=1\n",
    "                    i+=1\n",
    "            else:\n",
    "                i+=1\n",
    "        nums.sort()\n",
    "        res = dict()\n",
    "        for i in range(len(nums)-2):\n",
    "            left = i+1\n",
    "            right = len(nums)-1\n",
    "            while(left<right):\n",
    "                cal = nums[i]+nums[left]+nums[right]\n",
    "                if(cal==0):\n",
    "                    res[hash((nums[i],nums[left],nums[right]))] = [nums[i],nums[left],nums[right]]\n",
    "                    left = left+1\n",
    "                elif(cal<0):\n",
    "                    left = left+1\n",
    "                else:\n",
    "                    right = right-1\n",
    "        return list(res.values())\n",
    "        "
   ]
  },
  {
   "cell_type": "code",
   "execution_count": 22,
   "metadata": {
    "collapsed": true
   },
   "outputs": [],
   "source": [
    "sol = Solution()"
   ]
  },
  {
   "cell_type": "code",
   "execution_count": 23,
   "metadata": {},
   "outputs": [
    {
     "data": {
      "text/plain": [
       "[[-1, -1, 2], [-1, 0, 1]]"
      ]
     },
     "execution_count": 23,
     "metadata": {},
     "output_type": "execute_result"
    }
   ],
   "source": [
    "sol.threeSum([-1,1,0,2,-1,-4])"
   ]
  },
  {
   "cell_type": "code",
   "execution_count": null,
   "metadata": {
    "collapsed": true
   },
   "outputs": [],
   "source": [
    "# 最接近的三数之和 类似上题\n",
    "class Solution:\n",
    "    def threeSumClosest(self, nums, target):\n",
    "        \"\"\"\n",
    "        :type nums: List[int]\n",
    "        :type target: int\n",
    "        :rtype: int\n",
    "        \"\"\"\n",
    "        dif = float(\"inf\")\n",
    "        ret = 0\n",
    "        nums.sort()\n",
    "        for i in range(len(nums)-2):\n",
    "            first,last = i+1,len(nums)-1\n",
    "            while(first<last):\n",
    "                tmp = nums[i]+nums[first]+nums[last]\n",
    "                if(dif>=abs(tmp-target)):\n",
    "                    # print(dif,nums[i],nums[first],nums[last])\n",
    "                    dif = abs(tmp-target)\n",
    "                    ret = tmp\n",
    "                if(tmp>target):\n",
    "                    last -= 1\n",
    "                else:\n",
    "                    first += 1\n",
    "        return ret\n",
    "            "
   ]
  }
 ],
 "metadata": {
  "kernelspec": {
   "display_name": "Python 3",
   "language": "python",
   "name": "python3"
  },
  "language_info": {
   "codemirror_mode": {
    "name": "ipython",
    "version": 3
   },
   "file_extension": ".py",
   "mimetype": "text/x-python",
   "name": "python",
   "nbconvert_exporter": "python",
   "pygments_lexer": "ipython3",
   "version": "3.6.1"
  }
 },
 "nbformat": 4,
 "nbformat_minor": 2
}
