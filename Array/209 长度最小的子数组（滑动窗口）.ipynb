{
 "cells": [
  {
   "cell_type": "code",
   "execution_count": 83,
   "metadata": {
    "collapsed": true
   },
   "outputs": [],
   "source": [
    "class Solution(object):\n",
    "    def minSubArrayLen(self, s, nums):\n",
    "        \"\"\"\n",
    "        :type s: int\n",
    "        :type nums: List[int]\n",
    "        :rtype: int\n",
    "        \"\"\"\n",
    "        l,r = 0,0\n",
    "        if(sum(nums)<s):\n",
    "            return 0\n",
    "        res = seq_len = len(nums)\n",
    "        tmp = nums[0]\n",
    "        while(r<=seq_len): \n",
    "            while(r<=seq_len and tmp<s):\n",
    "                r += 1\n",
    "                if(r>=seq_len):break\n",
    "                else:\n",
    "                    tmp += nums[r]\n",
    "            print(l,r,nums[l:r+1])\n",
    "            if(tmp >= s):\n",
    "                res = r-l+1 if r-l+1<res else res\n",
    "                tmp = tmp - nums[l]\n",
    "                l += 1\n",
    "        return res"
   ]
  },
  {
   "cell_type": "code",
   "execution_count": 86,
   "metadata": {},
   "outputs": [
    {
     "name": "stdout",
     "output_type": "stream",
     "text": [
      "0 0 [8]\n",
      "1 4 [2, 3, 1, 2]\n",
      "2 5 [3, 1, 2, 3]\n",
      "3 6 [1, 2, 3, 4]\n",
      "4 6 [2, 3, 4]\n",
      "5 6 [3, 4]\n",
      "6 7 [4]\n",
      "6 8 [4]\n"
     ]
    },
    {
     "data": {
      "text/plain": [
       "1"
      ]
     },
     "execution_count": 86,
     "metadata": {},
     "output_type": "execute_result"
    }
   ],
   "source": [
    "sol = Solution()\n",
    "sol.minSubArrayLen(7,[8,2,3,1,2,3,4])"
   ]
  },
  {
   "cell_type": "code",
   "execution_count": null,
   "metadata": {
    "collapsed": true
   },
   "outputs": [],
   "source": []
  }
 ],
 "metadata": {
  "kernelspec": {
   "display_name": "Python 3",
   "language": "python",
   "name": "python3"
  },
  "language_info": {
   "codemirror_mode": {
    "name": "ipython",
    "version": 3
   },
   "file_extension": ".py",
   "mimetype": "text/x-python",
   "name": "python",
   "nbconvert_exporter": "python",
   "pygments_lexer": "ipython3",
   "version": "3.6.1"
  }
 },
 "nbformat": 4,
 "nbformat_minor": 2
}
