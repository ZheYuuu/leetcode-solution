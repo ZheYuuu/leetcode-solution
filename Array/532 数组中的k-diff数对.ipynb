{
 "cells": [
  {
   "cell_type": "code",
   "execution_count": null,
   "metadata": {
    "collapsed": true
   },
   "outputs": [],
   "source": [
    "class Solution(object):\n",
    "    def findPairs(self, nums, k):\n",
    "        \"\"\"\n",
    "        :type nums: List[int]\n",
    "        :type k: int\n",
    "        :rtype: int\n",
    "        \"\"\"\n",
    "        if(k<0):\n",
    "            return 0\n",
    "        hash_map = {}\n",
    "        for num in nums:\n",
    "            if num not in hash_map:\n",
    "                hash_map[num] = 1\n",
    "            else:\n",
    "                hash_map[num] += 1\n",
    "        res = 0\n",
    "        if(k==0):\n",
    "            for key,val in hash_map.items():\n",
    "                if(val>1):\n",
    "                    res += 1\n",
    "        else:\n",
    "            for key,val in hash_map.items():\n",
    "                if val>1:\n",
    "                    hash_map[key] = 1\n",
    "                if key-k in hash_map and hash_map[key-k]>=1:\n",
    "                    res += 1\n",
    "                    hash_map[key] -= 1\n",
    "                if key+k in hash_map and hash_map[key+k]>=1:\n",
    "                    res +=1\n",
    "                    hash_map[key] -= 1\n",
    "        return res"
   ]
  }
 ],
 "metadata": {
  "kernelspec": {
   "display_name": "Python 3",
   "language": "python",
   "name": "python3"
  },
  "language_info": {
   "codemirror_mode": {
    "name": "ipython",
    "version": 3
   },
   "file_extension": ".py",
   "mimetype": "text/x-python",
   "name": "python",
   "nbconvert_exporter": "python",
   "pygments_lexer": "ipython3",
   "version": "3.6.1"
  }
 },
 "nbformat": 4,
 "nbformat_minor": 2
}
