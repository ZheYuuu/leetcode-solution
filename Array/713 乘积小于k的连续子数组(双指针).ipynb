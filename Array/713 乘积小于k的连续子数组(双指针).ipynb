{
 "cells": [
  {
   "cell_type": "markdown",
   "metadata": {},
   "source": [
    "给定一个正整数数组 nums。\n",
    "\n",
    "找出该数组内乘积小于 k 的连续的子数组的个数。\n",
    "\n",
    "示例 1:\n",
    "\n",
    "输入: nums = [10,5,2,6], k = 100\n",
    "输出: 8\n",
    "解释: 8个乘积小于100的子数组分别为: [10], [5], [2], [6], [10,5], [5,2], [2,6], [5,2,6]。\n",
    "需要注意的是 [10,5,2] 并不是乘积小于100的子数组。\n",
    "说明:\n",
    "\n",
    "0 < nums.length <= 50000\n",
    "0 < nums[i] < 1000\n",
    "0 <= k < 10^6"
   ]
  },
  {
   "cell_type": "code",
   "execution_count": 18,
   "metadata": {
    "collapsed": true
   },
   "outputs": [],
   "source": [
    "class Solution:\n",
    "    def numSubarrayProductLessThanK(self, nums, k):\n",
    "        \"\"\"\n",
    "        :type nums: List[int]\n",
    "        :type k: int\n",
    "        :rtype: int\n",
    "        \"\"\"\n",
    "        left,right = 0,0\n",
    "        ans = 0\n",
    "        while(right<len(nums)):\n",
    "            mul = 1\n",
    "            while(right<len(nums) and mul*nums[right]<k):\n",
    "                mul *= nums[right]\n",
    "                right += 1\n",
    "                ans += 1\n",
    "            left += 1\n",
    "            right = left\n",
    "        return ans"
   ]
  },
  {
   "cell_type": "code",
   "execution_count": 19,
   "metadata": {
    "collapsed": true
   },
   "outputs": [],
   "source": [
    "sol = Solution()"
   ]
  },
  {
   "cell_type": "code",
   "execution_count": 20,
   "metadata": {},
   "outputs": [
    {
     "data": {
      "text/plain": [
       "500500"
      ]
     },
     "execution_count": 20,
     "metadata": {},
     "output_type": "execute_result"
    }
   ],
   "source": [
    "sol.numSubarrayProductLessThanK([1 for _ in range(1000)],5)"
   ]
  },
  {
   "cell_type": "code",
   "execution_count": 15,
   "metadata": {
    "collapsed": true
   },
   "outputs": [],
   "source": [
    "# 双指针要注意以哪一边为基准，比如这一题 以right为基准，每次迭代mul乘nums[right]，如果mul>=k，那说明【left-right】这个区间内的乘积过大，\n",
    "# 又因为是以right为基准，那么缩小left，如果mul<k，那么说明【left-right】合适，以right为基准，就有right-left+1 个子数组满足\n",
    "class Solution:\n",
    "    def numSubarrayProductLessThanK(self, nums, k):\n",
    "        \"\"\"\n",
    "        :type nums: List[int]\n",
    "        :type k: int\n",
    "        :rtype: int\n",
    "        \"\"\"\n",
    "        \n",
    "        left,right = 0,0\n",
    "        mul = 1\n",
    "        ans =0\n",
    "        for right in range(len(nums)):\n",
    "            mul *= nums[right]\n",
    "            while(left<=right and mul>=k):\n",
    "                mul /= nums[left]\n",
    "                left += 1\n",
    "            ans += right-left+1\n",
    "        return ans\n",
    "            "
   ]
  },
  {
   "cell_type": "code",
   "execution_count": 16,
   "metadata": {
    "collapsed": true
   },
   "outputs": [],
   "source": [
    "sol = Solution()"
   ]
  },
  {
   "cell_type": "code",
   "execution_count": 17,
   "metadata": {},
   "outputs": [
    {
     "data": {
      "text/plain": [
       "8"
      ]
     },
     "execution_count": 17,
     "metadata": {},
     "output_type": "execute_result"
    }
   ],
   "source": [
    "sol.numSubarrayProductLessThanK([10,5,2,6],100)"
   ]
  },
  {
   "cell_type": "code",
   "execution_count": 21,
   "metadata": {},
   "outputs": [
    {
     "data": {
      "text/plain": [
       "2"
      ]
     },
     "execution_count": 21,
     "metadata": {},
     "output_type": "execute_result"
    }
   ],
   "source": []
  },
  {
   "cell_type": "code",
   "execution_count": null,
   "metadata": {
    "collapsed": true
   },
   "outputs": [],
   "source": []
  }
 ],
 "metadata": {
  "kernelspec": {
   "display_name": "Python 3",
   "language": "python",
   "name": "python3"
  },
  "language_info": {
   "codemirror_mode": {
    "name": "ipython",
    "version": 3
   },
   "file_extension": ".py",
   "mimetype": "text/x-python",
   "name": "python",
   "nbconvert_exporter": "python",
   "pygments_lexer": "ipython3",
   "version": "3.6.1"
  }
 },
 "nbformat": 4,
 "nbformat_minor": 2
}
