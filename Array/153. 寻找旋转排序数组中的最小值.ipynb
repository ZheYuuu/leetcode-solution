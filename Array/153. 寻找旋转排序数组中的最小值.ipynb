{
 "cells": [
  {
   "cell_type": "markdown",
   "metadata": {},
   "source": [
    "假设按照升序排序的数组在预先未知的某个点上进行了旋转。\n",
    "\n",
    "( 例如，数组 [0,1,2,4,5,6,7] 可能变为 [4,5,6,7,0,1,2] )。\n",
    "\n",
    "请找出其中最小的元素。\n",
    "\n",
    "你可以假设数组中不存在重复元素。\n",
    "\n",
    "示例 1:\n",
    "\n",
    "输入: [3,4,5,1,2]\n",
    "输出: 1\n",
    "示例 2:\n",
    "\n",
    "输入: [4,5,6,7,0,1,2]\n",
    "输出: 0"
   ]
  },
  {
   "cell_type": "code",
   "execution_count": 47,
   "metadata": {
    "collapsed": true
   },
   "outputs": [],
   "source": [
    "class Solution:\n",
    "    def findMin(self, nums):\n",
    "        \"\"\"\n",
    "        :type nums: List[int]\n",
    "        :rtype: int\n",
    "        \"\"\"\n",
    "        first = 0\n",
    "        last = len(nums)-1\n",
    "        while(first<last):\n",
    "            mid = first + (last-first)//2\n",
    "            print(first,mid,last)\n",
    "            if(nums[mid]<nums[last]):\n",
    "                last = mid\n",
    "            if(nums[mid]>nums[last]):\n",
    "                first = mid+1\n",
    "        return nums[first]"
   ]
  },
  {
   "cell_type": "code",
   "execution_count": 48,
   "metadata": {
    "collapsed": true
   },
   "outputs": [],
   "source": [
    "sol = Solution()"
   ]
  },
  {
   "cell_type": "code",
   "execution_count": 49,
   "metadata": {},
   "outputs": [
    {
     "data": {
      "text/plain": [
       "1"
      ]
     },
     "execution_count": 49,
     "metadata": {},
     "output_type": "execute_result"
    }
   ],
   "source": [
    "sol.findMin([1,2,3,4])"
   ]
  },
  {
   "cell_type": "markdown",
   "metadata": {},
   "source": [
    "假设按照升序排序的数组在预先未知的某个点上进行了旋转。\n",
    "\n",
    "( 例如，数组 [0,1,2,4,5,6,7] 可能变为 [4,5,6,7,0,1,2] )。\n",
    "\n",
    "请找出其中最小的元素。\n",
    "\n",
    "注意数组中可能存在重复的元素。\n",
    "\n",
    "示例 1：\n",
    "\n",
    "输入: [1,3,5]\n",
    "输出: 1\n",
    "示例 2：\n",
    "\n",
    "输入: [2,2,2,0,1]\n",
    "输出: 0"
   ]
  },
  {
   "cell_type": "code",
   "execution_count": 84,
   "metadata": {},
   "outputs": [],
   "source": [
    "class Solution:\n",
    "    def findMin(self, nums):\n",
    "        \"\"\"\n",
    "        :type nums: List[int]\n",
    "        :rtype: int\n",
    "        \"\"\"\n",
    "        first = 0\n",
    "        last = len(nums)-1\n",
    "        if(last==-1):\n",
    "            return float(\"inf\")\n",
    "        if(nums[first]<nums[last]):\n",
    "            return nums[first]\n",
    "        while(first<last):\n",
    "            mid = first + (last-first)//2\n",
    "#             print(first,last,mid,nums[mid],nums[last])\n",
    "            if(nums[mid]<nums[last]):\n",
    "                last = mid\n",
    "            elif(nums[mid]>nums[last]):\n",
    "                first = mid+1\n",
    "            else:\n",
    "                return min(self.findMin(nums[0:mid]),self.findMin(nums[mid+1:last+1]))\n",
    "#         print(\"get it!\",nums[first])\n",
    "        return nums[first]"
   ]
  },
  {
   "cell_type": "code",
   "execution_count": 85,
   "metadata": {
    "collapsed": true
   },
   "outputs": [],
   "source": [
    "sol = Solution()"
   ]
  },
  {
   "cell_type": "code",
   "execution_count": 86,
   "metadata": {},
   "outputs": [
    {
     "data": {
      "text/plain": [
       "1"
      ]
     },
     "execution_count": 86,
     "metadata": {},
     "output_type": "execute_result"
    }
   ],
   "source": [
    "sol.findMin([1,3,3])"
   ]
  },
  {
   "cell_type": "code",
   "execution_count": 91,
   "metadata": {},
   "outputs": [
    {
     "name": "stdout",
     "output_type": "stream",
     "text": [
      "0 2 1 2 1\n"
     ]
    },
    {
     "data": {
      "text/plain": [
       "1"
      ]
     },
     "execution_count": 91,
     "metadata": {},
     "output_type": "execute_result"
    }
   ],
   "source": [
    "sol.findMin([3,2,1])"
   ]
  },
  {
   "cell_type": "code",
   "execution_count": 92,
   "metadata": {},
   "outputs": [
    {
     "name": "stdout",
     "output_type": "stream",
     "text": [
      "0 5 2 5 2\n",
      "3 5 4 1 2\n",
      "3 4 3 1 1\n"
     ]
    },
    {
     "data": {
      "text/plain": [
       "1"
      ]
     },
     "execution_count": 92,
     "metadata": {},
     "output_type": "execute_result"
    }
   ],
   "source": [
    "sol.findMin([3,4,5,1,1,2])"
   ]
  },
  {
   "cell_type": "code",
   "execution_count": null,
   "metadata": {
    "collapsed": true
   },
   "outputs": [],
   "source": []
  }
 ],
 "metadata": {
  "kernelspec": {
   "display_name": "Python 3",
   "language": "python",
   "name": "python3"
  },
  "language_info": {
   "codemirror_mode": {
    "name": "ipython",
    "version": 3
   },
   "file_extension": ".py",
   "mimetype": "text/x-python",
   "name": "python",
   "nbconvert_exporter": "python",
   "pygments_lexer": "ipython3",
   "version": "3.6.1"
  }
 },
 "nbformat": 4,
 "nbformat_minor": 2
}
