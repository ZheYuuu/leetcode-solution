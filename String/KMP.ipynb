{
 "cells": [
  {
   "cell_type": "code",
   "execution_count": 54,
   "metadata": {
    "collapsed": true
   },
   "outputs": [],
   "source": [
    "kmp核心为PMT(部分匹配表)\n",
    "以模式字符串abababca为例：\n",
    "\n",
    "char  a b a b a b c a\n",
    "idx   0 1 2 3 4 5 6 7\n",
    "value 0 0 1 2 3 4 0 1\n",
    "\n",
    "此处value值为前缀集合 和 后缀集合 交集中 最长元素的长度 abab---->  {a,ab,aba}  ∩  {bab,ab,b} ------> ab--->2\n",
    "\n",
    "为编程方便，向右偏移一位转换为next数组\n",
    "char  a  b a b a b c a\n",
    "idx   0  1 2 3 4 5 6 7\n",
    "value -1 0 0 1 2 3 4 0 \n",
    "\n",
    "从模式字符串的第一位(注意，不包括第0位)开始对自身进行匹配运算。 在任一位置，能匹配的最长长度就是当前位置的next值。如下图所示。"
   ]
  },
  {
   "cell_type": "code",
   "execution_count": null,
   "metadata": {
    "collapsed": true
   },
   "outputs": [],
   "source": [
    "class Kmp:\n",
    "    def __init__(self):\n",
    "        self.next = None\n",
    "    def makeNext(self,pattern):\n",
    "        i = 0    \n",
    "        j = -1   \n",
    "        self.next = [-1 for _ in pattern]\n",
    "        while(i<len(pattern)-1):\n",
    "            if(j==-1 or pattern[i]==pattern[j]):\n",
    "                i+=1\n",
    "                j+=1\n",
    "                self.next[i] = j\n",
    "            else:\n",
    "                j = self.next[j]\n",
    "    \n",
    "    def searchTargetStr(self,s,pattern):\n",
    "        self.makeNext(pattern)\n",
    "#         i=待匹配字符串当前idx；j=模式字符串已匹配的idx\n",
    "        i = 0\n",
    "        j = 0\n",
    "        while(j<len(pattern) and i<len(s)):\n",
    "            if(j==-1 or s[i]==pattern[j]):\n",
    "                i += 1\n",
    "                j += 1\n",
    "            else:\n",
    "#                 当在i处不适配时，回到模式字符串next[j]处（因为根据next数组的作用，pattern[:next[j]]可以与target匹配）\n",
    "                j = self.next[j]\n",
    "        if(j==len(pattern)):\n",
    "            return i-j\n",
    "        else:\n",
    "            return -1"
   ]
  },
  {
   "cell_type": "code",
   "execution_count": 55,
   "metadata": {
    "collapsed": true
   },
   "outputs": [],
   "source": [
    "p = \"abababca\"\n",
    "q = \"ABCDABD\""
   ]
  },
  {
   "cell_type": "code",
   "execution_count": 56,
   "metadata": {
    "collapsed": true
   },
   "outputs": [],
   "source": [
    "kmp = Kmp()"
   ]
  },
  {
   "cell_type": "code",
   "execution_count": null,
   "metadata": {
    "collapsed": true
   },
   "outputs": [],
   "source": []
  },
  {
   "cell_type": "code",
   "execution_count": 57,
   "metadata": {},
   "outputs": [
    {
     "data": {
      "text/plain": [
       "8"
      ]
     },
     "execution_count": 57,
     "metadata": {},
     "output_type": "execute_result"
    }
   ],
   "source": [
    "kmp.searchTargetStr(\"ABABABABABCDABDCD\",q)"
   ]
  },
  {
   "cell_type": "code",
   "execution_count": 58,
   "metadata": {},
   "outputs": [
    {
     "data": {
      "text/plain": [
       "[-1, 0, 0, 0, 0, 1, 2]"
      ]
     },
     "execution_count": 58,
     "metadata": {},
     "output_type": "execute_result"
    }
   ],
   "source": [
    "kmp.next"
   ]
  },
  {
   "cell_type": "code",
   "execution_count": null,
   "metadata": {
    "collapsed": true
   },
   "outputs": [],
   "source": []
  }
 ],
 "metadata": {
  "kernelspec": {
   "display_name": "Python 3",
   "language": "python",
   "name": "python3"
  },
  "language_info": {
   "codemirror_mode": {
    "name": "ipython",
    "version": 3
   },
   "file_extension": ".py",
   "mimetype": "text/x-python",
   "name": "python",
   "nbconvert_exporter": "python",
   "pygments_lexer": "ipython3",
   "version": "3.6.1"
  }
 },
 "nbformat": 4,
 "nbformat_minor": 2
}
