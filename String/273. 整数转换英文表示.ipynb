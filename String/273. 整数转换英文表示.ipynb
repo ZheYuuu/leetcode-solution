{
 "cells": [
  {
   "cell_type": "code",
   "execution_count": null,
   "metadata": {
    "collapsed": true
   },
   "outputs": [],
   "source": [
    "将非负整数转换为其对应的英文表示。可以保证给定输入小于 231 - 1 。\n",
    "\n",
    "示例 1:\n",
    "\n",
    "输入: 123\n",
    "输出: \"One Hundred Twenty Three\"\n",
    "示例 2:\n",
    "\n",
    "输入: 12345\n",
    "输出: \"Twelve Thousand Three Hundred Forty Five\"\n",
    "示例 3:\n",
    "\n",
    "输入: 1234567\n",
    "输出: \"One Million Two Hundred Thirty Four Thousand Five Hundred Sixty Seven\"\n",
    "示例 4:\n",
    "\n",
    "输入: 1234567891\n",
    "输出: \"One Billion Two Hundred Thirty Four Million Five Hundred Sixty Seven Thousand Eight Hundred Ninety One\""
   ]
  },
  {
   "cell_type": "code",
   "execution_count": 4,
   "metadata": {
    "collapsed": true
   },
   "outputs": [],
   "source": [
    "class Solution:\n",
    "    def numberToWords(self, num):\n",
    "        \"\"\"\n",
    "        :type num: int\n",
    "        :rtype: str\n",
    "        \"\"\"\n",
    "        if num==0:\n",
    "            return \"Zero\"\n",
    "        self.dic = {0:\"\", 1:\"One\",2:\"Two\",3:\"Three\",4:\"Four\",5:\"Five\",6:\"Six\",7:\"Seven\",8:\"Eight\",9:\"Nine\",10:\"Ten\",\n",
    "              11:\"Eleven\",12:\"Twelve\",13:\"Thirteen\",14:\"Fourteen\",15:\"Fifteen\",16:\"Sixteen\",17:\"Seventeen\",18:\"Eighteen\",19:\"Nineteen\",\n",
    "              20:\"Twenty\",30:\"Thirty\",40:\"Forty\",50:\"Fifty\",60:\"Sixty\",70:\"Seventy\",80:\"Eighty\",90:\"Ninety\",100:\"Hundred\",\n",
    "              1000:\"Thousand\",1000000:\"Million\",1000000000:\"Billion\"}\n",
    "        def func(num):\n",
    "            ret = \"\"\n",
    "            if num>=1000000000:\n",
    "                if num%1000000000!=0:\n",
    "                    ret += func(num//1000000000) + \" \" + self.dic[1000000000] + \" \" +  func(num%1000000000)\n",
    "                else:\n",
    "                    ret += func(num//1000000000) + \" \" + self.dic[1000000000]\n",
    "            elif num>=1000000:\n",
    "                if num%1000000!=0:\n",
    "                    ret += func(num//1000000) + \" \" + self.dic[1000000] + \" \" + func(num%1000000)\n",
    "                else:\n",
    "                    ret += func(num//1000000) + \" \" + self.dic[1000000]\n",
    "            elif num>=1000:\n",
    "                if num%1000!=0: \n",
    "                    ret += func(num//1000) + \" \" + self.dic[1000] + \" \" + func(num%1000)\n",
    "                else:\n",
    "                    ret += func(num//1000) + \" \" + self.dic[1000]\n",
    "            elif num>=100:\n",
    "                if num%100!=0:\n",
    "                    ret += func(num//100) +\" \" + self.dic[100] + \" \" + func(num%100)\n",
    "                else:\n",
    "                    ret += func(num//100) +\" \" + self.dic[100]\n",
    "            elif num>20:\n",
    "                if num%10==0:\n",
    "                    ret += self.dic[num-num%10]\n",
    "                else:\n",
    "                    ret += self.dic[num-num%10] + \" \" + func(num%10)\n",
    "            elif num>=0:\n",
    "                ret += self.dic[num]\n",
    "            return ret\n",
    "        return func(num)\n",
    "    \n",
    "        "
   ]
  },
  {
   "cell_type": "code",
   "execution_count": 5,
   "metadata": {
    "collapsed": true
   },
   "outputs": [],
   "source": [
    "sol = Solution()"
   ]
  },
  {
   "cell_type": "code",
   "execution_count": 7,
   "metadata": {},
   "outputs": [
    {
     "data": {
      "text/plain": [
       "'One HundredTwenty Three ThousandFour HundredFifty Six'"
      ]
     },
     "execution_count": 7,
     "metadata": {},
     "output_type": "execute_result"
    }
   ],
   "source": [
    "sol.numberToWords(123456)"
   ]
  },
  {
   "cell_type": "code",
   "execution_count": null,
   "metadata": {
    "collapsed": true
   },
   "outputs": [],
   "source": []
  }
 ],
 "metadata": {
  "kernelspec": {
   "display_name": "Python 3",
   "language": "python",
   "name": "python3"
  },
  "language_info": {
   "codemirror_mode": {
    "name": "ipython",
    "version": 3
   },
   "file_extension": ".py",
   "mimetype": "text/x-python",
   "name": "python",
   "nbconvert_exporter": "python",
   "pygments_lexer": "ipython3",
   "version": "3.6.1"
  }
 },
 "nbformat": 4,
 "nbformat_minor": 2
}
