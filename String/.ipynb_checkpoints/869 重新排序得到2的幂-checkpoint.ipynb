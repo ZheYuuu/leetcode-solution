{
 "cells": [
  {
   "cell_type": "code",
   "execution_count": null,
   "metadata": {
    "collapsed": true
   },
   "outputs": [],
   "source": [
    "从正整数 N 开始，我们按任何顺序（包括原始顺序）将数字重新排序，注意其前导数字不能为零。\n",
    "\n",
    "如果我们可以通过上述方式得到 2 的幂，返回 true；否则，返回 false。\n",
    "\n",
    " \n",
    "\n",
    "示例 1：\n",
    "\n",
    "输入：1\n",
    "输出：true\n",
    "示例 2：\n",
    "\n",
    "输入：10\n",
    "输出：false\n",
    "示例 3：\n",
    "\n",
    "输入：16\n",
    "输出：true\n",
    "示例 4：\n",
    "\n",
    "输入：24\n",
    "输出：false\n",
    "示例 5：\n",
    "\n",
    "输入：46\n",
    "输出：true\n",
    " \n",
    "\n",
    "提示：\n",
    "\n",
    "1 <= N <= 10^9"
   ]
  },
  {
   "cell_type": "code",
   "execution_count": 18,
   "metadata": {},
   "outputs": [
    {
     "data": {
      "text/plain": [
       "True"
      ]
     },
     "execution_count": 18,
     "metadata": {},
     "output_type": "execute_result"
    }
   ],
   "source": [
    "2**29<10**9"
   ]
  },
  {
   "cell_type": "code",
   "execution_count": 5,
   "metadata": {},
   "outputs": [
    {
     "data": {
      "text/plain": [
       "65536"
      ]
     },
     "execution_count": 5,
     "metadata": {},
     "output_type": "execute_result"
    }
   ],
   "source": [
    "class Solution(object):\n",
    "    def reorderedPowerOf2(self, N):\n",
    "        \"\"\"\n",
    "        :type N: int\n",
    "        :rtype: bool\n",
    "        \"\"\"\n",
    "        dic = {}\n",
    "        for i in range(32):\n",
    "            p = 2**i\n",
    "            dic[self.gethash(p)] = 1\n",
    "        return self.gethash(N) in dic\n",
    "            \n",
    "    def gethash(num):\n",
    "        cnt = [0 for _ in range(10)]\n",
    "        while(num):\n",
    "            t = num%10\n",
    "            cnt[t] += 1\n",
    "            num //=10\n",
    "        return tuple(cnt)\n",
    "        "
   ]
  },
  {
   "cell_type": "code",
   "execution_count": 21,
   "metadata": {},
   "outputs": [
    {
     "data": {
      "text/plain": [
       "12"
      ]
     },
     "execution_count": 21,
     "metadata": {},
     "output_type": "execute_result"
    }
   ],
   "source": [
    "121//10"
   ]
  },
  {
   "cell_type": "code",
   "execution_count": null,
   "metadata": {
    "collapsed": true
   },
   "outputs": [],
   "source": []
  }
 ],
 "metadata": {
  "kernelspec": {
   "display_name": "Python 3",
   "language": "python",
   "name": "python3"
  },
  "language_info": {
   "codemirror_mode": {
    "name": "ipython",
    "version": 3
   },
   "file_extension": ".py",
   "mimetype": "text/x-python",
   "name": "python",
   "nbconvert_exporter": "python",
   "pygments_lexer": "ipython3",
   "version": "3.6.1"
  }
 },
 "nbformat": 4,
 "nbformat_minor": 2
}
