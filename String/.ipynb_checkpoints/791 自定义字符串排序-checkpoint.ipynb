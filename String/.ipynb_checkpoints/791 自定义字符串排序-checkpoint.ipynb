{
 "cells": [
  {
   "cell_type": "code",
   "execution_count": null,
   "metadata": {
    "collapsed": true
   },
   "outputs": [],
   "source": [
    "字符串S和 T 只包含小写字符。在S中，所有字符只会出现一次。\n",
    "\n",
    "S 已经根据某种规则进行了排序。我们要根据S中的字符顺序对T进行排序。更具体地说，如果S中x在y之前出现，那么返回的字符串中x也应出现在y之前。\n",
    "\n",
    "返回任意一种符合条件的字符串T。\n",
    "\n",
    "示例:\n",
    "输入:\n",
    "S = \"cba\"\n",
    "T = \"abcd\"\n",
    "输出: \"cbad\"\n",
    "解释: \n",
    "S中出现了字符 \"a\", \"b\", \"c\", 所以 \"a\", \"b\", \"c\" 的顺序应该是 \"c\", \"b\", \"a\". \n",
    "由于 \"d\" 没有在S中出现, 它可以放在T的任意位置. \"dcba\", \"cdba\", \"cbda\" 都是合法的输出。\n",
    "注意:\n",
    "\n",
    "S的最大长度为26，其中没有重复的字符。\n",
    "T的最大长度为200。\n",
    "S和T只包含小写字符。"
   ]
  },
  {
   "cell_type": "code",
   "execution_count": null,
   "metadata": {
    "collapsed": true
   },
   "outputs": [],
   "source": [
    "class Solution(object):\n",
    "    def customSortString(self, S, T):\n",
    "        \"\"\"\n",
    "        :type S: str\n",
    "        :type T: str\n",
    "        :rtype: str\n",
    "        \"\"\"\n",
    "        mapping = collections.defaultdict(int)\n",
    "        suffix = \"\"\n",
    "        for s in S:\n",
    "            mapping[s] = 0\n",
    "        for t in T:\n",
    "            if t in mapping:\n",
    "                mapping[t] += 1\n",
    "            else:\n",
    "                suffix+=t\n",
    "        ret = \"\"\n",
    "        for s in S:\n",
    "            ret += s*mapping[s]\n",
    "        return ret+suffix\n",
    "        "
   ]
  }
 ],
 "metadata": {
  "kernelspec": {
   "display_name": "Python 3",
   "language": "python",
   "name": "python3"
  },
  "language_info": {
   "codemirror_mode": {
    "name": "ipython",
    "version": 3
   },
   "file_extension": ".py",
   "mimetype": "text/x-python",
   "name": "python",
   "nbconvert_exporter": "python",
   "pygments_lexer": "ipython3",
   "version": "3.6.1"
  }
 },
 "nbformat": 4,
 "nbformat_minor": 2
}
