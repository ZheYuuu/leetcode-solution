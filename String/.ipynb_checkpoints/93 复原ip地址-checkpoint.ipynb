{
 "cells": [
  {
   "cell_type": "code",
   "execution_count": null,
   "metadata": {
    "collapsed": true
   },
   "outputs": [],
   "source": [
    "给定一个只包含数字的字符串，复原它并返回所有可能的 IP 地址格式。\n",
    "\n",
    "示例:\n",
    "\n",
    "输入: \"25525511135\"\n",
    "输出: [\"255.255.11.135\", \"255.255.111.35\"]"
   ]
  },
  {
   "cell_type": "code",
   "execution_count": null,
   "metadata": {
    "collapsed": true
   },
   "outputs": [],
   "source": [
    "class Solution(object):\n",
    "    def restoreIpAddresses(self, s):\n",
    "        \"\"\"\n",
    "        :type s: str\n",
    "        :rtype: List[str]\n",
    "        \"\"\"\n",
    "        if len(s)<4:\n",
    "            return []\n",
    "        self.ret = []\n",
    "        def func(ip,pos,s):\n",
    "            if pos==4:\n",
    "                if not s:\n",
    "                    self.ret.append(\".\".join(ip))\n",
    "                return\n",
    "            if len(s)>=1 :\n",
    "                func(ip+[s[0]],pos+1,s[1:])\n",
    "            if len(s)>=2 and s[0]!=\"0\":\n",
    "                func(ip+[s[0:2]],pos+1,s[2:])\n",
    "            if len(s)>=3 and int(s[0:3])<=255 and s[0]!=\"0\":\n",
    "                func(ip+[s[0:3]],pos+1,s[3:])\n",
    "        func([],0,s)\n",
    "        return self.ret"
   ]
  }
 ],
 "metadata": {
  "kernelspec": {
   "display_name": "Python 3",
   "language": "python",
   "name": "python3"
  },
  "language_info": {
   "codemirror_mode": {
    "name": "ipython",
    "version": 3
   },
   "file_extension": ".py",
   "mimetype": "text/x-python",
   "name": "python",
   "nbconvert_exporter": "python",
   "pygments_lexer": "ipython3",
   "version": "3.6.1"
  }
 },
 "nbformat": 4,
 "nbformat_minor": 2
}
