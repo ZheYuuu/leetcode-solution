{
 "cells": [
  {
   "cell_type": "code",
   "execution_count": null,
   "metadata": {
    "collapsed": true
   },
   "outputs": [],
   "source": [
    "一条包含字母 A-Z 的消息通过以下方式进行了编码：\n",
    "\n",
    "'A' -> 1\n",
    "'B' -> 2\n",
    "...\n",
    "'Z' -> 26\n",
    "给定一个只包含数字的非空字符串，请计算解码方法的总数。\n",
    "\n",
    "示例 1:\n",
    "\n",
    "输入: \"12\"\n",
    "输出: 2\n",
    "解释: 它可以解码为 \"AB\"（1 2）或者 \"L\"（12）。\n",
    "示例 2:\n",
    "\n",
    "输入: \"226\"\n",
    "输出: 3\n",
    "解释: 它可以解码为 \"BZ\" (2 26), \"VF\" (22 6), 或者 \"BBF\" (2 2 6) "
   ]
  },
  {
   "cell_type": "code",
   "execution_count": 7,
   "metadata": {
    "collapsed": true
   },
   "outputs": [],
   "source": [
    "# 超时\n",
    "class Solution(object):\n",
    "    def numDecodings(self, s):\n",
    "        \"\"\"\n",
    "        :type s: str\n",
    "        :rtype: int\n",
    "        \"\"\"\n",
    "        if not s:\n",
    "            return 0\n",
    "        def func(s):\n",
    "            if (len(s)!=0 and s[0]==\"0\"):\n",
    "                return 0\n",
    "            if len(s)<=1:\n",
    "                return 1\n",
    "            if len(s)>=2:\n",
    "                if int(s[0:2])<=26:\n",
    "                    return func(s[2:])+func(s[1:])\n",
    "                else:\n",
    "                    return func(s[1:])\n",
    "                \n",
    "        return func(s)"
   ]
  },
  {
   "cell_type": "code",
   "execution_count": 8,
   "metadata": {
    "collapsed": true
   },
   "outputs": [],
   "source": [
    "sol = Solution()"
   ]
  },
  {
   "cell_type": "code",
   "execution_count": 11,
   "metadata": {},
   "outputs": [
    {
     "data": {
      "text/plain": [
       "0"
      ]
     },
     "execution_count": 11,
     "metadata": {},
     "output_type": "execute_result"
    }
   ],
   "source": [
    "sol.numDecodings(\"0\")"
   ]
  },
  {
   "cell_type": "code",
   "execution_count": 24,
   "metadata": {
    "collapsed": true
   },
   "outputs": [],
   "source": [
    "class Solution(object):\n",
    "    def numDecodings(self, s):\n",
    "        \"\"\"\n",
    "        :type s: str\n",
    "        :rtype: int\n",
    "        \"\"\"\n",
    "        if not s or s[0]==\"0\":\n",
    "            return 0\n",
    "        dp = [0 for _ in range(len(s)+1)]\n",
    "        dp[0] = 1\n",
    "        for i in range(1,len(s)+1):\n",
    "            if i==1:\n",
    "                dp[i] = 1\n",
    "            else:\n",
    "                if s[i-1]==\"0\":\n",
    "                    if int(s[i-2:i])<=26 and s[i-2]!=\"0\":\n",
    "                        dp[i] = dp[i-2]\n",
    "                    else:\n",
    "                        return 0\n",
    "                else: \n",
    "                    if int(s[i-2:i])<=26:\n",
    "                        tmp = 0 if s[i-2]==\"0\" else dp[i-1]\n",
    "                        dp[i] = dp[i-2] + tmp\n",
    "                    else:\n",
    "                        dp[i] = dp[i-1]\n",
    "        return dp[-1]\n",
    "\n",
    "            "
   ]
  },
  {
   "cell_type": "code",
   "execution_count": 25,
   "metadata": {
    "collapsed": true
   },
   "outputs": [],
   "source": [
    "class Solution(object):\n",
    "    def numDecodings(self, s):\n",
    "        \"\"\"\n",
    "        :type s: str\n",
    "        :rtype: int\n",
    "        \"\"\"\n",
    "        if not s or s[0]==\"0\":\n",
    "            return 0\n",
    "        dp = [0 for _ in range(len(s)+1)]\n",
    "        dp[0] = dp[1] = 1\n",
    "        for i in range(1,len(s)):\n",
    "            t = 0\n",
    "            if s[i]!=\"0\":\n",
    "                t += dp[i]\n",
    "            if s[i-1]==\"1\" or (s[i-1]==\"2\" and int(s[i])<=6):\n",
    "                t += dp[i-1]\n",
    "            dp[i+1] = t\n",
    "        return dp[-1]"
   ]
  },
  {
   "cell_type": "code",
   "execution_count": 26,
   "metadata": {
    "collapsed": true
   },
   "outputs": [],
   "source": [
    "sol1 = Solution1()\n",
    "sol2 = Solution2()"
   ]
  },
  {
   "cell_type": "code",
   "execution_count": 29,
   "metadata": {},
   "outputs": [
    {
     "name": "stdout",
     "output_type": "stream",
     "text": [
      "4 \n",
      " 4\n"
     ]
    }
   ],
   "source": [
    "s = \"15793258201\"\n",
    "s1 = sol1.numDecodings(s)\n",
    "s2 = sol2.numDecodings(s)\n",
    "print(s1,\"\\n\",s2)\n"
   ]
  },
  {
   "cell_type": "code",
   "execution_count": null,
   "metadata": {
    "collapsed": true
   },
   "outputs": [],
   "source": []
  }
 ],
 "metadata": {
  "kernelspec": {
   "display_name": "Python 3",
   "language": "python",
   "name": "python3"
  },
  "language_info": {
   "codemirror_mode": {
    "name": "ipython",
    "version": 3
   },
   "file_extension": ".py",
   "mimetype": "text/x-python",
   "name": "python",
   "nbconvert_exporter": "python",
   "pygments_lexer": "ipython3",
   "version": "3.6.1"
  }
 },
 "nbformat": 4,
 "nbformat_minor": 2
}
