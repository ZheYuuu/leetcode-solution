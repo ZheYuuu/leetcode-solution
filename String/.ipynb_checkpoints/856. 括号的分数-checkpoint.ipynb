{
 "cells": [
  {
   "cell_type": "code",
   "execution_count": null,
   "metadata": {
    "collapsed": true
   },
   "outputs": [],
   "source": [
    "给定一个平衡括号字符串 S，按下述规则计算该字符串的分数：\n",
    "\n",
    "() 得 1 分。\n",
    "AB 得 A + B 分，其中 A 和 B 是平衡括号字符串。\n",
    "(A) 得 2 * A 分，其中 A 是平衡括号字符串。\n",
    " \n",
    "\n",
    "示例 1：\n",
    "\n",
    "输入： \"()\"\n",
    "输出： 1\n",
    "示例 2：\n",
    "\n",
    "输入： \"(())\"\n",
    "输出： 2\n",
    "示例 3：\n",
    "\n",
    "输入： \"()()\"\n",
    "输出： 2\n",
    "示例 4：\n",
    "\n",
    "输入： \"(()(()))\"\n",
    "输出： 6\n",
    " \n",
    "\n",
    "提示：\n",
    "\n",
    "S 是平衡括号字符串，且只含有 ( 和 ) 。\n",
    "2 <= S.length <= 50"
   ]
  },
  {
   "cell_type": "code",
   "execution_count": null,
   "metadata": {
    "collapsed": true
   },
   "outputs": [],
   "source": [
    "class Solution(object):\n",
    "    def scoreOfParentheses(self, S):\n",
    "        \"\"\"\n",
    "        :type S: str\n",
    "        :rtype: int\n",
    "        \"\"\"\n",
    "        # print(S)\n",
    "        if S==\"\":\n",
    "            return 0\n",
    "        left_bracket_cnt = 1\n",
    "        right_bracket_cnt = 0\n",
    "        i = 1\n",
    "        for s in S[1:]:\n",
    "            if s==\"(\":\n",
    "                left_bracket_cnt += 1\n",
    "            else:\n",
    "                right_bracket_cnt += 1\n",
    "                if left_bracket_cnt == right_bracket_cnt:\n",
    "                    if i==1:\n",
    "                        return 1 + self.scoreOfParentheses(S[i+1:])\n",
    "                    else:\n",
    "                        return 2*self.scoreOfParentheses(S[1:i]) + self.scoreOfParentheses(S[i+1:])\n",
    "            i+=1\n",
    "            "
   ]
  },
  {
   "cell_type": "code",
   "execution_count": null,
   "metadata": {
    "collapsed": true
   },
   "outputs": [],
   "source": [
    "class Solution(object):\n",
    "    def scoreOfParentheses(self, S):\n",
    "        \"\"\"\n",
    "        :type S: str\n",
    "        :rtype: int\n",
    "        \"\"\"\n",
    "        stack = [0]\n",
    "       \n",
    "        for s in S:\n",
    "            if s==\"(\":\n",
    "                stack.append(0)\n",
    "            else:\n",
    "                top = stack.pop()\n",
    "                if top==0:\n",
    "                    stack[-1] += 1\n",
    "                else:\n",
    "                    stack[-1] = (stack[-1]+top)*2\n",
    "        return stack[-1]\n",
    "            "
   ]
  }
 ],
 "metadata": {
  "kernelspec": {
   "display_name": "Python 3",
   "language": "python",
   "name": "python3"
  },
  "language_info": {
   "codemirror_mode": {
    "name": "ipython",
    "version": 3
   },
   "file_extension": ".py",
   "mimetype": "text/x-python",
   "name": "python",
   "nbconvert_exporter": "python",
   "pygments_lexer": "ipython3",
   "version": "3.6.1"
  }
 },
 "nbformat": 4,
 "nbformat_minor": 2
}
