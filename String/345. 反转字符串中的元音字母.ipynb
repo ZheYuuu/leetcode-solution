{
 "cells": [
  {
   "cell_type": "code",
   "execution_count": null,
   "metadata": {
    "collapsed": true
   },
   "outputs": [],
   "source": [
    "编写一个函数，以字符串作为输入，反转该字符串中的元音字母。\n",
    "\n",
    "示例 1:\n",
    "\n",
    "输入: \"hello\"\n",
    "输出: \"holle\"\n",
    "示例 2:\n",
    "\n",
    "输入: \"leetcode\"\n",
    "输出: \"leotcede\"\n",
    "说明:\n",
    "元音字母不包含字母\"y\"。"
   ]
  },
  {
   "cell_type": "code",
   "execution_count": 3,
   "metadata": {},
   "outputs": [],
   "source": [
    "# 注意是前后每一对都要翻转\n",
    "class Solution(object):\n",
    "    def reverseVowels(self, s):\n",
    "        \"\"\"\n",
    "        :type s: str\n",
    "        :rtype: str\n",
    "        \"\"\"\n",
    "        letter = [\"a\",\"e\",\"i\",\"o\",\"u\",\"A\",\"E\",\"I\",\"O\",\"U\"]\n",
    "        left = 0\n",
    "        right=  len(s)-1\n",
    "        s = list(s)\n",
    "        while(left<right):\n",
    "            while(left<len(s) and s[left] not in letter):\n",
    "                left+=1\n",
    "            while(right>=0 and s[right] not in letter):\n",
    "                right -=1\n",
    "            if left<right and left<len(s) and right>=0:\n",
    "                s[left], s[right] = s[right], s[left]\n",
    "                left+=1\n",
    "                right -=1\n",
    "        return \"\".join(s)"
   ]
  },
  {
   "cell_type": "code",
   "execution_count": 4,
   "metadata": {},
   "outputs": [
    {
     "data": {
      "text/plain": [
       "True"
      ]
     },
     "execution_count": 4,
     "metadata": {},
     "output_type": "execute_result"
    }
   ],
   "source": [
    "letter = [\"a\",\"e\",\"i\",\"o\",\"u\",\"A\",\"E\",\"I\",\"O\",\"U\"]\n",
    "\"a\" in letter"
   ]
  },
  {
   "cell_type": "code",
   "execution_count": null,
   "metadata": {
    "collapsed": true
   },
   "outputs": [],
   "source": []
  }
 ],
 "metadata": {
  "kernelspec": {
   "display_name": "Python 3",
   "language": "python",
   "name": "python3"
  },
  "language_info": {
   "codemirror_mode": {
    "name": "ipython",
    "version": 3
   },
   "file_extension": ".py",
   "mimetype": "text/x-python",
   "name": "python",
   "nbconvert_exporter": "python",
   "pygments_lexer": "ipython3",
   "version": "3.6.1"
  }
 },
 "nbformat": 4,
 "nbformat_minor": 2
}
