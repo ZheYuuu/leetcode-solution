{
 "cells": [
  {
   "cell_type": "code",
   "execution_count": null,
   "metadata": {
    "collapsed": true
   },
   "outputs": [],
   "source": [
    "给出 n 代表生成括号的对数，请你写出一个函数，使其能够生成所有可能的并且有效的括号组合。\n",
    "\n",
    "例如，给出 n = 3，生成结果为：\n",
    "\n",
    "[\n",
    "  \"((()))\",\n",
    "  \"(()())\",\n",
    "  \"(())()\",\n",
    "  \"()(())\",\n",
    "  \"()()()\"\n",
    "]"
   ]
  },
  {
   "cell_type": "code",
   "execution_count": null,
   "metadata": {
    "collapsed": true
   },
   "outputs": [],
   "source": [
    "class Solution(object):\n",
    "    def generateParenthesis(self, n):\n",
    "        \"\"\"\n",
    "        :type n: int\n",
    "        :rtype: List[str]\n",
    "        \"\"\"\n",
    "        Status = collections.namedtuple(\"Status\",['l','r',\"curr\"])\n",
    "        stack = [Status(0,0,\"\")]\n",
    "        ret = []\n",
    "        while(stack):\n",
    "            tmp = stack.pop(0)\n",
    "            if tmp.l<tmp.r or tmp.l>n or tmp.r>n:\n",
    "                continue\n",
    "            if tmp.l == tmp.r == n:\n",
    "                ret.append(tmp.curr)\n",
    "            stack.append(Status(tmp.l+1,tmp.r,tmp.curr+\"(\"))\n",
    "            stack.append(Status(tmp.l,tmp.r+1,tmp.curr+\")\"))\n",
    "        return ret\n",
    "            \n",
    "            \n",
    "            "
   ]
  },
  {
   "cell_type": "code",
   "execution_count": null,
   "metadata": {
    "collapsed": true
   },
   "outputs": [],
   "source": [
    "class Solution(object):\n",
    "    def generateParenthesis(self, n):\n",
    "        \"\"\"\n",
    "        :type n: int\n",
    "        :rtype: List[str]\n",
    "        \"\"\"\n",
    "        return self.generate(n,n)\n",
    "    def generate(self,m,n):\n",
    "        if m==0:\n",
    "            return [\")\"*n]\n",
    "        if m==n:\n",
    "            return self.merge(\"(\",self.generate(m-1,n))\n",
    "        return self.merge(\"(\",self.generate(m-1,n)) + self.merge(\")\",self.generate(m,n-1))\n",
    "    def merge(self,pre,l):\n",
    "        ret = []\n",
    "        for s in l:\n",
    "            ret.append(pre+s)\n",
    "        return ret"
   ]
  },
  {
   "cell_type": "code",
   "execution_count": null,
   "metadata": {
    "collapsed": true
   },
   "outputs": [],
   "source": [
    "class Solution(object):\n",
    "    def generateParenthesis(self, n):\n",
    "        \"\"\"\n",
    "        :type n: int\n",
    "        :rtype: List[str]\n",
    "        \"\"\"\n",
    "        self.ret = []\n",
    "        def func(s,l,r):\n",
    "            if l==r==n:\n",
    "                self.ret.append(s)\n",
    "            if l<n:\n",
    "                func(s+\"(\",l+1,r)\n",
    "            if r<l:\n",
    "                func(s+\")\",l,r+1)\n",
    "\n",
    "        s = \"\"\n",
    "        func(s,0,0)\n",
    "        return self.ret\n",
    "        "
   ]
  }
 ],
 "metadata": {
  "kernelspec": {
   "display_name": "Python 3",
   "language": "python",
   "name": "python3"
  },
  "language_info": {
   "codemirror_mode": {
    "name": "ipython",
    "version": 3
   },
   "file_extension": ".py",
   "mimetype": "text/x-python",
   "name": "python",
   "nbconvert_exporter": "python",
   "pygments_lexer": "ipython3",
   "version": "3.6.1"
  }
 },
 "nbformat": 4,
 "nbformat_minor": 2
}
