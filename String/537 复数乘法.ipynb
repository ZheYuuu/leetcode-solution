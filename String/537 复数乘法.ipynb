{
 "cells": [
  {
   "cell_type": "code",
   "execution_count": null,
   "metadata": {
    "collapsed": true
   },
   "outputs": [],
   "source": [
    "给定两个表示复数的字符串。\n",
    "\n",
    "返回表示它们乘积的字符串。注意，根据定义 i2 = -1 。\n",
    "\n",
    "示例 1:\n",
    "\n",
    "输入: \"1+1i\", \"1+1i\"\n",
    "输出: \"0+2i\"\n",
    "解释: (1 + i) * (1 + i) = 1 + i2 + 2 * i = 2i ，你需要将它转换为 0+2i 的形式。\n",
    "示例 2:\n",
    "\n",
    "输入: \"1+-1i\", \"1+-1i\"\n",
    "输出: \"0+-2i\"\n",
    "解释: (1 - i) * (1 - i) = 1 + i2 - 2 * i = -2i ，你需要将它转换为 0+-2i 的形式。 \n",
    "注意:\n",
    "\n",
    "输入字符串不包含额外的空格。\n",
    "输入字符串将以 a+bi 的形式给出，其中整数 a 和 b 的范围均在 [-100, 100] 之间。输出也应当符合这种形式。"
   ]
  },
  {
   "cell_type": "code",
   "execution_count": 37,
   "metadata": {
    "collapsed": true
   },
   "outputs": [],
   "source": [
    "import collections\n",
    "class Solution(object):\n",
    "    def complexNumberMultiply(self, a, b):\n",
    "        \"\"\"\n",
    "        :type a: str\n",
    "        :type b: str\n",
    "        :rtype: str\n",
    "        \"\"\"\n",
    "        Number = collections.namedtuple(\"Number\",[\"real\",\"imaginary\"])\n",
    "        a = self.trans(a)\n",
    "        a = Number(a[0],a[1])\n",
    "        b = self.trans(b)\n",
    "        b = Number(b[0],b[1])\n",
    "        real = a.real*b.real-a.imaginary*b.imaginary\n",
    "        imaginary = a.real*b.imaginary + a.imaginary*b.real\n",
    "        return str(real)+ \"+\" + str(imaginary) +\"i\"\n",
    "        \n",
    "        \n",
    "    def trans(self,string):\n",
    "        for i,letter in enumerate(string):\n",
    "            if (letter==\"+\"):\n",
    "                real_number = int(string[:i])\n",
    "                imaginary_number = int(string[i+1:-1])\n",
    "                break\n",
    "                \n",
    "            if (letter == \"-\") and i!=0:\n",
    "                real_number = int(string[:i])\n",
    "                imaginary_number = int(string[i:-1])\n",
    "                print(real_number,imaginary_number)\n",
    "        return real_number,imaginary_number"
   ]
  },
  {
   "cell_type": "code",
   "execution_count": 38,
   "metadata": {},
   "outputs": [],
   "source": [
    "sol = Solution()"
   ]
  },
  {
   "cell_type": "code",
   "execution_count": 39,
   "metadata": {},
   "outputs": [
    {
     "data": {
      "text/plain": [
       "'0+-2i'"
      ]
     },
     "execution_count": 39,
     "metadata": {},
     "output_type": "execute_result"
    }
   ],
   "source": [
    "sol.complexNumberMultiply(\"1+-1i\",\"1+-1i\")"
   ]
  },
  {
   "cell_type": "code",
   "execution_count": 11,
   "metadata": {},
   "outputs": [
    {
     "data": {
      "text/plain": [
       "'0'"
      ]
     },
     "execution_count": 11,
     "metadata": {},
     "output_type": "execute_result"
    }
   ],
   "source": []
  },
  {
   "cell_type": "code",
   "execution_count": null,
   "metadata": {
    "collapsed": true
   },
   "outputs": [],
   "source": []
  }
 ],
 "metadata": {
  "kernelspec": {
   "display_name": "Python 3",
   "language": "python",
   "name": "python3"
  },
  "language_info": {
   "codemirror_mode": {
    "name": "ipython",
    "version": 3
   },
   "file_extension": ".py",
   "mimetype": "text/x-python",
   "name": "python",
   "nbconvert_exporter": "python",
   "pygments_lexer": "ipython3",
   "version": "3.6.1"
  }
 },
 "nbformat": 4,
 "nbformat_minor": 2
}
