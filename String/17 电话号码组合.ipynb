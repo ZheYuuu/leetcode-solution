{
 "cells": [
  {
   "cell_type": "code",
   "execution_count": null,
   "metadata": {
    "collapsed": true
   },
   "outputs": [],
   "source": [
    "给定一个仅包含数字 2-9 的字符串，返回所有它能表示的字母组合。\n",
    "\n",
    "给出数字到字母的映射如下（与电话按键相同）。注意 1 不对应任何字母。\n",
    "\n",
    "\n",
    "\n",
    "示例:\n",
    "\n",
    "输入：\"23\"\n",
    "输出：[\"ad\", \"ae\", \"af\", \"bd\", \"be\", \"bf\", \"cd\", \"ce\", \"cf\"].\n",
    "说明:\n",
    "尽管上面的答案是按字典序排列的，但是你可以任意选择答案输出的顺序。"
   ]
  },
  {
   "cell_type": "code",
   "execution_count": null,
   "metadata": {
    "collapsed": true
   },
   "outputs": [],
   "source": [
    "class Solution(object):\n",
    "    def letterCombinations(self, digits):\n",
    "        \"\"\"\n",
    "        :type digits: str\n",
    "        :rtype: List[str]\n",
    "        \"\"\"\n",
    "        if not digits:\n",
    "            return[]\n",
    "        self.mapping = {\"2\":[\"a\",\"b\",\"c\"],\"3\":[\"d\",\"e\",\"f\"],\"4\":[\"g\",\"h\",\"i\"],\"5\":['j',\"k\",\"l\"],\"6\":[\"m\",\"n\",\"o\"],\n",
    "                  \"7\":[\"p\",\"q\",\"r\",\"s\"],\"8\":[\"t\",\"u\",\"v\"],\"9\":[\"w\",\"x\",\"y\",\"z\"]}\n",
    "        self.ret = []\n",
    "        def dfs(s,curr):\n",
    "            if not s:\n",
    "                self.ret.append(curr)\n",
    "                return\n",
    "            for t in self.mapping[s[0]]:\n",
    "                dfs(s[1:],curr+t)\n",
    "        dfs(digits,\"\")\n",
    "        return self.ret\n",
    "        "
   ]
  }
 ],
 "metadata": {
  "kernelspec": {
   "display_name": "Python 3",
   "language": "python",
   "name": "python3"
  },
  "language_info": {
   "codemirror_mode": {
    "name": "ipython",
    "version": 3
   },
   "file_extension": ".py",
   "mimetype": "text/x-python",
   "name": "python",
   "nbconvert_exporter": "python",
   "pygments_lexer": "ipython3",
   "version": "3.6.1"
  }
 },
 "nbformat": 4,
 "nbformat_minor": 2
}
