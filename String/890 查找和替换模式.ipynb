{
 "cells": [
  {
   "cell_type": "code",
   "execution_count": null,
   "metadata": {
    "collapsed": true
   },
   "outputs": [],
   "source": [
    "你有一个单词列表 words 和一个模式  pattern，你想知道 words 中的哪些单词与模式匹配。\n",
    "\n",
    "如果存在字母的排列 p ，使得将模式中的每个字母 x 替换为 p(x) 之后，我们就得到了所需的单词，那么单词与模式是匹配的。\n",
    "\n",
    "（回想一下，字母的排列是从字母到字母的双射：每个字母映射到另一个字母，没有两个字母映射到同一个字母。）\n",
    "\n",
    "返回 words 中与给定模式匹配的单词列表。\n",
    "\n",
    "你可以按任何顺序返回答案。\n",
    "\n",
    " \n",
    "\n",
    "示例：\n",
    "\n",
    "输入：words = [\"abc\",\"deq\",\"mee\",\"aqq\",\"dkd\",\"ccc\"], pattern = \"abb\"\n",
    "输出：[\"mee\",\"aqq\"]\n",
    "解释：\n",
    "\"mee\" 与模式匹配，因为存在排列 {a -> m, b -> e, ...}。\n",
    "\"ccc\" 与模式不匹配，因为 {a -> c, b -> c, ...} 不是排列。\n",
    "因为 a 和 b 映射到同一个字母。"
   ]
  },
  {
   "cell_type": "code",
   "execution_count": null,
   "metadata": {
    "collapsed": true
   },
   "outputs": [],
   "source": [
    "class Solution(object):\n",
    "    def findAndReplacePattern(self, words, pattern):\n",
    "        \"\"\"\n",
    "        :type words: List[str]\n",
    "        :type pattern: str\n",
    "        :rtype: List[str]\n",
    "        \"\"\"\n",
    "        ret = []\n",
    "        def func(word,pattern):\n",
    "            dic = {}\n",
    "            i = 0\n",
    "            for letter in word:\n",
    "                if letter not in dic:\n",
    "                    dic[letter] = pattern[i]\n",
    "                    i+=1\n",
    "                else:\n",
    "                    if dic[letter]!=pattern[i]:\n",
    "                        return False\n",
    "                    i+=1\n",
    "            return True\n",
    "        for word in words:\n",
    "            if func(word,pattern) and func(pattern,word):\n",
    "                ret.append(word)\n",
    "        return ret\n",
    "\n",
    "            \n",
    "                    \n",
    "        "
   ]
  },
  {
   "cell_type": "code",
   "execution_count": null,
   "metadata": {
    "collapsed": true
   },
   "outputs": [],
   "source": [
    "class Solution(object):\n",
    "    def findAndReplacePattern(self, words, pattern):\n",
    "        \"\"\"\n",
    "        :type words: List[str]\n",
    "        :type pattern: str\n",
    "        :rtype: List[str]\n",
    "        \"\"\"\n",
    "        ret = []\n",
    "        for word in words:\n",
    "            a = set(word)\n",
    "            b = set(pattern)\n",
    "            c = set(zip(word,pattern))\n",
    "            if len(a)==len(b)==len(c):\n",
    "                ret.append(word)\n",
    "        return ret"
   ]
  }
 ],
 "metadata": {
  "kernelspec": {
   "display_name": "Python 3",
   "language": "python",
   "name": "python3"
  },
  "language_info": {
   "codemirror_mode": {
    "name": "ipython",
    "version": 3
   },
   "file_extension": ".py",
   "mimetype": "text/x-python",
   "name": "python",
   "nbconvert_exporter": "python",
   "pygments_lexer": "ipython3",
   "version": "3.6.1"
  }
 },
 "nbformat": 4,
 "nbformat_minor": 2
}
