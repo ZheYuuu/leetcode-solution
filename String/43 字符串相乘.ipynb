{
 "cells": [
  {
   "cell_type": "markdown",
   "metadata": {},
   "source": [
    "给定两个以字符串形式表示的非负整数 num1 和 num2，返回 num1 和 num2 的乘积，它们的乘积也表示为字符串形式。\n",
    "\n",
    "示例 1:\n",
    "\n",
    "输入: num1 = \"2\", num2 = \"3\"\n",
    "输出: \"6\"\n",
    "示例 2:\n",
    "\n",
    "输入: num1 = \"123\", num2 = \"456\"\n",
    "输出: \"56088\"\n",
    "说明：\n",
    "\n",
    "num1 和 num2 的长度小于110。\n",
    "num1 和 num2 只包含数字 0-9。\n",
    "num1 和 num2 均不以零开头，除非是数字 0 本身。\n",
    "不能使用任何标准库的大数类型（比如 BigInteger）或直接将输入转换为整数来处理。\n",
    "在真实的面试中遇到过这道题？"
   ]
  },
  {
   "cell_type": "code",
   "execution_count": 11,
   "metadata": {
    "collapsed": true
   },
   "outputs": [],
   "source": [
    "class Solution(object):\n",
    "    def multiply(self, num1, num2):\n",
    "        \"\"\"\n",
    "        :type num1: str\n",
    "        :type num2: str\n",
    "        :rtype: str\n",
    "        \"\"\"\n",
    "        def compare(num1,num2):\n",
    "            if len(num1)<=len(num2):\n",
    "                min_num = num1\n",
    "                max_num = num2\n",
    "            else:\n",
    "                min_num = num2\n",
    "                max_num = num1\n",
    "            return min_num,max_num\n",
    "        def add(a,b):\n",
    "            # print(\"a=%s,b=%s\"%(a,b))\n",
    "            a,b = compare(a,b)\n",
    "            ret = []\n",
    "            tmp = 0\n",
    "            i=0\n",
    "            for i in range(len(a)):\n",
    "                val = int(a[i])+int(b[i])+tmp\n",
    "                tmp = val//10\n",
    "                ret.append(str(val%10))\n",
    "            i+=1\n",
    "            while(i<len(b)):\n",
    "                val = int(b[i])+tmp\n",
    "                tmp = val//10\n",
    "                ret.append(str(val%10))\n",
    "                i+=1\n",
    "            # print(ret)\n",
    "            if tmp!=0:\n",
    "                ret.append(str(tmp))\n",
    "            return \"\".join(ret)\n",
    "            \n",
    "        min_num,max_num = compare(num1,num2)\n",
    "        # print(min_num,max_num)\n",
    "        ret = \"0\"\n",
    "        for i,num in enumerate(min_num[::-1]):\n",
    "            tmp = \"0\"\n",
    "            for j in range(int(num)):\n",
    "                tmp = add(tmp,max_num[::-1])\n",
    "            ret = add(ret,\"\".join([\"0\" for _ in range(i)])+tmp)\n",
    "\n",
    "        return ret[::-1]"
   ]
  },
  {
   "cell_type": "code",
   "execution_count": 12,
   "metadata": {
    "collapsed": true
   },
   "outputs": [],
   "source": [
    "sol = Solution()"
   ]
  },
  {
   "cell_type": "code",
   "execution_count": 13,
   "metadata": {},
   "outputs": [
    {
     "data": {
      "text/plain": [
       "'56088'"
      ]
     },
     "execution_count": 13,
     "metadata": {},
     "output_type": "execute_result"
    }
   ],
   "source": [
    "sol.multiply(\"123\",\"456\")"
   ]
  },
  {
   "cell_type": "code",
   "execution_count": 6,
   "metadata": {},
   "outputs": [
    {
     "data": {
      "text/plain": [
       "[1, 2]"
      ]
     },
     "execution_count": 6,
     "metadata": {},
     "output_type": "execute_result"
    }
   ],
   "source": [
    "list(map(int,[\"1\",\"2\"]))"
   ]
  },
  {
   "cell_type": "code",
   "execution_count": 9,
   "metadata": {},
   "outputs": [],
   "source": [
    "[0 for _ in range(0)].extend([1])"
   ]
  },
  {
   "cell_type": "code",
   "execution_count": 10,
   "metadata": {
    "collapsed": true
   },
   "outputs": [],
   "source": [
    "[1].extend([2])"
   ]
  },
  {
   "cell_type": "code",
   "execution_count": null,
   "metadata": {
    "collapsed": true
   },
   "outputs": [],
   "source": []
  }
 ],
 "metadata": {
  "kernelspec": {
   "display_name": "Python 3",
   "language": "python",
   "name": "python3"
  },
  "language_info": {
   "codemirror_mode": {
    "name": "ipython",
    "version": 3
   },
   "file_extension": ".py",
   "mimetype": "text/x-python",
   "name": "python",
   "nbconvert_exporter": "python",
   "pygments_lexer": "ipython3",
   "version": "3.6.1"
  }
 },
 "nbformat": 4,
 "nbformat_minor": 2
}
