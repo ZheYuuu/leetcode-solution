{
 "cells": [
  {
   "cell_type": "code",
   "execution_count": null,
   "metadata": {
    "collapsed": true
   },
   "outputs": [],
   "source": [
    "传送带上的包裹必须在 D 天内从一个港口运送到另一个港口。\n",
    "\n",
    "传送带上的第 i 个包裹的重量为 weights[i]。每一天，我们都会按给出重量的顺序往传送带上装载包裹。我们装载的重量不会超过船的最大运载重量。\n",
    "\n",
    "返回能在 D 天内将传送带上的所有包裹送达的船的最低运载能力。\n",
    "\n",
    " \n",
    "\n",
    "示例 1：\n",
    "\n",
    "输入：weights = [1,2,3,4,5,6,7,8,9,10], D = 5\n",
    "输出：15\n",
    "解释：\n",
    "船舶最低载重 15 就能够在 5 天内送达所有包裹，如下所示：\n",
    "第 1 天：1, 2, 3, 4, 5\n",
    "第 2 天：6, 7\n",
    "第 3 天：8\n",
    "第 4 天：9\n",
    "第 5 天：10\n",
    "\n",
    "请注意，货物必须按照给定的顺序装运，因此使用载重能力为 14 的船舶并将包装分成 (2, 3, 4, 5), (1, 6, 7), (8), (9), (10) 是不允许的。 \n",
    "示例 2：\n",
    "\n",
    "输入：weights = [3,2,2,4,1,4], D = 3\n",
    "输出：6\n",
    "解释：\n",
    "船舶最低载重 6 就能够在 3 天内送达所有包裹，如下所示：\n",
    "第 1 天：3, 2\n",
    "第 2 天：2, 4\n",
    "第 3 天：1, 4\n",
    "示例 3：\n",
    "\n",
    "输入：weights = [1,2,3,1,1], D = 4\n",
    "输出：3\n",
    "解释：\n",
    "第 1 天：1\n",
    "第 2 天：2\n",
    "第 3 天：3\n",
    "第 4 天：1, 1\n",
    " \n",
    "\n",
    "提示：\n",
    "\n",
    "1 <= D <= weights.length <= 50000\n",
    "1 <= weights[i] <= 500"
   ]
  },
  {
   "cell_type": "code",
   "execution_count": null,
   "metadata": {
    "collapsed": true
   },
   "outputs": [],
   "source": [
    "class Solution(object):\n",
    "    def shipWithinDays(self, weights, D):\n",
    "        \"\"\"\n",
    "        :type weights: List[int]\n",
    "        :type D: int\n",
    "        :rtype: int\n",
    "        \"\"\"\n",
    "        def isValid(mid,weights,D):\n",
    "            tot,cnt =0,1\n",
    "            for w in weights:\n",
    "                if tot+w>mid:\n",
    "                    tot = w\n",
    "                    cnt += 1\n",
    "                else:\n",
    "                    tot += w\n",
    "            return cnt<=D\n",
    "        l = max(weights)\n",
    "        r = sum(weights)+1\n",
    "        while(l<r):\n",
    "            mid = l+(r-l)//2\n",
    "            if not isValid(mid,weights,D):\n",
    "                l = mid+1\n",
    "            else:\n",
    "                r = mid\n",
    "        return l\n",
    "        "
   ]
  },
  {
   "cell_type": "code",
   "execution_count": null,
   "metadata": {
    "collapsed": true
   },
   "outputs": [],
   "source": [
    "class Solution:\n",
    "    def shipWithinDays(self, a: List[int], d: int) -> int:\n",
    "        lo, hi = max(a), sum(a)   \n",
    "        while lo < hi:\n",
    "            mid = (lo + hi) // 2\n",
    "            tot, res = 0, 1\n",
    "            for wt in a:\n",
    "                if tot + wt > mid:\n",
    "                    res += 1\n",
    "                    tot = wt\n",
    "                else:\n",
    "                    tot += wt\n",
    "            if res <= d:\n",
    "                hi = mid\n",
    "            else:\n",
    "                lo = mid+1\n",
    "        return lo\n",
    "        "
   ]
  }
 ],
 "metadata": {
  "kernelspec": {
   "display_name": "Python 3",
   "language": "python",
   "name": "python3"
  },
  "language_info": {
   "codemirror_mode": {
    "name": "ipython",
    "version": 3
   },
   "file_extension": ".py",
   "mimetype": "text/x-python",
   "name": "python",
   "nbconvert_exporter": "python",
   "pygments_lexer": "ipython3",
   "version": "3.6.1"
  }
 },
 "nbformat": 4,
 "nbformat_minor": 2
}
