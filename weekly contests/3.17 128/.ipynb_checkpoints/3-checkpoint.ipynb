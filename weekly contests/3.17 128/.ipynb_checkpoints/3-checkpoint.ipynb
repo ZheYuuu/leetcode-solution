{
 "cells": [
  {
   "cell_type": "code",
   "execution_count": 114,
   "metadata": {
    "collapsed": true
   },
   "outputs": [],
   "source": [
    "传送带上的包裹必须在 D 天内从一个港口运送到另一个港口。\n",
    "\n",
    "传送带上的第 i 个包裹的重量为 weights[i]。每一天，我们都会按给出重量的顺序往传送带上装载包裹。我们装载的重量不会超过船的最大运载重量。\n",
    "\n",
    "返回能在 D 天内将传送带上的所有包裹送达的船的最低运载能力。\n",
    "\n",
    " \n",
    "\n",
    "示例 1：\n",
    "\n",
    "输入：weights = [1,2,3,4,5,6,7,8,9,10], D = 5\n",
    "输出：15\n",
    "解释：\n",
    "船舶最低载重 15 就能够在 5 天内送达所有包裹，如下所示：\n",
    "第 1 天：1, 2, 3, 4, 5\n",
    "第 2 天：6, 7\n",
    "第 3 天：8\n",
    "第 4 天：9\n",
    "第 5 天：10\n",
    "\n",
    "请注意，货物必须按照给定的顺序装运，因此使用载重能力为 14 的船舶并将包装分成 (2, 3, 4, 5), (1, 6, 7), (8), (9), (10) 是不允许的。 \n",
    "示例 2：\n",
    "\n",
    "输入：weights = [3,2,2,4,1,4], D = 3\n",
    "输出：6\n",
    "解释：\n",
    "船舶最低载重 6 就能够在 3 天内送达所有包裹，如下所示：\n",
    "第 1 天：3, 2\n",
    "第 2 天：2, 4\n",
    "第 3 天：1, 4\n",
    "示例 3：\n",
    "\n",
    "输入：weights = [1,2,3,1,1], D = 4\n",
    "输出：3\n",
    "解释：\n",
    "第 1 天：1\n",
    "第 2 天：2\n",
    "第 3 天：3\n",
    "第 4 天：1, 1\n",
    " \n",
    "\n",
    "提示：\n",
    "\n",
    "1 <= D <= weights.length <= 50000\n",
    "1 <= weights[i] <= 500"
   ]
  },
  {
   "cell_type": "code",
   "execution_count": null,
   "metadata": {
    "collapsed": true
   },
   "outputs": [],
   "source": [
    "class Solution(object):\n",
    "    def shipWithinDays(self, weights, D):\n",
    "        left, right = max(weights), sum(weights)\n",
    "        while left < right:\n",
    "            mid, need, cur = (left + right) / 2, 1, 0\n",
    "            for w in weights:\n",
    "                if cur + w > mid:\n",
    "                    need += 1\n",
    "                    cur = 0\n",
    "                cur += w\n",
    "            if need > D: left = mid + 1\n",
    "            else: right = mid\n",
    "        return left"
   ]
  },
  {
   "cell_type": "code",
   "execution_count": null,
   "metadata": {
    "collapsed": true
   },
   "outputs": [],
   "source": [
    "class Solution(object):\n",
    "    def shipWithinDays(self, weights, D):\n",
    "        \"\"\"\n",
    "        :type weights: List[int]\n",
    "        :type D: int\n",
    "        :rtype: int\n",
    "        \"\"\"\n",
    "        def func(w,target,cnt,pre):\n",
    "            print(w,target,pre,cnt)\n",
    "            if cnt>D:\n",
    "                return False\n",
    "            if cnt<=D and not w:\n",
    "                return True\n",
    "            idx = self.upperBound(w,target)\n",
    "            if idx != 0:\n",
    "                return func(w[idx:],target-pre+w[idx-1],cnt+1,w[idx-1])\n",
    "            else:\n",
    "                return False\n",
    "        \n",
    "        w = [0]\n",
    "        for i in range(len(weights)):\n",
    "            w.append(w[i]+weights[i])\n",
    "        w.pop(0)\n",
    "        first = 1\n",
    "        last = w[-1]+1\n",
    "        print(w)\n",
    "        while(first<last):\n",
    "            mid = first+(last-first)//2\n",
    "            isValid = func(w,mid,0,0)\n",
    "#             print(mid,isValid)\n",
    "#             print(\"-\"*30)\n",
    "            if not isValid:\n",
    "                first = mid+1\n",
    "            else:\n",
    "                last = mid\n",
    "        return first\n",
    "            \n",
    "    def upperBound(self,nums,target):\n",
    "        first = 0\n",
    "        last = len(nums)\n",
    "        while first<last:\n",
    "            mid = first + (last-first)//2\n",
    "            if nums[mid]<=target:\n",
    "                first = mid+1\n",
    "            else:\n",
    "                last = mid\n",
    "        return first"
   ]
  },
  {
   "cell_type": "code",
   "execution_count": 115,
   "metadata": {
    "collapsed": true
   },
   "outputs": [],
   "source": [
    "a = [1,2,3,4,5,6,7,8,9,10] #5\n",
    "b = [3,2,2,4,1,4] #3\n",
    "c = [1,2,3,1,1] #4"
   ]
  },
  {
   "cell_type": "code",
   "execution_count": 116,
   "metadata": {
    "collapsed": true
   },
   "outputs": [],
   "source": [
    "sol = Solution()"
   ]
  },
  {
   "cell_type": "code",
   "execution_count": 117,
   "metadata": {},
   "outputs": [
    {
     "name": "stdout",
     "output_type": "stream",
     "text": [
      "[1, 3, 6, 7, 8]\n",
      "[1, 3, 6, 7, 8] 5 0 0\n",
      "[6, 7, 8] 8 3 1\n",
      "[] 13 8 2\n",
      "[1, 3, 6, 7, 8] 3 0 0\n",
      "[6, 7, 8] 6 3 1\n",
      "[7, 8] 9 6 2\n",
      "[] 11 8 3\n",
      "[1, 3, 6, 7, 8] 2 0 0\n",
      "[3, 6, 7, 8] 3 1 1\n",
      "[6, 7, 8] 5 3 2\n"
     ]
    },
    {
     "data": {
      "text/plain": [
       "3"
      ]
     },
     "execution_count": 117,
     "metadata": {},
     "output_type": "execute_result"
    }
   ],
   "source": [
    "sol.shipWithinDays(c,4)"
   ]
  },
  {
   "cell_type": "code",
   "execution_count": 118,
   "metadata": {},
   "outputs": [
    {
     "name": "stdout",
     "output_type": "stream",
     "text": [
      "[1, 3, 6, 10, 15, 21, 28, 36, 45, 55]\n",
      "[1, 3, 6, 10, 15, 21, 28, 36, 45, 55] 28 0 0\n",
      "[36, 45, 55] 56 28 1\n",
      "[] 83 55 2\n",
      "[1, 3, 6, 10, 15, 21, 28, 36, 45, 55] 14 0 0\n",
      "[15, 21, 28, 36, 45, 55] 24 10 1\n",
      "[28, 36, 45, 55] 35 21 2\n",
      "[36, 45, 55] 42 28 3\n",
      "[45, 55] 50 36 4\n",
      "[55] 59 45 5\n",
      "[] 69 55 6\n",
      "[1, 3, 6, 10, 15, 21, 28, 36, 45, 55] 21 0 0\n",
      "[28, 36, 45, 55] 42 21 1\n",
      "[45, 55] 57 36 2\n",
      "[] 76 55 3\n",
      "[1, 3, 6, 10, 15, 21, 28, 36, 45, 55] 18 0 0\n",
      "[21, 28, 36, 45, 55] 33 15 1\n",
      "[36, 45, 55] 46 28 2\n",
      "[55] 63 45 3\n",
      "[] 73 55 4\n",
      "[1, 3, 6, 10, 15, 21, 28, 36, 45, 55] 16 0 0\n",
      "[21, 28, 36, 45, 55] 31 15 1\n",
      "[36, 45, 55] 44 28 2\n",
      "[45, 55] 52 36 3\n",
      "[55] 61 45 4\n",
      "[] 71 55 5\n",
      "[1, 3, 6, 10, 15, 21, 28, 36, 45, 55] 15 0 0\n",
      "[21, 28, 36, 45, 55] 30 15 1\n",
      "[36, 45, 55] 43 28 2\n",
      "[45, 55] 51 36 3\n",
      "[55] 60 45 4\n",
      "[] 70 55 5\n"
     ]
    },
    {
     "data": {
      "text/plain": [
       "15"
      ]
     },
     "execution_count": 118,
     "metadata": {},
     "output_type": "execute_result"
    }
   ],
   "source": [
    "sol.shipWithinDays(a,5)"
   ]
  },
  {
   "cell_type": "code",
   "execution_count": 119,
   "metadata": {},
   "outputs": [
    {
     "name": "stdout",
     "output_type": "stream",
     "text": [
      "[3, 5, 7, 11, 12, 16]\n",
      "[3, 5, 7, 11, 12, 16] 9 0 0\n",
      "[11, 12, 16] 16 7 1\n",
      "[] 25 16 2\n",
      "[3, 5, 7, 11, 12, 16] 5 0 0\n",
      "[7, 11, 12, 16] 10 5 1\n",
      "[11, 12, 16] 12 7 2\n",
      "[16] 17 12 3\n",
      "[] 21 16 4\n",
      "[3, 5, 7, 11, 12, 16] 7 0 0\n",
      "[11, 12, 16] 14 7 1\n",
      "[16] 19 12 2\n",
      "[] 23 16 3\n",
      "[3, 5, 7, 11, 12, 16] 6 0 0\n",
      "[7, 11, 12, 16] 11 5 1\n",
      "[12, 16] 17 11 2\n",
      "[] 22 16 3\n"
     ]
    },
    {
     "data": {
      "text/plain": [
       "6"
      ]
     },
     "execution_count": 119,
     "metadata": {},
     "output_type": "execute_result"
    }
   ],
   "source": [
    "sol.shipWithinDays(b,3)"
   ]
  },
  {
   "cell_type": "code",
   "execution_count": null,
   "metadata": {
    "collapsed": true
   },
   "outputs": [],
   "source": []
  }
 ],
 "metadata": {
  "kernelspec": {
   "display_name": "Python 3",
   "language": "python",
   "name": "python3"
  },
  "language_info": {
   "codemirror_mode": {
    "name": "ipython",
    "version": 3
   },
   "file_extension": ".py",
   "mimetype": "text/x-python",
   "name": "python",
   "nbconvert_exporter": "python",
   "pygments_lexer": "ipython3",
   "version": "3.6.1"
  }
 },
 "nbformat": 4,
 "nbformat_minor": 2
}
