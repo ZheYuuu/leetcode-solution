{
 "cells": [
  {
   "cell_type": "code",
   "execution_count": 26,
   "metadata": {
    "collapsed": true
   },
   "outputs": [],
   "source": [
    "import collections\n",
    "class Solution(object):\n",
    "    def numPairsDivisibleBy60(self, time):\n",
    "        \"\"\"\n",
    "        :type time: List[int]\n",
    "        :rtype: int\n",
    "        \"\"\"\n",
    "        mapping = collections.defaultdict(list)\n",
    "        for i,t in enumerate(time):\n",
    "            mapping[t%60].append(i)\n",
    "#         print(mapping)\n",
    "        ret = 0\n",
    "        for i,t in enumerate(time):\n",
    "            key = (60-(t%60))%60   \n",
    "            tmp = mapping[key]\n",
    "            for idx,val in enumerate(tmp):\n",
    "                if val>i:\n",
    "                    ret += len(tmp)-idx \n",
    "                    break\n",
    "        return ret\n",
    "        "
   ]
  },
  {
   "cell_type": "code",
   "execution_count": 27,
   "metadata": {
    "collapsed": true
   },
   "outputs": [],
   "source": [
    "sol = Solution()"
   ]
  },
  {
   "cell_type": "code",
   "execution_count": 28,
   "metadata": {},
   "outputs": [
    {
     "data": {
      "text/plain": [
       "3"
      ]
     },
     "execution_count": 28,
     "metadata": {},
     "output_type": "execute_result"
    }
   ],
   "source": [
    "sol.numPairsDivisibleBy60([60,60,60])"
   ]
  },
  {
   "cell_type": "code",
   "execution_count": null,
   "metadata": {
    "collapsed": true
   },
   "outputs": [],
   "source": []
  }
 ],
 "metadata": {
  "kernelspec": {
   "display_name": "Python 3",
   "language": "python",
   "name": "python3"
  },
  "language_info": {
   "codemirror_mode": {
    "name": "ipython",
    "version": 3
   },
   "file_extension": ".py",
   "mimetype": "text/x-python",
   "name": "python",
   "nbconvert_exporter": "python",
   "pygments_lexer": "ipython3",
   "version": "3.6.1"
  }
 },
 "nbformat": 4,
 "nbformat_minor": 2
}
