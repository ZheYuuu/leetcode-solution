{
 "cells": [
  {
   "cell_type": "code",
   "execution_count": null,
   "metadata": {
    "collapsed": true
   },
   "outputs": [],
   "source": [
    "给定有效字符串 \"abc\"。\n",
    "\n",
    "对于任何有效的字符串 V，我们可以将 V 分成两个部分 X 和 Y，使得 X + Y（X 与 Y 连接）等于 V。（X 或 Y 可以为空。）那么，X + \"abc\" + Y 也同样是有效的。\n",
    "\n",
    "例如，如果 S = \"abc\"，则有效字符串的示例是：\"abc\"，\"aabcbc\"，\"abcabc\"，\"abcabcababcc\"。无效字符串的示例是：\"abccba\"，\"ab\"，\"cababc\"，\"bac\"。\n",
    "\n",
    "如果给定字符串 S 有效，则返回 true；否则，返回 false。\n",
    "\n",
    " \n",
    "\n",
    "示例 1：\n",
    "\n",
    "输入：\"aabcbc\"\n",
    "输出：true\n",
    "解释：\n",
    "从有效字符串 \"abc\" 开始。\n",
    "然后我们可以在 \"a\" 和 \"bc\" 之间插入另一个 \"abc\"，产生 \"a\" + \"abc\" + \"bc\"，即 \"aabcbc\"。\n",
    "示例 2：\n",
    "\n",
    "输入：\"abcabcababcc\"\n",
    "输出：true\n",
    "解释：\n",
    "\"abcabcabc\" 是有效的，它可以视作在原串后连续插入 \"abc\"。\n",
    "然后我们可以在最后一个字母之前插入 \"abc\"，产生 \"abcabcab\" + \"abc\" + \"c\"，即 \"abcabcababcc\"。\n",
    "示例 3：\n",
    "\n",
    "输入：\"abccba\"\n",
    "输出：false\n",
    "示例 4：\n",
    "\n",
    "输入：\"cababc\"\n",
    "输出：false\n",
    " \n",
    "\n",
    "提示：\n",
    "\n",
    "1 <= S.length <= 20000\n",
    "S[i] 为 'a'、'b'、或 'c'"
   ]
  },
  {
   "cell_type": "code",
   "execution_count": null,
   "metadata": {
    "collapsed": true
   },
   "outputs": [],
   "source": [
    "# 这样死活过不了\n",
    "class Solution(object):\n",
    "    def __init__(self):\n",
    "        self.memo = {\"\":True,\"abc\":True}\n",
    "    def isValid(self, S):\n",
    "        \"\"\"\n",
    "        :type S: str\n",
    "        :rtype: bool\n",
    "        \"\"\"\n",
    "        if S in self.memo:\n",
    "            return self.memo[S]\n",
    "        if S==\"\":\n",
    "            return True\n",
    "        for i in range(len(S)-2):\n",
    "            if S[i:i+3]==\"abc\":\n",
    "                cur = S[:i]+S[i+3:]\n",
    "                if cur in self.memo:\n",
    "                    if self.memo[cur]:\n",
    "                        return True\n",
    "                    else:\n",
    "                        continue\n",
    "                if self.isValid(cur):\n",
    "                    self.memo[S] = True\n",
    "                    self.memo[cur] = True\n",
    "                    return True\n",
    "                else:\n",
    "                    self.memo[S] = False\n",
    "                    self.memo[cur] = False\n",
    "        return False\n",
    "        "
   ]
  },
  {
   "cell_type": "code",
   "execution_count": null,
   "metadata": {
    "collapsed": true
   },
   "outputs": [],
   "source": [
    "# 直接消除最前面的，可过\n",
    "class Solution(object):\n",
    "    def isValid(self, S):\n",
    "        \"\"\"\n",
    "        :type S: str\n",
    "        :rtype: bool\n",
    "        \"\"\"\n",
    "        l = len(S)\n",
    "        if l < 3:\n",
    "            return False\n",
    "        if S == \"abc\":\n",
    "            return True\n",
    "        if S[0] == \"b\" or S[0] == \"c\":\n",
    "            return False\n",
    "        if \"abc\" in S:    \n",
    "            index = S.index(\"abc\")\n",
    "        else:\n",
    "            return False\n",
    "        S = S[: index] + S[index + 3:]\n",
    "        return self.isValid(S)\n"
   ]
  }
 ],
 "metadata": {
  "kernelspec": {
   "display_name": "Python 3",
   "language": "python",
   "name": "python3"
  },
  "language_info": {
   "codemirror_mode": {
    "name": "ipython",
    "version": 3
   },
   "file_extension": ".py",
   "mimetype": "text/x-python",
   "name": "python",
   "nbconvert_exporter": "python",
   "pygments_lexer": "ipython3",
   "version": "3.6.1"
  }
 },
 "nbformat": 4,
 "nbformat_minor": 2
}
