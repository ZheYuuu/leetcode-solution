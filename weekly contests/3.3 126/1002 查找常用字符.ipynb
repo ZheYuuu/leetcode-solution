{
 "cells": [
  {
   "cell_type": "code",
   "execution_count": null,
   "metadata": {
    "collapsed": true
   },
   "outputs": [],
   "source": []
  },
  {
   "cell_type": "code",
   "execution_count": null,
   "metadata": {
    "collapsed": true
   },
   "outputs": [],
   "source": [
    "1002. \n",
    "给定仅有小写字母组成的字符串数组 A，返回列表中的每个字符串中都显示的全部字符（包括重复字符）组成的列表。例如，如果一个字符在每个字符串中出现 3 次，但不是 4 次，则需要在最终答案中包含该字符 3 次。\n",
    "\n",
    "你可以按任意顺序返回答案。\n",
    "\n",
    " \n",
    "\n",
    "示例 1：\n",
    "\n",
    "输入：[\"bella\",\"label\",\"roller\"]\n",
    "输出：[\"e\",\"l\",\"l\"]\n",
    "示例 2：\n",
    "\n",
    "输入：[\"cool\",\"lock\",\"cook\"]\n",
    "输出：[\"c\",\"o\"]\n",
    " \n",
    "\n",
    "提示：\n",
    "\n",
    "1 <= A.length <= 100\n",
    "1 <= A[i].length <= 100\n",
    "A[i][j] 是小写字母"
   ]
  },
  {
   "cell_type": "code",
   "execution_count": null,
   "metadata": {
    "collapsed": true
   },
   "outputs": [],
   "source": [
    "class Solution(object):\n",
    "    def commonChars(self, A):\n",
    "        \"\"\"\n",
    "        :type A: List[str]\n",
    "        :rtype: List[str]\n",
    "        \"\"\"\n",
    "        letters = [\"a\",'b','c','d',\"e\",\"f\",\"g\",\"h\",\"i\",\"j\",'k','l','m','n',\"o\",'p','q',\"r\",'s',\"t\",\"u\",'v','w','x','y','z']\n",
    "        ret = []\n",
    "        hashtable = []\n",
    "        for a in A:\n",
    "            hashcode = []\n",
    "            a = list(a)\n",
    "            a = sorted(a)\n",
    "            i = 0\n",
    "            for letter in letters:\n",
    "                cnt = 0\n",
    "                while(i<len(a) and a[i]==letter):\n",
    "                    cnt+=1\n",
    "                    i+=1\n",
    "                hashcode.append(cnt)\n",
    "            hashtable.append(hashcode)\n",
    "        # print(hashtable)\n",
    "        for i in range(26):\n",
    "            min_ = float(\"inf\")\n",
    "            for h in hashtable:\n",
    "                min_ = min(h[i],min_)\n",
    "            # print(min_)\n",
    "            for _ in range(min_):\n",
    "                ret.append(letters[i])\n",
    "        return ret"
   ]
  }
 ],
 "metadata": {
  "kernelspec": {
   "display_name": "Python 3",
   "language": "python",
   "name": "python3"
  },
  "language_info": {
   "codemirror_mode": {
    "name": "ipython",
    "version": 3
   },
   "file_extension": ".py",
   "mimetype": "text/x-python",
   "name": "python",
   "nbconvert_exporter": "python",
   "pygments_lexer": "ipython3",
   "version": "3.6.1"
  }
 },
 "nbformat": 4,
 "nbformat_minor": 2
}
