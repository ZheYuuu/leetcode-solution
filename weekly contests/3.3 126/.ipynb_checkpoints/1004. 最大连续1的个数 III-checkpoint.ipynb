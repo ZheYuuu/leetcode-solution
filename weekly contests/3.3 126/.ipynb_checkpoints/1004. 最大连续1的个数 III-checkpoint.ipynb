{
 "cells": [
  {
   "cell_type": "code",
   "execution_count": null,
   "metadata": {
    "collapsed": true
   },
   "outputs": [],
   "source": [
    "给定一个由若干 0 和 1 组成的数组 A，我们最多可以将 K 个值从 0 变成 1 。\n",
    "\n",
    "返回仅包含 1 的最长（连续）子数组的长度。\n",
    "\n",
    " \n",
    "\n",
    "示例 1：\n",
    "\n",
    "输入：A = [1,1,1,0,0,0,1,1,1,1,0], K = 2\n",
    "输出：6\n",
    "解释： \n",
    "[1,1,1,0,0,1,1,1,1,1,1]\n",
    "粗体数字从 0 翻转到 1，最长的子数组长度为 6。\n",
    "示例 2：\n",
    "\n",
    "输入：A = [0,0,1,1,0,0,1,1,1,0,1,1,0,0,0,1,1,1,1], K = 3\n",
    "输出：10\n",
    "解释：\n",
    "[0,0,1,1,1,1,1,1,1,1,1,1,0,0,0,1,1,1,1]\n",
    "粗体数字从 0 翻转到 1，最长的子数组长度为 10。\n",
    " \n",
    "\n",
    "提示：\n",
    "\n",
    "1 <= A.length <= 20000\n",
    "0 <= K <= A.length\n",
    "A[i] 为 0 或 1 "
   ]
  },
  {
   "cell_type": "code",
   "execution_count": 17,
   "metadata": {
    "collapsed": true
   },
   "outputs": [],
   "source": [
    "# 双指针 记录0的个数，如果cnt>k，则把左指针移至当前区间第二个0处\n",
    "class Solution(object):\n",
    "    def longestOnes(self, A, K):\n",
    "        \"\"\"\n",
    "        :type A: List[int]\n",
    "        :type K: int\n",
    "        :rtype: int\n",
    "        \"\"\"\n",
    "        l,r = 0,0\n",
    "        cnt = 0\n",
    "        ret = 0\n",
    "        while(r<len(A)):\n",
    "            if A[r]==1:    \n",
    "                ret = max(r-l+1,ret)\n",
    "                r += 1\n",
    "            else:\n",
    "                cnt += 1\n",
    "                if cnt<=K:\n",
    "                    ret = max(r-l+1,ret)\n",
    "                    \n",
    "                else:\n",
    "                    cnt-=1\n",
    "                    while(A[l]!=0):\n",
    "                        l = l+1\n",
    "                    l = l+1\n",
    "                    ret = max(r-l+1,ret)\n",
    "                    \n",
    "                r +=1\n",
    "        return ret\n",
    "                    \n",
    "                \n",
    "                \n",
    "        "
   ]
  },
  {
   "cell_type": "code",
   "execution_count": 19,
   "metadata": {},
   "outputs": [
    {
     "data": {
      "text/plain": [
       "6"
      ]
     },
     "execution_count": 19,
     "metadata": {},
     "output_type": "execute_result"
    }
   ],
   "source": [
    "sol = Solution()\n",
    "sol.longestOnes([1,1,1,0,0,0,1,1,1,1,0],2)"
   ]
  },
  {
   "cell_type": "code",
   "execution_count": null,
   "metadata": {
    "collapsed": true
   },
   "outputs": [],
   "source": []
  }
 ],
 "metadata": {
  "kernelspec": {
   "display_name": "Python 3",
   "language": "python",
   "name": "python3"
  },
  "language_info": {
   "codemirror_mode": {
    "name": "ipython",
    "version": 3
   },
   "file_extension": ".py",
   "mimetype": "text/x-python",
   "name": "python",
   "nbconvert_exporter": "python",
   "pygments_lexer": "ipython3",
   "version": "3.6.1"
  }
 },
 "nbformat": 4,
 "nbformat_minor": 2
}
