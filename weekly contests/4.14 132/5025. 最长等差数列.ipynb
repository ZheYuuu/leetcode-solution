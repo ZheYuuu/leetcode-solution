{
 "cells": [
  {
   "cell_type": "code",
   "execution_count": null,
   "metadata": {
    "collapsed": true
   },
   "outputs": [],
   "source": [
    "给定一个整数数组 A，返回 A 中最长等差子序列的长度。\n",
    "\n",
    "回想一下，A 的子序列是列表 A[i_1], A[i_2], ..., A[i_k] 其中 0 <= i_1 < i_2 < ... < i_k <= A.length - 1。并且如果 B[i+1] - B[i]( 0 <= i < B.length - 1) 的值都相同，那么序列 B 是等差的。\n",
    "\n",
    " \n",
    "\n",
    "示例 1：\n",
    "\n",
    "输入：[3,6,9,12]\n",
    "输出：4\n",
    "解释： \n",
    "整个数组是公差为 3 的等差数列。\n",
    "示例 2：\n",
    "\n",
    "输入：[9,4,7,2,10]\n",
    "输出：3\n",
    "解释：\n",
    "最长的等差子序列是 [4,7,10]。\n",
    "示例 3：\n",
    "\n",
    "输入：[20,1,15,3,10,5,8]\n",
    "输出：4\n",
    "解释：\n",
    "最长的等差子序列是 [20,15,10,5]。\n",
    " \n",
    "\n",
    "提示：\n",
    "\n",
    "2 <= A.length <= 2000\n",
    "0 <= A[i] <= 10000"
   ]
  },
  {
   "cell_type": "code",
   "execution_count": null,
   "metadata": {
    "collapsed": true
   },
   "outputs": [],
   "source": [
    "class Solution(object):\n",
    "    def longestArithSeqLength(self, A):\n",
    "        \"\"\"\n",
    "        :type A: List[int]\n",
    "        :rtype: int\n",
    "        \"\"\"\n",
    "        dp = {}\n",
    "        for i in range(len(A)):\n",
    "            for j in range(0,i):\n",
    "                dif = A[i]-A[j]\n",
    "                dp[(i,dif)] = max(dp.get((j,dif),1)+1, dp.get((i,dif),1))\n",
    "        return max(dp.values())\n",
    "                    \n",
    "                \n",
    "        "
   ]
  }
 ],
 "metadata": {
  "kernelspec": {
   "display_name": "Python 3",
   "language": "python",
   "name": "python3"
  },
  "language_info": {
   "codemirror_mode": {
    "name": "ipython",
    "version": 3
   },
   "file_extension": ".py",
   "mimetype": "text/x-python",
   "name": "python",
   "nbconvert_exporter": "python",
   "pygments_lexer": "ipython3",
   "version": "3.6.1"
  }
 },
 "nbformat": 4,
 "nbformat_minor": 2
}
