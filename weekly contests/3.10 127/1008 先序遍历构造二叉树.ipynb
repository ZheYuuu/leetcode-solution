{
 "cells": [
  {
   "cell_type": "code",
   "execution_count": null,
   "metadata": {
    "collapsed": true
   },
   "outputs": [],
   "source": [
    "返回与给定先序遍历 preorder 相匹配的二叉搜索树（binary search tree）的根结点。\n",
    "\n",
    "(回想一下，二叉搜索树是二叉树的一种，其每个节点都满足以下规则，对于 node.left 的任何后代，值总 < node.val，而 node.right 的任何后代，值总 > node.val。此外，先序遍历首先显示节点的值，然后遍历 node.left，接着遍历 node.right。）\n",
    "\n",
    " \n",
    "\n",
    "示例：\n",
    "\n",
    "输入：[8,5,1,7,10,12]\n",
    "输出：[8,5,10,1,7,null,12]\n",
    "\n",
    " \n",
    "\n",
    "提示：\n",
    "\n",
    "1 <= preorder.length <= 100\n",
    "先序 preorder 中的值是不同的。"
   ]
  },
  {
   "cell_type": "code",
   "execution_count": null,
   "metadata": {
    "collapsed": true
   },
   "outputs": [],
   "source": [
    "# Definition for a binary tree node.\n",
    "# class TreeNode(object):\n",
    "#     def __init__(self, x):\n",
    "#         self.val = x\n",
    "#         self.left = None\n",
    "#         self.right = None\n",
    "\n",
    "class Solution(object):\n",
    "    def bstFromPreorder(self, preorder):\n",
    "        \"\"\"\n",
    "        :type preorder: List[int]\n",
    "        :rtype: TreeNode\n",
    "        \"\"\"\n",
    "        if len(preorder)<1:\n",
    "            return None\n",
    "        root = TreeNode(preorder[0])\n",
    "        right = len(preorder)\n",
    "        for i in range(1,len(preorder)):\n",
    "            if preorder[i]>preorder[0]:\n",
    "                # print(\"!\")\n",
    "                right = i\n",
    "                break\n",
    "        # print(preorder[right],right)\n",
    "        root.left = self.bstFromPreorder(preorder[1:right])\n",
    "        root.right = self.bstFromPreorder(preorder[right:])\n",
    "        return root\n",
    "        "
   ]
  }
 ],
 "metadata": {
  "kernelspec": {
   "display_name": "Python 3",
   "language": "python",
   "name": "python3"
  },
  "language_info": {
   "codemirror_mode": {
    "name": "ipython",
    "version": 3
   },
   "file_extension": ".py",
   "mimetype": "text/x-python",
   "name": "python",
   "nbconvert_exporter": "python",
   "pygments_lexer": "ipython3",
   "version": "3.6.1"
  }
 },
 "nbformat": 4,
 "nbformat_minor": 2
}
