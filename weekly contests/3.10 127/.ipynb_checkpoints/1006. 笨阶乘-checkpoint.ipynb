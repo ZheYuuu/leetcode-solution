{
 "cells": [
  {
   "cell_type": "code",
   "execution_count": null,
   "metadata": {
    "collapsed": true
   },
   "outputs": [],
   "source": [
    "通常，正整数 n 的阶乘是所有小于或等于 n 的正整数的乘积。例如，factorial(10) = 10 * 9 * 8 * 7 * 6 * 5 * 4 * 3 * 2 * 1。\n",
    "\n",
    "相反，我们设计了一个笨阶乘 clumsy：在整数的递减序列中，我们以一个固定顺序的操作符序列来依次替换原有的乘法操作符：乘法(*)，除法(/)，加法(+)和减法(-)。\n",
    "\n",
    "例如，clumsy(10) = 10 * 9 / 8 + 7 - 6 * 5 / 4 + 3 - 2 * 1。然而，这些运算仍然使用通常的算术运算顺序：我们在任何加、减步骤之前执行所有的乘法和除法步骤，并且按从左到右处理乘法和除法步骤。\n",
    "\n",
    "另外，我们使用的除法是地板除法（floor division），所以 10 * 9 / 8 等于 11。这保证结果是一个整数。\n",
    "\n",
    "实现上面定义的笨函数：给定一个整数 N，它返回 N 的笨阶乘。\n",
    "\n",
    " \n",
    "\n",
    "示例 1：\n",
    "\n",
    "输入：4\n",
    "输出：7\n",
    "解释：7 = 4 * 3 / 2 + 1\n",
    "示例 2：\n",
    "\n",
    "输入：10\n",
    "输出：12\n",
    "解释：12 = 10 * 9 / 8 + 7 - 6 * 5 / 4 + 3 - 2 * 1\n",
    " \n",
    "\n",
    "提示：\n",
    "\n",
    "1 <= N <= 10000\n",
    "-2^31 <= answer <= 2^31 - 1  （答案保证符合 32 位整数。）\n"
   ]
  },
  {
   "cell_type": "code",
   "execution_count": null,
   "metadata": {
    "collapsed": true
   },
   "outputs": [],
   "source": [
    "class Solution(object):\n",
    "    def clumsy(self, N):\n",
    "        \"\"\"\n",
    "        :type N: int\n",
    "        :rtype: int\n",
    "        \"\"\"\n",
    "        if N==1:\n",
    "            return 1\n",
    "        elif N==2:\n",
    "            return 2\n",
    "        elif N==3:\n",
    "            return 6\n",
    "        arr = [i for i in range(N,0,-1)]\n",
    "        print(arr)\n",
    "        self.res = []\n",
    "        def func(arr):\n",
    "            if len(arr)>=4:\n",
    "                tmp = int(arr[0]*arr[1]/arr[2])-arr[3]\n",
    "                self.res.append(tmp)\n",
    "                func(arr[4:])\n",
    "            elif len(arr)==3:\n",
    "                self.res.append(int(arr[0]*arr[1]/arr[2]))\n",
    "            elif len(arr)==2:\n",
    "                self.res.append(arr[0]*arr[1])\n",
    "            elif len(arr)==1:\n",
    "                self.res.append(arr[0])\n",
    "            else:\n",
    "                self.res.append(0)\n",
    "        print(self.res)\n",
    "        func(arr)\n",
    "\n",
    "        return self.res[0] - sum(self.res[1:]) + 2*arr[3]\n"
   ]
  },
  {
   "cell_type": "code",
   "execution_count": 8,
   "metadata": {
    "collapsed": true
   },
   "outputs": [],
   "source": [
    "sol = Solution()"
   ]
  },
  {
   "cell_type": "code",
   "execution_count": 10,
   "metadata": {},
   "outputs": [
    {
     "name": "stdout",
     "output_type": "stream",
     "text": [
      "[4, 3, 2, 1]\n",
      "[]\n"
     ]
    },
    {
     "data": {
      "text/plain": [
       "7"
      ]
     },
     "execution_count": 10,
     "metadata": {},
     "output_type": "execute_result"
    }
   ],
   "source": [
    "sol.clumsy(4)"
   ]
  },
  {
   "cell_type": "code",
   "execution_count": 12,
   "metadata": {},
   "outputs": [
    {
     "data": {
      "text/plain": [
       "{'1', '2', '3', '4'}"
      ]
     },
     "execution_count": 12,
     "metadata": {},
     "output_type": "execute_result"
    }
   ],
   "source": [
    "set(\"1234\")"
   ]
  },
  {
   "cell_type": "code",
   "execution_count": null,
   "metadata": {
    "collapsed": true
   },
   "outputs": [],
   "source": []
  }
 ],
 "metadata": {
  "kernelspec": {
   "display_name": "Python 3",
   "language": "python",
   "name": "python3"
  },
  "language_info": {
   "codemirror_mode": {
    "name": "ipython",
    "version": 3
   },
   "file_extension": ".py",
   "mimetype": "text/x-python",
   "name": "python",
   "nbconvert_exporter": "python",
   "pygments_lexer": "ipython3",
   "version": "3.6.1"
  }
 },
 "nbformat": 4,
 "nbformat_minor": 2
}
