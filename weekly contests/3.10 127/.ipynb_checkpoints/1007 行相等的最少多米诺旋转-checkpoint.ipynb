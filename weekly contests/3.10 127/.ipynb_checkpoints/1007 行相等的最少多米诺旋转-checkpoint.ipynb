{
 "cells": [
  {
   "cell_type": "code",
   "execution_count": null,
   "metadata": {
    "collapsed": true
   },
   "outputs": [],
   "source": [
    "在一排多米诺骨牌中，A[i] 和 B[i] 分别代表第 i 个多米诺骨牌的上半部分和下半部分。（一个多米诺是两个从 1 到 6 的数字同列平铺形成的 —— 该平铺的每一半上都有一个数字。）\n",
    "\n",
    "我们可以旋转第 i 张多米诺，使得 A[i] 和 B[i] 的值交换。\n",
    "\n",
    "返回能使 A 中所有值或者 B 中所有值都相同的最小旋转次数。\n",
    "\n",
    "如果无法做到，返回 -1.\n",
    "\n",
    " \n",
    "\n",
    "示例 1：\n",
    "\n",
    "\n",
    "\n",
    "输入：A = [2,1,2,4,2,2], B = [5,2,6,2,3,2]\n",
    "输出：2\n",
    "解释：\n",
    "图一表示：在我们旋转之前， A 和 B 给出的多米诺牌。\n",
    "如果我们旋转第二个和第四个多米诺骨牌，我们可以使上面一行中的每个值都等于 2，如图二所示。\n",
    "示例 2：\n",
    "\n",
    "输入：A = [3,5,1,2,3], B = [3,6,3,3,4]\n",
    "输出：-1\n",
    "解释：\n",
    "在这种情况下，不可能旋转多米诺牌使一行的值相等。\n",
    " \n",
    "\n",
    "提示：\n",
    "\n",
    "1 <= A[i], B[i] <= 6\n",
    "2 <= A.length == B.length <= 20000"
   ]
  },
  {
   "cell_type": "code",
   "execution_count": null,
   "metadata": {
    "collapsed": true
   },
   "outputs": [],
   "source": [
    "import collections\n",
    "class Solution(object):\n",
    "    def minDominoRotations(self, A, B):\n",
    "        \"\"\"\n",
    "        :type A: List[int]\n",
    "        :type B: List[int]\n",
    "        :rtype: int\n",
    "        \"\"\"\n",
    "        mapping_a = collections.defaultdict(list)\n",
    "        mapping_b = collections.defaultdict(list)\n",
    "        for i,val in enumerate(A):\n",
    "            mapping_a[val].append(str(i))\n",
    "        for i,val in enumerate(B):\n",
    "            mapping_b[val].append(str(i))\n",
    "        ret = float(\"inf\")\n",
    "        \n",
    "#         print(mapping_a)\n",
    "#         print(mapping_b)\n",
    "        for i in range(1,7):\n",
    "            set_a = set(mapping_a[i])\n",
    "            set_b = set(mapping_b[i])\n",
    "#             print(set_a,set_b)\n",
    "#             print(set_a|set_b)\n",
    "            \n",
    "            if set_a|set_b == set([str(i) for i in range(len(A))]):\n",
    "                if len(set_a)<len(set_b):\n",
    "                    local_min = len(set_a) - len(set_a&set_b)\n",
    "                else:\n",
    "                    local_min = len(set_b) - len(set_a&set_b)\n",
    "#                 print(len(set_b) , len(set_a&set_b),local_min)\n",
    "                ret = min(ret,local_min)\n",
    "#             print(\"-\"*10)\n",
    "        return ret if ret<float(\"inf\") else -1\n",
    "        "
   ]
  },
  {
   "cell_type": "code",
   "execution_count": 50,
   "metadata": {
    "collapsed": true
   },
   "outputs": [],
   "source": [
    "sol = Solution()"
   ]
  },
  {
   "cell_type": "code",
   "execution_count": 51,
   "metadata": {},
   "outputs": [
    {
     "data": {
      "text/plain": [
       "-1"
      ]
     },
     "execution_count": 51,
     "metadata": {},
     "output_type": "execute_result"
    }
   ],
   "source": [
    "sol.minDominoRotations([1,1,1,1,1,1,1,1,1,1,1,1,2,2,2,2,2,2,2,1,1,1,1,1,2,1,2,2,1,1,2,2,2,2,2,1,1,2,2,2,2,1,2,1,1,2,1,1,1,1,2,1,2,2,2,1,2,1,2,2,1,2,1,2]\n",
    ",[2,1,1,1,2,1,2,1,2,2,1,1,1,2,1,2,2,1,2,2,2,1,2,2,1,1,1,2,1,2,2,1,2,1,1,2,1,1,1,2,1,2,2,2,2,1,2,1,1,2,1,2,2,1,2,1,1,2,2,1,2,1,1,2])"
   ]
  },
  {
   "cell_type": "code",
   "execution_count": null,
   "metadata": {
    "collapsed": true
   },
   "outputs": [],
   "source": []
  }
 ],
 "metadata": {
  "kernelspec": {
   "display_name": "Python 3",
   "language": "python",
   "name": "python3"
  },
  "language_info": {
   "codemirror_mode": {
    "name": "ipython",
    "version": 3
   },
   "file_extension": ".py",
   "mimetype": "text/x-python",
   "name": "python",
   "nbconvert_exporter": "python",
   "pygments_lexer": "ipython3",
   "version": "3.6.1"
  }
 },
 "nbformat": 4,
 "nbformat_minor": 2
}
