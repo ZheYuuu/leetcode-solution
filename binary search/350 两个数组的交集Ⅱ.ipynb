{
 "cells": [
  {
   "cell_type": "code",
   "execution_count": null,
   "metadata": {
    "collapsed": true
   },
   "outputs": [],
   "source": [
    "给定两个数组，编写一个函数来计算它们的交集。\n",
    "\n",
    "示例 1:\n",
    "\n",
    "输入: nums1 = [1,2,2,1], nums2 = [2,2]\n",
    "输出: [2,2]\n",
    "示例 2:\n",
    "\n",
    "输入: nums1 = [4,9,5], nums2 = [9,4,9,8,4]\n",
    "输出: [4,9]\n",
    "说明：\n",
    "\n",
    "输出结果中每个元素出现的次数，应与元素在两个数组中出现的次数一致。\n",
    "我们可以不考虑输出结果的顺序。\n",
    "进阶:\n",
    "\n",
    "如果给定的数组已经排好序呢？你将如何优化你的算法？\n",
    "如果 nums1 的大小比 nums2 小很多，哪种方法更优？  \n",
    "如果 nums2 的元素存储在磁盘上，磁盘内存是有限的，并且你不能一次加载所有的元素到内存中，你该怎么办？\n",
    "\n",
    "·If only nums2 cannot fit in memory, put all elements of nums1 into a HashMap, \n",
    "read chunks of array that fit into the memory, and record the intersections.\n",
    "\n",
    "·If both nums1 and nums2 are so huge that neither fit into the memory, \n",
    "sort them individually (external sort), then read 2----->2 chunk(如果只读两个，磁盘io开销过大) of elements from each array at a time in memory, record intersections."
   ]
  },
  {
   "cell_type": "code",
   "execution_count": null,
   "metadata": {
    "collapsed": true
   },
   "outputs": [],
   "source": [
    "class Solution(object):\n",
    "    def intersect(self, nums1, nums2):\n",
    "        \"\"\"\n",
    "        :type nums1: List[int]\n",
    "        :type nums2: List[int]\n",
    "        :rtype: List[int]\n",
    "        \"\"\"\n",
    "        ret = []\n",
    "        if len(nums1)<len(nums2):\n",
    "            self.quickSort(nums1,0,len(nums1)-1)\n",
    "            hashMap = collections.Counter(nums1)\n",
    "            for num in nums2:\n",
    "                res = self.binarySearch(nums1,num)\n",
    "                if res!=-1 and hashMap[num]>=1:\n",
    "                    ret.append(num)\n",
    "                    hashMap[num] -= 1\n",
    "                    \n",
    "        else:\n",
    "            self.quickSort(nums2,0,len(nums2)-1)\n",
    "            hashMap = collections.Counter(nums2)\n",
    "            for num in nums1:\n",
    "                res = self.binarySearch(nums2,num)\n",
    "                if res!=-1 and hashMap[num]>=1:\n",
    "                    ret.append(num)\n",
    "                    hashMap[num] -= 1\n",
    "        return ret\n",
    "    \n",
    "    def binarySearch(self, nums, val):\n",
    "        first = 0\n",
    "        last = len(nums)\n",
    "        while(first<last):\n",
    "            mid = first + (last-first)//2\n",
    "            if nums[mid]<val:\n",
    "                first = mid+1\n",
    "            elif nums[mid]==val:\n",
    "                return mid\n",
    "            else:\n",
    "                last = mid\n",
    "        return -1\n",
    "        \n",
    "        \n",
    "    def quickSort(self,nums,p,r):\n",
    "        if p<r:\n",
    "            mid = self.partition(nums,p,r)\n",
    "            self.quickSort(nums,p,mid-1)\n",
    "            self.quickSort(nums,mid+1,r)\n",
    "            \n",
    "    def partition(self,nums,p,r):\n",
    "        x = nums[r]\n",
    "        i = p-1\n",
    "        for j in range(p,r):\n",
    "            if nums[j]<=x:\n",
    "                i = i+1 \n",
    "                nums[i],nums[j] = nums[j],nums[i]\n",
    "        nums[i+1],nums[r] = nums[r],nums[i+1]\n",
    "        return i+1    \n",
    "        "
   ]
  }
 ],
 "metadata": {
  "kernelspec": {
   "display_name": "Python 3",
   "language": "python",
   "name": "python3"
  },
  "language_info": {
   "codemirror_mode": {
    "name": "ipython",
    "version": 3
   },
   "file_extension": ".py",
   "mimetype": "text/x-python",
   "name": "python",
   "nbconvert_exporter": "python",
   "pygments_lexer": "ipython3",
   "version": "3.6.1"
  }
 },
 "nbformat": 4,
 "nbformat_minor": 2
}
