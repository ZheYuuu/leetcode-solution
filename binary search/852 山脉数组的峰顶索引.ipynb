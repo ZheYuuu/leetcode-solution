{
 "cells": [
  {
   "cell_type": "code",
   "execution_count": null,
   "metadata": {
    "collapsed": true
   },
   "outputs": [],
   "source": [
    "我们把符合下列属性的数组 A 称作山脉：\n",
    "\n",
    "A.length >= 3\n",
    "存在 0 < i < A.length - 1 使得A[0] < A[1] < ... A[i-1] < A[i] > A[i+1] > ... > A[A.length - 1]\n",
    "给定一个确定为山脉的数组，返回任何满足 A[0] < A[1] < ... A[i-1] < A[i] > A[i+1] > ... > A[A.length - 1] 的 i 的值。\n",
    "\n",
    " \n",
    "\n",
    "示例 1：\n",
    "\n",
    "输入：[0,1,0]\n",
    "输出：1\n",
    "示例 2：\n",
    "\n",
    "输入：[0,2,1,0]\n",
    "输出：1\n",
    " \n",
    "\n",
    "提示：\n",
    "\n",
    "3 <= A.length <= 10000\n",
    "0 <= A[i] <= 10^6\n",
    "A 是如上定义的山脉"
   ]
  },
  {
   "cell_type": "code",
   "execution_count": null,
   "metadata": {
    "collapsed": true
   },
   "outputs": [],
   "source": [
    "class Solution(object):\n",
    "    def peakIndexInMountainArray(self, A):\n",
    "        \"\"\"\n",
    "        :type A: List[int]\n",
    "        :rtype: int\n",
    "        \"\"\"\n",
    "        first = 0\n",
    "        last = len(A)\n",
    "#         循环不变式：1. [first0,first) 为递增区间，[last,last0)为递减区间\n",
    "#                     2.  first<last\n",
    "        while(first <last):\n",
    "            mid = first+(last-first)//2\n",
    "            if A[mid]<A[mid+1]:\n",
    "                first = mid+1\n",
    "            elif A[mid]>A[mid+1]:\n",
    "                last = mid\n",
    "        return first\n",
    "        \n",
    "        "
   ]
  }
 ],
 "metadata": {
  "kernelspec": {
   "display_name": "Python 3",
   "language": "python",
   "name": "python3"
  },
  "language_info": {
   "codemirror_mode": {
    "name": "ipython",
    "version": 3
   },
   "file_extension": ".py",
   "mimetype": "text/x-python",
   "name": "python",
   "nbconvert_exporter": "python",
   "pygments_lexer": "ipython3",
   "version": "3.6.1"
  }
 },
 "nbformat": 4,
 "nbformat_minor": 2
}
