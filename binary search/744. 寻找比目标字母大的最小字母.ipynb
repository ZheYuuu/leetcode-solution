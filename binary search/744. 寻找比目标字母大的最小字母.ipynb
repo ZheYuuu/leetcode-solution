{
 "cells": [
  {
   "cell_type": "code",
   "execution_count": null,
   "metadata": {
    "collapsed": true
   },
   "outputs": [],
   "source": [
    "给定一个只包含小写字母的有序数组letters 和一个目标字母 target，寻找有序数组里面比目标字母大的最小字母。\n",
    "\n",
    "数组里字母的顺序是循环的。举个例子，如果目标字母target = 'z' 并且有序数组为 letters = ['a', 'b']，则答案返回 'a'。\n",
    "\n",
    "示例:\n",
    "\n",
    "输入:\n",
    "letters = [\"c\", \"f\", \"j\"]\n",
    "target = \"a\"\n",
    "输出: \"c\"\n",
    "\n",
    "输入:\n",
    "letters = [\"c\", \"f\", \"j\"]\n",
    "target = \"c\"\n",
    "输出: \"f\"\n",
    "\n",
    "输入:\n",
    "letters = [\"c\", \"f\", \"j\"]\n",
    "target = \"d\"\n",
    "输出: \"f\"\n",
    "\n",
    "输入:\n",
    "letters = [\"c\", \"f\", \"j\"]\n",
    "target = \"g\"\n",
    "输出: \"j\"\n",
    "\n",
    "输入:\n",
    "letters = [\"c\", \"f\", \"j\"]\n",
    "target = \"j\"\n",
    "输出: \"c\"\n",
    "\n",
    "输入:\n",
    "letters = [\"c\", \"f\", \"j\"]\n",
    "target = \"k\"\n",
    "输出: \"c\"\n",
    "注:\n",
    "\n",
    "letters长度范围在[2, 10000]区间内。\n",
    "letters 仅由小写字母组成，最少包含两个不同的字母。\n",
    "目标字母target 是一个小写字母。"
   ]
  },
  {
   "cell_type": "code",
   "execution_count": null,
   "metadata": {
    "collapsed": true
   },
   "outputs": [],
   "source": [
    "class Solution(object):\n",
    "    def nextGreatestLetter(self, letters, target):\n",
    "        \"\"\"\n",
    "        :type letters: List[str]\n",
    "        :type target: str\n",
    "        :rtype: str\n",
    "        \"\"\"\n",
    "        first = 0\n",
    "        last  = len(letters)\n",
    "        while(first<last):\n",
    "            mid = first + (last-first)//2\n",
    "            if letters[mid]>target:  # 注意是>而不是>=  因为要维护[last,last0) 内的值全部大于target\n",
    "                last = mid\n",
    "            else:\n",
    "                first = mid+1\n",
    "        if last == len(letters):\n",
    "            return letters[0]\n",
    "        else:\n",
    "            return letters[first]"
   ]
  }
 ],
 "metadata": {
  "kernelspec": {
   "display_name": "Python 3",
   "language": "python",
   "name": "python3"
  },
  "language_info": {
   "codemirror_mode": {
    "name": "ipython",
    "version": 3
   },
   "file_extension": ".py",
   "mimetype": "text/x-python",
   "name": "python",
   "nbconvert_exporter": "python",
   "pygments_lexer": "ipython3",
   "version": "3.6.1"
  }
 },
 "nbformat": 4,
 "nbformat_minor": 2
}
