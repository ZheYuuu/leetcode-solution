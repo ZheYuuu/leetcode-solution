{
 "cells": [
  {
   "cell_type": "code",
   "execution_count": 28,
   "metadata": {
    "collapsed": true
   },
   "outputs": [],
   "source": []
  },
  {
   "cell_type": "code",
   "execution_count": null,
   "metadata": {
    "collapsed": true
   },
   "outputs": [],
   "source": [
    "#  头铁做法，非要用二分查找\n",
    "\n",
    "import collections\n",
    "class Solution(object):\n",
    "    def fourSumCount(self, A, B, C, D):\n",
    "        \"\"\"\n",
    "        :type A: List[int]\n",
    "        :type B: List[int]\n",
    "        :type C: List[int]\n",
    "        :type D: List[int]\n",
    "        :rtype: int\n",
    "        \"\"\"\n",
    "        x = []\n",
    "        for a in A:\n",
    "            for b in B:\n",
    "                x.append(a+b)\n",
    "        y = []\n",
    "        for c in C:\n",
    "            for d in D:\n",
    "                y.append(c+d)\n",
    "        x.sort()\n",
    "#         self.quickSort(x,0,len(x)-1)\n",
    "#         自己写的效率太低了？？？\n",
    "        ret = 0\n",
    "        x_counter = collections.Counter(x)\n",
    "        y = collections.Counter(y)\n",
    "        \n",
    "        for i,val in y.items():\n",
    "            idx = self.binarySearch(x,-i)\n",
    "            if idx!=-1:\n",
    "                ret += val*x_counter[x[idx]]\n",
    "        return ret\n",
    "            \n",
    "    def quickSort(self,nums,p,r):\n",
    "        if p<r:\n",
    "            mid = self.partition(nums,p,r)\n",
    "            self.quickSort(nums,p,mid-1)\n",
    "            self.quickSort(nums,mid+1,r)\n",
    "    def partition(self, nums,p,r):     \n",
    "        x = nums[r]\n",
    "        i = p-1\n",
    "        for j in range(p,r):\n",
    "            if nums[j]<=x:\n",
    "                i += 1\n",
    "                nums[i],nums[j] = nums[j],nums[i]\n",
    "        nums[i+1],nums[r] = nums[r],nums[i+1]\n",
    "        return i+1\n",
    "        \n",
    "    \n",
    "    def binarySearch(self,nums,target):\n",
    "        first = 0\n",
    "        last = len(nums)\n",
    "        while(first<last):\n",
    "            mid = first +(last-first)//2\n",
    "            if nums[mid]<target:\n",
    "                first = mid+1\n",
    "            elif nums[mid]==target:\n",
    "                return mid\n",
    "            else:\n",
    "                last = mid\n",
    "        return -1\n",
    "        "
   ]
  },
  {
   "cell_type": "code",
   "execution_count": 14,
   "metadata": {
    "collapsed": true
   },
   "outputs": [],
   "source": [
    "# T(all) = 2*m*n+2*p*q+ O(m+n) \n",
    "\n",
    "import collections\n",
    "class Solution(object):\n",
    "    def fourSumCount(self, A, B, C, D):\n",
    "        \"\"\"\n",
    "        :type A: List[int]\n",
    "        :type B: List[int]\n",
    "        :type C: List[int]\n",
    "        :type D: List[int]\n",
    "        :rtype: int\n",
    "        \"\"\"\n",
    "        x = []\n",
    "        for a in A:\n",
    "            for b in B:\n",
    "                x.append(a+b)\n",
    "        y = []\n",
    "        for c in C:\n",
    "            for d in D:\n",
    "                y.append(c+d)\n",
    "        x_counter = collections.Counter(x)\n",
    "        y_counter = collections.Counter(y)\n",
    "        \n",
    "        ret = 0\n",
    "        for i in x_counter.keys():\n",
    "            ret += x_counter[i]*y_counter[-i]\n",
    "        return ret\n",
    "   \n",
    "        "
   ]
  },
  {
   "cell_type": "code",
   "execution_count": null,
   "metadata": {},
   "outputs": [],
   "source": [
    "# 最精简的做法  T(all) = m*n + p*q\n",
    "\n",
    "\n",
    "import collections\n",
    "class Solution(object):\n",
    "    def fourSumCount(self, A, B, C, D):\n",
    "        \"\"\"\n",
    "        :type A: List[int]\n",
    "        :type B: List[int]\n",
    "        :type C: List[int]\n",
    "        :type D: List[int]\n",
    "        :rtype: int\n",
    "        \"\"\"\n",
    "        x = collections.defaultdict(int)\n",
    "        for a in A:\n",
    "            for b in B:\n",
    "                x[a+b] +=1\n",
    "        ret = 0\n",
    "        for c in C:\n",
    "            for d in D:\n",
    "                if -c-d in x:\n",
    "                    ret += x[-c-d]\n",
    "        return ret\n",
    "   \n",
    "        "
   ]
  },
  {
   "cell_type": "code",
   "execution_count": null,
   "metadata": {
    "collapsed": true
   },
   "outputs": [],
   "source": []
  }
 ],
 "metadata": {
  "kernelspec": {
   "display_name": "Python 3",
   "language": "python",
   "name": "python3"
  },
  "language_info": {
   "codemirror_mode": {
    "name": "ipython",
    "version": 3
   },
   "file_extension": ".py",
   "mimetype": "text/x-python",
   "name": "python",
   "nbconvert_exporter": "python",
   "pygments_lexer": "ipython3",
   "version": "3.6.1"
  }
 },
 "nbformat": 4,
 "nbformat_minor": 2
}
