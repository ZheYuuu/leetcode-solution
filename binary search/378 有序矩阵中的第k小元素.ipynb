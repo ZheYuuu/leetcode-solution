{
 "cells": [
  {
   "cell_type": "code",
   "execution_count": null,
   "metadata": {
    "collapsed": true
   },
   "outputs": [],
   "source": [
    "给定一个 n x n 矩阵，其中每行和每列元素均按升序排序，找到矩阵中第k小的元素。\n",
    "请注意，它是排序后的第k小元素，而不是第k个元素。\n",
    "\n",
    "示例:\n",
    "\n",
    "matrix = [\n",
    "   [ 1,  5,  9],\n",
    "   [10, 11, 13],\n",
    "   [12, 13, 15]\n",
    "],\n",
    "k = 8,\n",
    "\n",
    "返回 13。\n",
    "说明: \n",
    "你可以假设 k 的值永远是有效的, 1 ≤ k ≤ n2 。"
   ]
  },
  {
   "cell_type": "code",
   "execution_count": null,
   "metadata": {
    "collapsed": true
   },
   "outputs": [],
   "source": [
    "class Solution(object):\n",
    "    def kthSmallest(self, matrix, k):\n",
    "        \"\"\"\n",
    "        :type matrix: List[List[int]]\n",
    "        :type k: int\n",
    "        :rtype: int\n",
    "        \"\"\"\n",
    "        if len(matrix)==1:\n",
    "            return matrix[0][0]\n",
    "        first = matrix[0][0]\n",
    "        last = matrix[-1][-1]+1\n",
    "        while(first<last):\n",
    "            mid = first + (last-first)//2\n",
    "            cnt,equal_cnt = self.helper(mid,matrix)\n",
    "            # print(first,last,mid,cnt,equal_cnt)\n",
    "            \"\"\"\n",
    "            要使得k落在(cnt-equal_cnt,cnt]的区间内，并确保当前num是矩阵中的值(equal_cnt>=1)\n",
    "            \"\"\"\n",
    "            if cnt>=k and cnt-equal_cnt<k and equal_cnt>=1: \n",
    "                print(mid,equal_cnt,cnt)\n",
    "                return mid\n",
    "            elif cnt<k:\n",
    "                first = mid+1\n",
    "            else:\n",
    "                last = mid\n",
    "    def helper(self,num,matrix):\n",
    "        \"\"\"\n",
    "        matrix中不大于num的数字个数,及等于num的个数\n",
    "        \"\"\"\n",
    "        n = len(matrix)\n",
    "        row = [matrix[i][0] for i in range(n)]\n",
    "        row_idx = self.upperBound(row,num)\n",
    "        cnt = 0\n",
    "        total_equal_cnt = 0\n",
    "        for i in range(row_idx):\n",
    "            upper_idx = self.upperBound(matrix[i],num)\n",
    "            lower_idx = self.lowerBound(matrix[i],num)\n",
    "            equal_cnt = upper_idx-lower_idx\n",
    "            cnt += upper_idx\n",
    "            total_equal_cnt += equal_cnt\n",
    "        return cnt,total_equal_cnt\n",
    "    \n",
    "    def upperBound(self,arr,target):\n",
    "#       求上界及相等的个数\n",
    "        first = 0\n",
    "        last = len(arr)\n",
    "        while(first<last):\n",
    "            mid = first + (last-first)//2\n",
    "            if arr[mid]<=target:\n",
    "                first = mid+1\n",
    "            else:\n",
    "                last = mid\n",
    "        return first\n",
    "    \n",
    "    def lowerBound(self,arr,target):\n",
    "        first = 0\n",
    "        last = len(arr)\n",
    "        while(first<last):\n",
    "            mid = first +(last-first)//2\n",
    "            if arr[mid]<target:\n",
    "                first = mid+1\n",
    "            else:\n",
    "                last = mid\n",
    "        return first\n",
    "            "
   ]
  }
 ],
 "metadata": {
  "kernelspec": {
   "display_name": "Python 3",
   "language": "python",
   "name": "python3"
  },
  "language_info": {
   "codemirror_mode": {
    "name": "ipython",
    "version": 3
   },
   "file_extension": ".py",
   "mimetype": "text/x-python",
   "name": "python",
   "nbconvert_exporter": "python",
   "pygments_lexer": "ipython3",
   "version": "3.6.1"
  }
 },
 "nbformat": 4,
 "nbformat_minor": 2
}
