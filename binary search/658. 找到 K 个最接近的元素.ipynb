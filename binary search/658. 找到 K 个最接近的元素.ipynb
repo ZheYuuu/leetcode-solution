{
 "cells": [
  {
   "cell_type": "code",
   "execution_count": null,
   "metadata": {
    "collapsed": true
   },
   "outputs": [],
   "source": [
    "给定一个排序好的数组，两个整数 k 和 x，从数组中找到最靠近 x（两数之差最小）的 k 个数。返回的结果必须要是按升序排好的。如果有两个数与 x 的差值一样，优先选择数值较小的那个数。\n",
    "\n",
    "示例 1:\n",
    "\n",
    "输入: [1,2,3,4,5], k=4, x=3\n",
    "输出: [1,2,3,4]\n",
    " \n",
    "\n",
    "示例 2:\n",
    "\n",
    "输入: [1,2,3,4,5], k=4, x=-1\n",
    "输出: [1,2,3,4]\n",
    " \n",
    "\n",
    "说明:\n",
    "\n",
    "k 的值为正数，且总是小于给定排序数组的长度。\n",
    "数组不为空，且长度不超过 104\n",
    "数组里的每个元素与 x 的绝对值不超过 104\n",
    " \n",
    "\n",
    "更新(2017/9/19):\n",
    "这个参数 arr 已经被改变为一个整数数组（而不是整数列表）。 请重新加载代码定义以获取最新更改。"
   ]
  },
  {
   "cell_type": "code",
   "execution_count": null,
   "metadata": {
    "collapsed": true
   },
   "outputs": [],
   "source": [
    "class Solution(object):\n",
    "    def findClosestElements(self, arr, k, x):\n",
    "        \"\"\"\n",
    "        :type arr: List[int]\n",
    "        :type k: int\n",
    "        :type x: int\n",
    "        :rtype: List[int]\n",
    "        \"\"\"\n",
    "        ret = []\n",
    "        for i in range(k):\n",
    "            idx = self.lowerBound(arr,x)\n",
    "            if idx == 0:\n",
    "                ret += arr[0:k-i]\n",
    "                return sorted(ret)\n",
    "            elif idx == len(arr):\n",
    "                ret += arr[len(arr)-(k-i):]\n",
    "                return sorted(ret)\n",
    "            else:\n",
    "                if arr[idx]-x < x-arr[idx-1]:\n",
    "                    ret.append(arr.pop(idx))\n",
    "                else:\n",
    "                    ret.append(arr.pop(idx-1))\n",
    "        return sorted(ret)\n",
    "                \n",
    "        \n",
    "    def lowerBound(self, nums, target):\n",
    "        first = 0\n",
    "        last = len(nums)\n",
    "        while(first<last):\n",
    "            mid = first +(last-first)//2\n",
    "            if nums[mid]<target:\n",
    "                first = mid+1\n",
    "            else:\n",
    "                last = mid\n",
    "        return first \n",
    "        "
   ]
  },
  {
   "cell_type": "code",
   "execution_count": null,
   "metadata": {
    "collapsed": true
   },
   "outputs": [],
   "source": [
    "class Solution(object):\n",
    "    def findClosestElements(self, arr, k, x):\n",
    "        \"\"\"\n",
    "        :type arr: List[int]\n",
    "        :type k: int\n",
    "        :type x: int\n",
    "        :rtype: List[int]\n",
    "        \"\"\"\n",
    "        ret = []\n",
    "        idx = self.lowerBound(arr,x)\n",
    "        if idx == 0:\n",
    "            ret += arr[0:k]\n",
    "            return ret\n",
    "        elif idx == len(arr):\n",
    "            ret += arr[len(arr)-k:]\n",
    "            return ret\n",
    "        else:\n",
    "            # print(idx)\n",
    "            left = idx-1\n",
    "            right = idx\n",
    "            arr = [float(\"-inf\")] + arr + [float(\"inf\")]\n",
    "            for i in range(k):\n",
    "                if x-arr[left] <= arr[right]-x:\n",
    "                    ret.append(arr[left])\n",
    "                    left -= 1\n",
    "                else:\n",
    "                    ret.append(arr[right])\n",
    "                    right += 1\n",
    "            return sorted(ret)\n",
    "                \n",
    "        \n",
    "    def lowerBound(self, nums, target):\n",
    "        first = 0\n",
    "        last = len(nums)\n",
    "        while(first<last):\n",
    "            mid = first +(last-first)//2\n",
    "            if nums[mid]<target:\n",
    "                first = mid+1\n",
    "            else:\n",
    "                last = mid\n",
    "        return first \n",
    "        "
   ]
  },
  {
   "cell_type": "code",
   "execution_count": null,
   "metadata": {
    "collapsed": true
   },
   "outputs": [],
   "source": [
    "class Solution(object):\n",
    "    def findClosestElements(self, arr, k, x):\n",
    "        \"\"\"\n",
    "        :type arr: List[int]\n",
    "        :type k: int\n",
    "        :type x: int\n",
    "        :rtype: List[int]\n",
    "        \"\"\"\n",
    "        left = 0\n",
    "        right = len(arr)-k\n",
    "        res = []\n",
    "        while left < right:\n",
    "            mid = left + (-left+right)//2\n",
    "            # if mid + k < len(arr):\n",
    "            if abs(arr[mid]-x)>abs(arr[mid+k]-x):\n",
    "                left = mid + 1\n",
    "            else:\n",
    "                right = mid\n",
    "\n",
    "                \n",
    "        for i in arr[left:left+k]:\n",
    "            res.append(i)\n",
    "        return res"
   ]
  }
 ],
 "metadata": {
  "kernelspec": {
   "display_name": "Python 3",
   "language": "python",
   "name": "python3"
  },
  "language_info": {
   "codemirror_mode": {
    "name": "ipython",
    "version": 3
   },
   "file_extension": ".py",
   "mimetype": "text/x-python",
   "name": "python",
   "nbconvert_exporter": "python",
   "pygments_lexer": "ipython3",
   "version": "3.6.1"
  }
 },
 "nbformat": 4,
 "nbformat_minor": 2
}
