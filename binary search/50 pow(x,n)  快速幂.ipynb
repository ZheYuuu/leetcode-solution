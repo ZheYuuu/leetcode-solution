{
 "cells": [
  {
   "cell_type": "code",
   "execution_count": null,
   "metadata": {
    "collapsed": true
   },
   "outputs": [],
   "source": [
    "实现 pow(x, n) ，即计算 x 的 n 次幂函数。\n",
    "\n",
    "示例 1:\n",
    "\n",
    "输入: 2.00000, 10\n",
    "输出: 1024.00000\n",
    "示例 2:\n",
    "\n",
    "输入: 2.10000, 3\n",
    "输出: 9.26100\n",
    "示例 3:\n",
    "\n",
    "输入: 2.00000, -2\n",
    "输出: 0.25000\n",
    "解释: 2-2 = 1/22 = 1/4 = 0.25\n",
    "说明:\n",
    "\n",
    "-100.0 < x < 100.0\n",
    "n 是 32 位有符号整数，其数值范围是 [−231, 231 − 1] 。"
   ]
  },
  {
   "cell_type": "code",
   "execution_count": null,
   "metadata": {
    "collapsed": true
   },
   "outputs": [],
   "source": []
  },
  {
   "cell_type": "code",
   "execution_count": null,
   "metadata": {
    "collapsed": true
   },
   "outputs": [],
   "source": [
    "class Solution(object):\n",
    "    def myPow(self, x, n):\n",
    "        \"\"\"\n",
    "        :type x: float\n",
    "        :type n: int\n",
    "        :rtype: float\n",
    "        \"\"\"\n",
    "        nn = abs(n)\n",
    "        ans = 1\n",
    "        base = x\n",
    "        while(nn!=0):\n",
    "            if nn&1 != 0:\n",
    "                ans *= base\n",
    "            base *=  base\n",
    "            nn >>= 1\n",
    "        return ans if n>=0 else 1/ans\n",
    "        "
   ]
  }
 ],
 "metadata": {
  "kernelspec": {
   "display_name": "Python 3",
   "language": "python",
   "name": "python3"
  },
  "language_info": {
   "codemirror_mode": {
    "name": "ipython",
    "version": 3
   },
   "file_extension": ".py",
   "mimetype": "text/x-python",
   "name": "python",
   "nbconvert_exporter": "python",
   "pygments_lexer": "ipython3",
   "version": "3.6.1"
  }
 },
 "nbformat": 4,
 "nbformat_minor": 2
}
