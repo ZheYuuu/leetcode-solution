{
 "cells": [
  {
   "cell_type": "code",
   "execution_count": null,
   "metadata": {
    "collapsed": true
   },
   "outputs": [],
   "source": [
    "给定一组区间，对于每一个区间 i，检查是否存在一个区间 j，它的起始点大于或等于区间 i 的终点，这可以称为 j 在 i 的“右侧”。\n",
    "\n",
    "对于任何区间，你需要存储的满足条件的区间 j 的最小索引，这意味着区间 j 有最小的起始点可以使其成为“右侧”区间。如果区间 j 不存在，则将区间 i 存储为 -1。最后，你需要输出一个值为存储的区间值的数组。\n",
    "\n",
    "注意:\n",
    "\n",
    "你可以假设区间的终点总是大于它的起始点。\n",
    "你可以假定这些区间都不具有相同的起始点。\n",
    "示例 1:\n",
    "\n",
    "输入: [ [1,2] ]\n",
    "输出: [-1]\n",
    "\n",
    "解释:集合中只有一个区间，所以输出-1。\n",
    "示例 2:\n",
    "\n",
    "输入: [ [3,4], [2,3], [1,2] ]\n",
    "输出: [-1, 0, 1]\n",
    "\n",
    "解释:对于[3,4]，没有满足条件的“右侧”区间。\n",
    "对于[2,3]，区间[3,4]具有最小的“右”起点;\n",
    "对于[1,2]，区间[2,3]具有最小的“右”起点。\n",
    "示例 3:\n",
    "\n",
    "输入: [ [1,4], [2,3], [3,4] ]\n",
    "输出: [-1, 2, -1]\n",
    "\n",
    "解释:对于区间[1,4]和[3,4]，没有满足条件的“右侧”区间。\n",
    "对于[2,3]，区间[3,4]有最小的“右”起点。"
   ]
  },
  {
   "cell_type": "code",
   "execution_count": null,
   "metadata": {
    "collapsed": true
   },
   "outputs": [],
   "source": [
    "# Definition for an interval.\n",
    "# class Interval(object):\n",
    "#     def __init__(self, s=0, e=0):\n",
    "#         self.start = s\n",
    "#         self.end = e\n",
    "\n",
    "class Solution(object):\n",
    "    def findRightInterval(self, intervals):\n",
    "        \"\"\"\n",
    "        :type intervals: List[Interval]\n",
    "        :rtype: List[int]\n",
    "        \"\"\"\n",
    "        if len(intervals)<=1:\n",
    "            return [-1]\n",
    "        mapping = {}\n",
    "        for i in range(len(intervals)):\n",
    "            mapping[intervals[i].start] = i\n",
    "        left = sorted(mapping.keys())\n",
    "        ret = []\n",
    "        for interval in intervals:\n",
    "            idx = self.lowerBound(left,interval.end)\n",
    "            if idx!=-1:\n",
    "                ret.append(mapping[left[idx]])\n",
    "            else:\n",
    "                ret.append(-1)\n",
    "        return ret\n",
    "        \n",
    "    def lowerBound(self,nums,target):\n",
    "        first = 0\n",
    "        last = len(nums)\n",
    "        while(first<last):\n",
    "            mid = first +(last - first)//2\n",
    "            if nums[mid]<target:\n",
    "                first = mid+1\n",
    "            else:\n",
    "                last = mid\n",
    "        return first if first<len(nums) else -1"
   ]
  }
 ],
 "metadata": {
  "kernelspec": {
   "display_name": "Python 3",
   "language": "python",
   "name": "python3"
  },
  "language_info": {
   "codemirror_mode": {
    "name": "ipython",
    "version": 3
   },
   "file_extension": ".py",
   "mimetype": "text/x-python",
   "name": "python",
   "nbconvert_exporter": "python",
   "pygments_lexer": "ipython3",
   "version": "3.6.1"
  }
 },
 "nbformat": 4,
 "nbformat_minor": 2
}
