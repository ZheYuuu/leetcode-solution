{
 "cells": [
  {
   "cell_type": "code",
   "execution_count": null,
   "metadata": {
    "collapsed": true
   },
   "outputs": [],
   "source": [
    "你总共有 n 枚硬币，你需要将它们摆成一个阶梯形状，第 k 行就必须正好有 k 枚硬币。\n",
    "\n",
    "给定一个数字 n，找出可形成完整阶梯行的总行数。\n",
    "\n",
    "n 是一个非负整数，并且在32位有符号整型的范围内。\n",
    "\n",
    "示例 1:\n",
    "\n",
    "n = 5\n",
    "\n",
    "硬币可排列成以下几行:\n",
    "¤\n",
    "¤ ¤\n",
    "¤ ¤\n",
    "\n",
    "因为第三行不完整，所以返回2.\n",
    "示例 2:\n",
    "\n",
    "n = 8\n",
    "\n",
    "硬币可排列成以下几行:\n",
    "¤\n",
    "¤ ¤\n",
    "¤ ¤ ¤\n",
    "¤ ¤\n",
    "\n",
    "因为第四行不完整，所以返回3."
   ]
  },
  {
   "cell_type": "code",
   "execution_count": null,
   "metadata": {
    "collapsed": true
   },
   "outputs": [],
   "source": [
    "class Solution(object):\n",
    "    def arrangeCoins(self, n):\n",
    "        \"\"\"\n",
    "        :type n: int\n",
    "        :rtype: int\n",
    "        \"\"\"\n",
    "\n",
    "        first = 1\n",
    "        last = n+1\n",
    "        while(first<last):\n",
    "            mid = first+(last-first)//2\n",
    "            tmp = mid*(mid+1)*0.5\n",
    "            if tmp==n:\n",
    "                return mid\n",
    "            elif tmp<n:\n",
    "                first = mid+1\n",
    "            else:\n",
    "                last = mid\n",
    "        \n",
    "        return first-1"
   ]
  }
 ],
 "metadata": {
  "kernelspec": {
   "display_name": "Python 3",
   "language": "python",
   "name": "python3"
  },
  "language_info": {
   "codemirror_mode": {
    "name": "ipython",
    "version": 3
   },
   "file_extension": ".py",
   "mimetype": "text/x-python",
   "name": "python",
   "nbconvert_exporter": "python",
   "pygments_lexer": "ipython3",
   "version": "3.6.1"
  }
 },
 "nbformat": 4,
 "nbformat_minor": 2
}
