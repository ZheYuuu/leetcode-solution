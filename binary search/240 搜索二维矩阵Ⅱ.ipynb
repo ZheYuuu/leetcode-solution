{
 "cells": [
  {
   "cell_type": "code",
   "execution_count": null,
   "metadata": {
    "collapsed": true
   },
   "outputs": [],
   "source": [
    "编写一个高效的算法来搜索 m x n 矩阵 matrix 中的一个目标值 target。该矩阵具有以下特性：\n",
    "\n",
    "每行的元素从左到右升序排列。\n",
    "每列的元素从上到下升序排列。\n",
    "示例:\n",
    "\n",
    "现有矩阵 matrix 如下：\n",
    "\n",
    "[\n",
    "  [1,   4,  7, 11, 15],\n",
    "  [2,   5,  8, 12, 19],\n",
    "  [3,   6,  9, 16, 22],\n",
    "  [10, 13, 14, 17, 24],\n",
    "  [18, 21, 23, 26, 30]\n",
    "]\n",
    "给定 target = 5，返回 true。\n",
    "\n",
    "给定 target = 20，返回 false。"
   ]
  },
  {
   "cell_type": "code",
   "execution_count": null,
   "metadata": {
    "collapsed": true
   },
   "outputs": [],
   "source": [
    "class Solution(object):\n",
    "    def searchMatrix(self, matrix, target):\n",
    "        \"\"\"\n",
    "        :type matrix: List[List[int]]\n",
    "        :type target: int\n",
    "        :rtype: bool\n",
    "        \"\"\"\n",
    "        if not matrix or not matrix[0]:\n",
    "            return False\n",
    "        row_idx_list = [matrix[i][0] for i in range(len(matrix))]\n",
    "        row_idx = self.upperBound(row_idx_list,target)\n",
    "        for i in range(row_idx):\n",
    "            curr = matrix[i]\n",
    "            if self.binarySearch(curr,target):\n",
    "                return True\n",
    "        return False\n",
    "        \n",
    "        \n",
    "    def upperBound(self, nums,target):\n",
    "        first = 0\n",
    "        last = len(nums)\n",
    "        while(first<last):\n",
    "            mid = first +(last-first)//2\n",
    "            if nums[mid]<=target:\n",
    "                first = mid+1\n",
    "            else:\n",
    "                last = mid\n",
    "        return first\n",
    "    def binarySearch(self,nums,target):\n",
    "        first = 0\n",
    "        last = len(nums)\n",
    "        while(first<last):\n",
    "            mid = first +(last-first)//2\n",
    "            if nums[mid]<target:\n",
    "                first = mid+1\n",
    "            elif nums[mid]==target:\n",
    "                return True\n",
    "            else:\n",
    "                last = mid\n",
    "        return False\n",
    "        "
   ]
  }
 ],
 "metadata": {
  "kernelspec": {
   "display_name": "Python 3",
   "language": "python",
   "name": "python3"
  },
  "language_info": {
   "codemirror_mode": {
    "name": "ipython",
    "version": 3
   },
   "file_extension": ".py",
   "mimetype": "text/x-python",
   "name": "python",
   "nbconvert_exporter": "python",
   "pygments_lexer": "ipython3",
   "version": "3.6.1"
  }
 },
 "nbformat": 4,
 "nbformat_minor": 2
}
