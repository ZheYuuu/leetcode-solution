{
 "cells": [
  {
   "cell_type": "code",
   "execution_count": null,
   "metadata": {
    "collapsed": true
   },
   "outputs": [],
   "source": [
    "冬季已经来临。 你的任务是设计一个有固定加热半径的供暖器向所有房屋供暖。\n",
    "\n",
    "现在，给出位于一条水平线上的房屋和供暖器的位置，找到可以覆盖所有房屋的最小加热半径。\n",
    "\n",
    "所以，你的输入将会是房屋和供暖器的位置。你将输出供暖器的最小加热半径。\n",
    "\n",
    "说明:\n",
    "\n",
    "给出的房屋和供暖器的数目是非负数且不会超过 25000。\n",
    "给出的房屋和供暖器的位置均是非负数且不会超过10^9。\n",
    "只要房屋位于供暖器的半径内(包括在边缘上)，它就可以得到供暖。\n",
    "所有供暖器都遵循你的半径标准，加热的半径也一样。\n",
    "示例 1:\n",
    "\n",
    "输入: [1,2,3],[2]\n",
    "输出: 1\n",
    "解释: 仅在位置2上有一个供暖器。如果我们将加热半径设为1，那么所有房屋就都能得到供暖。\n",
    "示例 2:\n",
    "\n",
    "输入: [1,2,3,4],[1,4]\n",
    "输出: 1\n",
    "解释: 在位置1, 4上有两个供暖器。我们需要将加热半径设为1，这样所有房屋就都能得到供暖。"
   ]
  },
  {
   "cell_type": "code",
   "execution_count": 12,
   "metadata": {
    "collapsed": true
   },
   "outputs": [],
   "source": [
    "#  意料之中的超时，算法有问题，二分lgN,判断n*m，总时间复杂度O(n*m*log(n))\n",
    "import collections\n",
    "class Solution(object):\n",
    "    def findRadius(self, houses, heaters):\n",
    "        \"\"\"\n",
    "        :type houses: List[int]\n",
    "        :type heaters: List[int]\n",
    "        :rtype: int\n",
    "        \"\"\"\n",
    "        \n",
    "        heaters.sort()\n",
    "        \n",
    "        houses = list(set(houses))\n",
    "        houses.sort()\n",
    "        if len(houses)==1:\n",
    "            local_min = float(\"inf\")\n",
    "            for heater in heaters:\n",
    "                local_min = min(local_min,abs(heater-houses[0]))\n",
    "            return local_min\n",
    "        \n",
    "        first = 0\n",
    "        last = max(heaters[-1]-houses[0]+1,houses[-1]-houses[0]+1)+1\n",
    "        # print(first,last)\n",
    "        # print(houses,heaters)\n",
    "        while(first<last):\n",
    "            # print(first,last)\n",
    "            first,last = self.helper(first,last,heaters,houses)\n",
    "        return first\n",
    "    \n",
    "    def helper(self,first,last,heaters,houses):\n",
    "        r = first + (last-first)//2\n",
    "        mapping = collections.defaultdict(int)\n",
    "        for i in range(len(heaters)):\n",
    "            left = heaters[i]-r\n",
    "            right = heaters[i]+r\n",
    "            for house in houses:\n",
    "                if left<=house<=right:\n",
    "                    mapping[house] = 1\n",
    "            if sum(mapping.values())==len(houses):\n",
    "                return first,r\n",
    "        return r+1,last\n",
    "        "
   ]
  },
  {
   "cell_type": "code",
   "execution_count": 13,
   "metadata": {
    "collapsed": true
   },
   "outputs": [],
   "source": [
    "sol = Solution()"
   ]
  },
  {
   "cell_type": "code",
   "execution_count": 14,
   "metadata": {},
   "outputs": [
    {
     "name": "stdout",
     "output_type": "stream",
     "text": [
      "0 602948368\n",
      "[101929267, 128236579, 358580979, 563613512, 580723810, 624379149, 636807826, 704877633] [110010672, 530511967]\n"
     ]
    },
    {
     "data": {
      "text/plain": [
       "174365666"
      ]
     },
     "execution_count": 14,
     "metadata": {},
     "output_type": "execute_result"
    }
   ],
   "source": [
    "sol.findRadius([636807826,563613512,101929267,580723810,704877633,358580979,624379149,128236579]\n",
    ",[530511967,110010672])"
   ]
  },
  {
   "cell_type": "code",
   "execution_count": 29,
   "metadata": {
    "collapsed": true
   },
   "outputs": [],
   "source": [
    "# 对于每个房子，找它的毗邻的两个取暖器，即二分找到房子在取暖器列表中的位置，然后计算最小的距离。将每个房子返回的所需最小半径取最大值，返回该max\n",
    "\n",
    "import collections\n",
    "class Solution(object):\n",
    "    def findRadius(self, houses, heaters):\n",
    "        \"\"\"\n",
    "        :type houses: List[int]\n",
    "        :type heaters: List[int]\n",
    "        :rtype: int\n",
    "        \"\"\"\n",
    "        houses.sort()\n",
    "        heaters.sort()\n",
    "        heaters = [float(\"-inf\")]+heaters+[float(\"inf\")]   # 添加前后哨兵，便于编程\n",
    "        ret = 0\n",
    "        for house in houses:\n",
    "            ret = max(ret,self.binarySearch(heaters,house))\n",
    "        return ret\n",
    "            \n",
    "    def binarySearch(self, heaters, house):\n",
    "        first = 0\n",
    "        last  = len(heaters)\n",
    "        while(first<last):\n",
    "            mid = first + (last-first)//2\n",
    "            if heaters[mid] < house:\n",
    "                first = mid+1\n",
    "            elif heaters[mid] == house:\n",
    "                return 0\n",
    "            else:\n",
    "                last = mid\n",
    "        \n",
    "        return min(heaters[first]-house,house-heaters[first-1])\n",
    "            "
   ]
  },
  {
   "cell_type": "code",
   "execution_count": 30,
   "metadata": {
    "collapsed": true
   },
   "outputs": [],
   "source": [
    "sol = Solution()"
   ]
  },
  {
   "cell_type": "code",
   "execution_count": 31,
   "metadata": {},
   "outputs": [
    {
     "data": {
      "text/plain": [
       "174365666"
      ]
     },
     "execution_count": 31,
     "metadata": {},
     "output_type": "execute_result"
    }
   ],
   "source": [
    "sol.findRadius([636807826,563613512,101929267,580723810,704877633,358580979,624379149,128236579]\n",
    ",[530511967,110010672])"
   ]
  },
  {
   "cell_type": "code",
   "execution_count": null,
   "metadata": {
    "collapsed": true
   },
   "outputs": [],
   "source": []
  }
 ],
 "metadata": {
  "kernelspec": {
   "display_name": "Python 3",
   "language": "python",
   "name": "python3"
  },
  "language_info": {
   "codemirror_mode": {
    "name": "ipython",
    "version": 3
   },
   "file_extension": ".py",
   "mimetype": "text/x-python",
   "name": "python",
   "nbconvert_exporter": "python",
   "pygments_lexer": "ipython3",
   "version": "3.6.1"
  }
 },
 "nbformat": 4,
 "nbformat_minor": 2
}
