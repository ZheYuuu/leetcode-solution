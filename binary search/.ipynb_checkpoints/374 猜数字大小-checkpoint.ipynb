{
 "cells": [
  {
   "cell_type": "code",
   "execution_count": null,
   "metadata": {
    "collapsed": true
   },
   "outputs": [],
   "source": [
    "我们正在玩一个猜数字游戏。 游戏规则如下：\n",
    "我从 1 到 n 选择一个数字。 你需要猜我选择了哪个数字。\n",
    "每次你猜错了，我会告诉你这个数字是大了还是小了。\n",
    "你调用一个预先定义好的接口 guess(int num)，它会返回 3 个可能的结果（-1，1 或 0）：\n",
    "\n",
    "-1 : 我的数字比较小\n",
    " 1 : 我的数字比较大\n",
    " 0 : 恭喜！你猜对了！\n",
    "示例 :\n",
    "\n",
    "输入: n = 10, pick = 6\n",
    "输出: 6"
   ]
  },
  {
   "cell_type": "code",
   "execution_count": null,
   "metadata": {
    "collapsed": true
   },
   "outputs": [],
   "source": [
    "# The guess API is already defined for you.\n",
    "# @param num, your guess\n",
    "# @return -1 if my number is lower, 1 if my number is higher, otherwise return 0\n",
    "# def guess(num):\n",
    "\n",
    "class Solution(object):\n",
    "    def guessNumber(self, n):\n",
    "        \"\"\"\n",
    "        :type n: int\n",
    "        :rtype: int\n",
    "        \"\"\"\n",
    "        first = 1 \n",
    "        last = n+1\n",
    "        while(first<last):\n",
    "            mid = first +(last-first)//2\n",
    "            res = guess(mid)\n",
    "            if res==1:\n",
    "                first = mid+1\n",
    "            elif res==0:\n",
    "                return mid\n",
    "            else:\n",
    "                last = mid\n",
    "        "
   ]
  }
 ],
 "metadata": {
  "kernelspec": {
   "display_name": "Python 3",
   "language": "python",
   "name": "python3"
  },
  "language_info": {
   "codemirror_mode": {
    "name": "ipython",
    "version": 3
   },
   "file_extension": ".py",
   "mimetype": "text/x-python",
   "name": "python",
   "nbconvert_exporter": "python",
   "pygments_lexer": "ipython3",
   "version": "3.6.1"
  }
 },
 "nbformat": 4,
 "nbformat_minor": 2
}
