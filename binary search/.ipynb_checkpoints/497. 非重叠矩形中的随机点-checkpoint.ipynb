{
 "cells": [
  {
   "cell_type": "code",
   "execution_count": null,
   "metadata": {
    "collapsed": true
   },
   "outputs": [],
   "source": [
    "给定一个非重叠轴对齐矩形的列表 rects，写一个函数 pick 随机均匀地选取矩形覆盖的空间中的整数点。\n",
    "\n",
    "提示：\n",
    "\n",
    "整数点是具有整数坐标的点。\n",
    "矩形周边上的点包含在矩形覆盖的空间中。\n",
    "第 i 个矩形 rects [i] = [x1，y1，x2，y2]，其中 [x1，y1] 是左下角的整数坐标，[x2，y2] 是右上角的整数坐标。\n",
    "每个矩形的长度和宽度不超过 2000。\n",
    "1 <= rects.length <= 100\n",
    "pick 以整数坐标数组 [p_x, p_y] 的形式返回一个点。\n",
    "pick 最多被调用10000次。\n",
    " \n",
    "\n",
    "示例 1：\n",
    "\n",
    "输入: \n",
    "[\"Solution\",\"pick\",\"pick\",\"pick\"]\n",
    "[[[[1,1,5,5]]],[],[],[]]\n",
    "输出: \n",
    "[null,[4,1],[4,1],[3,3]]\n",
    "示例 2：\n",
    "\n",
    "输入: \n",
    "[\"Solution\",\"pick\",\"pick\",\"pick\",\"pick\",\"pick\"]\n",
    "[[[[-2,-2,-1,-1],[1,0,3,0]]],[],[],[],[],[]]\n",
    "输出: \n",
    "[null,[-1,-2],[2,0],[-2,-1],[3,0],[-2,-2]]\n",
    " \n",
    "\n",
    "输入语法的说明：\n",
    "\n",
    "输入是两个列表：调用的子例程及其参数。Solution 的构造函数有一个参数，即矩形数组 rects。pick 没有参数。参数总是用列表包装的，即使没有也是如此。\n",
    "\n",
    " "
   ]
  },
  {
   "cell_type": "code",
   "execution_count": null,
   "metadata": {
    "collapsed": true
   },
   "outputs": [],
   "source": [
    "class Solution(object):\n",
    "\n",
    "    def __init__(self, rects):\n",
    "        \"\"\"\n",
    "        :type rects: List[List[int]]\n",
    "        \"\"\"\n",
    "        self.rects = rects\n",
    "        self.weight = [0]\n",
    "        for i,rect in enumerate(rects):\n",
    "            tmp = (rect[2]-rect[0]+1)*(rect[3]-rect[1]+1)\n",
    "            self.weight.append(self.weight[i] + tmp)\n",
    "        self.weight.pop(0)\n",
    "\n",
    "    def pick(self):\n",
    "        \"\"\"\n",
    "        :rtype: List[int]\n",
    "        \"\"\"\n",
    "        target = random.randint(1,self.weight[-1])\n",
    "        first = 0\n",
    "        last = len(self.weight)\n",
    "        while(first<last):\n",
    "            mid = first + (last-first)//2\n",
    "            if self.weight[mid]<target:\n",
    "                first = mid+1\n",
    "            else:\n",
    "                last = mid\n",
    "        selected_area = self.rects[first]\n",
    "        \n",
    "        x = random.randint(selected_area[0],selected_area[2])\n",
    "        y = random.randint(selected_area[1],selected_area[3])\n",
    "        # print(selected_area,[x,y])\n",
    "        return [x,y]\n",
    "        \n",
    "        \n",
    "        \n",
    "\n",
    "\n",
    "# Your Solution object will be instantiated and called as such:\n",
    "# obj = Solution(rects)\n",
    "# param_1 = obj.pick()"
   ]
  }
 ],
 "metadata": {
  "kernelspec": {
   "display_name": "Python 3",
   "language": "python",
   "name": "python3"
  },
  "language_info": {
   "codemirror_mode": {
    "name": "ipython",
    "version": 3
   },
   "file_extension": ".py",
   "mimetype": "text/x-python",
   "name": "python",
   "nbconvert_exporter": "python",
   "pygments_lexer": "ipython3",
   "version": "3.6.1"
  }
 },
 "nbformat": 4,
 "nbformat_minor": 2
}
