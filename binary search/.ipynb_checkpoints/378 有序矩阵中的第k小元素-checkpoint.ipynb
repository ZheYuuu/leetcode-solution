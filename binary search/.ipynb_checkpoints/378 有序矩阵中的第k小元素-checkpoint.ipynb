{
 "cells": [
  {
   "cell_type": "code",
   "execution_count": null,
   "metadata": {
    "collapsed": true
   },
   "outputs": [],
   "source": [
    "给定一个 n x n 矩阵，其中每行和每列元素均按升序排序，找到矩阵中第k小的元素。\n",
    "请注意，它是排序后的第k小元素，而不是第k个元素。\n",
    "\n",
    "示例:\n",
    "\n",
    "matrix = [\n",
    "   [ 1,  5,  9],\n",
    "   [10, 11, 13],\n",
    "   [12, 13, 15]\n",
    "],\n",
    "k = 8,\n",
    "\n",
    "返回 13。\n",
    "说明: \n",
    "你可以假设 k 的值永远是有效的, 1 ≤ k ≤ n2 。"
   ]
  },
  {
   "cell_type": "code",
   "execution_count": null,
   "metadata": {
    "collapsed": true
   },
   "outputs": [],
   "source": [
    "class Solution(object):\n",
    "    def kthSmallest(self, matrix, k):\n",
    "        \"\"\"\n",
    "        :type matrix: List[List[int]]\n",
    "        :type k: int\n",
    "        :rtype: int\n",
    "        \"\"\"\n",
    "        first = matrix[0][0]\n",
    "        last = matrix[-1][-1]\n",
    "        while(first<last):\n",
    "            mid = first + (last-first)//2\n",
    "            cnt = self.helper(mid,matrix)\n",
    "            if cnt<k: # 小于num的数不足k个\n",
    "                first = mid+1\n",
    "            elif cnt==k:\n",
    "                return mid\n",
    "            else:\n",
    "                last = mid\n",
    "    \n",
    "    def helper(self,num,matrix):\n",
    "        \"\"\"\n",
    "        matrix中不小于num的数字个数\n",
    "        \"\"\"\n",
    "        n = len(matrix)\n",
    "        row = [matrix[i][0] for i in range(n)]\n",
    "        row_idx = self.binarySearch(row,num)\n",
    "        cnt = 0\n",
    "        for i in range(row_idx):\n",
    "            col_idx = self.binarySearch(matrix[i],num)\n",
    "            cnt += col_idx\n",
    "        return cnt\n",
    "    \n",
    "    def binarySearch(self,arr,target):\n",
    "#       求上界\n",
    "        first = 0\n",
    "        last = len(arr)\n",
    "        while(first<last):\n",
    "            mid = first + (last-first)//2\n",
    "            if arr[mid]<=target:\n",
    "                first = mid+1\n",
    "            else:\n",
    "                last = mid\n",
    "        return first\n",
    "            "
   ]
  }
 ],
 "metadata": {
  "kernelspec": {
   "display_name": "Python 3",
   "language": "python",
   "name": "python3"
  },
  "language_info": {
   "codemirror_mode": {
    "name": "ipython",
    "version": 3
   },
   "file_extension": ".py",
   "mimetype": "text/x-python",
   "name": "python",
   "nbconvert_exporter": "python",
   "pygments_lexer": "ipython3",
   "version": "3.6.1"
  }
 },
 "nbformat": 4,
 "nbformat_minor": 2
}
