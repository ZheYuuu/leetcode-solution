{
 "cells": [
  {
   "cell_type": "code",
   "execution_count": 2,
   "metadata": {
    "collapsed": true
   },
   "outputs": [],
   "source": [
    "# 返回[first,last)内第一个不小于value的值的位置\n",
    "def lower_bound(array, first, last, value):\n",
    "    while first < last:  #搜索空间[first, last) 不为空\n",
    "        mid = first + (last-first)//2  #防止溢出\n",
    "        if array[mid] < value:\n",
    "            first = mid+1\n",
    "        else:last = mid\n",
    "    return first   #last也行，因为此时重合"
   ]
  },
  {
   "cell_type": "markdown",
   "metadata": {},
   "source": [
    "求下界，返回不小于val的第一个x的位置。\n",
    "用左闭右开搜索区间[first,last)\n",
    "求中点mid时，从闭区间侧first出发  mid=first+(last-first)//2\n",
    "\n",
    "求上界，返回大于val的第一个x的位置。\n",
    "调用求下界函数再减一(注意只针对无重复元素的可以这么做)"
   ]
  },
  {
   "cell_type": "code",
   "execution_count": 13,
   "metadata": {},
   "outputs": [
    {
     "data": {
      "text/plain": [
       "9"
      ]
     },
     "execution_count": 13,
     "metadata": {},
     "output_type": "execute_result"
    }
   ],
   "source": [
    "arr = [-1,0,0,3,3,3,7,8,9]\n",
    "# [first,last)中 不存在下界 则返回last\n",
    "# 不存在下界------------------------------即value比arr[first,last)任意元素都要大\n",
    "lower_bound(arr,2,9,11)"
   ]
  },
  {
   "cell_type": "code",
   "execution_count": 14,
   "metadata": {},
   "outputs": [
    {
     "data": {
      "text/plain": [
       "2"
      ]
     },
     "execution_count": 14,
     "metadata": {},
     "output_type": "execute_result"
    }
   ],
   "source": [
    "# [first,last)中 不存在上界 则返回first-1\n",
    "# 不存在上界------------------------------即value比arr[first,last) 任意元素都要小\n",
    "lower_bound(arr,2,9,-2)-1"
   ]
  },
  {
   "cell_type": "code",
   "execution_count": 15,
   "metadata": {
    "collapsed": true
   },
   "outputs": [],
   "source": [
    "def binary_search(arr,first,last,value):\n",
    "    while first<last:\n",
    "        mid = first + (last-first)//2\n",
    "        if arr[mid] == value:\n",
    "            return mid\n",
    "        elif arr[mid]<value:\n",
    "            first = mid+1\n",
    "        else:\n",
    "            last = mid\n",
    "    return -1"
   ]
  },
  {
   "cell_type": "code",
   "execution_count": 3,
   "metadata": {},
   "outputs": [
    {
     "data": {
      "text/plain": [
       "1"
      ]
     },
     "execution_count": 3,
     "metadata": {},
     "output_type": "execute_result"
    }
   ],
   "source": [
    "lower_bound([-1,0,0,3,3,3,7,8,9],0,9,0)"
   ]
  },
  {
   "cell_type": "code",
   "execution_count": 24,
   "metadata": {
    "collapsed": true
   },
   "outputs": [],
   "source": [
    "def upper_bound(arr, first, last, value):\n",
    "    while(first<last):\n",
    "        mid = first + (last-first)//2\n",
    "        if arr[mid] <= value:\n",
    "            first = mid+1\n",
    "        else:\n",
    "            last = mid\n",
    "    return first"
   ]
  },
  {
   "cell_type": "code",
   "execution_count": 25,
   "metadata": {},
   "outputs": [
    {
     "data": {
      "text/plain": [
       "5"
      ]
     },
     "execution_count": 25,
     "metadata": {},
     "output_type": "execute_result"
    }
   ],
   "source": [
    "arr = [1,2,2,2,2,7,8]\n",
    "upper_bound(arr,0,len(arr)-1,3)"
   ]
  },
  {
   "cell_type": "code",
   "execution_count": null,
   "metadata": {
    "collapsed": true
   },
   "outputs": [],
   "source": []
  }
 ],
 "metadata": {
  "kernelspec": {
   "display_name": "Python 3",
   "language": "python",
   "name": "python3"
  },
  "language_info": {
   "codemirror_mode": {
    "name": "ipython",
    "version": 3
   },
   "file_extension": ".py",
   "mimetype": "text/x-python",
   "name": "python",
   "nbconvert_exporter": "python",
   "pygments_lexer": "ipython3",
   "version": "3.6.1"
  }
 },
 "nbformat": 4,
 "nbformat_minor": 2
}
