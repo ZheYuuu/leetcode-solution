{
 "cells": [
  {
   "cell_type": "code",
   "execution_count": null,
   "metadata": {
    "collapsed": true
   },
   "outputs": [],
   "source": [
    "在选举中，第 i 张票是在时间为 times[i] 时投给 persons[i] 的。\n",
    "\n",
    "现在，我们想要实现下面的查询函数： TopVotedCandidate.q(int t) 将返回在 t 时刻主导选举的候选人的编号。\n",
    "\n",
    "在 t 时刻投出的选票也将被计入我们的查询之中。在平局的情况下，最近获得投票的候选人将会获胜。\n",
    "\n",
    "示例：\n",
    "\n",
    "输入：[\"TopVotedCandidate\",\"q\",\"q\",\"q\",\"q\",\"q\",\"q\"], [[[0,1,1,0,0,1,0],[0,5,10,15,20,25,30]],[3],[12],[25],[15],[24],[8]]\n",
    "输出：[null,0,1,1,0,0,1]\n",
    "解释：\n",
    "时间为 3，票数分布情况是 [0]，编号为 0 的候选人领先。\n",
    "时间为 12，票数分布情况是 [0,1,1]，编号为 1 的候选人领先。\n",
    "时间为 25，票数分布情况是 [0,1,1,0,0,1]，编号为 1 的候选人领先（因为最近的投票结果是平局）。\n",
    "在时间 15、24 和 8 处继续执行 3 个查询。\n",
    " \n",
    "\n",
    "提示：\n",
    "\n",
    "1 <= persons.length = times.length <= 5000\n",
    "0 <= persons[i] <= persons.length\n",
    "times 是严格递增的数组，所有元素都在 [0, 10^9] 范围中。\n",
    "每个测试用例最多调用 10000 次 TopVotedCandidate.q。\n",
    "TopVotedCandidate.q(int t) 被调用时总是满足 t >= times[0]。"
   ]
  },
  {
   "cell_type": "code",
   "execution_count": null,
   "metadata": {
    "collapsed": true
   },
   "outputs": [],
   "source": [
    "class TopVotedCandidate(object):\n",
    "\n",
    "    def __init__(self, persons, times):\n",
    "        \"\"\"\n",
    "        :type persons: List[int]\n",
    "        :type times: List[int]\n",
    "        \"\"\"\n",
    "        d = collections.defaultdict(int)\n",
    "        max_poll = 0\n",
    "        max_voted = None\n",
    "        self.status = []\n",
    "        for i in range(len(times)):\n",
    "            d[persons[i]] += 1\n",
    "            if d[persons[i]]>=max_poll:\n",
    "                max_voted = persons[i]\n",
    "                max_poll = d[persons[i]]\n",
    "            self.status.append(max_voted)\n",
    "        print(self.status)\n",
    "        self.times = times\n",
    "        self.persons = persons\n",
    "        \n",
    "        \n",
    "\n",
    "    def q(self, t):\n",
    "        \"\"\"\n",
    "        :type t: int\n",
    "        :rtype: int\n",
    "        \"\"\"\n",
    "        first = 0\n",
    "        last = len(self.times)\n",
    "        while(first<last):\n",
    "            mid = first +(last-first)//2\n",
    "            if self.times[mid]<=t:\n",
    "                first = mid+1\n",
    "            else:\n",
    "                last = mid\n",
    "    \n",
    "        return self.status[first-1]\n",
    "                \n",
    "            \n",
    "                \n",
    "\n",
    "\n",
    "# Your TopVotedCandidate object will be instantiated and called as such:\n",
    "# obj = TopVotedCandidate(persons, times)\n",
    "# param_1 = obj.q(t)"
   ]
  }
 ],
 "metadata": {
  "kernelspec": {
   "display_name": "Python 3",
   "language": "python",
   "name": "python3"
  },
  "language_info": {
   "codemirror_mode": {
    "name": "ipython",
    "version": 3
   },
   "file_extension": ".py",
   "mimetype": "text/x-python",
   "name": "python",
   "nbconvert_exporter": "python",
   "pygments_lexer": "ipython3",
   "version": "3.6.1"
  }
 },
 "nbformat": 4,
 "nbformat_minor": 2
}
