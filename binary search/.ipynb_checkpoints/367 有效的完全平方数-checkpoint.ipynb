{
 "cells": [
  {
   "cell_type": "code",
   "execution_count": null,
   "metadata": {
    "collapsed": true
   },
   "outputs": [],
   "source": [
    "给定一个正整数 num，编写一个函数，如果 num 是一个完全平方数，则返回 True，否则返回 False。\n",
    "\n",
    "说明：不要使用任何内置的库函数，如  sqrt。\n",
    "\n",
    "示例 1：\n",
    "\n",
    "输入：16\n",
    "输出：True\n",
    "示例 2：\n",
    "\n",
    "输入：14\n",
    "输出：False"
   ]
  },
  {
   "cell_type": "code",
   "execution_count": null,
   "metadata": {
    "collapsed": true
   },
   "outputs": [],
   "source": [
    "class Solution(object):\n",
    "    def isPerfectSquare(self, num):\n",
    "        \"\"\"\n",
    "        :type num: int\n",
    "        :rtype: bool\n",
    "        \"\"\"\n",
    "        if num==1:\n",
    "            return True\n",
    "        first = 0\n",
    "        last = num\n",
    "        while(first<last):\n",
    "            mid = first+(last-first)//2\n",
    "            tmp = num/mid   #反向计算防止溢出\n",
    "            if mid<tmp:\n",
    "                first = mid+1\n",
    "            elif tmp==mid:\n",
    "                return True\n",
    "            else:\n",
    "                last = mid\n",
    "        return False\n",
    "        "
   ]
  }
 ],
 "metadata": {
  "kernelspec": {
   "display_name": "Python 3",
   "language": "python",
   "name": "python3"
  },
  "language_info": {
   "codemirror_mode": {
    "name": "ipython",
    "version": 3
   },
   "file_extension": ".py",
   "mimetype": "text/x-python",
   "name": "python",
   "nbconvert_exporter": "python",
   "pygments_lexer": "ipython3",
   "version": "3.6.1"
  }
 },
 "nbformat": 4,
 "nbformat_minor": 2
}
