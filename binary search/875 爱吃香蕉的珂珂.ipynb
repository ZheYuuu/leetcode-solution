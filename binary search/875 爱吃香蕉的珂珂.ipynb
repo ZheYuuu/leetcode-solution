{
 "cells": [
  {
   "cell_type": "code",
   "execution_count": null,
   "metadata": {
    "collapsed": true
   },
   "outputs": [],
   "source": [
    "珂珂喜欢吃香蕉。这里有 N 堆香蕉，第 i 堆中有 piles[i] 根香蕉。警卫已经离开了，将在 H 小时后回来。\n",
    "\n",
    "珂珂可以决定她吃香蕉的速度 K （单位：根/小时）。每个小时，她将会选择一堆香蕉，从中吃掉 K 根。如果这堆香蕉少于 K 根，她将吃掉这堆的所有香蕉，然后这一小时内不会再吃更多的香蕉。  \n",
    "\n",
    "珂珂喜欢慢慢吃，但仍然想在警卫回来前吃掉所有的香蕉。\n",
    "\n",
    "返回她可以在 H 小时内吃掉所有香蕉的最小速度 K（K 为整数）。\n",
    "\n",
    " \n",
    "\n",
    "示例 1：\n",
    "\n",
    "输入: piles = [3,6,7,11], H = 8\n",
    "输出: 4\n",
    "示例 2：\n",
    "\n",
    "输入: piles = [30,11,23,4,20], H = 5\n",
    "输出: 30\n",
    "示例 3：\n",
    "\n",
    "输入: piles = [30,11,23,4,20], H = 6\n",
    "输出: 23\n",
    " \n",
    "\n",
    "提示：\n",
    "\n",
    "1 <= piles.length <= 10^4\n",
    "piles.length <= H <= 10^9\n",
    "1 <= piles[i] <= 10^9"
   ]
  },
  {
   "cell_type": "code",
   "execution_count": 10,
   "metadata": {
    "collapsed": true
   },
   "outputs": [],
   "source": [
    "class Solution(object):\n",
    "    def minEatingSpeed(self, piles, H):\n",
    "        \"\"\"\n",
    "        :type piles: List[int]\n",
    "        :type H: int\n",
    "        :rtype: int\n",
    "        \"\"\"\n",
    "        def possible(K):\n",
    "            return sum((p-1) // K + 1 for p in piles) <= H\n",
    "\n",
    "        # piles.sort()\n",
    "        first = 1\n",
    "        last = max(piles)+1\n",
    "        \n",
    "#       循环不变量：1. 左区间为not possible，右区间为possible 2. first<last\n",
    "        while(first<last):\n",
    "            k = first +(last-first)//2\n",
    "            if not possible(k):\n",
    "                first = k+1\n",
    "            else:\n",
    "                last = k\n",
    "        return first        \n",
    "                \n"
   ]
  },
  {
   "cell_type": "code",
   "execution_count": 11,
   "metadata": {
    "collapsed": true
   },
   "outputs": [],
   "source": [
    "sol = Solution()"
   ]
  },
  {
   "cell_type": "code",
   "execution_count": 12,
   "metadata": {},
   "outputs": [
    {
     "data": {
      "text/plain": [
       "4"
      ]
     },
     "execution_count": 12,
     "metadata": {},
     "output_type": "execute_result"
    }
   ],
   "source": [
    "sol.minEatingSpeed([4,4,4,4,4], 5)"
   ]
  },
  {
   "cell_type": "code",
   "execution_count": null,
   "metadata": {
    "collapsed": true
   },
   "outputs": [],
   "source": []
  }
 ],
 "metadata": {
  "kernelspec": {
   "display_name": "Python 3",
   "language": "python",
   "name": "python3"
  },
  "language_info": {
   "codemirror_mode": {
    "name": "ipython",
    "version": 3
   },
   "file_extension": ".py",
   "mimetype": "text/x-python",
   "name": "python",
   "nbconvert_exporter": "python",
   "pygments_lexer": "ipython3",
   "version": "3.6.1"
  }
 },
 "nbformat": 4,
 "nbformat_minor": 2
}
