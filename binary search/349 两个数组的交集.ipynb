{
 "cells": [
  {
   "cell_type": "code",
   "execution_count": null,
   "metadata": {
    "collapsed": true
   },
   "outputs": [],
   "source": [
    "给定两个数组，编写一个函数来计算它们的交集。\n",
    "\n",
    "示例 1:\n",
    "\n",
    "输入: nums1 = [1,2,2,1], nums2 = [2,2]\n",
    "输出: [2]\n",
    "示例 2:\n",
    "\n",
    "输入: nums1 = [4,9,5], nums2 = [9,4,9,8,4]\n",
    "输出: [9,4]\n",
    "说明:\n",
    "\n",
    "输出结果中的每个元素一定是唯一的。\n",
    "我们可以不考虑输出结果的顺序。"
   ]
  },
  {
   "cell_type": "code",
   "execution_count": null,
   "metadata": {
    "collapsed": true
   },
   "outputs": [],
   "source": [
    "class Solution(object):\n",
    "    def intersection(self, nums1, nums2):\n",
    "        \"\"\"\n",
    "        :type nums1: List[int]\n",
    "        :type nums2: List[int]\n",
    "        :rtype: List[int]\n",
    "        \"\"\"\n",
    "        self.quickSort(nums1,0,len(nums1)-1)\n",
    "        nums2 = set(nums2)\n",
    "        ret = []\n",
    "        for num in nums2:\n",
    "            res = self.binarySearch(nums1,num)\n",
    "            if res!=-1:\n",
    "                ret.append(num)\n",
    "        return ret\n",
    "    \n",
    "    def binarySearch(self, nums, val):\n",
    "        first = 0\n",
    "        last = len(nums)\n",
    "        while(first<last):\n",
    "            mid = first + (last-first)//2\n",
    "            if nums[mid]<val:\n",
    "                first = mid+1\n",
    "            elif nums[mid]==val:\n",
    "                return mid\n",
    "            else:\n",
    "                last = mid\n",
    "        return -1\n",
    "        \n",
    "        \n",
    "    def quickSort(self,nums,p,r):\n",
    "        if p<r:\n",
    "            mid = self.partition(nums,p,r)\n",
    "            self.quickSort(nums,p,mid-1)\n",
    "            self.quickSort(nums,mid+1,r)\n",
    "            \n",
    "    def partition(self,nums,p,r):\n",
    "        x = nums[r]\n",
    "        i = p-1\n",
    "        for j in range(p,r):\n",
    "            if nums[j]<=x:\n",
    "                i = i+1 \n",
    "                nums[i],nums[j] = nums[j],nums[i]\n",
    "        nums[i+1],nums[r] = nums[r],nums[i+1]\n",
    "        return i+1    \n",
    "        "
   ]
  }
 ],
 "metadata": {
  "kernelspec": {
   "display_name": "Python 3",
   "language": "python",
   "name": "python3"
  },
  "language_info": {
   "codemirror_mode": {
    "name": "ipython",
    "version": 3
   },
   "file_extension": ".py",
   "mimetype": "text/x-python",
   "name": "python",
   "nbconvert_exporter": "python",
   "pygments_lexer": "ipython3",
   "version": "3.6.1"
  }
 },
 "nbformat": 4,
 "nbformat_minor": 2
}
