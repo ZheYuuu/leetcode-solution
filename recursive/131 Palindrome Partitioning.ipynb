{
 "cells": [
  {
   "cell_type": "code",
   "execution_count": null,
   "metadata": {
    "collapsed": true
   },
   "outputs": [],
   "source": [
    "Given a string s, partition s such that every substring of the partition is a palindrome.\n",
    "\n",
    "Return all possible palindrome partitioning of s.\n",
    "\n",
    "Example:\n",
    "\n",
    "Input: \"aab\"\n",
    "Output:\n",
    "[\n",
    "  [\"aa\",\"b\"],\n",
    "  [\"a\",\"a\",\"b\"]\n",
    "]"
   ]
  },
  {
   "cell_type": "code",
   "execution_count": null,
   "metadata": {
    "collapsed": true
   },
   "outputs": [],
   "source": [
    "class Solution:\n",
    "    def partition(self, s: str) -> List[List[str]]:\n",
    "        ret = []\n",
    "        def isPalindrome(string):\n",
    "            l = 0\n",
    "            r = len(string)-1\n",
    "            while(l<r):\n",
    "                if string[l]!=string[r]:\n",
    "                    return False\n",
    "                l = l+1\n",
    "                r = r-1\n",
    "            return True\n",
    "        def dfs(curr,start):\n",
    "            if start==len(s):\n",
    "                ret.append(curr)\n",
    "            for i in range(start,len(s)):\n",
    "                tmp = s[start:i+1]\n",
    "                if isPalindrome(tmp):\n",
    "                    dfs(curr+[tmp],i+1)\n",
    "        dfs([],0)\n",
    "        return ret\n",
    "                \n",
    "                \n",
    "                "
   ]
  }
 ],
 "metadata": {
  "kernelspec": {
   "display_name": "Python 3",
   "language": "python",
   "name": "python3"
  },
  "language_info": {
   "codemirror_mode": {
    "name": "ipython",
    "version": 3
   },
   "file_extension": ".py",
   "mimetype": "text/x-python",
   "name": "python",
   "nbconvert_exporter": "python",
   "pygments_lexer": "ipython3",
   "version": "3.6.1"
  }
 },
 "nbformat": 4,
 "nbformat_minor": 2
}
