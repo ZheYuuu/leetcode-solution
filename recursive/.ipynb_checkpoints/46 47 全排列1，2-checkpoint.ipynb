{
 "cells": [
  {
   "cell_type": "code",
   "execution_count": 1,
   "metadata": {},
   "outputs": [
    {
     "ename": "SyntaxError",
     "evalue": "invalid character in identifier (<ipython-input-1-61ec95d91322>, line 1)",
     "output_type": "error",
     "traceback": [
      "\u001b[1;36m  File \u001b[1;32m\"<ipython-input-1-61ec95d91322>\"\u001b[1;36m, line \u001b[1;32m1\u001b[0m\n\u001b[1;33m    给定一个没有重复数字的序列，返回其所有可能的全排列。\u001b[0m\n\u001b[1;37m                             ^\u001b[0m\n\u001b[1;31mSyntaxError\u001b[0m\u001b[1;31m:\u001b[0m invalid character in identifier\n"
     ]
    }
   ],
   "source": [
    "给定一个没有重复数字的序列，返回其所有可能的全排列。\n",
    "\n",
    "示例:\n",
    "\n",
    "输入: [1,2,3]\n",
    "输出:\n",
    "[\n",
    "  [1,2,3],\n",
    "  [1,3,2],\n",
    "  [2,1,3],\n",
    "  [2,3,1],\n",
    "  [3,1,2],\n",
    "  [3,2,1]\n",
    "]"
   ]
  },
  {
   "cell_type": "code",
   "execution_count": 2,
   "metadata": {
    "collapsed": true
   },
   "outputs": [],
   "source": [
    "class Solution(object):\n",
    "    def permute(self, nums):\n",
    "        \"\"\"\n",
    "        :type nums: List[int]\n",
    "        :rtype: List[List[int]]\n",
    "        \"\"\"\n",
    "        self.ret = []\n",
    "        n = len(nums)\n",
    "        def dfs(curr):\n",
    "            if len(curr)==n:\n",
    "                self.ret.append(curr)\n",
    "                return\n",
    "            for num in nums:\n",
    "                if num in curr:\n",
    "                    continue\n",
    "                dfs(curr+[num])\n",
    "                \n",
    "        for num in nums:\n",
    "            dfs([num])\n",
    "        return self.ret"
   ]
  },
  {
   "cell_type": "code",
   "execution_count": 3,
   "metadata": {},
   "outputs": [
    {
     "ename": "SyntaxError",
     "evalue": "invalid character in identifier (<ipython-input-3-9b773a426fad>, line 1)",
     "output_type": "error",
     "traceback": [
      "\u001b[1;36m  File \u001b[1;32m\"<ipython-input-3-9b773a426fad>\"\u001b[1;36m, line \u001b[1;32m1\u001b[0m\n\u001b[1;33m    给定一个可包含重复数字的序列，返回所有不重复的全排列。\u001b[0m\n\u001b[1;37m                              ^\u001b[0m\n\u001b[1;31mSyntaxError\u001b[0m\u001b[1;31m:\u001b[0m invalid character in identifier\n"
     ]
    }
   ],
   "source": [
    "给定一个可包含重复数字的序列，返回所有不重复的全排列。\n",
    "\n",
    "示例:\n",
    "\n",
    "输入: [1,1,2]\n",
    "输出:\n",
    "[\n",
    "  [1,1,2],\n",
    "  [1,2,1],\n",
    "  [2,1,1]\n",
    "]"
   ]
  },
  {
   "cell_type": "code",
   "execution_count": 4,
   "metadata": {
    "collapsed": true
   },
   "outputs": [],
   "source": [
    "class Solution(object):\n",
    "    def permuteUnique(self, nums):\n",
    "        \"\"\"\n",
    "        :type nums: List[int]\n",
    "        :rtype: List[List[int]]\n",
    "        \"\"\"\n",
    "        self.ret = []\n",
    "        self.used = [False for _ in nums]\n",
    "        nums.sort()\n",
    "        def dfs(curr):\n",
    "            if len(curr) == len(nums):\n",
    "                self.ret.append(curr)\n",
    "                return\n",
    "            for i in range(len(nums)):\n",
    "                if(i>0 and nums[i]==nums[i-1] and not self.used[i-1]):\n",
    "                    continue\n",
    "                if not self.used[i]:\n",
    "                    self.used[i] = True\n",
    "                    dfs(curr+[nums[i]])\n",
    "                    self.used[i] = False\n",
    "        dfs([])\n",
    "        return self.ret\n",
    "        "
   ]
  },
  {
   "cell_type": "code",
   "execution_count": null,
   "metadata": {
    "collapsed": true
   },
   "outputs": [],
   "source": []
  }
 ],
 "metadata": {
  "kernelspec": {
   "display_name": "Python 3",
   "language": "python",
   "name": "python3"
  },
  "language_info": {
   "codemirror_mode": {
    "name": "ipython",
    "version": 3
   },
   "file_extension": ".py",
   "mimetype": "text/x-python",
   "name": "python",
   "nbconvert_exporter": "python",
   "pygments_lexer": "ipython3",
   "version": "3.6.1"
  }
 },
 "nbformat": 4,
 "nbformat_minor": 2
}
