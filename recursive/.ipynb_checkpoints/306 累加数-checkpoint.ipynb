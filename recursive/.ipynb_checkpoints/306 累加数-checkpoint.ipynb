{
 "cells": [
  {
   "cell_type": "code",
   "execution_count": null,
   "metadata": {
    "collapsed": true
   },
   "outputs": [],
   "source": [
    "累加数是一个字符串，组成它的数字可以形成累加序列。\n",
    "\n",
    "一个有效的累加序列必须至少包含 3 个数。除了最开始的两个数以外，字符串中的其他数都等于它之前两个数相加的和。\n",
    "\n",
    "给定一个只包含数字 '0'-'9' 的字符串，编写一个算法来判断给定输入是否是累加数。\n",
    "\n",
    "说明: 累加序列里的数不会以 0 开头，所以不会出现 1, 2, 03 或者 1, 02, 3 的情况。\n",
    "\n",
    "示例 1:\n",
    "\n",
    "输入: \"112358\"\n",
    "输出: true \n",
    "解释: 累加序列为: 1, 1, 2, 3, 5, 8 。1 + 1 = 2, 1 + 2 = 3, 2 + 3 = 5, 3 + 5 = 8\n",
    "示例 2:\n",
    "\n",
    "输入: \"199100199\"\n",
    "输出: true \n",
    "解释: 累加序列为: 1, 99, 100, 199。1 + 99 = 100, 99 + 100 = 199\n",
    "进阶:\n",
    "你如何处理一个溢出的过大的整数输入?"
   ]
  },
  {
   "cell_type": "code",
   "execution_count": 28,
   "metadata": {
    "collapsed": true
   },
   "outputs": [],
   "source": [
    "class Solution(object):\n",
    "    def isAdditiveNumber(self, num):\n",
    "        \"\"\"\n",
    "        :type num: str\n",
    "        :rtype: bool\n",
    "        \"\"\"\n",
    "        def dfs(a,b,num):\n",
    "            if num=='':\n",
    "                return True\n",
    "            c = str(a+b)\n",
    "            i = 0\n",
    "            for s in c:\n",
    "#                 print(\"loop:\",s,num[i])\n",
    "                if i<len(num) and s==num[i]:\n",
    "                    i += 1\n",
    "                    continue\n",
    "                else:\n",
    "                    return False\n",
    "            return dfs(b,int(c),num[i:])\n",
    "                        \n",
    "        for i in range(1,len(num)):\n",
    "            for j in range(i+1,len(num)):\n",
    "                a = num[:i]\n",
    "                b = num[i:j]\n",
    "                if b[0]=='0':\n",
    "                    continue\n",
    "                if dfs(a,b,num[j:]):\n",
    "                    return True\n",
    "        return False\n",
    "                "
   ]
  },
  {
   "cell_type": "code",
   "execution_count": 29,
   "metadata": {
    "collapsed": true
   },
   "outputs": [],
   "source": [
    "sol = Solution()"
   ]
  },
  {
   "cell_type": "code",
   "execution_count": 30,
   "metadata": {},
   "outputs": [
    {
     "name": "stdout",
     "output_type": "stream",
     "text": [
      "loop: 1 3\n"
     ]
    },
    {
     "data": {
      "text/plain": [
       "False"
      ]
     },
     "execution_count": 30,
     "metadata": {},
     "output_type": "execute_result"
    }
   ],
   "source": [
    "sol.isAdditiveNumber('1023')"
   ]
  },
  {
   "cell_type": "code",
   "execution_count": null,
   "metadata": {
    "collapsed": true
   },
   "outputs": [],
   "source": []
  }
 ],
 "metadata": {
  "kernelspec": {
   "display_name": "Python 3",
   "language": "python",
   "name": "python3"
  },
  "language_info": {
   "codemirror_mode": {
    "name": "ipython",
    "version": 3
   },
   "file_extension": ".py",
   "mimetype": "text/x-python",
   "name": "python",
   "nbconvert_exporter": "python",
   "pygments_lexer": "ipython3",
   "version": "3.6.1"
  }
 },
 "nbformat": 4,
 "nbformat_minor": 2
}
