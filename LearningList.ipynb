{
 "cells": [
  {
   "cell_type": "markdown",
   "metadata": {},
   "source": [
    "√?×|Problem|Tag|Description|Remark\n",
    "-|:-:|:-:|:-|:-:\n",
    "×?|31 下一个排列|array|注意原地修改|\n",
    "√|22 括号生成|回溯|\n",
    "?√|322 零钱兑换|dp|完全背包\n",
    "?|168 Excel表列名称|Math|26进制|ord,chr\n",
    "××|421 数组中两个数的最大异或值|Trie&Gready||运算优先级 【~】 > 【<<,>>】 > 【&】 >【或，异或】\n",
    "?|676 实现一个魔法字典|Trie&剪枝||\n",
    "√|692 前K个高频单词|heap or Sort||1. sorted(dict.items(),lambda x:(x[0],x[1]))<br> 2. Note in tuple: < and > do not mean \"smaller than\" and \"greater than\" but \"is before\" and \"is after\": so (0, 1) \"is before\" (1, 0).So we could use tuple like (-count,word) in heapq<br>3. Use built-in method \\_\\_lt\\_\\_ to implement cmp:eg. Stu.\\_\\_init\\_\\_ = lambda self,other:self.age\\<other.name \n",
    "√|677 键值映射|Trie+bfs||\n",
    "√?|215 数组中第k个最大的元素|heap or qsort| fail to write qsort|qsort可引入随机化：swap(A[rand_idx],A[r])\n",
    "×√|1014 在D天内送达包裹的能力|binarySearch|未理清思路，把问题搞复杂了|\n",
    "×√|496 下一个更大元素Ⅰ|hashMap+stack|维护栈，若栈顶元素小于当前元素，生成栈顶：当前的key-val，即下一更大的元素键值对|\n",
    "?|503 下一个更大元素Ⅱ|stack+hashMap|类似上题，不过是循环链表，所以要遍历两次\n",
    "√|566 下一个更大元素III|array|转换为下一个排列，类似31\n",
    "××|1017 负二进制转换|位运算|类似于10-->2，但要注意，如果余数为负数，那么需要将N+1，rem+divisor|1.注意负数。eg.-3 原码：1000,0011 反码：1111,1100 补码：1111,1101  负数在计算机中以补码的形式存储，便于运算<br>2. python和R mod 结果的符号与divisor相同，而java，c等绝大多数都是与dividend相同。\n",
    "√|739 每日温度|stack|维护单调栈，类似下一个更大元素|\n",
    "×?|341 扁平化序列嵌套器|stack|维护栈，栈中元素为[nestedList,pos]的结构，nestedList为当前level的**列表**，pos为当前level的列表的下一个遍历的位置|\n",
    "√|94 二叉树中序遍历|stack or 递归|迭代用stack做|\n",
    "×|331 验证二叉树的前序序列化|stack|从前往后遍历nodes出现##则全部pop的隐含条件是不可能出现###|\n",
    "×|5019 视频拼接|greedy|end,end2|\n",
    "×?|865 具有最深节点的最小子树|tree，递归|\n",
    "×|5025 最长等差数列|dp|dp[(i,dif)] = max(dp.get((i,dif),1),dp.get((j,dif),1)+1))|\n",
    "×|60 第k个排列|math or 递归|递归超时，从数学的角度做|注意python2，3中\\操作不同：<br>python2:9/6=1<br>python3:9/6=1.5\n",
    "√|46 全排列|递归|\n",
    "?|47 全排列2|递归|注意去重：如1112，会出现重复的6个1112，实际上只是索引不同的6个1112，那么只要取一种索引组合即可，所以定义限制条件：相同值的前一个数如果没有被使用，那么这个数也暂时不使用|\n",
    "?|306 累加数|递归|每种组合方式由最前面的两个数所决定|str.startwith(prefix[,start,end])\n",
    "?|842 将数组拆分为斐波那契数列|递归|注意数据范围\n",
    "?|211 添加与搜索单词|Trie & recursive|注意设置isEnd|\n",
    "?|357. 计算各个位数不同的数字个数|recursive or dp| dp[i] = dp[i-1]+(dp[i-1]-dp[i-2])\\*(10-i+1)\n",
    "×|1029 两地调度|greedy|\n",
    "?|78 90 子集ⅠⅡ|recursive|值得注意的题目，关键点在于理清重复方案的出现原因，然后根据原因进行筛选。eg. nums[l:r] = [3,3,3,3,4,4,6,7]，实际上对于nums[l:r]的探索中，包含了子集有 0个3，1个3，...，4个3的情况，所以对于nums[l+1:r]的探索不必要，因为已经被前者覆盖。\n",
    "√|39 40 combination sum i ii| recursive| 也是值得注意的题目，重复时和上面有些类似。\n",
    "?|134 加油站|greedy|好题,要想清楚两点: 1.A-C可行,A-B不可行,则AC间任意一点都不能到达B. 2.totalGas < totalCost, 不可行|1. 设若选取A和C间任何一点作为起点,该点在以A为起点的情况下,必然有着>=0的剩余油量,但在以自身为起点后,剩余油量变为0,情况反而可能变得更差,所以AC间任意一点都不能到达B.所以只能选取B作为新的起点<br>2.该条性质带来的结论是,如果总cost<总gas,那么start即为目标值∵ 根据性质1,我们知道start点前的剩余油量为负,而start点后为正. 相当于以start为分界分成两段,那么总cost<总gas,意味着abs(前一段)<后一段,那么剩余油量也就够跑完.\n",
    "?|406 根据身高重建队列|greedy|依次固定最矮的  or   依次插入最高的|\n",
    "?|435 无重叠区间|greedy|以start排序.两种情况,先将后一个区间的start与前一个的end比较,再将后一个区间的end与前一个的end比较\n",
    "√|452 用最少数量的箭射爆气球|greedy|类似上题,排序,比较,记得更新end\n",
    "√|649 dota2参议院|greedy|每个阵营的议员ban掉离他最近的敌对阵营议员.  注意代码怎么写,可以维护两个队列, 也可以直接撸.\n",
    "√|763 划分字母区间|greedy|将字母index集合转换为  [第一次出现位置,最后依次出现位置]|\n",
    "×?|659 分割数组为连续子序列|greedy|好题!!!|\n",
    "×|738 单调递增的数字|greedy|从后往前遍历|\n",
    "×|991 坏了的计算器|greedy|<b>交换x,y的角色</b>。对y分奇偶讨论，odd：必+1；even：(Y+1+1)/2=(Y/2)+1，3次操作>两次操作，所以even情况下先除2|\n",
    "?|347 Top K Frequent Elements|heap|\n",
    "?|874 模拟行走机器人|greedy||math.cos(math.randians(90))==math.cos(math.pi/4)\n",
    "×|881 救生艇|greedy，双指针|先排升序，先减掉左边的，然后用剩余量去cover右边的"
   ]
  },
  {
   "cell_type": "code",
   "execution_count": null,
   "metadata": {
    "collapsed": true
   },
   "outputs": [],
   "source": [
    "\n",
    "                    \n",
    "                    "
   ]
  },
  {
   "cell_type": "code",
   "execution_count": 67,
   "metadata": {
    "collapsed": true
   },
   "outputs": [],
   "source": [
    "sol = Solution()"
   ]
  },
  {
   "cell_type": "code",
   "execution_count": 68,
   "metadata": {},
   "outputs": [
    {
     "data": {
      "text/plain": [
       "1859"
      ]
     },
     "execution_count": 68,
     "metadata": {},
     "output_type": "execute_result"
    }
   ],
   "source": [
    "sol.twoCitySchedCost([[259,770],[448,54],[926,667],[184,139],[840,118],[577,469]])"
   ]
  },
  {
   "cell_type": "code",
   "execution_count": 27,
   "metadata": {},
   "outputs": [
    {
     "data": {
      "text/plain": [
       "1"
      ]
     },
     "execution_count": 27,
     "metadata": {},
     "output_type": "execute_result"
    }
   ],
   "source": [
    "-1 & 1"
   ]
  },
  {
   "cell_type": "code",
   "execution_count": 18,
   "metadata": {},
   "outputs": [
    {
     "data": {
      "text/plain": [
       "[1, 2, 3, 4, 5]"
      ]
     },
     "execution_count": 18,
     "metadata": {},
     "output_type": "execute_result"
    }
   ],
   "source": [
    "arr"
   ]
  },
  {
   "cell_type": "code",
   "execution_count": 64,
   "metadata": {},
   "outputs": [
    {
     "data": {
      "text/plain": [
       "-1"
      ]
     },
     "execution_count": 64,
     "metadata": {},
     "output_type": "execute_result"
    }
   ],
   "source": [
    "-5%-2"
   ]
  },
  {
   "cell_type": "code",
   "execution_count": 65,
   "metadata": {},
   "outputs": [
    {
     "data": {
      "text/plain": [
       "1"
      ]
     },
     "execution_count": 65,
     "metadata": {},
     "output_type": "execute_result"
    }
   ],
   "source": [
    "-5%2"
   ]
  },
  {
   "cell_type": "code",
   "execution_count": 1,
   "metadata": {},
   "outputs": [
    {
     "data": {
      "text/plain": [
       "97"
      ]
     },
     "execution_count": 1,
     "metadata": {},
     "output_type": "execute_result"
    }
   ],
   "source": [
    "ord(\"a\")"
   ]
  },
  {
   "cell_type": "code",
   "execution_count": 2,
   "metadata": {},
   "outputs": [
    {
     "data": {
      "text/plain": [
       "'a'"
      ]
     },
     "execution_count": 2,
     "metadata": {},
     "output_type": "execute_result"
    }
   ],
   "source": [
    "chr(97)"
   ]
  },
  {
   "cell_type": "code",
   "execution_count": 28,
   "metadata": {
    "collapsed": true
   },
   "outputs": [],
   "source": [
    "import collections"
   ]
  },
  {
   "cell_type": "code",
   "execution_count": 29,
   "metadata": {
    "collapsed": true
   },
   "outputs": [],
   "source": [
    "counts = collections.Counter([1,2,4,4,5,5,3,3])"
   ]
  },
  {
   "cell_type": "code",
   "execution_count": 30,
   "metadata": {},
   "outputs": [],
   "source": [
    "?counts"
   ]
  },
  {
   "cell_type": "code",
   "execution_count": 23,
   "metadata": {
    "collapsed": true
   },
   "outputs": [],
   "source": [
    "counts[1] -=1"
   ]
  },
  {
   "cell_type": "code",
   "execution_count": 24,
   "metadata": {},
   "outputs": [
    {
     "data": {
      "text/plain": [
       "Counter({1: 0, 2: 1, 3: 2, 4: 2, 5: 2})"
      ]
     },
     "execution_count": 24,
     "metadata": {},
     "output_type": "execute_result"
    }
   ],
   "source": [
    "counts"
   ]
  },
  {
   "cell_type": "code",
   "execution_count": 25,
   "metadata": {
    "collapsed": true
   },
   "outputs": [],
   "source": [
    "a = [1,2]"
   ]
  },
  {
   "cell_type": "code",
   "execution_count": 27,
   "metadata": {},
   "outputs": [
    {
     "data": {
      "text/plain": [
       "0"
      ]
     },
     "execution_count": 27,
     "metadata": {},
     "output_type": "execute_result"
    }
   ],
   "source": [
    "sum(a[2:])"
   ]
  },
  {
   "cell_type": "code",
   "execution_count": null,
   "metadata": {
    "collapsed": true
   },
   "outputs": [],
   "source": []
  }
 ],
 "metadata": {
  "kernelspec": {
   "display_name": "Python 3",
   "language": "python",
   "name": "python3"
  },
  "language_info": {
   "codemirror_mode": {
    "name": "ipython",
    "version": 3
   },
   "file_extension": ".py",
   "mimetype": "text/x-python",
   "name": "python",
   "nbconvert_exporter": "python",
   "pygments_lexer": "ipython3",
   "version": "3.6.1"
  }
 },
 "nbformat": 4,
 "nbformat_minor": 2
}
