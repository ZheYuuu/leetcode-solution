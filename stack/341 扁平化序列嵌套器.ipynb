{
 "cells": [
  {
   "cell_type": "code",
   "execution_count": null,
   "metadata": {
    "collapsed": true
   },
   "outputs": [],
   "source": [
    "给定一个嵌套的整型列表。设计一个迭代器，使其能够遍历这个整型列表中的所有整数。\n",
    "\n",
    "列表中的项或者为一个整数，或者是另一个列表。\n",
    "\n",
    "示例 1:\n",
    "\n",
    "输入: [[1,1],2,[1,1]]\n",
    "输出: [1,1,2,1,1]\n",
    "解释: 通过重复调用 next 直到 hasNext 返回false，next 返回的元素的顺序应该是: [1,1,2,1,1]。\n",
    "示例 2:\n",
    "\n",
    "输入: [1,[4,[6]]]\n",
    "输出: [1,4,6]\n",
    "解释: 通过重复调用 next 直到 hasNext 返回false，next 返回的元素的顺序应该是: [1,4,6]。"
   ]
  },
  {
   "cell_type": "code",
   "execution_count": null,
   "metadata": {
    "collapsed": true
   },
   "outputs": [],
   "source": [
    "# \"\"\"\n",
    "# This is the interface that allows for creating nested lists.\n",
    "# You should not implement it, or speculate about its implementation\n",
    "# \"\"\"\n",
    "#class NestedInteger(object):\n",
    "#    def isInteger(self):\n",
    "#        \"\"\"\n",
    "#        @return True if this NestedInteger holds a single integer, rather than a nested list.\n",
    "#        :rtype bool\n",
    "#        \"\"\"\n",
    "#\n",
    "#    def getInteger(self):\n",
    "#        \"\"\"\n",
    "#        @return the single integer that this NestedInteger holds, if it holds a single integer\n",
    "#        Return None if this NestedInteger holds a nested list\n",
    "#        :rtype int\n",
    "#        \"\"\"\n",
    "#\n",
    "#    def getList(self):\n",
    "#        \"\"\"\n",
    "#        @return the nested list that this NestedInteger holds, if it holds a nested list\n",
    "#        Return None if this NestedInteger holds a single integer\n",
    "#        :rtype List[NestedInteger]\n",
    "#        \"\"\"\n",
    "\n",
    "class NestedIterator(object):\n",
    "\n",
    "    def __init__(self, nestedList):\n",
    "        \"\"\"\n",
    "        Initialize your data structure here.\n",
    "        :type nestedList: List[NestedInteger]\n",
    "        \"\"\"\n",
    "        self.stack = [t for t in nestedList[::-1]]\n",
    "        \n",
    "    def next(self):\n",
    "        \"\"\"\n",
    "        :rtype: int\n",
    "        \"\"\"\n",
    "        return self.stack.pop().getInteger()\n",
    "        \n",
    "\n",
    "    def hasNext(self):\n",
    "        \"\"\"\n",
    "        :rtype: bool\n",
    "        \"\"\"\n",
    "        if not self.stack:\n",
    "            return False\n",
    "        while(self.stack):\n",
    "            curr = self.stack[-1]\n",
    "            if curr.isInteger():\n",
    "                return True\n",
    "            self.stack.pop()\n",
    "            for t in curr.getList()[::-1]:\n",
    "                self.stack.append(t)\n",
    "        return False\n",
    "        \n",
    "        \n",
    "\n",
    "# Your NestedIterator object will be instantiated and called as such:\n",
    "# i, v = NestedIterator(nestedList), []\n",
    "# while i.hasNext(): v.append(i.next())"
   ]
  },
  {
   "cell_type": "code",
   "execution_count": null,
   "metadata": {
    "collapsed": true
   },
   "outputs": [],
   "source": [
    "class NestedIterator(object):\n",
    "\n",
    "    def __init__(self, nestedList):\n",
    "        self.stack = [[nestedList, 0]]\n",
    "\n",
    "    def next(self):\n",
    "        state = self.stack[-1]\n",
    "        nestedList,pos = state\n",
    "        ele = nestedList[pos]\n",
    "        state[1] += 1\n",
    "        return ele.getInteger()\n",
    "        \n",
    "            \n",
    "    def hasNext(self):\n",
    "        s = self.stack\n",
    "        while(self.stack):\n",
    "            state = self.stack[-1]\n",
    "            nestedList,pos = state\n",
    "            if pos<len(nestedList):\n",
    "                ele = nestedList[pos]\n",
    "                if ele.isInteger():\n",
    "                    return True\n",
    "                state[1] += 1\n",
    "                s.append([ele.getList(),0])\n",
    "            else:\n",
    "                s.pop()\n",
    "        return False"
   ]
  }
 ],
 "metadata": {
  "kernelspec": {
   "display_name": "Python 3",
   "language": "python",
   "name": "python3"
  },
  "language_info": {
   "codemirror_mode": {
    "name": "ipython",
    "version": 3
   },
   "file_extension": ".py",
   "mimetype": "text/x-python",
   "name": "python",
   "nbconvert_exporter": "python",
   "pygments_lexer": "ipython3",
   "version": "3.6.1"
  }
 },
 "nbformat": 4,
 "nbformat_minor": 2
}
