{
 "cells": [
  {
   "cell_type": "code",
   "execution_count": null,
   "metadata": {
    "collapsed": true
   },
   "outputs": [],
   "source": [
    "给定一个循环数组（最后一个元素的下一个元素是数组的第一个元素），输出每个元素的下一个更大元素。数字 x 的下一个更大的元素是按数组遍历顺序，这个数字之后的第一个比它更大的数，这意味着你应该循环地搜索它的下一个更大的数。如果不存在，则输出 -1。\n",
    "\n",
    "示例 1:\n",
    "\n",
    "输入: [1,2,1]\n",
    "输出: [2,-1,2]\n",
    "解释: 第一个 1 的下一个更大的数是 2；\n",
    "数字 2 找不到下一个更大的数； \n",
    "第二个 1 的下一个最大的数需要循环搜索，结果也是 2。\n",
    "注意: 输入数组的长度不会超过 10000。"
   ]
  },
  {
   "cell_type": "code",
   "execution_count": null,
   "metadata": {
    "collapsed": true
   },
   "outputs": [],
   "source": [
    "class Solution(object):\n",
    "    def nextGreaterElements(self, nums):\n",
    "        \"\"\"\n",
    "        :type nums: List[int]\n",
    "        :rtype: List[int]\n",
    "        \"\"\"\n",
    "        stack = []\n",
    "        hashmap = {}\n",
    "        for i,num in enumerate(nums):\n",
    "            if not stack:\n",
    "                stack.append((i,num))\n",
    "            else:\n",
    "                while(stack and stack[-1][1]<num):\n",
    "                    hashmap[stack[-1]] = num\n",
    "                    stack.pop()\n",
    "                stack.append((i,num))\n",
    "        if stack:\n",
    "            for i,num in enumerate(nums):\n",
    "                while(stack and stack[-1][1]<num):\n",
    "                    hashmap[stack[-1]] = num\n",
    "                    stack.pop()\n",
    "        res = []\n",
    "        for i,num in enumerate(nums):\n",
    "            tmp = hashmap[(i,num)] if (i,num) in hashmap else -1\n",
    "            res.append(tmp)\n",
    "        return res\n",
    "            \n",
    "        "
   ]
  },
  {
   "cell_type": "code",
   "execution_count": null,
   "metadata": {
    "collapsed": true
   },
   "outputs": [],
   "source": [
    "class Solution(object):\n",
    "    def nextGreaterElements(self, nums):\n",
    "        \"\"\"\n",
    "        :type nums: List[int]\n",
    "        :rtype: List[int]\n",
    "        \"\"\"\n",
    "        hashmap = {}\n",
    "        stack = []\n",
    "        for i in reversed(range(0,2*len(nums)-1)):\n",
    "            idx = i%len(nums)\n",
    "            while(stack and nums[stack[-1]]<=nums[idx]):\n",
    "                stack.pop()\n",
    "            hashmap[idx] = -1 if not stack else nums[stack[-1]]\n",
    "            stack.append(idx)\n",
    "        res = []\n",
    "        for i in range(len(nums)):\n",
    "            res.append(hashmap[i])\n",
    "        return res\n",
    "        "
   ]
  }
 ],
 "metadata": {
  "kernelspec": {
   "display_name": "Python 3",
   "language": "python",
   "name": "python3"
  },
  "language_info": {
   "codemirror_mode": {
    "name": "ipython",
    "version": 3
   },
   "file_extension": ".py",
   "mimetype": "text/x-python",
   "name": "python",
   "nbconvert_exporter": "python",
   "pygments_lexer": "ipython3",
   "version": "3.6.1"
  }
 },
 "nbformat": 4,
 "nbformat_minor": 2
}
