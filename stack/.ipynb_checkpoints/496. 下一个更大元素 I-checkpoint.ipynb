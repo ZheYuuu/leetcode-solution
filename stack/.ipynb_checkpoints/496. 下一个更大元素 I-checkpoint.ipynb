{
 "cells": [
  {
   "cell_type": "code",
   "execution_count": null,
   "metadata": {
    "collapsed": true
   },
   "outputs": [],
   "source": [
    "给定两个没有重复元素的数组 nums1 和 nums2 ，其中nums1 是 nums2 的子集。找到 nums1 中每个元素在 nums2 中的下一个比其大的值。\n",
    "\n",
    "nums1 中数字 x 的下一个更大元素是指 x 在 nums2 中对应位置的右边的第一个比 x 大的元素。如果不存在，对应位置输出-1。\n",
    "\n",
    "示例 1:\n",
    "\n",
    "输入: nums1 = [4,1,2], nums2 = [1,3,4,2].\n",
    "输出: [-1,3,-1]\n",
    "解释:\n",
    "    对于num1中的数字4，你无法在第二个数组中找到下一个更大的数字，因此输出 -1。\n",
    "    对于num1中的数字1，第二个数组中数字1右边的下一个较大数字是 3。\n",
    "    对于num1中的数字2，第二个数组中没有下一个更大的数字，因此输出 -1。\n",
    "示例 2:\n",
    "\n",
    "输入: nums1 = [2,4], nums2 = [1,2,3,4].\n",
    "输出: [3,-1]\n",
    "解释:\n",
    "    对于num1中的数字2，第二个数组中的下一个较大数字是3。\n",
    "    对于num1中的数字4，第二个数组中没有下一个更大的数字，因此输出 -1。\n",
    "注意:\n",
    "\n",
    "nums1和nums2中所有元素是唯一的。\n",
    "nums1和nums2 的数组大小都不超过1000。"
   ]
  },
  {
   "cell_type": "code",
   "execution_count": null,
   "metadata": {
    "collapsed": true
   },
   "outputs": [],
   "source": [
    "class Solution(object):\n",
    "    def nextGreaterElement(self, nums1, nums2):\n",
    "        \"\"\"\n",
    "        :type nums1: List[int]\n",
    "        :type nums2: List[int]\n",
    "        :rtype: List[int]\n",
    "        \"\"\"\n",
    "        def func(idx,nums2,a):\n",
    "            for i in range(idx,len(nums2)):\n",
    "                if nums2[i]>a:\n",
    "                    return nums2[i]\n",
    "            return -1\n",
    "        res = []\n",
    "        for a in nums1:\n",
    "            for i,b in enumerate(nums2):\n",
    "                if a==b:\n",
    "                    res.append(func(i+1,nums2,a))\n",
    "        return res"
   ]
  },
  {
   "cell_type": "code",
   "execution_count": null,
   "metadata": {
    "collapsed": true
   },
   "outputs": [],
   "source": [
    "class Solution(object):\n",
    "    def nextGreaterElement(self, nums1, nums2):\n",
    "        \"\"\"\n",
    "        :type nums1: List[int]\n",
    "        :type nums2: List[int]\n",
    "        :rtype: List[int]\n",
    "        \"\"\"\n",
    "        hashmap = {}\n",
    "        stack = []\n",
    "        for num in nums2:\n",
    "            if not stack:\n",
    "                stack.append(num)\n",
    "                continue\n",
    "            else:\n",
    "                while(stack and stack[-1]<num):\n",
    "                    hashmap[stack[-1]] = num\n",
    "                    stack.pop()\n",
    "                stack.append(num)\n",
    "        res = []\n",
    "        for num in nums1:\n",
    "            tmp = hashmap[num] if num in hashmap else -1\n",
    "            res.append(tmp)    \n",
    "        return res"
   ]
  }
 ],
 "metadata": {
  "kernelspec": {
   "display_name": "Python 3",
   "language": "python",
   "name": "python3"
  },
  "language_info": {
   "codemirror_mode": {
    "name": "ipython",
    "version": 3
   },
   "file_extension": ".py",
   "mimetype": "text/x-python",
   "name": "python",
   "nbconvert_exporter": "python",
   "pygments_lexer": "ipython3",
   "version": "3.6.1"
  }
 },
 "nbformat": 4,
 "nbformat_minor": 2
}
