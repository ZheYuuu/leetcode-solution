{
 "cells": [
  {
   "cell_type": "code",
   "execution_count": 2,
   "metadata": {
    "collapsed": true
   },
   "outputs": [],
   "source": [
    "import math"
   ]
  },
  {
   "cell_type": "code",
   "execution_count": 122,
   "metadata": {
    "collapsed": true
   },
   "outputs": [],
   "source": [
    "class Solution(object):\n",
    "    def searchInsert(self, nums, target):\n",
    "        \"\"\"\n",
    "        :type nums: List[int]\n",
    "        :type target: int\n",
    "        :rtype: int\n",
    "        \"\"\"\n",
    "        l = len(nums)\n",
    "        left = 0\n",
    "        right = l-1\n",
    "        while(left<=right):\n",
    "\n",
    "            mid = (left+right)//2\n",
    "            if target==nums[mid]:\n",
    "                return mid\n",
    "            elif target<nums[mid]:\n",
    "                right = mid-1\n",
    "            else:\n",
    "                left = mid+1\n",
    "        return left"
   ]
  },
  {
   "cell_type": "code",
   "execution_count": 123,
   "metadata": {},
   "outputs": [
    {
     "data": {
      "text/plain": [
       "4"
      ]
     },
     "execution_count": 123,
     "metadata": {},
     "output_type": "execute_result"
    }
   ],
   "source": [
    "main = Solution()\n",
    "main.searchInsert([1,3,5,6,12],12)"
   ]
  },
  {
   "cell_type": "code",
   "execution_count": 7,
   "metadata": {
    "collapsed": true
   },
   "outputs": [],
   "source": [
    "class Solution(object):\n",
    "    def _BinarySearch(self, numbers, target):\n",
    "        print(numbers)\n",
    "        l = 0\n",
    "        r = len(numbers)-1\n",
    "        while l<=r:\n",
    "            mid = (l+r)//2\n",
    "            if target==numbers[mid]:\n",
    "                return mid\n",
    "            elif target<numbers[mid]:\n",
    "                r = mid-1\n",
    "            else:\n",
    "                l = mid + 1\n",
    "        return -1\n",
    "    def twoSum(self, numbers, target):\n",
    "        \"\"\"\n",
    "        :type numbers: List[int]\n",
    "        :type target: int\n",
    "        :rtype: List[int]\n",
    "        \"\"\"\n",
    "        for i in range(len(numbers)):\n",
    "            left = target-numbers[i]\n",
    "            print(i,\":\",left)\n",
    "            left_index = self._BinarySearch(numbers[i+1:],left)\n",
    "            if left_index!=-1:\n",
    "                return [i+1, i+1+left_index+1]\n",
    "        return []"
   ]
  },
  {
   "cell_type": "code",
   "execution_count": 8,
   "metadata": {},
   "outputs": [
    {
     "name": "stdout",
     "output_type": "stream",
     "text": [
      "0 : 95\n",
      "[25, 75]\n",
      "1 : 75\n",
      "[75]\n"
     ]
    },
    {
     "data": {
      "text/plain": [
       "[2, 3]"
      ]
     },
     "execution_count": 8,
     "metadata": {},
     "output_type": "execute_result"
    }
   ],
   "source": [
    "solution = Solution()\n",
    "solution.twoSum([5,25,75],100)"
   ]
  },
  {
   "cell_type": "code",
   "execution_count": 9,
   "metadata": {
    "collapsed": true
   },
   "outputs": [],
   "source": [
    "matrix = [\n",
    "  [1,   3,  5,  7],\n",
    "  [10, 11, 16, 20],\n",
    "  [23, 30, 34, 50]\n",
    "]"
   ]
  },
  {
   "cell_type": "code",
   "execution_count": 24,
   "metadata": {},
   "outputs": [
    {
     "data": {
      "text/plain": [
       "[[10, 11, 16, 20]]"
      ]
     },
     "execution_count": 24,
     "metadata": {},
     "output_type": "execute_result"
    }
   ],
   "source": [
    "matrix[1:2]"
   ]
  },
  {
   "cell_type": "code",
   "execution_count": 131,
   "metadata": {
    "collapsed": true
   },
   "outputs": [],
   "source": [
    "class Solution(object):\n",
    "    def searchMatrix(self, matrix, target):\n",
    "        \"\"\"\n",
    "        :type matrix: List[List[int]]\n",
    "        :type target: int\n",
    "        :rtype: bool\n",
    "        \"\"\"\n",
    "        m = len(matrix)\n",
    "        if(m==0 or len(matrix[0])==0):\n",
    "            return False\n",
    "        index = [arr[0] for arr in matrix]\n",
    "        l = 0\n",
    "        r = len(index)-1 \n",
    "        while(l<=r):\n",
    "            if(l==r):\n",
    "                return self._BinarySearch(matrix[l],target)\n",
    "            mid = (l+r)//2\n",
    "            print(l,r,mid)\n",
    "            if(index[mid]==target):\n",
    "                return True\n",
    "            if(target<index[mid]):\n",
    "                r = mid-1\n",
    "                if(target>index[mid-1]):\n",
    "                    return self._BinarySearch(matrix[mid-1],target)\n",
    "            if(target>index[mid]):\n",
    "                l = mid+1\n",
    "                if(target<index[mid+1]):\n",
    "                    return self._BinarySearch(matrix[mid],target)            \n",
    "        return False\n",
    "        \n",
    "    \n",
    "    def _BinarySearch(self, nums, target):\n",
    "        print(nums)\n",
    "        l = 0\n",
    "        r = len(nums)-1\n",
    "        while(l<=r):\n",
    "            mid = (l+r)//2\n",
    "            if(nums[mid]==target):\n",
    "                return True\n",
    "            elif(target>nums[mid]):\n",
    "                l = mid+1\n",
    "            else:\n",
    "                r = mid-1\n",
    "        return False"
   ]
  },
  {
   "cell_type": "code",
   "execution_count": 134,
   "metadata": {},
   "outputs": [
    {
     "name": "stdout",
     "output_type": "stream",
     "text": [
      "[1, 3]\n"
     ]
    },
    {
     "data": {
      "text/plain": [
       "True"
      ]
     },
     "execution_count": 134,
     "metadata": {},
     "output_type": "execute_result"
    }
   ],
   "source": [
    "sol = Solution()\n",
    "matrix1=[[1,3]]\n",
    "matrix2 = [[1,3,5,7],[10,11,16,20],[23,32,34,50]]\n",
    "sol.searchMatrix(matrix1,3)\n",
    "# sol.searchMatrix(matrix2,11)\n"
   ]
  },
  {
   "cell_type": "code",
   "execution_count": 55,
   "metadata": {},
   "outputs": [
    {
     "data": {
      "text/plain": [
       "4"
      ]
     },
     "execution_count": 55,
     "metadata": {},
     "output_type": "execute_result"
    }
   ],
   "source": [
    "len(matrix[0])"
   ]
  },
  {
   "cell_type": "code",
   "execution_count": 185,
   "metadata": {},
   "outputs": [],
   "source": [
    "class Solution(object):\n",
    "    def search(self, nums, target):\n",
    "        \"\"\"\n",
    "        :type nums: List[int]\n",
    "        :type target: int\n",
    "        :rtype: int\n",
    "        \"\"\"\n",
    "        l = 0\n",
    "        r = len(nums)-1\n",
    "        if(-1==r):\n",
    "            return -1\n",
    "        if(nums[l]<nums[r]):\n",
    "            return self.BinarySearch(nums,target)\n",
    "        while(True):\n",
    "            mid = (l+r)//2\n",
    "            if(nums[mid]>nums[mid+1]):\n",
    "                sep = mid\n",
    "                break\n",
    "            elif(nums[mid]>nums[r]):\n",
    "                l = mid\n",
    "            elif(nums[mid]<nums[l]):\n",
    "                r = mid\n",
    "        if(target>=nums[0]):\n",
    "            return self.BinarySearch(nums[:sep+1],target)\n",
    "        else:\n",
    "            index = self.BinarySearch(nums[sep+1:],target)\n",
    "            return (-1 if index==-1 else index+sep+1)\n",
    "    def BinarySearch(self, nums, target):\n",
    "        l = 0\n",
    "        r = len(nums)-1\n",
    "        while(l<=r):\n",
    "            mid = (l+r)//2\n",
    "            if(target==nums[mid]):\n",
    "                return mid\n",
    "            elif(target<nums[mid]):\n",
    "                r = mid-1\n",
    "            else:\n",
    "                l = mid+1\n",
    "        return -1"
   ]
  },
  {
   "cell_type": "code",
   "execution_count": 261,
   "metadata": {
    "collapsed": true
   },
   "outputs": [],
   "source": [
    "class Solution(object):\n",
    "    def search(self, nums, target):\n",
    "        \"\"\"\n",
    "        :type nums: List[int]\n",
    "        :type target: int\n",
    "        :rtype: int\n",
    "        \"\"\"\n",
    "        l = 0\n",
    "        r = len(nums)-1\n",
    "        if(-1==r):\n",
    "            return False\n",
    "        if(nums[l]<nums[r]):\n",
    "            return self.BinarySearch(nums,target)\n",
    "        if(len(set(nums))==1):\n",
    "            return True if(target==nums[0]) else False\n",
    "#         print(\"--------------------\")\n",
    "        while(True):\n",
    "            mid = (l+r)//2\n",
    "#             print(\"l:\",l,\" r:\",r,\" mid:\",mid)\n",
    "            if(nums[mid]>nums[mid+1]):\n",
    "                sep = mid\n",
    "                break\n",
    "            elif(nums[mid]>nums[r]):\n",
    "                l = mid\n",
    "            elif(nums[mid]<nums[l]):\n",
    "                r = mid\n",
    "            else:\n",
    "                l = l+1\n",
    "#                 for i in range(1,len(nums)//2):\n",
    "#                     if(nums[mid+i]!=nums[mid]):\n",
    "#                         l = mid\n",
    "#                     if(nums[mid-i]!=nums[mid]):\n",
    "#                         r = mid\n",
    "                    \n",
    "#         print(sep)\n",
    "        if(target>=nums[0]):\n",
    "            return self.BinarySearch(nums[:sep+1],target)\n",
    "        else:\n",
    "            return self.BinarySearch(nums[sep+1:],target)\n",
    "    def BinarySearch(self, nums, target):\n",
    "        l = 0\n",
    "        r = len(nums)-1\n",
    "        while(l<=r):\n",
    "            mid = (l+r)//2\n",
    "            if(target==nums[mid]):\n",
    "                return True\n",
    "            elif(target<nums[mid]):\n",
    "                r = mid-1\n",
    "            else:\n",
    "                l = mid+1\n",
    "        return False"
   ]
  },
  {
   "cell_type": "code",
   "execution_count": 262,
   "metadata": {},
   "outputs": [
    {
     "data": {
      "text/plain": [
       "False"
      ]
     },
     "execution_count": 262,
     "metadata": {},
     "output_type": "execute_result"
    }
   ],
   "source": [
    "sol = Solution()\n",
    "sol.search()"
   ]
  },
  {
   "cell_type": "code",
   "execution_count": null,
   "metadata": {
    "collapsed": true
   },
   "outputs": [],
   "source": []
  },
  {
   "cell_type": "code",
   "execution_count": null,
   "metadata": {
    "collapsed": true
   },
   "outputs": [],
   "source": []
  }
 ],
 "metadata": {
  "kernelspec": {
   "display_name": "Python 3",
   "language": "python",
   "name": "python3"
  },
  "language_info": {
   "codemirror_mode": {
    "name": "ipython",
    "version": 3
   },
   "file_extension": ".py",
   "mimetype": "text/x-python",
   "name": "python",
   "nbconvert_exporter": "python",
   "pygments_lexer": "ipython3",
   "version": "3.6.1"
  }
 },
 "nbformat": 4,
 "nbformat_minor": 2
}
