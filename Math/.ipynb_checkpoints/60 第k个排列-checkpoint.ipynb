{
 "cells": [
  {
   "cell_type": "code",
   "execution_count": null,
   "metadata": {
    "collapsed": true
   },
   "outputs": [],
   "source": [
    "给出集合 [1,2,3,…,n]，其所有元素共有 n! 种排列。\n",
    "\n",
    "按大小顺序列出所有排列情况，并一一标记，当 n = 3 时, 所有排列如下：\n",
    "\n",
    "\"123\"\n",
    "\"132\"\n",
    "\"213\"\n",
    "\"231\"\n",
    "\"312\"\n",
    "\"321\"\n",
    "给定 n 和 k，返回第 k 个排列。\n",
    "\n",
    "说明：\n",
    "\n",
    "给定 n 的范围是 [1, 9]。\n",
    "给定 k 的范围是[1,  n!]。\n",
    "示例 1:\n",
    "\n",
    "输入: n = 3, k = 3\n",
    "输出: \"213\"\n",
    "示例 2:\n",
    "\n",
    "输入: n = 4, k = 9\n",
    "输出: \"2314\""
   ]
  },
  {
   "cell_type": "code",
   "execution_count": null,
   "metadata": {
    "collapsed": true
   },
   "outputs": [],
   "source": [
    "# TLE\n",
    "class Solution(object):\n",
    "    def getPermutation(self, n, k):\n",
    "        \"\"\"\n",
    "        :type n: int\n",
    "        :type k: int\n",
    "        :rtype: str\n",
    "        \"\"\"\n",
    "        self.k = k\n",
    "        self.ret = None\n",
    "        def dfs(cur):\n",
    "            if self.ret:\n",
    "                return \n",
    "            if len(cur)==n:\n",
    "                if self.k==1:\n",
    "                    self.ret = cur\n",
    "                else:\n",
    "                    self.k -= 1\n",
    "                return\n",
    "            for i in range(1,n+1):\n",
    "                if i in cur:\n",
    "                    continue\n",
    "                dfs(cur+[i])\n",
    "        for i in range(1,n+1):\n",
    "            dfs([i])\n",
    "\n",
    "        return \"\".join(list(map(str,self.ret)))"
   ]
  },
  {
   "cell_type": "code",
   "execution_count": 13,
   "metadata": {
    "collapsed": true
   },
   "outputs": [],
   "source": [
    "class Solution(object):\n",
    "    def getPermutation(self, n, k):\n",
    "        \"\"\"\n",
    "        :type n: int\n",
    "        :type k: int\n",
    "        :rtype: str\n",
    "        \"\"\"\n",
    "        def fa(n):\n",
    "            if n==1 or n==0:\n",
    "                return 1\n",
    "            else:\n",
    "                return n*fa(n-1)\n",
    "        ret = []\n",
    "        num = [i for i in range(1,n+1)]\n",
    "        idx = 1\n",
    "        while(num):\n",
    "            loop = fa(n-idx)\n",
    "            curr = int(math.ceil(k*1.0/loop))\n",
    "            # print(\"loop:\",loop,\" curr:\",curr)\n",
    "            ret.append(num.pop(curr-1))\n",
    "            k = k-(curr-1)*loop\n",
    "            idx+=1\n",
    "        return \"\".join(list(map(str,ret)))"
   ]
  },
  {
   "cell_type": "code",
   "execution_count": 14,
   "metadata": {
    "collapsed": true
   },
   "outputs": [],
   "source": [
    "sol = Solution()"
   ]
  },
  {
   "cell_type": "code",
   "execution_count": 15,
   "metadata": {},
   "outputs": [
    {
     "name": "stdout",
     "output_type": "stream",
     "text": [
      "2\n",
      "2\n",
      "1\n",
      "1\n"
     ]
    },
    {
     "data": {
      "text/plain": [
       "'2314'"
      ]
     },
     "execution_count": 15,
     "metadata": {},
     "output_type": "execute_result"
    }
   ],
   "source": [
    "sol.getPermutation(4,9)"
   ]
  },
  {
   "cell_type": "code",
   "execution_count": 16,
   "metadata": {},
   "outputs": [
    {
     "data": {
      "text/plain": [
       "2"
      ]
     },
     "execution_count": 16,
     "metadata": {},
     "output_type": "execute_result"
    }
   ],
   "source": [
    "int(math.ceil(9/6))"
   ]
  },
  {
   "cell_type": "code",
   "execution_count": 17,
   "metadata": {},
   "outputs": [
    {
     "name": "stdout",
     "output_type": "stream",
     "text": [
      "Help on built-in function ceil in module math:\n",
      "\n",
      "ceil(...)\n",
      "    ceil(x)\n",
      "    \n",
      "    Return the ceiling of x as an Integral.\n",
      "    This is the smallest integer >= x.\n",
      "\n"
     ]
    }
   ],
   "source": [
    "help(math.ceil)"
   ]
  },
  {
   "cell_type": "code",
   "execution_count": 19,
   "metadata": {},
   "outputs": [],
   "source": [
    "import math"
   ]
  },
  {
   "cell_type": "code",
   "execution_count": 21,
   "metadata": {},
   "outputs": [
    {
     "data": {
      "text/plain": [
       "1.5"
      ]
     },
     "execution_count": 21,
     "metadata": {},
     "output_type": "execute_result"
    }
   ],
   "source": [
    "9/6"
   ]
  },
  {
   "cell_type": "code",
   "execution_count": null,
   "metadata": {
    "collapsed": true
   },
   "outputs": [],
   "source": []
  }
 ],
 "metadata": {
  "kernelspec": {
   "display_name": "Python 3",
   "language": "python",
   "name": "python3"
  },
  "language_info": {
   "codemirror_mode": {
    "name": "ipython",
    "version": 3
   },
   "file_extension": ".py",
   "mimetype": "text/x-python",
   "name": "python",
   "nbconvert_exporter": "python",
   "pygments_lexer": "ipython3",
   "version": "3.6.1"
  }
 },
 "nbformat": 4,
 "nbformat_minor": 2
}
