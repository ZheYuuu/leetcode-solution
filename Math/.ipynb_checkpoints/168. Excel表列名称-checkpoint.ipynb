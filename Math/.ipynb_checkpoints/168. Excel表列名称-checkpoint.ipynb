{
 "cells": [
  {
   "cell_type": "code",
   "execution_count": null,
   "metadata": {
    "collapsed": true
   },
   "outputs": [],
   "source": [
    "给定一个正整数，返回它在 Excel 表中相对应的列名称。\n",
    "\n",
    "例如，\n",
    "\n",
    "    1 -> A\n",
    "    2 -> B\n",
    "    3 -> C\n",
    "    ...\n",
    "    26 -> Z\n",
    "    27 -> AA\n",
    "    28 -> AB \n",
    "    ...\n",
    "示例 1:\n",
    "\n",
    "输入: 1\n",
    "输出: \"A\"\n",
    "示例 2:\n",
    "\n",
    "输入: 28\n",
    "输出: \"AB\"\n",
    "示例 3:\n",
    "\n",
    "输入: 701\n",
    "输出: \"ZY\""
   ]
  },
  {
   "cell_type": "code",
   "execution_count": null,
   "metadata": {
    "collapsed": true
   },
   "outputs": [],
   "source": [
    "class Solution(object):\n",
    "    def convertToTitle(self, n):\n",
    "        \"\"\"\n",
    "        :type n: int\n",
    "        :rtype: str\n",
    "        \"\"\"\n",
    "        ret = []\n",
    "        while(n>0):\n",
    "            # print(n)\n",
    "            t = (n-1)%26+1\n",
    "            ret.append(chr(t+64))\n",
    "            n = (n-1)//26\n",
    "        return ''.join(ret[::-1])"
   ]
  }
 ],
 "metadata": {
  "kernelspec": {
   "display_name": "Python 3",
   "language": "python",
   "name": "python3"
  },
  "language_info": {
   "codemirror_mode": {
    "name": "ipython",
    "version": 3
   },
   "file_extension": ".py",
   "mimetype": "text/x-python",
   "name": "python",
   "nbconvert_exporter": "python",
   "pygments_lexer": "ipython3",
   "version": "3.6.1"
  }
 },
 "nbformat": 4,
 "nbformat_minor": 2
}
