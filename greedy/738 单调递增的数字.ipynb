{
 "cells": [
  {
   "cell_type": "code",
   "execution_count": null,
   "metadata": {
    "collapsed": true
   },
   "outputs": [],
   "source": [
    "给定一个非负整数 N，找出小于或等于 N 的最大的整数，同时这个整数需要满足其各个位数上的数字是单调递增。\n",
    "\n",
    "（当且仅当每个相邻位数上的数字 x 和 y 满足 x <= y 时，我们称这个整数是单调递增的。）\n",
    "\n",
    "示例 1:\n",
    "\n",
    "输入: N = 10\n",
    "输出: 9\n",
    "示例 2:\n",
    "\n",
    "输入: N = 1234\n",
    "输出: 1234\n",
    "示例 3:\n",
    "\n",
    "输入: N = 332\n",
    "输出: 299\n",
    "说明: N 是在 [0, 10^9] 范围内的一个整数。"
   ]
  },
  {
   "cell_type": "code",
   "execution_count": 7,
   "metadata": {
    "collapsed": true
   },
   "outputs": [],
   "source": [
    "class Solution:\n",
    "    def monotoneIncreasingDigits(self, N: int) -> int:\n",
    "        digits = []\n",
    "        NN = N\n",
    "        while(NN):\n",
    "            digits.append(NN%10)\n",
    "            NN = NN//10\n",
    "        ret = []\n",
    "        print(\"digits:\",digits)\n",
    "        for i in range(len(digits)-1):\n",
    "            if digits[i]<digits[i+1]:\n",
    "                ret = [\"9\" for _ in range(i+1)]\n",
    "                digits[i+1] -= 1\n",
    "            else:\n",
    "                ret.append(str(digits[i]))\n",
    "        ret.append(str(digits[-1]))\n",
    "        # if ret[-1]==\"0\":\n",
    "        #     return int(''.join(ret[:-1:-1]))\n",
    "        # else:\n",
    "        return int(''.join(ret[::-1]))\n",
    "                \n",
    "            \n",
    "            \n",
    "                \n",
    "                \n",
    "            "
   ]
  },
  {
   "cell_type": "code",
   "execution_count": 8,
   "metadata": {
    "collapsed": true
   },
   "outputs": [],
   "source": [
    "sol = Solution()"
   ]
  },
  {
   "cell_type": "code",
   "execution_count": 9,
   "metadata": {},
   "outputs": [
    {
     "name": "stdout",
     "output_type": "stream",
     "text": [
      "digits: [2, 3, 3]\n"
     ]
    },
    {
     "data": {
      "text/plain": [
       "299"
      ]
     },
     "execution_count": 9,
     "metadata": {},
     "output_type": "execute_result"
    }
   ],
   "source": [
    "sol.monotoneIncreasingDigits(332)"
   ]
  },
  {
   "cell_type": "code",
   "execution_count": null,
   "metadata": {
    "collapsed": true
   },
   "outputs": [],
   "source": []
  }
 ],
 "metadata": {
  "kernelspec": {
   "display_name": "Python 3",
   "language": "python",
   "name": "python3"
  },
  "language_info": {
   "codemirror_mode": {
    "name": "ipython",
    "version": 3
   },
   "file_extension": ".py",
   "mimetype": "text/x-python",
   "name": "python",
   "nbconvert_exporter": "python",
   "pygments_lexer": "ipython3",
   "version": "3.6.1"
  }
 },
 "nbformat": 4,
 "nbformat_minor": 2
}
