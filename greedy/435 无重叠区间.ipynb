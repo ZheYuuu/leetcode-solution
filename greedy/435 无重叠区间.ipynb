{
 "cells": [
  {
   "cell_type": "code",
   "execution_count": null,
   "metadata": {
    "collapsed": true
   },
   "outputs": [],
   "source": [
    "给定一个区间的集合，找到需要移除区间的最小数量，使剩余区间互不重叠。\n",
    "\n",
    "注意:\n",
    "\n",
    "可以认为区间的终点总是大于它的起点。\n",
    "区间 [1,2] 和 [2,3] 的边界相互“接触”，但没有相互重叠。\n",
    "示例 1:\n",
    "\n",
    "输入: [ [1,2], [2,3], [3,4], [1,3] ]\n",
    "\n",
    "输出: 1\n",
    "\n",
    "解释: 移除 [1,3] 后，剩下的区间没有重叠。\n",
    "示例 2:\n",
    "\n",
    "输入: [ [1,2], [1,2], [1,2] ]\n",
    "\n",
    "输出: 2\n",
    "\n",
    "解释: 你需要移除两个 [1,2] 来使剩下的区间没有重叠。\n",
    "示例 3:\n",
    "\n",
    "输入: [ [1,2], [2,3] ]\n",
    "\n",
    "输出: 0\n",
    "\n",
    "解释: 你不需要移除任何区间，因为它们已经是无重叠的了。"
   ]
  },
  {
   "cell_type": "code",
   "execution_count": null,
   "metadata": {
    "collapsed": true
   },
   "outputs": [],
   "source": [
    "class Solution:\n",
    "    def eraseOverlapIntervals(self, intervals: List[List[int]]) -> int:\n",
    "        if not intervals:\n",
    "            return 0\n",
    "        intervals.sort(key = lambda t:(t[0],t[1]))\n",
    "        start = intervals[0][0]\n",
    "        end = intervals[0][1]\n",
    "        cnt = 0\n",
    "        for itv in intervals[1:]:\n",
    "            if itv[0]>=end:\n",
    "                start = itv[0]\n",
    "                end = itv[1]\n",
    "            else:\n",
    "                if itv[1]<=end:\n",
    "                    start = itv[0]\n",
    "                    end = itv[1]\n",
    "                cnt += 1\n",
    "        return cnt\n",
    "                    \n",
    "                "
   ]
  }
 ],
 "metadata": {
  "kernelspec": {
   "display_name": "Python 3",
   "language": "python",
   "name": "python3"
  },
  "language_info": {
   "codemirror_mode": {
    "name": "ipython",
    "version": 3
   },
   "file_extension": ".py",
   "mimetype": "text/x-python",
   "name": "python",
   "nbconvert_exporter": "python",
   "pygments_lexer": "ipython3",
   "version": "3.6.1"
  }
 },
 "nbformat": 4,
 "nbformat_minor": 2
}
