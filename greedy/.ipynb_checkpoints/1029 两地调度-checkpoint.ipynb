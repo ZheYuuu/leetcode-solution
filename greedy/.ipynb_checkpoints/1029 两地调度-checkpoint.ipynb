{
 "cells": [
  {
   "cell_type": "code",
   "execution_count": null,
   "metadata": {
    "collapsed": true
   },
   "outputs": [],
   "source": [
    "公司计划面试 2N 人。第 i 人飞往 A 市的费用为 costs[i][0]，飞往 B 市的费用为 costs[i][1]。\n",
    "\n",
    "返回将每个人都飞到某座城市的最低费用，要求每个城市都有 N 人抵达。\n",
    "\n",
    " \n",
    "\n",
    "示例：\n",
    "\n",
    "输入：[[10,20],[30,200],[400,50],[30,20]]\n",
    "输出：110\n",
    "解释：\n",
    "第一个人去 A 市，费用为 10。\n",
    "第二个人去 A 市，费用为 30。\n",
    "第三个人去 B 市，费用为 50。\n",
    "第四个人去 B 市，费用为 20。\n",
    "\n",
    "最低总费用为 10 + 30 + 50 + 20 = 110，每个城市都有一半的人在面试。\n",
    " \n",
    "\n",
    "提示：\n",
    "\n",
    "1 <= costs.length <= 100\n",
    "costs.length 为偶数\n",
    "1 <= costs[i][0], costs[i][1] <= 1000"
   ]
  },
  {
   "cell_type": "code",
   "execution_count": null,
   "metadata": {
    "collapsed": true
   },
   "outputs": [],
   "source": [
    "# TLE \n",
    "class Solution(object):\n",
    "    def twoCitySchedCost(self, costs):\n",
    "        \"\"\"\n",
    "        :type costs: List[List[int]]\n",
    "        :rtype: int\n",
    "        \"\"\"\n",
    "        self.ret = float('inf')\n",
    "        total = len(costs)\n",
    "        def dfs(curr,a,b,costs):\n",
    "            if not costs:\n",
    "\n",
    "                self.ret = min(curr,self.ret)\n",
    "                return\n",
    "            for i,cost in enumerate(costs):\n",
    "                if len(a)<total/2:\n",
    "                    curr += cost[0]\n",
    "                    costs.pop(i)\n",
    "                    a.append(cost[0])\n",
    "                    dfs(curr,a,b,costs)\n",
    "                    curr-=cost[0]\n",
    "                    costs.insert(i,cost)\n",
    "                    a.pop()\n",
    "                elif len(b)<total/2:\n",
    "                    curr += cost[1]\n",
    "                    costs.pop(i)\n",
    "                    b.append(cost[1])\n",
    "                    dfs(curr,a,b,costs)\n",
    "                    costs.insert(i,cost)\n",
    "                    b.pop()\n",
    "        dfs(0,[],[],costs)\n",
    "        return self.ret\n",
    "                    \n",
    "                    "
   ]
  },
  {
   "cell_type": "code",
   "execution_count": 2,
   "metadata": {},
   "outputs": [],
   "source": [
    "class Solution(object):\n",
    "    def twoCitySchedCost(self, costs):\n",
    "        \"\"\"\n",
    "        :type costs: List[List[int]]\n",
    "        :rtype: int\n",
    "        \"\"\"\n",
    "        a = 0\n",
    "        b = 0\n",
    "        c = len(costs)/2\n",
    "        arr = []\n",
    "        ret = 0\n",
    "        for i,cost in enumerate(costs):\n",
    "            if cost[0]>cost[1]:\n",
    "                arr.append(cost[0]-cost[1],i)\n",
    "            else:\n",
    "                arr.append(cost[1]-cost[0],-i)\n",
    "        arr.sort(reversed=True)\n",
    "        for t in arr:\n",
    "            if t[1]>0:\n",
    "                if a<c:\n",
    "                    ret += costs[t[1]][0]\n",
    "                    a += 1\n",
    "                else:\n",
    "                    ret += costs[t[1]][1]\n",
    "                    b += 1\n",
    "            else:\n",
    "                if b<c:\n",
    "                    ret += costs[-t[1]][1]\n",
    "                    b += 1\n",
    "                else:\n",
    "                    ret += costs[-t[1]][0]\n",
    "                    a += 1\n",
    "        return ret\n",
    "                "
   ]
  },
  {
   "cell_type": "code",
   "execution_count": 3,
   "metadata": {
    "collapsed": true
   },
   "outputs": [],
   "source": [
    "sol = Solution()"
   ]
  },
  {
   "cell_type": "code",
   "execution_count": null,
   "metadata": {
    "collapsed": true
   },
   "outputs": [],
   "source": []
  }
 ],
 "metadata": {
  "kernelspec": {
   "display_name": "Python 3",
   "language": "python",
   "name": "python3"
  },
  "language_info": {
   "codemirror_mode": {
    "name": "ipython",
    "version": 3
   },
   "file_extension": ".py",
   "mimetype": "text/x-python",
   "name": "python",
   "nbconvert_exporter": "python",
   "pygments_lexer": "ipython3",
   "version": "3.6.1"
  }
 },
 "nbformat": 4,
 "nbformat_minor": 2
}
