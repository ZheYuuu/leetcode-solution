{
 "cells": [
  {
   "cell_type": "code",
   "execution_count": null,
   "metadata": {
    "collapsed": true
   },
   "outputs": [],
   "source": [
    "字符串的一个子序列是原始字符串删除一些（也可以不删除）字符而不改变剩余字符相对位置形成的新字符串。（例如，\"ace\"是\"abcde\"的一个子序列，而\"aec\"不是）。\n",
    "\n",
    "示例 1:\n",
    "s = \"abc\", t = \"ahbgdc\"\n",
    "\n",
    "返回 true.\n",
    "\n",
    "示例 2:\n",
    "s = \"axc\", t = \"ahbgdc\"\n",
    "\n",
    "返回 false.\n",
    "\n",
    "后续挑战 :\n",
    "\n",
    "如果有大量输入的 S，称作S1, S2, ... , Sk 其中 k >= 10亿，你需要依次检查它们是否为 T 的子序列。在这种情况下，你会怎样改变代码？"
   ]
  },
  {
   "cell_type": "code",
   "execution_count": null,
   "metadata": {
    "collapsed": true
   },
   "outputs": [],
   "source": [
    "class Solution(object):\n",
    "    def isSubsequence(self, s, t):\n",
    "        \"\"\"\n",
    "        :type s: str\n",
    "        :type t: str\n",
    "        :rtype: bool\n",
    "        \"\"\"\n",
    "        sIdx = 0\n",
    "        tIdx = 0\n",
    "        while(sIdx<len(s) and tIdx<len(t)):\n",
    "            if s[sIdx]==t[tIdx]:\n",
    "                sIdx += 1\n",
    "            tIdx += 1\n",
    "        return sIdx==len(s)"
   ]
  },
  {
   "cell_type": "code",
   "execution_count": 16,
   "metadata": {
    "collapsed": true
   },
   "outputs": [],
   "source": [
    "import collections\n",
    "class Solution(object):\n",
    "    def isSubsequence(self, s, t):\n",
    "        \"\"\"\n",
    "        :type s: str\n",
    "        :type t: str\n",
    "        :rtype: bool\n",
    "        \"\"\"\n",
    "#         存储t中各字符的idx至mapping\n",
    "        mapping = collections.defaultdict(list)\n",
    "        for i in range(len(t)):\n",
    "            mapping[t[i]].append(i)\n",
    "        pre = -1\n",
    "#       对于s中的每个字符，找到其在上一个匹配字符在t中对应的位置之后的最近匹配位置，记录为pre\n",
    "        for i in range(len(s)):\n",
    "            pre = self.lowerBound(mapping[s[i]],pre+1)  # 注意是pre+1\n",
    "            # print(pre)\n",
    "            if pre == -1:\n",
    "                return False\n",
    "        return True\n",
    "    \n",
    "    def lowerBound(self,nums,target):\n",
    "        first = 0\n",
    "        last = len(nums)\n",
    "        while(first<last):\n",
    "            mid = first +(last - first)//2\n",
    "            if nums[mid]<target:\n",
    "                first = mid+1\n",
    "            else:\n",
    "                last = mid\n",
    "        return nums[first] if first<len(nums) else -1\n",
    "        "
   ]
  },
  {
   "cell_type": "code",
   "execution_count": 17,
   "metadata": {
    "collapsed": true
   },
   "outputs": [],
   "source": [
    "sol = Solution()"
   ]
  },
  {
   "cell_type": "code",
   "execution_count": 18,
   "metadata": {},
   "outputs": [
    {
     "name": "stdout",
     "output_type": "stream",
     "text": [
      "defaultdict(<class 'list'>, {'a': [0], 'h': [1], 'b': [2], 'g': [3], 'd': [4], 'c': [5]})\n",
      "0\n",
      "2\n",
      "5\n"
     ]
    },
    {
     "data": {
      "text/plain": [
       "True"
      ]
     },
     "execution_count": 18,
     "metadata": {},
     "output_type": "execute_result"
    }
   ],
   "source": [
    "sol.isSubsequence(\"abc\",\"ahbgdc\")"
   ]
  },
  {
   "cell_type": "code",
   "execution_count": 19,
   "metadata": {},
   "outputs": [
    {
     "name": "stdout",
     "output_type": "stream",
     "text": [
      "defaultdict(<class 'list'>, {'a': [0], 'h': [1], 'b': [2], 'g': [3], 'd': [4], 'c': [5]})\n",
      "0\n",
      "5\n",
      "-1\n"
     ]
    },
    {
     "data": {
      "text/plain": [
       "False"
      ]
     },
     "execution_count": 19,
     "metadata": {},
     "output_type": "execute_result"
    }
   ],
   "source": [
    "sol.isSubsequence(\"acb\",\"ahbgdc\")"
   ]
  },
  {
   "cell_type": "code",
   "execution_count": null,
   "metadata": {
    "collapsed": true
   },
   "outputs": [],
   "source": []
  }
 ],
 "metadata": {
  "kernelspec": {
   "display_name": "Python 3",
   "language": "python",
   "name": "python3"
  },
  "language_info": {
   "codemirror_mode": {
    "name": "ipython",
    "version": 3
   },
   "file_extension": ".py",
   "mimetype": "text/x-python",
   "name": "python",
   "nbconvert_exporter": "python",
   "pygments_lexer": "ipython3",
   "version": "3.6.1"
  }
 },
 "nbformat": 4,
 "nbformat_minor": 2
}
