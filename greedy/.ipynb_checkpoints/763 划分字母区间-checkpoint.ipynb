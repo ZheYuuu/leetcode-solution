{
 "cells": [
  {
   "cell_type": "code",
   "execution_count": null,
   "metadata": {
    "collapsed": true
   },
   "outputs": [],
   "source": [
    "字符串 S 由小写字母组成。我们要把这个字符串划分为尽可能多的片段，同一个字母只会出现在其中的一个片段。返回一个表示每个字符串片段的长度的列表。\n",
    "\n",
    "示例 1:\n",
    "\n",
    "输入: S = \"ababcbacadefegdehijhklij\"\n",
    "输出: [9,7,8]\n",
    "解释:\n",
    "划分结果为 \"ababcbaca\", \"defegde\", \"hijhklij\"。\n",
    "每个字母最多出现在一个片段中。\n",
    "像 \"ababcbacadefegde\", \"hijhklij\" 的划分是错误的，因为划分的片段数较少。\n",
    "注意:\n",
    "\n",
    "S的长度在[1, 500]之间。\n",
    "S只包含小写字母'a'到'z'。"
   ]
  },
  {
   "cell_type": "code",
   "execution_count": 21,
   "metadata": {
    "collapsed": true
   },
   "outputs": [],
   "source": [
    "import collections\n",
    "class Solution:\n",
    "    def partitionLabels(self, S):\n",
    "        if not S:\n",
    "            return []\n",
    "        mapping = collections.defaultdict(list)\n",
    "        for i,s in enumerate(S):\n",
    "            mapping[s].append(i)\n",
    "        intervals = [[val[0],val[-1]] for val in mapping.values()]\n",
    "        intervals.sort(key = lambda t:(t[0],t[-1]))\n",
    "        start = intervals[0][0]\n",
    "        end = intervals[0][1]\n",
    "        ret = []\n",
    "        for itv in intervals[1:]:\n",
    "            if itv[0]>end:\n",
    "                ret.append(end-start+1)\n",
    "                start = itv[0]\n",
    "                end = itv[1]\n",
    "            else:\n",
    "                if itv[1]>end:\n",
    "                    end = itv[1]\n",
    "        ret.append(end-start+1)\n",
    "        return ret\n",
    "                "
   ]
  },
  {
   "cell_type": "code",
   "execution_count": 22,
   "metadata": {
    "collapsed": true
   },
   "outputs": [],
   "source": [
    "sol = Solution()"
   ]
  },
  {
   "cell_type": "code",
   "execution_count": 24,
   "metadata": {},
   "outputs": [
    {
     "data": {
      "text/plain": [
       "[1]"
      ]
     },
     "execution_count": 24,
     "metadata": {},
     "output_type": "execute_result"
    }
   ],
   "source": [
    "sol.partitionLabels(\"a\")"
   ]
  },
  {
   "cell_type": "code",
   "execution_count": null,
   "metadata": {
    "collapsed": true
   },
   "outputs": [],
   "source": []
  }
 ],
 "metadata": {
  "kernelspec": {
   "display_name": "Python 3",
   "language": "python",
   "name": "python3"
  },
  "language_info": {
   "codemirror_mode": {
    "name": "ipython",
    "version": 3
   },
   "file_extension": ".py",
   "mimetype": "text/x-python",
   "name": "python",
   "nbconvert_exporter": "python",
   "pygments_lexer": "ipython3",
   "version": "3.6.1"
  }
 },
 "nbformat": 4,
 "nbformat_minor": 2
}
