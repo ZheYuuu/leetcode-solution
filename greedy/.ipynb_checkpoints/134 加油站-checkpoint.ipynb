{
 "cells": [
  {
   "cell_type": "code",
   "execution_count": null,
   "metadata": {
    "collapsed": true
   },
   "outputs": [],
   "source": [
    "在一条环路上有 N 个加油站，其中第 i 个加油站有汽油 gas[i] 升。\n",
    "\n",
    "你有一辆油箱容量无限的的汽车，从第 i 个加油站开往第 i+1 个加油站需要消耗汽油 cost[i] 升。你从其中的一个加油站出发，开始时油箱为空。\n",
    "\n",
    "如果你可以绕环路行驶一周，则返回出发时加油站的编号，否则返回 -1。\n",
    "\n",
    "说明: \n",
    "\n",
    "如果题目有解，该答案即为唯一答案。\n",
    "输入数组均为非空数组，且长度相同。\n",
    "输入数组中的元素均为非负数。\n",
    "示例 1:\n",
    "\n",
    "输入: \n",
    "gas  = [1,2,3,4,5]\n",
    "cost = [3,4,5,1,2]\n",
    "\n",
    "输出: 3\n",
    "\n",
    "解释:\n",
    "从 3 号加油站(索引为 3 处)出发，可获得 4 升汽油。此时油箱有 = 0 + 4 = 4 升汽油\n",
    "开往 4 号加油站，此时油箱有 4 - 1 + 5 = 8 升汽油\n",
    "开往 0 号加油站，此时油箱有 8 - 2 + 1 = 7 升汽油\n",
    "开往 1 号加油站，此时油箱有 7 - 3 + 2 = 6 升汽油\n",
    "开往 2 号加油站，此时油箱有 6 - 4 + 3 = 5 升汽油\n",
    "开往 3 号加油站，你需要消耗 5 升汽油，正好足够你返回到 3 号加油站。\n",
    "因此，3 可为起始索引。\n",
    "示例 2:\n",
    "\n",
    "输入: \n",
    "gas  = [2,3,4]\n",
    "cost = [3,4,3]\n",
    "\n",
    "输出: -1\n",
    "\n",
    "解释:\n",
    "你不能从 0 号或 1 号加油站出发，因为没有足够的汽油可以让你行驶到下一个加油站。\n",
    "我们从 2 号加油站出发，可以获得 4 升汽油。 此时油箱有 = 0 + 4 = 4 升汽油\n",
    "开往 0 号加油站，此时油箱有 4 - 3 + 2 = 3 升汽油\n",
    "开往 1 号加油站，此时油箱有 3 - 3 + 3 = 3 升汽油\n",
    "你无法返回 2 号加油站，因为返程需要消耗 4 升汽油，但是你的油箱只有 3 升汽油。\n",
    "因此，无论怎样，你都不可能绕环路行驶一周。"
   ]
  },
  {
   "cell_type": "code",
   "execution_count": 24,
   "metadata": {},
   "outputs": [],
   "source": [
    "# 找到剩余油量累最多的前几个idx，然后用这几个idx去找能不能环游。\n",
    "# 这种方法有点繁琐\n",
    "class Solution:\n",
    "    def canCompleteCircuit(self, gas,cost):\n",
    "        idx = []\n",
    "        diff = []\n",
    "        rem = 0\n",
    "        start = 0\n",
    "        for i in range(len(gas)):\n",
    "            diff.append(gas[i]-cost[i])\n",
    "            if gas[i]>=cost[i]:\n",
    "                if rem ==0:\n",
    "                    start = i\n",
    "                rem += gas[i]-cost[i]\n",
    "            else:\n",
    "                if rem>=0:\n",
    "                    idx.append([rem,start])\n",
    "                rem = 0\n",
    "        if rem>=0:\n",
    "            idx.append([rem,start])\n",
    "#         print(idx)\n",
    "        if sum(diff)<0:\n",
    "            return -1\n",
    "        idx = sorted(idx, reverse=True, key= lambda s:s[0])\n",
    "        \n",
    "        def helper(i, diff):\n",
    "            tmp = 0\n",
    "            for j in range(len(diff)):\n",
    "                k = (i+j)%len(diff)\n",
    "                tmp += diff[k]\n",
    "                if tmp<0:\n",
    "                    return False\n",
    "            return True\n",
    "            \n",
    "            \n",
    "        for i in idx:\n",
    "            if helper(i[1],diff):\n",
    "                return i[1]\n",
    "            else:\n",
    "                continue\n",
    "        return -1"
   ]
  },
  {
   "cell_type": "code",
   "execution_count": 25,
   "metadata": {
    "collapsed": true
   },
   "outputs": [],
   "source": [
    "sol = Solution()"
   ]
  },
  {
   "cell_type": "code",
   "execution_count": 26,
   "metadata": {},
   "outputs": [
    {
     "data": {
      "text/plain": [
       "3"
      ]
     },
     "execution_count": 26,
     "metadata": {},
     "output_type": "execute_result"
    }
   ],
   "source": [
    "gas = [1,2,3,4,5]\n",
    "cost = [3,4,5,1,2]\n",
    "sol.canCompleteCircuit(gas, cost)"
   ]
  },
  {
   "cell_type": "code",
   "execution_count": null,
   "metadata": {
    "collapsed": true
   },
   "outputs": [],
   "source": [
    "# 利用两条性质：1. 如果从A出发能够到达C,但不能到达B，那么无论从AC间任何一点出发,也都不能到达B\n",
    "#                     ∵ 设若选取A和C间任何一点作为起点,该点在以A为起点的情况下,必然有着>=0的剩余油量,但在以自身为起点后,剩余油量变为0,\n",
    "#                         情况反而可能变得更差,所以AC间任意一点都不能到达B.所以只能选取B作为新的起点\n",
    "#               2. 如果总cost>总gas,那么必定不能环游\n",
    "#                     该条性质带来的结论是,如果总cost<总gas,那么start即为目标值\n",
    "#                     ∵ 根据性质1,我们知道start点前的剩余油量为负,而start点后为正. 相当于以start为分界分成两段,那么总cost<总gas,\n",
    "#                         意味着abs(前一段)<后一段,那么剩余油量也就够跑完.\n",
    "class Solution:\n",
    "    def canCompleteCircuit(self, gas,cost):\n",
    "        start = 0\n",
    "        gasNum = 0\n",
    "        costNum = 0\n",
    "        rem = 0\n",
    "        for i in range(len(cost)):\n",
    "            rem += gas[i]-cost[i]\n",
    "            gasNum += gas[i]\n",
    "            costNum += cost[i]\n",
    "            if rem<0:\n",
    "                start = i+1\n",
    "                rem = 0\n",
    "        if gasNum < costNum:\n",
    "            return -1\n",
    "        return start\n",
    "                "
   ]
  }
 ],
 "metadata": {
  "kernelspec": {
   "display_name": "Python 3",
   "language": "python",
   "name": "python3"
  },
  "language_info": {
   "codemirror_mode": {
    "name": "ipython",
    "version": 3
   },
   "file_extension": ".py",
   "mimetype": "text/x-python",
   "name": "python",
   "nbconvert_exporter": "python",
   "pygments_lexer": "ipython3",
   "version": "3.6.1"
  }
 },
 "nbformat": 4,
 "nbformat_minor": 2
}
