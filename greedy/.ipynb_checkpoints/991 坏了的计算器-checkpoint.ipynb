{
 "cells": [
  {
   "cell_type": "code",
   "execution_count": null,
   "metadata": {
    "collapsed": true
   },
   "outputs": [],
   "source": [
    "在显示着数字的坏计算器上，我们可以执行以下两种操作：\n",
    "\n",
    "双倍（Double）：将显示屏上的数字乘 2；\n",
    "递减（Decrement）：将显示屏上的数字减 1 。\n",
    "最初，计算器显示数字 X。\n",
    "\n",
    "返回显示数字 Y 所需的最小操作数。\n",
    "\n",
    " \n",
    "\n",
    "示例 1：\n",
    "\n",
    "输入：X = 2, Y = 3\n",
    "输出：2\n",
    "解释：先进行双倍运算，然后再进行递减运算 {2 -> 4 -> 3}.\n",
    "示例 2：\n",
    "\n",
    "输入：X = 5, Y = 8\n",
    "输出：2\n",
    "解释：先递减，再双倍 {5 -> 4 -> 8}.\n",
    "示例 3：\n",
    "\n",
    "输入：X = 3, Y = 10\n",
    "输出：3\n",
    "解释：先双倍，然后递减，再双倍 {3 -> 6 -> 5 -> 10}.\n",
    "示例 4：\n",
    "\n",
    "输入：X = 1024, Y = 1\n",
    "输出：1023\n",
    "解释：执行递减运算 1023 次\n",
    " \n",
    "\n",
    "提示：\n",
    "\n",
    "1 <= X <= 10^9\n",
    "1 <= Y <= 10^9"
   ]
  },
  {
   "cell_type": "code",
   "execution_count": 44,
   "metadata": {
    "collapsed": true
   },
   "outputs": [],
   "source": [
    "https://leetcode.com/problems/broken-calculator/discuss/236565/Detailed-Proof-Of-Correctness-Greedy-Algorithm\n",
    "class Solution:\n",
    "    def brokenCalc(self, X: int, Y: int) -> int:\n",
    "        if X>=Y:\n",
    "            return X-Y\n",
    "        else:\n",
    "            if Y&1==1:\n",
    "                return 1+self.brokenCalc(X,Y+1)\n",
    "            else:\n",
    "                return 1+self.brokenCalc(X,Y//2)"
   ]
  },
  {
   "cell_type": "code",
   "execution_count": 32,
   "metadata": {
    "collapsed": true
   },
   "outputs": [],
   "source": [
    "class Solution:\n",
    "    def brokenCalc(self, X: int, Y: int) -> int:\n",
    "        cnt = 0\n",
    "        while(X<Y):\n",
    "            if Y%2==0:\n",
    "                Y = Y//2\n",
    "                cnt += 1\n",
    "            else:\n",
    "                Y = (Y+1)//2\n",
    "                cnt += 2\n",
    "        return cnt+X-Y\n",
    "                \n",
    "                "
   ]
  },
  {
   "cell_type": "code",
   "execution_count": 45,
   "metadata": {
    "collapsed": true
   },
   "outputs": [],
   "source": [
    "sol = Solution()"
   ]
  },
  {
   "cell_type": "code",
   "execution_count": 46,
   "metadata": {},
   "outputs": [
    {
     "data": {
      "text/plain": [
       "39"
      ]
     },
     "execution_count": 46,
     "metadata": {},
     "output_type": "execute_result"
    }
   ],
   "source": [
    "sol.brokenCalc(1,1000000000)"
   ]
  },
  {
   "cell_type": "code",
   "execution_count": null,
   "metadata": {
    "collapsed": true
   },
   "outputs": [],
   "source": []
  }
 ],
 "metadata": {
  "kernelspec": {
   "display_name": "Python 3",
   "language": "python",
   "name": "python3"
  },
  "language_info": {
   "codemirror_mode": {
    "name": "ipython",
    "version": 3
   },
   "file_extension": ".py",
   "mimetype": "text/x-python",
   "name": "python",
   "nbconvert_exporter": "python",
   "pygments_lexer": "ipython3",
   "version": "3.6.1"
  }
 },
 "nbformat": 4,
 "nbformat_minor": 2
}
