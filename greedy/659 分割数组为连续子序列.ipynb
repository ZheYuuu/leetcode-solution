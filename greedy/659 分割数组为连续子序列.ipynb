{
 "cells": [
  {
   "cell_type": "code",
   "execution_count": null,
   "metadata": {
    "collapsed": true
   },
   "outputs": [],
   "source": [
    "输入一个按升序排序的整数数组（可能包含重复数字），你需要将它们分割成几个子序列，其中每个子序列至少包含三个连续整数。返回你是否能做出这样的分割？\n",
    "\n",
    " \n",
    "\n",
    "示例 1：\n",
    "\n",
    "输入: [1,2,3,3,4,5]\n",
    "输出: True\n",
    "解释:\n",
    "你可以分割出这样两个连续子序列 : \n",
    "1, 2, 3\n",
    "3, 4, 5\n",
    " \n",
    "\n",
    "示例 2：\n",
    "\n",
    "输入: [1,2,3,3,4,4,5,5]\n",
    "输出: True\n",
    "解释:\n",
    "你可以分割出这样两个连续子序列 : \n",
    "1, 2, 3, 4, 5\n",
    "3, 4, 5\n",
    " \n",
    "\n",
    "示例 3：\n",
    "\n",
    "输入: [1,2,3,4,4,5]\n",
    "输出: False\n",
    " \n",
    "\n",
    "提示：\n",
    "\n",
    "输入的数组长度范围为 [1, 10000]"
   ]
  },
  {
   "cell_type": "code",
   "execution_count": 43,
   "metadata": {
    "collapsed": true
   },
   "outputs": [],
   "source": [
    "import collections\n",
    "class Solution:\n",
    "    def isPossible(self, nums):\n",
    "        counts = collections.Counter(nums)\n",
    "        print(counts)\n",
    "        while(counts.most_common(1)[0][1]!=0):\n",
    "            temp  = counts.most_common(1)[0]\n",
    "            print(temp)\n",
    "            i = 0\n",
    "            cnt = 0\n",
    "            while(True):\n",
    "                curr = temp[0] + i\n",
    "                if curr in counts and counts[curr]>0:\n",
    "                    cnt += 1\n",
    "                    counts[curr] -= 1\n",
    "                else:\n",
    "                    if cnt<3:\n",
    "                        return False\n",
    "                    else:\n",
    "                        break\n",
    "                i += 1\n",
    "        return True\n",
    "                \n",
    "            \n",
    "        "
   ]
  },
  {
   "cell_type": "code",
   "execution_count": 44,
   "metadata": {
    "collapsed": true
   },
   "outputs": [],
   "source": [
    "sol = Solution()"
   ]
  },
  {
   "cell_type": "code",
   "execution_count": 45,
   "metadata": {
    "collapsed": true
   },
   "outputs": [],
   "source": [
    "testCase = [1,2,3,4,5,6,7,8,9,10,11,12,13,14,15,16,17,18,19,20,21,22,22,23,23,24,24,25,25,26,26,27,27,28,28,29,29,30,30,31,31,32,32,33,33,34,34,35,35,36,36,37,37,38,38,39,39,39,40,40,40,41,41,41,42,42,42,43,43,43,44,44,44,44,45,45,45,45,46,46,46,46,46,47,47,47,47,47,48,48,48,48,48,49,49,49,49,49,50,50,50,50,51,51,51,51,52,52,52,52,53,53,53,53,54,54,54,54,55,55,55,55,56,56,56,56,57,57,57,57,58,58,58,58,59,59,59,59,59,60,60,60,60,61,61,61,61,62,62,62,63,63,64,64,65,65,66,66,67,67,68,68,68,69,69,69,70,70,70,71,71,71,71,72,72,72,72,72,73,73,73,73,73,74,74,74,74,74,75,75,75,75,75,76,76,76,76,76,77,77,77,77,77,78,78,78,78,78,79,79,79,79,79,80,80,80,80,80,80,81,81,81,81,81,81,82,82,82,82,82,82,83,83,83,83,83,83,84,84,84,84,84,84,85,85,85,85,85,85,86,86,86,86,86,86,87,87,87,87,87,87,88,88,88,88,88,88,89,89,89,89,89,89,90,90,90,90,90,90,91,91,91,91,91,91,92,92,92,92,92,92,93,93,93,93,93,93,94,94,94,94,94,94,95,95,95,95,95,95,96,96,96,96,96,96,97,97,97,97,97,97,98,98,98,98,98,98,99,99,99,99,99,99,100,100,100,100,100,100,101,101,101,101,101,101,102,102,102,102,102,102,103,103,103,103,103,103,104,104,104,104,104,104,105,105,105,105,105,105,106,106,106,106,106,106,107,107,107,107,107,108,108,108,108,108,109,109,109,109,109,110,110,110,110,111,111,111,111,112,112,112,112,113,113,113,113,114,114,114,114,115,115,115,115,116,116,116,116,117,117,117,117,118,118,118,118,119,119,119,119,120,120,120,120,121,121,121,121,122,122,122,122,123,123,123,123,124,124,124,124,125,125,125,125,126,126,126,126,127,127,127,127,128,128,128,128,129,129,129,129,130,130,130,130,131,131,131,131,132,132,132,132,133,133,133,133,134,134,134,135,135,135,136,136,136,137,137,137,138,138,138,139,139,139,140,140,140,141,141,141,142,142,142,143,143,143,144,144,145,146,147,148]"
   ]
  },
  {
   "cell_type": "code",
   "execution_count": 46,
   "metadata": {},
   "outputs": [
    {
     "name": "stdout",
     "output_type": "stream",
     "text": [
      "Counter({80: 6, 81: 6, 82: 6, 83: 6, 84: 6, 85: 6, 86: 6, 87: 6, 88: 6, 89: 6, 90: 6, 91: 6, 92: 6, 93: 6, 94: 6, 95: 6, 96: 6, 97: 6, 98: 6, 99: 6, 100: 6, 101: 6, 102: 6, 103: 6, 104: 6, 105: 6, 106: 6, 46: 5, 47: 5, 48: 5, 49: 5, 59: 5, 72: 5, 73: 5, 74: 5, 75: 5, 76: 5, 77: 5, 78: 5, 79: 5, 107: 5, 108: 5, 109: 5, 44: 4, 45: 4, 50: 4, 51: 4, 52: 4, 53: 4, 54: 4, 55: 4, 56: 4, 57: 4, 58: 4, 60: 4, 61: 4, 71: 4, 110: 4, 111: 4, 112: 4, 113: 4, 114: 4, 115: 4, 116: 4, 117: 4, 118: 4, 119: 4, 120: 4, 121: 4, 122: 4, 123: 4, 124: 4, 125: 4, 126: 4, 127: 4, 128: 4, 129: 4, 130: 4, 131: 4, 132: 4, 133: 4, 39: 3, 40: 3, 41: 3, 42: 3, 43: 3, 62: 3, 68: 3, 69: 3, 70: 3, 134: 3, 135: 3, 136: 3, 137: 3, 138: 3, 139: 3, 140: 3, 141: 3, 142: 3, 143: 3, 22: 2, 23: 2, 24: 2, 25: 2, 26: 2, 27: 2, 28: 2, 29: 2, 30: 2, 31: 2, 32: 2, 33: 2, 34: 2, 35: 2, 36: 2, 37: 2, 38: 2, 63: 2, 64: 2, 65: 2, 66: 2, 67: 2, 144: 2, 1: 1, 2: 1, 3: 1, 4: 1, 5: 1, 6: 1, 7: 1, 8: 1, 9: 1, 10: 1, 11: 1, 12: 1, 13: 1, 14: 1, 15: 1, 16: 1, 17: 1, 18: 1, 19: 1, 20: 1, 21: 1, 145: 1, 146: 1, 147: 1, 148: 1})\n",
      "(80, 6)\n",
      "(46, 5)\n",
      "(44, 4)\n",
      "(39, 3)\n",
      "(72, 3)\n",
      "(22, 2)\n",
      "(71, 2)\n",
      "(1, 1)\n",
      "(59, 1)\n"
     ]
    },
    {
     "data": {
      "text/plain": [
       "False"
      ]
     },
     "execution_count": 46,
     "metadata": {},
     "output_type": "execute_result"
    }
   ],
   "source": [
    "sol.isPossible(testCase)"
   ]
  },
  {
   "cell_type": "code",
   "execution_count": 85,
   "metadata": {},
   "outputs": [],
   "source": [
    "# https://leetcode.com/problems/split-array-into-consecutive-subsequences/discuss/106495/Java-O(n)-time-and-O(1)-space-solution-greedily-extending-shorter-subsequence\n",
    "\n",
    "import collections\n",
    "class Solution:\n",
    "    def isPossible(self, nums):\n",
    "        p1,p2,p3 = 0,0,0\n",
    "        c1,c2,c3 = 0,0,0\n",
    "        cnt = 0\n",
    "        pre = float(\"-inf\")\n",
    "        counts = collections.Counter(nums)\n",
    "        for val,cnt in counts.items():\n",
    "#             print(val,pre)\n",
    "            if val!=pre+1:\n",
    "#         如果val!=pre+1,那么说明当前数只能做为子序列起始数.\n",
    "#         那么如果以pre为结尾的长度为1或2的子序列数量不为0, 那么这些子序列永远不可能到达3,所以错误\n",
    "                if p1 or p2:\n",
    "                    return False\n",
    "                c1,c2,c3 = cnt,0,0\n",
    "            else:\n",
    "                if cnt<p1+p2:\n",
    "                    return False\n",
    "                else:\n",
    "#                     首先以当前数为末尾的长度为2的子序列数量c2  由  以p1为末尾的长度为1的子序列数量p1决定, 因为加上当前数就1--->2\n",
    "                    c2 = p1\n",
    "#                     c3的话,由两部分组成,一部分是由p2转换而来,另一部分是拓展p3, 根据当前数的数量cnt来判断,\n",
    "#                     如果cnt特别大,那么分配给p3,虽然形成更大长度的子序列后仍有剩余,但最多也只能有p3个,\n",
    "#                        剩下的分配给c1,使得以当前数为末尾的长度为1的子序列为cnt-p1-p2-p3\n",
    "#                     没那么大,那就有多少分给p3多少,c1为0\n",
    "                    c3 = p2 + min(p3, cnt-p1-p2)\n",
    "#                    \n",
    "                    c1 = max(0,cnt-p1-p2-p3)\n",
    "                    \n",
    "            p1,p2,p3 = c1,c2,c3\n",
    "            pre = val\n",
    "        return p1==0 and p2==0"
   ]
  },
  {
   "cell_type": "code",
   "execution_count": 86,
   "metadata": {
    "collapsed": true
   },
   "outputs": [],
   "source": [
    "sol = Solution()"
   ]
  },
  {
   "cell_type": "code",
   "execution_count": 87,
   "metadata": {},
   "outputs": [
    {
     "name": "stdout",
     "output_type": "stream",
     "text": [
      "0\n"
     ]
    },
    {
     "data": {
      "text/plain": [
       "False"
      ]
     },
     "execution_count": 87,
     "metadata": {},
     "output_type": "execute_result"
    }
   ],
   "source": [
    "sol.isPossible([te)"
   ]
  },
  {
   "cell_type": "code",
   "execution_count": 97,
   "metadata": {
    "collapsed": true
   },
   "outputs": [],
   "source": [
    "# https://leetcode.com/problems/split-array-into-consecutive-subsequences/discuss/106493/c-on-solution-two-pass\n",
    "class Solution:\n",
    "    def isPossible(self,nums):\n",
    "        # 未使用的num数量\n",
    "        left = collections.Counter(nums)\n",
    "        # 以num为末尾的长度>=3的子序列数量\n",
    "        end = collections.defaultdict(int)\n",
    "        for num in nums:\n",
    "            if not left[num]:\n",
    "                continue\n",
    "            left[num] -= 1\n",
    "            if end[num-1]>0:\n",
    "                end[num-1] -= 1\n",
    "                end[num] += 1\n",
    "            elif left[num+1] and left[num+2]:\n",
    "                left[num+1]-=1\n",
    "                left[num+2]-=1\n",
    "                end[num+2] += 1\n",
    "            else:\n",
    "                return False\n",
    "        return True"
   ]
  },
  {
   "cell_type": "code",
   "execution_count": 98,
   "metadata": {
    "collapsed": true
   },
   "outputs": [],
   "source": [
    "sol = Solution()"
   ]
  },
  {
   "cell_type": "code",
   "execution_count": 99,
   "metadata": {},
   "outputs": [
    {
     "data": {
      "text/plain": [
       "True"
      ]
     },
     "execution_count": 99,
     "metadata": {},
     "output_type": "execute_result"
    }
   ],
   "source": [
    "sol.isPossible(testCase)"
   ]
  },
  {
   "cell_type": "code",
   "execution_count": null,
   "metadata": {
    "collapsed": true
   },
   "outputs": [],
   "source": []
  }
 ],
 "metadata": {
  "kernelspec": {
   "display_name": "Python 3",
   "language": "python",
   "name": "python3"
  },
  "language_info": {
   "codemirror_mode": {
    "name": "ipython",
    "version": 3
   },
   "file_extension": ".py",
   "mimetype": "text/x-python",
   "name": "python",
   "nbconvert_exporter": "python",
   "pygments_lexer": "ipython3",
   "version": "3.6.1"
  }
 },
 "nbformat": 4,
 "nbformat_minor": 2
}
