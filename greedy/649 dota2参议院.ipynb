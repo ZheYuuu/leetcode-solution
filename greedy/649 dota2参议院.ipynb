{
 "cells": [
  {
   "cell_type": "code",
   "execution_count": null,
   "metadata": {
    "collapsed": true
   },
   "outputs": [],
   "source": [
    "Dota2 的世界里有两个阵营：Radiant(天辉)和 Dire(夜魇)\n",
    "\n",
    "Dota2 参议院由来自两派的参议员组成。现在参议院希望对一个 Dota2 游戏里的改变作出决定。他们以一个基于轮为过程的投票进行。在每一轮中，每一位参议员都可以行使两项权利中的一项：\n",
    "\n",
    "禁止一名参议员的权利：\n",
    "\n",
    "参议员可以让另一位参议员在这一轮和随后的几轮中丧失所有的权利。\n",
    "\n",
    "宣布胜利：\n",
    "\n",
    "          如果参议员发现有权利投票的参议员都是同一个阵营的，他可以宣布胜利并决定在游戏中的有关变化。\n",
    "\n",
    " \n",
    "\n",
    "给定一个字符串代表每个参议员的阵营。字母 “R” 和 “D” 分别代表了 Radiant（天辉）和 Dire（夜魇）。然后，如果有 n 个参议员，给定字符串的大小将是 n。\n",
    "\n",
    "以轮为基础的过程从给定顺序的第一个参议员开始到最后一个参议员结束。这一过程将持续到投票结束。所有失去权利的参议员将在过程中被跳过。\n",
    "\n",
    "假设每一位参议员都足够聪明，会为自己的政党做出最好的策略，你需要预测哪一方最终会宣布胜利并在 Dota2 游戏中决定改变。输出应该是 Radiant 或 Dire。\n",
    "\n",
    " \n",
    "\n",
    "示例 1:\n",
    "\n",
    "输入: \"RD\"\n",
    "输出: \"Radiant\"\n",
    "解释:  第一个参议员来自  Radiant 阵营并且他可以使用第一项权利让第二个参议员失去权力，因此第二个参议员将被跳过因为他没有任何权利。然后在第二轮的时候，第一个参议员可以宣布胜利，因为他是唯一一个有投票权的人\n",
    "示例 2:\n",
    "\n",
    "输入: \"RDD\"\n",
    "输出: \"Dire\"\n",
    "解释: \n",
    "第一轮中,第一个来自 Radiant 阵营的参议员可以使用第一项权利禁止第二个参议员的权利\n",
    "第二个来自 Dire 阵营的参议员会被跳过因为他的权利被禁止\n",
    "第三个来自 Dire 阵营的参议员可以使用他的第一项权利禁止第一个参议员的权利\n",
    "因此在第二轮只剩下第三个参议员拥有投票的权利,于是他可以宣布胜利\n",
    " \n",
    "\n",
    "注意:\n",
    "\n",
    "给定字符串的长度在 [1, 10,000] 之间."
   ]
  },
  {
   "cell_type": "code",
   "execution_count": null,
   "metadata": {
    "collapsed": true
   },
   "outputs": [],
   "source": [
    "class Solution:\n",
    "    def predictPartyVictory(self, senate: str) -> str:\n",
    "        l = list(senate)\n",
    "        R_cnt = 0\n",
    "        D_cnt = 0\n",
    "        idx = 0\n",
    "        while(l):\n",
    "            if l[idx]==\"R\":\n",
    "                if D_cnt==0:\n",
    "                    R_cnt += 1\n",
    "                    idx = (idx+1)%len(l)\n",
    "                else:\n",
    "                    D_cnt -= 1\n",
    "                    l.pop(idx)\n",
    "                    idx = idx%len(l)\n",
    "            else:\n",
    "                if R_cnt == 0:\n",
    "                    D_cnt += 1\n",
    "                    idx = (idx+1)%len(l)\n",
    "                else:\n",
    "                    R_cnt -= 1\n",
    "                    l.pop(idx)\n",
    "                    idx = idx%len(l)\n",
    "            if R_cnt == len(l):\n",
    "                return \"Radiant\"\n",
    "            if D_cnt == len(l):\n",
    "                return \"Dire\"\n",
    "                \n",
    "                "
   ]
  },
  {
   "cell_type": "code",
   "execution_count": null,
   "metadata": {
    "collapsed": true
   },
   "outputs": [],
   "source": [
    "class Solution:\n",
    "    def predictPartyVictory(self, senate: str) -> str:\n",
    "        q1 = []\n",
    "        q2 = []\n",
    "        for i,s in enumerate(senate):\n",
    "            if s==\"R\":\n",
    "                q1.append(i)\n",
    "            else:\n",
    "                q2.append(i)\n",
    "        n = len(senate)\n",
    "        while(q1 and q2):\n",
    "            r_idx = q1.pop(0)\n",
    "            d_idx = q2.pop(0)\n",
    "            if r_idx<d_idx:\n",
    "                q1.append(r_idx+n)\n",
    "            else:\n",
    "                q2.append(d_idx+n)\n",
    "        return \"Dire\" if not q1 else \"Radiant\"\n",
    "                "
   ]
  }
 ],
 "metadata": {
  "kernelspec": {
   "display_name": "Python 3",
   "language": "python",
   "name": "python3"
  },
  "language_info": {
   "codemirror_mode": {
    "name": "ipython",
    "version": 3
   },
   "file_extension": ".py",
   "mimetype": "text/x-python",
   "name": "python",
   "nbconvert_exporter": "python",
   "pygments_lexer": "ipython3",
   "version": "3.6.1"
  }
 },
 "nbformat": 4,
 "nbformat_minor": 2
}
