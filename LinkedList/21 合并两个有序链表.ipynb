{
 "cells": [
  {
   "cell_type": "code",
   "execution_count": null,
   "metadata": {
    "collapsed": true
   },
   "outputs": [],
   "source": [
    "将两个有序链表合并为一个新的有序链表并返回。新链表是通过拼接给定的两个链表的所有节点组成的。 \n",
    "\n",
    "示例：\n",
    "\n",
    "输入：1->2->4, 1->3->4\n",
    "输出：1->1->2->3->4->4"
   ]
  },
  {
   "cell_type": "code",
   "execution_count": null,
   "metadata": {
    "collapsed": true
   },
   "outputs": [],
   "source": [
    "# Definition for singly-linked list.\n",
    "# class ListNode(object):\n",
    "#     def __init__(self, x):\n",
    "#         self.val = x\n",
    "#         self.next = None\n",
    "\n",
    "class Solution(object):\n",
    "    def mergeTwoLists(self, l1, l2):\n",
    "        \"\"\"\n",
    "        :type l1: ListNode\n",
    "        :type l2: ListNode\n",
    "        :rtype: ListNode\n",
    "        \"\"\"\n",
    "        head = ListNode(0)\n",
    "        curr = head\n",
    "        while(l1 and l2):\n",
    "            if l1.val<=l2.val:\n",
    "                curr.next = l1\n",
    "                curr = curr.next\n",
    "                l1 = l1.next\n",
    "            else:\n",
    "                curr.next = l2\n",
    "                curr = curr.next\n",
    "                l2 = l2.next\n",
    "            # print(curr.val)\n",
    "        if not l1:\n",
    "            curr.next = l2\n",
    "        elif not l2:\n",
    "            curr.next = l1\n",
    "        return head.next"
   ]
  }
 ],
 "metadata": {
  "kernelspec": {
   "display_name": "Python 3",
   "language": "python",
   "name": "python3"
  },
  "language_info": {
   "codemirror_mode": {
    "name": "ipython",
    "version": 3
   },
   "file_extension": ".py",
   "mimetype": "text/x-python",
   "name": "python",
   "nbconvert_exporter": "python",
   "pygments_lexer": "ipython3",
   "version": "3.6.1"
  }
 },
 "nbformat": 4,
 "nbformat_minor": 2
}
