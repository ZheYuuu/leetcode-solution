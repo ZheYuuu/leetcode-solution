{
 "cells": [
  {
   "cell_type": "markdown",
   "metadata": {
    "collapsed": true
   },
   "source": [
    "给定一个包含 n + 1 个整数的数组 nums，其数字都在 1 到 n 之间（包括 1 和 n），可知至少存在一个重复的整数。假设只有一个重复的整数，找出这个重复的数。\n",
    "\n",
    "示例 1:\n",
    "\n",
    "输入: [1,3,4,2,2]\n",
    "输出: 2\n",
    "示例 2:\n",
    "\n",
    "输入: [3,1,3,4,2]\n",
    "输出: 3\n",
    "说明：\n",
    "\n",
    "不能更改原数组（假设数组是只读的）。\n",
    "只能使用额外的 O(1) 的空间。\n",
    "时间复杂度小于 O(n2) 。\n",
    "数组中只有一个重复的数字，但它可能不止重复出现一次。"
   ]
  },
  {
   "cell_type": "code",
   "execution_count": 1,
   "metadata": {
    "collapsed": true
   },
   "outputs": [],
   "source": [
    "class Solution(object):\n",
    "    def findDuplicate(self, nums):\n",
    "        \"\"\"\n",
    "        :type nums: List[int]\n",
    "        :rtype: int\n",
    "        \"\"\"\n",
    "        slow,fast = 0,0\n",
    "        while(1):\n",
    "            slow = nums[slow]\n",
    "            fast = nums[nums[fast]]\n",
    "            if(slow==fast):\n",
    "                break\n",
    "        fast = 0\n",
    "        while(1):\n",
    "            slow = nums[slow]\n",
    "            fast = nums[fast]\n",
    "            if(slow==fast):\n",
    "                break\n",
    "        return fast"
   ]
  },
  {
   "cell_type": "code",
   "execution_count": 2,
   "metadata": {
    "collapsed": true
   },
   "outputs": [],
   "source": [
    "sol = Solution()"
   ]
  },
  {
   "cell_type": "code",
   "execution_count": 6,
   "metadata": {},
   "outputs": [
    {
     "data": {
      "text/plain": [
       "1"
      ]
     },
     "execution_count": 6,
     "metadata": {},
     "output_type": "execute_result"
    }
   ],
   "source": [
    "sol.findDuplicate([1,1,2,1])"
   ]
  },
  {
   "cell_type": "code",
   "execution_count": null,
   "metadata": {
    "collapsed": true
   },
   "outputs": [],
   "source": [
    "Null"
   ]
  }
 ],
 "metadata": {
  "kernelspec": {
   "display_name": "Python 3",
   "language": "python",
   "name": "python3"
  },
  "language_info": {
   "codemirror_mode": {
    "name": "ipython",
    "version": 3
   },
   "file_extension": ".py",
   "mimetype": "text/x-python",
   "name": "python",
   "nbconvert_exporter": "python",
   "pygments_lexer": "ipython3",
   "version": "3.6.1"
  }
 },
 "nbformat": 4,
 "nbformat_minor": 2
}
