{
 "cells": [
  {
   "cell_type": "code",
   "execution_count": null,
   "metadata": {
    "collapsed": true
   },
   "outputs": [],
   "source": [
    "请判断一个链表是否为回文链表。\n",
    "\n",
    "示例 1:\n",
    "\n",
    "输入: 1->2\n",
    "输出: false\n",
    "示例 2:\n",
    "\n",
    "输入: 1->2->2->1\n",
    "输出: true\n",
    "进阶：\n",
    "你能否用 O(n) 时间复杂度和 O(1) 空间复杂度解决此题？"
   ]
  },
  {
   "cell_type": "code",
   "execution_count": 5,
   "metadata": {},
   "outputs": [],
   "source": [
    "# Definition for singly-linked list.\n",
    "# class ListNode(object):\n",
    "#     def __init__(self, x):\n",
    "#         self.val = x\n",
    "#         self.next = None\n",
    "\n",
    "class Solution(object):\n",
    "    def isPalindrome(self, head):\n",
    "        \"\"\"\n",
    "        :type head: ListNode\n",
    "        :rtype: bool\n",
    "        \"\"\"\n",
    "        if not head or not head.next:\n",
    "            return True\n",
    "        fast = head\n",
    "        slow = head\n",
    "        while(fast.next):\n",
    "            slow = slow.next\n",
    "            fast = fast.next.next if fast.next.next else fast.next\n",
    "        pre = slow\n",
    "        cur = slow.next\n",
    "        if not cur:\n",
    "            return True if head.val==pre.val  else False\n",
    "        next_ = cur.next\n",
    "        while(True):\n",
    "            cur.next = pre\n",
    "            pre = cur\n",
    "            cur = next_\n",
    "            if cur:\n",
    "                next_ = cur.next\n",
    "            else:\n",
    "                break\n",
    "        cur = pre\n",
    "        while(True):\n",
    "            if head.val!=cur.val:\n",
    "                return False\n",
    "            head = head.next\n",
    "            cur = cur.next\n",
    "            if cur==head or (head.next==cur):\n",
    "                return True if cur.val==head.val else False"
   ]
  },
  {
   "cell_type": "code",
   "execution_count": 6,
   "metadata": {
    "collapsed": true
   },
   "outputs": [],
   "source": [
    "sol = Solution()"
   ]
  },
  {
   "cell_type": "code",
   "execution_count": null,
   "metadata": {},
   "outputs": [],
   "source": []
  },
  {
   "cell_type": "code",
   "execution_count": null,
   "metadata": {
    "collapsed": true
   },
   "outputs": [],
   "source": []
  }
 ],
 "metadata": {
  "kernelspec": {
   "display_name": "Python 3",
   "language": "python",
   "name": "python3"
  },
  "language_info": {
   "codemirror_mode": {
    "name": "ipython",
    "version": 3
   },
   "file_extension": ".py",
   "mimetype": "text/x-python",
   "name": "python",
   "nbconvert_exporter": "python",
   "pygments_lexer": "ipython3",
   "version": "3.6.1"
  }
 },
 "nbformat": 4,
 "nbformat_minor": 2
}
