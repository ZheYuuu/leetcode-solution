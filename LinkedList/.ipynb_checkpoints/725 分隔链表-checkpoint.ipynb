{
 "cells": [
  {
   "cell_type": "code",
   "execution_count": null,
   "metadata": {
    "collapsed": true
   },
   "outputs": [],
   "source": [
    "给定一个头结点为 root 的链表, 编写一个函数以将链表分隔为 k 个连续的部分。\n",
    "\n",
    "每部分的长度应该尽可能的相等: 任意两部分的长度差距不能超过 1，也就是说可能有些部分为 null。\n",
    "\n",
    "这k个部分应该按照在链表中出现的顺序进行输出，并且排在前面的部分的长度应该大于或等于后面的长度。\n",
    "\n",
    "返回一个符合上述规则的链表的列表。\n",
    "\n",
    "举例： 1->2->3->4, k = 5 // 5 结果 [ [1], [2], [3], [4], null ]\n",
    "\n",
    "示例 1：\n",
    "\n",
    "输入: \n",
    "root = [1, 2, 3], k = 5\n",
    "输出: [[1],[2],[3],[],[]]\n",
    "解释:\n",
    "输入输出各部分都应该是链表，而不是数组。\n",
    "例如, 输入的结点 root 的 val= 1, root.next.val = 2, \\root.next.next.val = 3, 且 root.next.next.next = null。\n",
    "第一个输出 output[0] 是 output[0].val = 1, output[0].next = null。\n",
    "最后一个元素 output[4] 为 null, 它代表了最后一个部分为空链表。\n",
    "示例 2：\n",
    "\n",
    "输入: \n",
    "root = [1, 2, 3, 4, 5, 6, 7, 8, 9, 10], k = 3\n",
    "输出: [[1, 2, 3, 4], [5, 6, 7], [8, 9, 10]]\n",
    "解释:\n",
    "输入被分成了几个连续的部分，并且每部分的长度相差不超过1.前面部分的长度大于等于后面部分的长度。\n",
    " \n",
    "\n",
    "提示:\n",
    "\n",
    "root 的长度范围： [0, 1000].\n",
    "输入的每个节点的大小范围：[0, 999].\n",
    "k 的取值范围： [1, 50]."
   ]
  },
  {
   "cell_type": "code",
   "execution_count": null,
   "metadata": {
    "collapsed": true
   },
   "outputs": [],
   "source": [
    "# Definition for singly-linked list.\n",
    "# class ListNode(object):\n",
    "#     def __init__(self, x):\n",
    "#         self.val = x\n",
    "#         self.next = None\n",
    "\n",
    "class Solution(object):\n",
    "    def splitListToParts(self, root, k):\n",
    "        \"\"\"\n",
    "        :type root: ListNode\n",
    "        :type k: int\n",
    "        :rtype: List[ListNode]\n",
    "        \"\"\"\n",
    "        curr = root\n",
    "        n = 0\n",
    "        ret = []\n",
    "        while(curr):\n",
    "            n = n+1\n",
    "            curr = curr.next\n",
    "        if k>n:\n",
    "            tail = [None for _ in range(k-n)]\n",
    "            curr = root\n",
    "            while(curr):\n",
    "                ret.append(curr)\n",
    "                next_ = curr.next\n",
    "                curr.next = None\n",
    "                curr = next_\n",
    "            ret.extend(tail)\n",
    "        else:\n",
    "            left = n%k\n",
    "            curr = root\n",
    "            while(curr):\n",
    "                length = n//k\n",
    "                ret.append(curr)\n",
    "                if left>0:\n",
    "                    length = length+1\n",
    "                    left = left-1\n",
    "                for _ in range(length-1):\n",
    "                    curr = curr.next\n",
    "                next_ = curr.next\n",
    "                curr.next = None\n",
    "                curr = next_\n",
    "        return ret\n",
    "                    \n",
    "            \n",
    "        "
   ]
  }
 ],
 "metadata": {
  "kernelspec": {
   "display_name": "Python 3",
   "language": "python",
   "name": "python3"
  },
  "language_info": {
   "codemirror_mode": {
    "name": "ipython",
    "version": 3
   },
   "file_extension": ".py",
   "mimetype": "text/x-python",
   "name": "python",
   "nbconvert_exporter": "python",
   "pygments_lexer": "ipython3",
   "version": "3.6.1"
  }
 },
 "nbformat": 4,
 "nbformat_minor": 2
}
