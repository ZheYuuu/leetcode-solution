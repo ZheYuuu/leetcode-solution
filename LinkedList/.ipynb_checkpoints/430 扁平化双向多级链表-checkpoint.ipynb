{
 "cells": [
  {
   "cell_type": "code",
   "execution_count": null,
   "metadata": {
    "collapsed": true
   },
   "outputs": [],
   "source": [
    "You are given a doubly linked list which in addition to the next and previous pointers, it could have a child pointer, which may or may not point to a separate doubly linked list. These child lists may have one or more children of their own, and so on, to produce a multilevel data structure, as shown in the example below.\n",
    "\n",
    "Flatten the list so that all the nodes appear in a single-level, doubly linked list. You are given the head of the first level of the list.\n",
    "\n",
    " \n",
    "\n",
    "Example:\n",
    "\n",
    "Input:\n",
    " 1---2---3---4---5---6--NULL\n",
    "         |\n",
    "         7---8---9---10--NULL\n",
    "             |\n",
    "             11--12--NULL\n",
    "\n",
    "Output:\n",
    "1-2-3-7-8-11-12-9-10-4-5-6-NULL\n",
    " \n",
    "\n",
    "Explanation for the above example:\n",
    "\n",
    "Given the following multilevel doubly linked list:\n",
    "\n",
    "\n",
    " \n",
    "\n",
    "We should return the following flattened doubly linked list:\n",
    "\n"
   ]
  },
  {
   "cell_type": "code",
   "execution_count": null,
   "metadata": {
    "collapsed": true
   },
   "outputs": [],
   "source": [
    "\"\"\"\n",
    "# Definition for a Node.\n",
    "class Node(object):\n",
    "    def __init__(self, val, prev, next, child):\n",
    "        self.val = val\n",
    "        self.prev = prev\n",
    "        self.next = next\n",
    "        self.child = child\n",
    "\"\"\"\n",
    "class Solution(object):\n",
    "    def flatten(self, head):\n",
    "        \"\"\"\n",
    "        :type head: Node\n",
    "        :rtype: Node\n",
    "        \"\"\"\n",
    "        if not head:\n",
    "            return head\n",
    "        self.func(head)\n",
    "        return head\n",
    "        \n",
    "    def func(self,head):\n",
    "        pre = None\n",
    "        curr = head  \n",
    "        while(curr):\n",
    "            pre = curr\n",
    "            if curr.child!=None:\n",
    "                child_head,child_tail = self.func(curr.child)\n",
    "                next_ = curr.next\n",
    "                curr.next = child_head # curr ------->   child_head\n",
    "                child_head.prev = curr # curr <--------   child_head\n",
    "                curr.child=None # 去除child\n",
    "                child_tail.next = next_  # child_tail  ---->   next_\n",
    "                if next_:\n",
    "                    next_.prev = child_tail  # child_tail <----- next_\n",
    "                curr = child_tail\n",
    "            else:\n",
    "                curr = curr.next\n",
    "\n",
    "        return head,pre\n",
    "        "
   ]
  },
  {
   "cell_type": "code",
   "execution_count": null,
   "metadata": {
    "collapsed": true
   },
   "outputs": [],
   "source": [
    "{\"$id\":\"1\",\"child\":{\"$id\":\"2\",\"child\":{\"$id\":\"3\",\"child\":None,\"next\":null,\"prev\":null,\"val\":3203},\"next\":null,\"prev\":null,\"val\":4201},\"next\":null,\"prev\":null,\"val\":111}"
   ]
  }
 ],
 "metadata": {
  "kernelspec": {
   "display_name": "Python 3",
   "language": "python",
   "name": "python3"
  },
  "language_info": {
   "codemirror_mode": {
    "name": "ipython",
    "version": 3
   },
   "file_extension": ".py",
   "mimetype": "text/x-python",
   "name": "python",
   "nbconvert_exporter": "python",
   "pygments_lexer": "ipython3",
   "version": "3.6.1"
  }
 },
 "nbformat": 4,
 "nbformat_minor": 2
}
