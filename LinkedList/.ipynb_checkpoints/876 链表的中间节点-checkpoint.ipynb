{
 "cells": [
  {
   "cell_type": "code",
   "execution_count": null,
   "metadata": {
    "collapsed": true
   },
   "outputs": [],
   "source": [
    "给定一个带有头结点 head 的非空单链表，返回链表的中间结点。\n",
    "\n",
    "如果有两个中间结点，则返回第二个中间结点。\n",
    "\n",
    " \n",
    "\n",
    "示例 1：\n",
    "\n",
    "输入：[1,2,3,4,5]\n",
    "输出：此列表中的结点 3 (序列化形式：[3,4,5])\n",
    "返回的结点值为 3 。 (测评系统对该结点序列化表述是 [3,4,5])。\n",
    "注意，我们返回了一个 ListNode 类型的对象 ans，这样：\n",
    "ans.val = 3, ans.next.val = 4, ans.next.next.val = 5, 以及 ans.next.next.next = NULL.\n",
    "示例 2：\n",
    "\n",
    "输入：[1,2,3,4,5,6]\n",
    "输出：此列表中的结点 4 (序列化形式：[4,5,6])\n",
    "由于该列表有两个中间结点，值分别为 3 和 4，我们返回第二个结点。\n",
    " \n",
    "\n",
    "提示：\n",
    "\n",
    "给定链表的结点数介于 1 和 100 之间。"
   ]
  },
  {
   "cell_type": "code",
   "execution_count": null,
   "metadata": {
    "collapsed": true
   },
   "outputs": [],
   "source": [
    "# 快慢指针\n",
    "\n",
    "# Definition for singly-linked list.\n",
    "# class ListNode(object):\n",
    "#     def __init__(self, x):\n",
    "#         self.val = x\n",
    "#         self.next = None\n",
    "\n",
    "class Solution(object):\n",
    "    def middleNode(self, head):\n",
    "        \"\"\"\n",
    "        :type head: ListNode\n",
    "        :rtype: ListNode\n",
    "        \"\"\"\n",
    "        fast = head\n",
    "        slow = head\n",
    "        while(fast and fast.next):\n",
    "            slow = slow.next\n",
    "            fast = fast.next.next if fast.next.next else fast.next\n",
    "        return slow\n",
    "        "
   ]
  }
 ],
 "metadata": {
  "kernelspec": {
   "display_name": "Python 3",
   "language": "python",
   "name": "python3"
  },
  "language_info": {
   "codemirror_mode": {
    "name": "ipython",
    "version": 3
   },
   "file_extension": ".py",
   "mimetype": "text/x-python",
   "name": "python",
   "nbconvert_exporter": "python",
   "pygments_lexer": "ipython3",
   "version": "3.6.1"
  }
 },
 "nbformat": 4,
 "nbformat_minor": 2
}
