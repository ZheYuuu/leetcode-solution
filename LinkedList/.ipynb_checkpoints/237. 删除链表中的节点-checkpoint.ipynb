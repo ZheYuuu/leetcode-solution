{
 "cells": [
  {
   "cell_type": "code",
   "execution_count": null,
   "metadata": {
    "collapsed": true
   },
   "outputs": [],
   "source": [
    "https://leetcode-cn.com/problems/delete-node-in-a-linked-list/\n",
    "请编写一个函数，使其可以删除某个链表中给定的（非末尾）节点，你将只被给定要求被删除的节点。\n",
    "\n",
    "现有一个链表 -- head = [4,5,1,9]，它可以表示为:\n",
    "\n",
    "\n",
    "\n",
    " \n",
    "\n",
    "示例 1:\n",
    "\n",
    "输入: head = [4,5,1,9], node = 5\n",
    "输出: [4,1,9]\n",
    "解释: 给定你链表中值为 5 的第二个节点，那么在调用了你的函数之后，该链表应变为 4 -> 1 -> 9.\n",
    "示例 2:\n",
    "\n",
    "输入: head = [4,5,1,9], node = 1\n",
    "输出: [4,5,9]\n",
    "解释: 给定你链表中值为 1 的第三个节点，那么在调用了你的函数之后，该链表应变为 4 -> 5 -> 9.\n",
    " \n",
    "\n",
    "说明:\n",
    "\n",
    "链表至少包含两个节点。\n",
    "链表中所有节点的值都是唯一的。\n",
    "给定的节点为非末尾节点并且一定是链表中的一个有效节点。\n",
    "不要从你的函数中返回任何结果。"
   ]
  },
  {
   "cell_type": "code",
   "execution_count": null,
   "metadata": {
    "collapsed": true
   },
   "outputs": [],
   "source": [
    "# Definition for singly-linked list.\n",
    "# class ListNode(object):\n",
    "#     def __init__(self, x):\n",
    "#         self.val = x\n",
    "#         self.next = None\n",
    "\n",
    "\n",
    "# 先把自己变成下一个节点，再删除下一个节点\n",
    "class Solution(object):\n",
    "    def deleteNode(self, node):\n",
    "        \"\"\"\n",
    "        :type node: ListNode\n",
    "        :rtype: void Do not return anything, modify node in-place instead.\n",
    "        \"\"\"\n",
    "        if not node.next:\n",
    "            node = None\n",
    "        node.val = node.next.val\n",
    "        node.next = node.next.next\n",
    "        "
   ]
  }
 ],
 "metadata": {
  "kernelspec": {
   "display_name": "Python 3",
   "language": "python",
   "name": "python3"
  },
  "language_info": {
   "codemirror_mode": {
    "name": "ipython",
    "version": 3
   },
   "file_extension": ".py",
   "mimetype": "text/x-python",
   "name": "python",
   "nbconvert_exporter": "python",
   "pygments_lexer": "ipython3",
   "version": "3.6.1"
  }
 },
 "nbformat": 4,
 "nbformat_minor": 2
}
