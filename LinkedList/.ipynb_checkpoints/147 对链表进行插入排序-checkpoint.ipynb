{
 "cells": [
  {
   "cell_type": "code",
   "execution_count": null,
   "metadata": {
    "collapsed": true
   },
   "outputs": [],
   "source": [
    "对链表进行插入排序。\n",
    "\n",
    "\n",
    "插入排序的动画演示如上。从第一个元素开始，该链表可以被认为已经部分排序（用黑色表示）。\n",
    "每次迭代时，从输入数据中移除一个元素（用红色表示），并原地将其插入到已排好序的链表中。\n",
    "\n",
    " \n",
    "\n",
    "插入排序算法：\n",
    "\n",
    "插入排序是迭代的，每次只移动一个元素，直到所有元素可以形成一个有序的输出列表。\n",
    "每次迭代中，插入排序只从输入数据中移除一个待排序的元素，找到它在序列中适当的位置，并将其插入。\n",
    "重复直到所有输入数据插入完为止。\n",
    " \n",
    "\n",
    "示例 1：\n",
    "\n",
    "输入: 4->2->1->3\n",
    "输出: 1->2->3->4\n",
    "示例 2：\n",
    "\n",
    "输入: -1->5->3->4->0\n",
    "输出: -1->0->3->4->5"
   ]
  },
  {
   "cell_type": "code",
   "execution_count": null,
   "metadata": {
    "collapsed": true
   },
   "outputs": [],
   "source": [
    "#  花了三秒？？？为什么这么慢\n",
    "\n",
    "# Definition for singly-linked list.\n",
    "# class ListNode(object):\n",
    "#     def __init__(self, x):\n",
    "#         self.val = x\n",
    "#         self.next = None\n",
    "\n",
    "class Solution(object):\n",
    "    def insertionSortList(self, head):\n",
    "        \"\"\"\n",
    "        :type head: ListNode\n",
    "        :rtype: ListNode\n",
    "        \"\"\"\n",
    "        dummy = curr = ListNode(None)\n",
    "        dummy.next = head\n",
    "                \n",
    "        while(curr and curr.next):\n",
    "            pre = curr\n",
    "            curr = curr.next\n",
    "            pt = dummy\n",
    "            while(pt.next!=curr):\n",
    "                if curr.val < pt.next.val:\n",
    "\n",
    "                    pt.next,curr.next,pre.next = curr,pt.next,curr.next\n",
    "                    curr = pre\n",
    "                    break\n",
    "                pt =pt.next\n",
    "        return dummy.next\n",
    "        "
   ]
  },
  {
   "cell_type": "code",
   "execution_count": null,
   "metadata": {
    "collapsed": true
   },
   "outputs": [],
   "source": [
    "# Definition for singly-linked list.\n",
    "# class ListNode(object):\n",
    "#     def __init__(self, x):\n",
    "#         self.val = x\n",
    "#         self.next = None\n",
    "\n",
    "class Solution(object):\n",
    "    def insertionSortList(self, head):\n",
    "        \"\"\"\n",
    "        :type head: ListNode\n",
    "        :rtype: ListNode\n",
    "        \"\"\"\n",
    "        if head is None or head.next is None:\n",
    "            return head\n",
    "        \n",
    "        dummy=ListNode(None)\n",
    "        dummy.next=head\n",
    "        cur=head\n",
    "        \n",
    "        while cur.next:\n",
    "            \n",
    "            if cur.val>cur.next.val:\n",
    "            \n",
    "                pre=dummy\n",
    "                while pre.next.val<cur.next.val:\n",
    "                    pre=pre.next\n",
    "                    #                     死都不要再用这种形式！！！这样的交换有误！！！\n",
    "                # curr.next, pre.next,curr.next.next = curr.next.next,curr.next,pre.next\n",
    "                m=cur.next\n",
    "                cur.next=m.next\n",
    "                m.next=pre.next\n",
    "                pre.next=m\n",
    "            else:\n",
    "                cur=cur.next\n",
    "        \n",
    "        return dummy.next\n",
    "                    \n",
    "                \n",
    "        \n",
    "        \n",
    "        "
   ]
  }
 ],
 "metadata": {
  "kernelspec": {
   "display_name": "Python 3",
   "language": "python",
   "name": "python3"
  },
  "language_info": {
   "codemirror_mode": {
    "name": "ipython",
    "version": 3
   },
   "file_extension": ".py",
   "mimetype": "text/x-python",
   "name": "python",
   "nbconvert_exporter": "python",
   "pygments_lexer": "ipython3",
   "version": "3.6.1"
  }
 },
 "nbformat": 4,
 "nbformat_minor": 2
}
