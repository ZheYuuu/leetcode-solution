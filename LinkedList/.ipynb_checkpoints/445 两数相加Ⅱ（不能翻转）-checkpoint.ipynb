{
 "cells": [
  {
   "cell_type": "code",
   "execution_count": null,
   "metadata": {
    "collapsed": true
   },
   "outputs": [],
   "source": [
    "You are given two non-empty linked lists representing two non-negative integers. The most significant digit comes first and each of their nodes contain a single digit. Add the two numbers and return it as a linked list.\n",
    "\n",
    "You may assume the two numbers do not contain any leading zero, except the number 0 itself.\n",
    "\n",
    "Follow up:\n",
    "What if you cannot modify the input lists? In other words, reversing the lists is not allowed.\n",
    "\n",
    "Example:\n",
    "\n",
    "Input: (7 -> 2 -> 4 -> 3) + (5 -> 6 -> 4)\n",
    "Output: 7 -> 8 -> 0 -> 7"
   ]
  },
  {
   "cell_type": "code",
   "execution_count": null,
   "metadata": {
    "collapsed": true
   },
   "outputs": [],
   "source": [
    "# Definition for singly-linked list.\n",
    "# class ListNode(object):\n",
    "#     def __init__(self, x):\n",
    "#         self.val = x\n",
    "#         self.next = None\n",
    "\n",
    "class Solution(object):\n",
    "    def addTwoNumbers(self, l1, l2):\n",
    "        \"\"\"\n",
    "        :type l1: ListNode\n",
    "        :type l2: ListNode\n",
    "        :rtype: ListNode\n",
    "        \"\"\"\n",
    "        a = l1\n",
    "        b = l2\n",
    "        while(l1 and l2):\n",
    "            l1 = l1.next\n",
    "            l2 = l2.next\n",
    "#             l1，a 更长\n",
    "        if not l2:\n",
    "            curr = a\n",
    "            while(l1):\n",
    "                l1 = l1.next\n",
    "                curr = curr.next\n",
    "#             各位相加\n",
    "            while(curr):\n",
    "                curr.val += b.val\n",
    "                curr = curr.next\n",
    "                b = b.next\n",
    "            tmp = a\n",
    "            if self.modify(tmp)==1:\n",
    "                newHead = ListNode(1)\n",
    "                newHead.next = a\n",
    "                return newHead\n",
    "            else:\n",
    "                return tmp\n",
    "            \n",
    "#         l2,b 更长\n",
    "        elif not l1:\n",
    "            curr = b\n",
    "            while(l2):\n",
    "                l2 = l2.next\n",
    "                curr = curr.next\n",
    "            while(curr):\n",
    "                curr.val += a.val\n",
    "                curr = curr.next\n",
    "                a = a.next\n",
    "            tmp = b\n",
    "            if self.modify(tmp)==1:\n",
    "                newHead = ListNode(1)\n",
    "                newHead.next = b\n",
    "                return newHead\n",
    "            else:\n",
    "                return tmp\n",
    "    \n",
    "    def modify(self, head):\n",
    "        if not head:\n",
    "            return 0\n",
    "        head.val += self.modify(head.next)\n",
    "        if head.val>=10:\n",
    "            head.val -=10\n",
    "            return 1\n",
    "        else:\n",
    "            return 0\n",
    "            "
   ]
  }
 ],
 "metadata": {
  "kernelspec": {
   "display_name": "Python 3",
   "language": "python",
   "name": "python3"
  },
  "language_info": {
   "codemirror_mode": {
    "name": "ipython",
    "version": 3
   },
   "file_extension": ".py",
   "mimetype": "text/x-python",
   "name": "python",
   "nbconvert_exporter": "python",
   "pygments_lexer": "ipython3",
   "version": "3.6.1"
  }
 },
 "nbformat": 4,
 "nbformat_minor": 2
}
