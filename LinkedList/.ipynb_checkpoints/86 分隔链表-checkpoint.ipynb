{
 "cells": [
  {
   "cell_type": "code",
   "execution_count": null,
   "metadata": {
    "collapsed": true
   },
   "outputs": [],
   "source": [
    "Given a linked list and a value x, partition it such that all nodes less than x come before nodes greater than or equal to x.\n",
    "\n",
    "You should preserve the original relative order of the nodes in each of the two partitions.\n",
    "\n",
    "Example:\n",
    "\n",
    "Input: head = 1->4->3->2->5->2, x = 3\n",
    "Output: 1->2->2->4->3->5"
   ]
  },
  {
   "cell_type": "code",
   "execution_count": null,
   "metadata": {
    "collapsed": true
   },
   "outputs": [],
   "source": [
    "# Definition for singly-linked list.\n",
    "# class ListNode(object):\n",
    "#     def __init__(self, x):\n",
    "#         self.val = x\n",
    "#         self.next = None\n",
    "\n",
    "class Solution(object):\n",
    "    def partition(self, head, x):\n",
    "        \"\"\"\n",
    "        :type head: ListNode\n",
    "        :type x: int\n",
    "        :rtype: ListNode\n",
    "        \"\"\"\n",
    "        if not head or not head.next:\n",
    "            return head\n",
    "        dummy = ListNode(None)\n",
    "        dummy.next = head\n",
    "        curr = head\n",
    "        pre = dummy\n",
    "        while(curr.next):\n",
    "            if curr.val>=x:\n",
    "                break\n",
    "            else:\n",
    "                pre = curr\n",
    "                curr = curr.next\n",
    "        pre_boundary = pre\n",
    "        boundary = curr\n",
    "        pre = curr\n",
    "        curr = curr.next\n",
    "        # print(pre.val,boundary.val)\n",
    "        while(curr):\n",
    "            # print(curr.val)\n",
    "            if curr.val<x:\n",
    "                pre_boundary.next = curr\n",
    "                next_ = curr.next\n",
    "                curr.next = boundary\n",
    "                pre.next = next_\n",
    "                pre_boundary = curr\n",
    "                curr = next_\n",
    "            else:\n",
    "                pre = curr\n",
    "                curr = curr.next\n",
    "        return dummy.next\n",
    "            \n",
    "                \n",
    "        "
   ]
  }
 ],
 "metadata": {
  "kernelspec": {
   "display_name": "Python 3",
   "language": "python",
   "name": "python3"
  },
  "language_info": {
   "codemirror_mode": {
    "name": "ipython",
    "version": 3
   },
   "file_extension": ".py",
   "mimetype": "text/x-python",
   "name": "python",
   "nbconvert_exporter": "python",
   "pygments_lexer": "ipython3",
   "version": "3.6.1"
  }
 },
 "nbformat": 4,
 "nbformat_minor": 2
}
