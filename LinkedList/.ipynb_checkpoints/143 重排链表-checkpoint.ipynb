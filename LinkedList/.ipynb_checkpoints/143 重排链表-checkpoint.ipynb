{
 "cells": [
  {
   "cell_type": "code",
   "execution_count": null,
   "metadata": {
    "collapsed": true
   },
   "outputs": [],
   "source": [
    "给定一个单链表 L：L0→L1→…→Ln-1→Ln ，\n",
    "将其重新排列后变为： L0→Ln→L1→Ln-1→L2→Ln-2→…\n",
    "\n",
    "你不能只是单纯的改变节点内部的值，而是需要实际的进行节点交换。\n",
    "\n",
    "示例 1:\n",
    "\n",
    "给定链表 1->2->3->4, 重新排列为 1->4->2->3.\n",
    "示例 2:\n",
    "\n",
    "给定链表 1->2->3->4->5, 重新排列为 1->5->2->4->3."
   ]
  },
  {
   "cell_type": "code",
   "execution_count": null,
   "metadata": {
    "collapsed": true
   },
   "outputs": [],
   "source": [
    "# O(n²) 过不了，超时\n",
    "# Definition for singly-linked list.\n",
    "# class ListNode(object):\n",
    "#     def __init__(self, x):\n",
    "#         self.val = x\n",
    "#         self.next = None\n",
    "\n",
    "class Solution(object):\n",
    "    def reorderList(self, head):\n",
    "        \"\"\"\n",
    "        :type head: ListNode\n",
    "        :rtype: None Do not return anything, modify head in-place instead.\n",
    "        \"\"\"\n",
    "        def func(head):\n",
    "            if not head or not head.next or not head.next.next:\n",
    "                return head\n",
    "            pre = head\n",
    "            curr = head\n",
    "            while(curr.next):\n",
    "                pre = curr\n",
    "                curr = curr.next\n",
    "            next_ = head.next\n",
    "            head.next = curr\n",
    "            pre.next = None\n",
    "            curr.next = func(next_)     \n",
    "            return head\n",
    "        func(head)\n",
    "        "
   ]
  },
  {
   "cell_type": "code",
   "execution_count": null,
   "metadata": {
    "collapsed": true
   },
   "outputs": [],
   "source": [
    "class Solution(object):\n",
    "    def reorderList(self, head):\n",
    "        \"\"\"\n",
    "        :type head: ListNode\n",
    "        :rtype: None Do not return anything, modify head in-place instead.\n",
    "        \"\"\"\n",
    "        if not head or not head.next:\n",
    "            return \n",
    "#         找到中点，分裂为两个链表\n",
    "        fast = head\n",
    "        slow = head\n",
    "        breakNode = head\n",
    "        while(fast and fast.next):\n",
    "            breakNode = slow\n",
    "            slow = slow.next\n",
    "            fast = fast.next.next\n",
    "#         如果链表长度为奇数时，确保左链表长度大于右链表程度，便于后续编程\n",
    "        if fast:\n",
    "            breakNode = slow\n",
    "            slow = slow.next\n",
    "        breakNode.next = None\n",
    "\n",
    "#         将后半部分链表翻转\n",
    "        dummy = ListNode(None)\n",
    "        dummy.next = slow\n",
    "        while(slow.next):\n",
    "            next_ = slow.next\n",
    "            slow.next = next_.next\n",
    "            next_.next = dummy.next\n",
    "            dummy.next = next_\n",
    "        left = head\n",
    "        right = dummy.next\n",
    "#         链接左右两链表\n",
    "        while(left and right):\n",
    "            next_left = left.next\n",
    "            next_right = right.next\n",
    "            left.next = right\n",
    "            right.next = next_left\n",
    "            left = next_left\n",
    "            right = next_right\n",
    "    \n",
    "            \n",
    "            \n",
    "        \n",
    "        \n",
    "        \n",
    "        "
   ]
  }
 ],
 "metadata": {
  "kernelspec": {
   "display_name": "Python 3",
   "language": "python",
   "name": "python3"
  },
  "language_info": {
   "codemirror_mode": {
    "name": "ipython",
    "version": 3
   },
   "file_extension": ".py",
   "mimetype": "text/x-python",
   "name": "python",
   "nbconvert_exporter": "python",
   "pygments_lexer": "ipython3",
   "version": "3.6.1"
  }
 },
 "nbformat": 4,
 "nbformat_minor": 2
}
