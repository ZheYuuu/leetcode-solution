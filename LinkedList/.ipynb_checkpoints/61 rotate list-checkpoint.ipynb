{
 "cells": [
  {
   "cell_type": "code",
   "execution_count": null,
   "metadata": {
    "collapsed": true
   },
   "outputs": [],
   "source": [
    "Given a linked list, rotate the list to the right by k places, where k is non-negative.\n",
    "\n",
    "Example 1:\n",
    "\n",
    "Input: 1->2->3->4->5->NULL, k = 2\n",
    "Output: 4->5->1->2->3->NULL\n",
    "Explanation:\n",
    "rotate 1 steps to the right: 5->1->2->3->4->NULL\n",
    "rotate 2 steps to the right: 4->5->1->2->3->NULL\n",
    "Example 2:\n",
    "\n",
    "Input: 0->1->2->NULL, k = 4\n",
    "Output: 2->0->1->NULL\n",
    "Explanation:\n",
    "rotate 1 steps to the right: 2->0->1->NULL\n",
    "rotate 2 steps to the right: 1->2->0->NULL\n",
    "rotate 3 steps to the right: 0->1->2->NULL\n",
    "rotate 4 steps to the right: 2->0->1->NULL"
   ]
  },
  {
   "cell_type": "code",
   "execution_count": null,
   "metadata": {
    "collapsed": true
   },
   "outputs": [],
   "source": [
    "# Definition for singly-linked list.\n",
    "# class ListNode(object):\n",
    "#     def __init__(self, x):\n",
    "#         self.val = x\n",
    "#         self.next = None\n",
    "\n",
    "class Solution(object):\n",
    "    def rotateRight(self, head, k):\n",
    "        \"\"\"\n",
    "        :type head: ListNode\n",
    "        :type k: int\n",
    "        :rtype: ListNode\n",
    "        \"\"\"\n",
    "        if not head or not head.next:\n",
    "            return head\n",
    "        curr = head\n",
    "        n = 0\n",
    "        while(curr):\n",
    "            curr = curr.next\n",
    "            n += 1\n",
    "        k = k%n\n",
    "        if k==0:\n",
    "            return head\n",
    "        # print(k)\n",
    "        curr = head\n",
    "        for i in range(n-k-1):\n",
    "            curr = curr.next\n",
    "        newHead = curr.next\n",
    "        curr.next = None\n",
    "        \n",
    "        curr = newHead\n",
    "        while(curr.next):\n",
    "            curr = curr.next\n",
    "        curr.next = head\n",
    "        return newHead\n",
    "        "
   ]
  }
 ],
 "metadata": {
  "kernelspec": {
   "display_name": "Python 3",
   "language": "python",
   "name": "python3"
  },
  "language_info": {
   "codemirror_mode": {
    "name": "ipython",
    "version": 3
   },
   "file_extension": ".py",
   "mimetype": "text/x-python",
   "name": "python",
   "nbconvert_exporter": "python",
   "pygments_lexer": "ipython3",
   "version": "3.6.1"
  }
 },
 "nbformat": 4,
 "nbformat_minor": 2
}
