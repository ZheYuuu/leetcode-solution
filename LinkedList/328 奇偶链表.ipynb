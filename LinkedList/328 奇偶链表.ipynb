{
 "cells": [
  {
   "cell_type": "code",
   "execution_count": null,
   "metadata": {
    "collapsed": true
   },
   "outputs": [],
   "source": [
    "给定一个单链表，把所有的奇数节点和偶数节点分别排在一起。请注意，这里的奇数节点和偶数节点指的是节点编号的奇偶性，而不是节点的值的奇偶性。\n",
    "\n",
    "请尝试使用原地算法完成。你的算法的空间复杂度应为 O(1)，时间复杂度应为 O(nodes)，nodes 为节点总数。\n",
    "\n",
    "示例 1:\n",
    "\n",
    "输入: 1->2->3->4->5->NULL\n",
    "输出: 1->3->5->2->4->NULL\n",
    "示例 2:\n",
    "\n",
    "输入: 2->1->3->5->6->4->7->NULL \n",
    "输出: 2->3->6->7->1->5->4->NULL\n",
    "说明:\n",
    "\n",
    "应当保持奇数节点和偶数节点的相对顺序。\n",
    "链表的第一个节点视为奇数节点，第二个节点视为偶数节点，以此类推。"
   ]
  },
  {
   "cell_type": "code",
   "execution_count": null,
   "metadata": {
    "collapsed": true
   },
   "outputs": [],
   "source": [
    "# Definition for singly-linked list.\n",
    "# class ListNode(object):\n",
    "#     def __init__(self, x):\n",
    "#         self.val = x\n",
    "#         self.next = None\n",
    "\n",
    "class Solution(object):\n",
    "    def oddEvenList(self, head):\n",
    "        \"\"\"\n",
    "        :type head: ListNode\n",
    "        :rtype: ListNode\n",
    "        \"\"\"\n",
    "        if not head or not head.next:\n",
    "            return head\n",
    "        odd = head\n",
    "        pre = head\n",
    "        even = head.next\n",
    "        while(pre and pre.next):\n",
    "            pre = pre.next\n",
    "            next_odd = pre.next\n",
    "            if not next_odd:\n",
    "                return head\n",
    "            pre.next = next_odd.next\n",
    "            next_odd.next = even\n",
    "            odd.next = next_odd\n",
    "            odd = next_odd\n",
    "        return head\n",
    "        \n",
    "            \n",
    "            \n",
    "        "
   ]
  }
 ],
 "metadata": {
  "kernelspec": {
   "display_name": "Python 3",
   "language": "python",
   "name": "python3"
  },
  "language_info": {
   "codemirror_mode": {
    "name": "ipython",
    "version": 3
   },
   "file_extension": ".py",
   "mimetype": "text/x-python",
   "name": "python",
   "nbconvert_exporter": "python",
   "pygments_lexer": "ipython3",
   "version": "3.6.1"
  }
 },
 "nbformat": 4,
 "nbformat_minor": 2
}
