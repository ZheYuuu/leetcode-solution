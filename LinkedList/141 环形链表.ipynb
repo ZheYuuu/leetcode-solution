{
 "cells": [
  {
   "cell_type": "code",
   "execution_count": null,
   "metadata": {
    "collapsed": true
   },
   "outputs": [],
   "source": [
    "给定一个链表，判断链表中是否有环。\n",
    "\n",
    "为了表示给定链表中的环，我们使用整数 pos 来表示链表尾连接到链表中的位置（索引从 0 开始）。 如果 pos 是 -1，则在该链表中没有环。\n",
    "\n",
    " \n",
    "\n",
    "示例 1：\n",
    "\n",
    "输入：head = [3,2,0,-4], pos = 1\n",
    "输出：true\n",
    "解释：链表中有一个环，其尾部连接到第二个节点。\n",
    "\n",
    "\n",
    "示例 2：\n",
    "\n",
    "输入：head = [1,2], pos = 0\n",
    "输出：true\n",
    "解释：链表中有一个环，其尾部连接到第一个节点。\n",
    "\n",
    "\n",
    "示例 3：\n",
    "\n",
    "输入：head = [1], pos = -1\n",
    "输出：false\n",
    "解释：链表中没有环。\n",
    "\n",
    "\n",
    " \n",
    "\n",
    "进阶：\n",
    "\n",
    "你能用 O(1)（即，常量）内存解决此问题吗？"
   ]
  },
  {
   "cell_type": "code",
   "execution_count": null,
   "metadata": {
    "collapsed": true
   },
   "outputs": [],
   "source": [
    "# Definition for singly-linked list.\n",
    "# class ListNode(object):\n",
    "#     def __init__(self, x):\n",
    "#         self.val = x\n",
    "#         self.next = None\n",
    "\n",
    "class Solution(object):\n",
    "    def hasCycle(self, head):\n",
    "        \"\"\"\n",
    "        :type head: ListNode\n",
    "        :rtype: bool\n",
    "        \"\"\"\n",
    "        if head==None:\n",
    "            return False\n",
    "        slow = head\n",
    "        fast = head\n",
    "        while(fast and fast.next):\n",
    "            slow = slow.next\n",
    "            fast = fast.next.next\n",
    "            if slow==fast:\n",
    "                return True\n",
    "        return False\n"
   ]
  }
 ],
 "metadata": {
  "kernelspec": {
   "display_name": "Python 3",
   "language": "python",
   "name": "python3"
  },
  "language_info": {
   "codemirror_mode": {
    "name": "ipython",
    "version": 3
   },
   "file_extension": ".py",
   "mimetype": "text/x-python",
   "name": "python",
   "nbconvert_exporter": "python",
   "pygments_lexer": "ipython3",
   "version": "3.6.1"
  }
 },
 "nbformat": 4,
 "nbformat_minor": 2
}
