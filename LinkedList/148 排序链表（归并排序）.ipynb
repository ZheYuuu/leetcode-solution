{
 "cells": [
  {
   "cell_type": "code",
   "execution_count": null,
   "metadata": {
    "collapsed": true
   },
   "outputs": [],
   "source": [
    "在 O(n log n) 时间复杂度和常数级空间复杂度下，对链表进行排序。\n",
    "\n",
    "示例 1:\n",
    "\n",
    "输入: 4->2->1->3\n",
    "输出: 1->2->3->4\n",
    "示例 2:\n",
    "\n",
    "输入: -1->5->3->4->0\n",
    "输出: -1->0->3->4->5"
   ]
  },
  {
   "cell_type": "code",
   "execution_count": null,
   "metadata": {
    "collapsed": true
   },
   "outputs": [],
   "source": [
    "# Definition for singly-linked list.\n",
    "# class ListNode(object):\n",
    "#     def __init__(self, x):\n",
    "#         self.val = x\n",
    "#         self.next = None\n",
    "\n",
    "class Solution(object):\n",
    "    def sortList(self, head):\n",
    "        \"\"\"\n",
    "        :type head: ListNode\n",
    "        :rtype: ListNode\n",
    "        \"\"\"\n",
    "        def merge(a,b):\n",
    "            head = curr =  ListNode(None)\n",
    "            while(a and b):\n",
    "                if a.val<b.val:\n",
    "                    curr.next = a\n",
    "                    a = a.next\n",
    "                    \n",
    "                else:\n",
    "                    curr.next = b\n",
    "                    b = b.next\n",
    "                curr = curr.next\n",
    "            if a:\n",
    "                curr.next = a\n",
    "            if b:\n",
    "                curr.next = b\n",
    "            return head.next\n",
    "                        \n",
    "        def mergeSort(head):\n",
    "            if head:\n",
    "                slow = head\n",
    "                fast = head\n",
    "                pre = None\n",
    "                while(fast and fast.next):\n",
    "                    pre = slow\n",
    "                    slow = slow.next\n",
    "                    fast = fast.next.next\n",
    "                if not pre:\n",
    "                    return head\n",
    "                pre.next = None\n",
    "\n",
    "                left = mergeSort(head)\n",
    "                right = mergeSort(slow)\n",
    "                head = merge(left,right)\n",
    "\n",
    "                return head\n",
    "        \n",
    "        return mergeSort(head)\n",
    "            \n",
    "        \n",
    "        "
   ]
  },
  {
   "cell_type": "code",
   "execution_count": 1,
   "metadata": {
    "collapsed": true
   },
   "outputs": [],
   "source": []
  },
  {
   "cell_type": "code",
   "execution_count": null,
   "metadata": {
    "collapsed": true
   },
   "outputs": [],
   "source": []
  }
 ],
 "metadata": {
  "kernelspec": {
   "display_name": "Python 3",
   "language": "python",
   "name": "python3"
  },
  "language_info": {
   "codemirror_mode": {
    "name": "ipython",
    "version": 3
   },
   "file_extension": ".py",
   "mimetype": "text/x-python",
   "name": "python",
   "nbconvert_exporter": "python",
   "pygments_lexer": "ipython3",
   "version": "3.6.1"
  }
 },
 "nbformat": 4,
 "nbformat_minor": 2
}
