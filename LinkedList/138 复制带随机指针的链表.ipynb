{
 "cells": [
  {
   "cell_type": "code",
   "execution_count": null,
   "metadata": {
    "collapsed": true
   },
   "outputs": [],
   "source": [
    "给定一个链表，每个节点包含一个额外增加的随机指针，该指针可以指向链表中的任何节点或空节点。\n",
    "\n",
    "要求返回这个链表的深拷贝。 \n",
    "\n",
    " \n",
    "\n",
    "示例：\n",
    "\n",
    "\n",
    "\n",
    "输入：\n",
    "{\"$id\":\"1\",\"next\":{\"$id\":\"2\",\"next\":null,\"random\":{\"$ref\":\"2\"},\"val\":2},\"random\":{\"$ref\":\"2\"},\"val\":1}\n",
    "\n",
    "解释：\n",
    "节点 1 的值是 1，它的下一个指针和随机指针都指向节点 2 。\n",
    "节点 2 的值是 2，它的下一个指针指向 null，随机指针指向它自己。\n",
    " \n",
    "\n",
    "提示：\n",
    "\n",
    "你必须返回给定头的拷贝作为对克隆列表的引用。"
   ]
  },
  {
   "cell_type": "code",
   "execution_count": null,
   "metadata": {
    "collapsed": true
   },
   "outputs": [],
   "source": [
    "\"\"\"\n",
    "# Definition for a Node.\n",
    "class Node(object):\n",
    "    def __init__(self, val, next, random):\n",
    "        self.val = val\n",
    "        self.next = next\n",
    "        self.random = random\n",
    "\"\"\"\n",
    "class Solution(object):\n",
    "    def copyRandomList(self, head):\n",
    "        \"\"\"\n",
    "        :type head: Node\n",
    "        :rtype: Node\n",
    "        \"\"\"\n",
    "        curr = head\n",
    "        mapping = {None:None}\n",
    "        while(curr):\n",
    "            node = Node(curr.val,None,None)\n",
    "            mapping[curr] = node\n",
    "            curr = curr.next\n",
    "        curr = head\n",
    "        while(curr):\n",
    "            mapping[curr].next = mapping[curr.next]\n",
    "            mapping[curr].random = mapping[curr.random]\n",
    "            curr = curr.next\n",
    "        return mapping[head]\n",
    "                \n",
    "        "
   ]
  },
  {
   "cell_type": "code",
   "execution_count": null,
   "metadata": {
    "collapsed": true
   },
   "outputs": [],
   "source": []
  }
 ],
 "metadata": {
  "kernelspec": {
   "display_name": "Python 3",
   "language": "python",
   "name": "python3"
  },
  "language_info": {
   "codemirror_mode": {
    "name": "ipython",
    "version": 3
   },
   "file_extension": ".py",
   "mimetype": "text/x-python",
   "name": "python",
   "nbconvert_exporter": "python",
   "pygments_lexer": "ipython3",
   "version": "3.6.1"
  }
 },
 "nbformat": 4,
 "nbformat_minor": 2
}
