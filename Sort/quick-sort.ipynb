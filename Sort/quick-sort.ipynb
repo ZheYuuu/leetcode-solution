{
 "cells": [
  {
   "cell_type": "code",
   "execution_count": 11,
   "metadata": {
    "collapsed": true
   },
   "outputs": [],
   "source": [
    "循环不变量：\n",
    "    在partition的循环体每一轮迭代开始时，对于任意数组下标k，有：\n",
    "    1.若p<=k<=i，则A[k]<=x\n",
    "    2.若i+1<=k<=j-1，则A[k]>x\n",
    "    3.若k=r,则A[k]=x"
   ]
  },
  {
   "cell_type": "code",
   "execution_count": 9,
   "metadata": {
    "collapsed": true
   },
   "outputs": [],
   "source": [
    "def partition(A,p,r):\n",
    "    x = A[r]\n",
    "    i = p-1\n",
    "#     注意j要到r-1，退出循环时，j为r\n",
    "    for j in range(p,r):\n",
    "        if A[j]<=x:\n",
    "            i = i+1\n",
    "            A[i],A[j] = A[j],A[i]\n",
    "    A[i+1],A[r] = A[r],A[i+1]\n",
    "    return i+1\n",
    "def quickSort(A,p,r):\n",
    "    if p<r:\n",
    "        mid = partition(A,p,r)\n",
    "        print(A)\n",
    "        print(\"mid=A[%d]=%d\"%(mid,A[mid]))\n",
    "        print(\"-\"*10)\n",
    "        quickSort(A,p,mid-1)\n",
    "        quickSort(A,mid+1,r)\n",
    "#wikipedia supply this!\n",
    "def qsort(L):\n",
    "    if not L: return []\n",
    "    return qsort([x for x in L[1:] if x< L[0]])  + L[0:1] + qsort([x for x in L[1:] if x>=L[0]])"
   ]
  },
  {
   "cell_type": "code",
   "execution_count": 10,
   "metadata": {},
   "outputs": [
    {
     "name": "stdout",
     "output_type": "stream",
     "text": [
      "[4, 1, 8, 9, 12]\n",
      "mid=A[3]=9\n",
      "----------\n",
      "[4, 1, 8, 9, 12]\n",
      "mid=A[2]=8\n",
      "----------\n",
      "[1, 4, 8, 9, 12]\n",
      "mid=A[0]=1\n",
      "----------\n"
     ]
    }
   ],
   "source": [
    "A = [12,4,1,8,9]\n",
    "quickSort(A,0,len(A)-1)"
   ]
  },
  {
   "cell_type": "code",
   "execution_count": 13,
   "metadata": {},
   "outputs": [
    {
     "data": {
      "text/plain": [
       "[8, 20, 20, 23, 33, 34, 41, 63, 79, 94]"
      ]
     },
     "execution_count": 13,
     "metadata": {},
     "output_type": "execute_result"
    }
   ],
   "source": [
    "qsort([int(random() * 100) for x in range(0, 10)])"
   ]
  },
  {
   "cell_type": "code",
   "execution_count": 10,
   "metadata": {},
   "outputs": [
    {
     "name": "stdout",
     "output_type": "stream",
     "text": [
      "[32, 59, 5, 64, 25, 99, 36, 6, 79, 7]\n",
      "[5, 6, 7, 25, 32, 36, 59, 64, 79, 99]\n"
     ]
    }
   ],
   "source": [
    "from random import random\n",
    "\n",
    "n = 10\n",
    "data = [int(random() * 100) for x in range(0, n)]\n",
    "print (data)\n",
    "\n",
    "\n",
    "#wikipedia supply this!\n",
    "# def qsort(L):\n",
    "#     if not L: return []\n",
    "#     return qsort([x for x in L[1:] if x< L[0]])  + L[0:1] + qsort([x for x in L[1:] if x>=L[0]])\n",
    "\n",
    "def quick_sort(A, p, r):\n",
    "    if p < r:\n",
    "        q = part(A, p, r)\n",
    "        quick_sort(A, p, q - 1)\n",
    "        quick_sort(A, q + 1, r)\n",
    "\n",
    "\n",
    "def part(A, p, r):\n",
    "    i = p\n",
    "    pivot = A[r]\n",
    "    for j in range(p, r):\n",
    "        if A[j] < pivot:\n",
    "            A[i], A[j] = A[j], A[i]\n",
    "            i += 1\n",
    "    A[i], A[r] = A[r], A[i]\n",
    "    return i\n",
    "\n",
    "quick_sort(data, 0, n - 1)\n",
    "print (data)"
   ]
  },
  {
   "cell_type": "code",
   "execution_count": null,
   "metadata": {
    "collapsed": true
   },
   "outputs": [],
   "source": []
  },
  {
   "cell_type": "code",
   "execution_count": null,
   "metadata": {
    "collapsed": true
   },
   "outputs": [],
   "source": []
  }
 ],
 "metadata": {
  "kernelspec": {
   "display_name": "Python 3",
   "language": "python",
   "name": "python3"
  },
  "language_info": {
   "codemirror_mode": {
    "name": "ipython",
    "version": 3
   },
   "file_extension": ".py",
   "mimetype": "text/x-python",
   "name": "python",
   "nbconvert_exporter": "python",
   "pygments_lexer": "ipython3",
   "version": "3.6.1"
  }
 },
 "nbformat": 4,
 "nbformat_minor": 2
}
