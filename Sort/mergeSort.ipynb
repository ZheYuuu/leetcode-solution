{
 "cells": [
  {
   "cell_type": "code",
   "execution_count": 62,
   "metadata": {},
   "outputs": [],
   "source": [
    "def merge(A,p,q,r):\n",
    "\n",
    "    a = A[p:q+1]\n",
    "    b = A[q+1:r+1]\n",
    "    print(\"a=\",a,\"b=\",b)\n",
    "#     print(\"p=\",p,\"r=\",r)\n",
    "    a = a+[float(\"inf\")]\n",
    "    b = b+[float(\"inf\")]\n",
    "    i = 0\n",
    "    j = 0\n",
    "    for k in range(p,r+1):\n",
    "        if a[i]<b[j]:\n",
    "            A[k] = a[i]\n",
    "            i += 1\n",
    "        else:\n",
    "            A[k] = b[j]\n",
    "            j += 1\n",
    "            \n",
    "def mergeSort(A,p,r):\n",
    "    if(p>=r):\n",
    "        return\n",
    "    q = int((p+r)/2)\n",
    "    print(p,q,r)\n",
    "    mergeSort(A,p,q)\n",
    "    mergeSort(A,q+1,r)\n",
    "    merge(A,p,q,r)\n",
    "    return A\n",
    "\n",
    "\n",
    "            \n",
    "        \n",
    "    \n",
    "    "
   ]
  },
  {
   "cell_type": "code",
   "execution_count": 64,
   "metadata": {},
   "outputs": [
    {
     "name": "stdout",
     "output_type": "stream",
     "text": [
      "0 2 4\n",
      "0 1 2\n",
      "0 0 1\n",
      "a= [5] b= [43]\n",
      "a= [5, 43] b= [2]\n",
      "3 3 4\n",
      "a= [6] b= [7]\n",
      "a= [2, 5, 43] b= [6, 7]\n"
     ]
    },
    {
     "data": {
      "text/plain": [
       "[2, 5, 6, 7, 43]"
      ]
     },
     "execution_count": 64,
     "metadata": {},
     "output_type": "execute_result"
    }
   ],
   "source": [
    "mergeSort([5,43,2,6,7],0,4)"
   ]
  },
  {
   "cell_type": "code",
   "execution_count": 9,
   "metadata": {
    "collapsed": true
   },
   "outputs": [],
   "source": [
    "A = [1,2,3,4,5]"
   ]
  },
  {
   "cell_type": "code",
   "execution_count": 12,
   "metadata": {
    "collapsed": true
   },
   "outputs": [],
   "source": [
    "def func(A):\n",
    "    B = A[0:1]\n",
    "    B[0]=8\n",
    "def func2(A):\n",
    "    B = A\n",
    "    B[0]=8"
   ]
  },
  {
   "cell_type": "code",
   "execution_count": 13,
   "metadata": {},
   "outputs": [
    {
     "name": "stdout",
     "output_type": "stream",
     "text": [
      "[1, 2, 3, 4, 5]\n"
     ]
    }
   ],
   "source": [
    "func(A)\n",
    "print(A)"
   ]
  },
  {
   "cell_type": "code",
   "execution_count": 15,
   "metadata": {},
   "outputs": [
    {
     "name": "stdout",
     "output_type": "stream",
     "text": [
      "[8, 2, 3, 4, 5]\n"
     ]
    }
   ],
   "source": [
    "func2(A)\n",
    "print(A)"
   ]
  },
  {
   "cell_type": "code",
   "execution_count": 33,
   "metadata": {},
   "outputs": [
    {
     "data": {
      "text/plain": [
       "[2, 3]"
      ]
     },
     "execution_count": 33,
     "metadata": {},
     "output_type": "execute_result"
    }
   ],
   "source": [
    "[i for i in range(2,4)]"
   ]
  },
  {
   "cell_type": "code",
   "execution_count": null,
   "metadata": {
    "collapsed": true
   },
   "outputs": [],
   "source": []
  }
 ],
 "metadata": {
  "kernelspec": {
   "display_name": "Python 3",
   "language": "python",
   "name": "python3"
  },
  "language_info": {
   "codemirror_mode": {
    "name": "ipython",
    "version": 3
   },
   "file_extension": ".py",
   "mimetype": "text/x-python",
   "name": "python",
   "nbconvert_exporter": "python",
   "pygments_lexer": "ipython3",
   "version": "3.6.1"
  }
 },
 "nbformat": 4,
 "nbformat_minor": 2
}
