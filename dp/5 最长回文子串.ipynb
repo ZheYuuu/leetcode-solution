{
 "cells": [
  {
   "cell_type": "markdown",
   "metadata": {},
   "source": [
    "给定一个字符串 s，找到 s 中最长的回文子串。你可以假设 s 的最大长度为 1000。\n",
    "\n",
    "示例 1：\n",
    "\n",
    "输入: \"babad\"\n",
    "输出: \"bab\"\n",
    "注意: \"aba\" 也是一个有效答案。\n",
    "示例 2：\n",
    "\n",
    "输入: \"cbbd\"\n",
    "输出: \"bb\""
   ]
  },
  {
   "cell_type": "code",
   "execution_count": 101,
   "metadata": {
    "collapsed": true
   },
   "outputs": [],
   "source": [
    "# dp：O(n²)\n",
    "# dp[i][j] 表示s[i]到s[j] 是否为回文子串 boolean\n",
    "# dp[i][j] = dp[i+1][j-1] if s[i]==s[j] else 0\n",
    "class Solution:\n",
    "    def longestPalindrome(self, s):\n",
    "        \"\"\"\n",
    "        :type s: str\n",
    "        :rtype: str\n",
    "        \"\"\"\n",
    "        arr = list(s)\n",
    "        n = len(arr)\n",
    "        dp = [[0 for _ in arr] for _ in arr]\n",
    "        left,right = 0,0\n",
    "        res = 0\n",
    "        for i in range(n-1,-1,-1):\n",
    "            for j in range(i,n):\n",
    "                if(arr[i]==arr[j] and ((j-i)<2 or dp[i+1][j-1])):\n",
    "                    dp[i][j] = 1\n",
    "                    if(res<j-i+1):\n",
    "                        res = j-i+1\n",
    "                        left = i\n",
    "                        right = j\n",
    "        return \"\".join(arr[left:right+1])"
   ]
  },
  {
   "cell_type": "code",
   "execution_count": 102,
   "metadata": {
    "collapsed": true
   },
   "outputs": [],
   "source": [
    "sol = Solution()"
   ]
  },
  {
   "cell_type": "code",
   "execution_count": 103,
   "metadata": {},
   "outputs": [
    {
     "data": {
      "text/plain": [
       "'aba'"
      ]
     },
     "execution_count": 103,
     "metadata": {},
     "output_type": "execute_result"
    }
   ],
   "source": [
    "sol.longestPalindrome(\"babad\")"
   ]
  },
  {
   "cell_type": "code",
   "execution_count": 95,
   "metadata": {
    "collapsed": true
   },
   "outputs": [],
   "source": [
    "# 双指针由中心向外拓展\n",
    "# O(n²)\n",
    "class Solution:\n",
    "    def __init__(self):\n",
    "        self.max_cnt = 0\n",
    "        self.left = 0\n",
    "        self.right = 0\n",
    "    def longestPalindrome(self, s):\n",
    "        \"\"\"\n",
    "        :type s: str\n",
    "        :rtype: str\n",
    "        \"\"\" \n",
    "        self.max_cnt = 0\n",
    "        self.left = 0\n",
    "        self.right = 0\n",
    "        arr = list(s)\n",
    "        n = len(arr)\n",
    "        for i in range(0,n):\n",
    "            self.searchPalindrome(i,i,arr)\n",
    "            self.searchPalindrome(i,i+1,arr)\n",
    "        \n",
    "        return \"\".join(arr[self.left:self.right+1])\n",
    "            \n",
    "    def searchPalindrome(self,i,j,arr):\n",
    "            cnt = 0\n",
    "#             print(\"i:\",i,\"j\",j)\n",
    "            while(True):\n",
    "                if(i>=0 and j<len(arr) and arr[i]==arr[j]):\n",
    "                    cnt += i==j and 1 or 2\n",
    "                    i -= 1\n",
    "                    j += 1\n",
    "                else:\n",
    "                    break\n",
    "#             print(i+1,j-1,cnt,arr[i+1:j])\n",
    "            \n",
    "            if(cnt>self.max_cnt):\n",
    "                \n",
    "                self.max_cnt = cnt\n",
    "                self.left = i+1\n",
    "                self.right = j-1\n",
    "#                 print(\"max_cnt:\",self.max_cnt,\"left:\",self.left,\"right:\",self.right)\n",
    "#             print(\"-\"*20)\n",
    "            \n",
    "            \n",
    "        "
   ]
  },
  {
   "cell_type": "code",
   "execution_count": 96,
   "metadata": {
    "collapsed": true
   },
   "outputs": [],
   "source": [
    "sol = Solution()"
   ]
  },
  {
   "cell_type": "code",
   "execution_count": 97,
   "metadata": {},
   "outputs": [
    {
     "data": {
      "text/plain": [
       "'bab'"
      ]
     },
     "execution_count": 97,
     "metadata": {},
     "output_type": "execute_result"
    }
   ],
   "source": [
    "sol.longestPalindrome(\"babad\")"
   ]
  },
  {
   "cell_type": "code",
   "execution_count": 104,
   "metadata": {},
   "outputs": [
    {
     "data": {
      "text/plain": [
       "'bb'"
      ]
     },
     "execution_count": 104,
     "metadata": {},
     "output_type": "execute_result"
    }
   ],
   "source": [
    "sol.longestPalindrome(\"cbbd\")"
   ]
  },
  {
   "cell_type": "code",
   "execution_count": 105,
   "metadata": {},
   "outputs": [
    {
     "data": {
      "text/plain": [
       "'ccc'"
      ]
     },
     "execution_count": 105,
     "metadata": {},
     "output_type": "execute_result"
    }
   ],
   "source": [
    "sol.longestPalindrome(\"ccc\")"
   ]
  },
  {
   "cell_type": "code",
   "execution_count": 100,
   "metadata": {},
   "outputs": [
    {
     "data": {
      "text/plain": [
       "''"
      ]
     },
     "execution_count": 100,
     "metadata": {},
     "output_type": "execute_result"
    }
   ],
   "source": [
    "sol.longestPalindrome(\"\")"
   ]
  },
  {
   "cell_type": "code",
   "execution_count": null,
   "metadata": {
    "collapsed": true
   },
   "outputs": [],
   "source": []
  }
 ],
 "metadata": {
  "kernelspec": {
   "display_name": "Python 3",
   "language": "python",
   "name": "python3"
  },
  "language_info": {
   "codemirror_mode": {
    "name": "ipython",
    "version": 3
   },
   "file_extension": ".py",
   "mimetype": "text/x-python",
   "name": "python",
   "nbconvert_exporter": "python",
   "pygments_lexer": "ipython3",
   "version": "3.6.1"
  }
 },
 "nbformat": 4,
 "nbformat_minor": 2
}
