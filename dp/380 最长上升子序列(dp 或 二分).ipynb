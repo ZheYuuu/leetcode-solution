{
 "cells": [
  {
   "cell_type": "markdown",
   "metadata": {},
   "source": [
    "给定一个无序的整数数组，找到其中最长上升子序列的长度。\n",
    "\n",
    "示例:\n",
    "\n",
    "输入: [10,9,2,5,3,7,101,18]\n",
    "输出: 4 \n",
    "解释: 最长的上升子序列是 [2,3,7,101]，它的长度是 4。\n",
    "说明:\n",
    "\n",
    "可能会有多种最长上升子序列的组合，你只需要输出对应的长度即可。\n",
    "你算法的时间复杂度应该为 O(n2) 。\n",
    "进阶: 你能将算法的时间复杂度降低到 O(n log n) 吗?"
   ]
  },
  {
   "cell_type": "code",
   "execution_count": 3,
   "metadata": {},
   "outputs": [
    {
     "name": "stdout",
     "output_type": "stream",
     "text": [
      "4\n"
     ]
    }
   ],
   "source": []
  },
  {
   "cell_type": "markdown",
   "metadata": {},
   "source": [
    "method 1\n",
    "-------------------------------------------------------------------------------------------\n",
    "O(n²)的算法：\n",
    "·dp[i] 以num[i] 为右边界的数组序列 的 最长上升子序列的长度\n",
    "\n",
    "·dp[i] = max(nums[i]>nums[j] and dp[j]+1 or -inf,dp[i]) j=0,1,2,...,i-1"
   ]
  },
  {
   "cell_type": "code",
   "execution_count": 1,
   "metadata": {
    "collapsed": true
   },
   "outputs": [],
   "source": [
    "class Solution:\n",
    "    def lengthOfLIS(self, nums):\n",
    "        \"\"\"\n",
    "        :type nums: List[int]\n",
    "        :rtype: int\n",
    "        \"\"\"\n",
    "        if(len(nums)==0):\n",
    "            return 0\n",
    "        dp = [1 for _ in range(len(nums))]\n",
    "        res = 1\n",
    "        for i in range(0,len(nums)):\n",
    "            for j in range(i):\n",
    "                if(nums[i]>nums[j]):\n",
    "                    dp[i]= max(dp[j]+1,dp[i])\n",
    "            res = max(res,dp[i])\n",
    "        return res"
   ]
  },
  {
   "cell_type": "markdown",
   "metadata": {},
   "source": [
    "method 2\n",
    "-----\n",
    "O(nlogn)的算法："
   ]
  },
  {
   "cell_type": "code",
   "execution_count": 10,
   "metadata": {
    "collapsed": true
   },
   "outputs": [],
   "source": [
    "import bisect\n",
    "class Solution(object):\n",
    "    def lengthOfLIS(self, nums):\n",
    "        \"\"\"\n",
    "        :type nums: List[int]\n",
    "        :rtype: int\n",
    "        \"\"\"\n",
    "        tail = []\n",
    "        for num in nums:\n",
    "            idx = bisect.bisect_left(tail, num)\n",
    "             \n",
    "            if idx == len(tail):\n",
    "                tail.append(num)\n",
    "            else:\n",
    "                tail[idx] = num\n",
    "            print(idx,tail)\n",
    "        return len(tail)"
   ]
  },
  {
   "cell_type": "code",
   "execution_count": 11,
   "metadata": {
    "collapsed": true
   },
   "outputs": [],
   "source": [
    "sol = Solution()"
   ]
  },
  {
   "cell_type": "code",
   "execution_count": 12,
   "metadata": {},
   "outputs": [
    {
     "name": "stdout",
     "output_type": "stream",
     "text": [
      "0 [10]\n",
      "0 [9]\n",
      "0 [2]\n",
      "1 [2, 5]\n",
      "1 [2, 3]\n",
      "2 [2, 3, 7]\n",
      "3 [2, 3, 7, 101]\n",
      "3 [2, 3, 7, 18]\n"
     ]
    },
    {
     "data": {
      "text/plain": [
       "4"
      ]
     },
     "execution_count": 12,
     "metadata": {},
     "output_type": "execute_result"
    }
   ],
   "source": [
    "sol.lengthOfLIS([10,9,2,5,3,7,101,18])"
   ]
  },
  {
   "cell_type": "code",
   "execution_count": null,
   "metadata": {
    "collapsed": true
   },
   "outputs": [],
   "source": []
  }
 ],
 "metadata": {
  "kernelspec": {
   "display_name": "Python 3",
   "language": "python",
   "name": "python3"
  },
  "language_info": {
   "codemirror_mode": {
    "name": "ipython",
    "version": 3
   },
   "file_extension": ".py",
   "mimetype": "text/x-python",
   "name": "python",
   "nbconvert_exporter": "python",
   "pygments_lexer": "ipython3",
   "version": "3.6.1"
  }
 },
 "nbformat": 4,
 "nbformat_minor": 2
}
