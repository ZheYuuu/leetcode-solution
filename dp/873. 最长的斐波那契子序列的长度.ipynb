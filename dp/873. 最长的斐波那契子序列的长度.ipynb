{
 "cells": [
  {
   "cell_type": "markdown",
   "metadata": {},
   "source": [
    "如果序列 X_1, X_2, ..., X_n 满足下列条件，就说它是 斐波那契式 的：\n",
    "\n",
    "n >= 3\n",
    "对于所有 i + 2 <= n，都有 X_i + X_{i+1} = X_{i+2}\n",
    "给定一个严格递增的正整数数组形成序列，找到 A 中最长的斐波那契式的子序列的长度。如果一个不存在，返回  0 。\n",
    "\n",
    "（回想一下，子序列是从原序列 A 中派生出来的，它从 A 中删掉任意数量的元素（也可以不删），而不改变其余元素的顺序。例如， [3, 5, 8] 是 [3, 4, 5, 6, 7, 8] 的一个子序列）\n",
    "\n",
    " \n",
    "\n",
    "示例 1：\n",
    "\n",
    "输入: [1,2,3,4,5,6,7,8]\n",
    "输出: 5\n",
    "解释:\n",
    "最长的斐波那契式子序列为：[1,2,3,5,8] 。\n",
    "示例 2：\n",
    "\n",
    "输入: [1,3,7,11,12,14,18]\n",
    "输出: 3\n",
    "解释:\n",
    "最长的斐波那契式子序列有：\n",
    "[1,11,12]，[3,11,14] 以及 [7,11,18] 。\n",
    " \n",
    "\n",
    "提示：\n",
    "\n",
    "3 <= A.length <= 1000\n",
    "1 <= A[0] < A[1] < ... < A[A.length - 1] <= 10^9\n",
    "（对于以 Java，C，C++，以及 C# 的提交，时间限制被减少了 50%）"
   ]
  },
  {
   "cell_type": "code",
   "execution_count": 101,
   "metadata": {
    "collapsed": true
   },
   "outputs": [],
   "source": [
    "dp[i][j] 以A[i]，A[j]为序列最后两个数字的最长斐波那契数列的长度\n",
    "\n",
    "dp[j][k] = max(dp[i][j]+1, dp[j][k]) if A[k]-A[j]==A[i](此处用hash表实现) else dp[j][k]\n",
    "class Solution:\n",
    "    def lenLongestFibSubseq(self, A):\n",
    "        \"\"\"\n",
    "        :type A: List[int]\n",
    "        :rtype: int\n",
    "        \"\"\"\n",
    "        n = len(A)\n",
    "        d = {}\n",
    "        for i,val in enumerate(A):\n",
    "            d[val] = i\n",
    "        dp = [[2 for i in range(n)] for j in range(n)]\n",
    "        ret = 0\n",
    "        for k in range(2,n):\n",
    "            for j in range(k-1,-1,-1):\n",
    "                A_i = A[k]-A[j]\n",
    "                if(A_i>=A[j]):\n",
    "                    break\n",
    "                if A_i in d:\n",
    "                    i = d[A_i]\n",
    "#                     print(\"A[%d]:%d,A[%d]:%d,A[%d]:%d\"%(i,A_i,j,A[j],k,A[k]))\n",
    "                    dp[j][k] = max(dp[i][j]+1,dp[j][k])\n",
    "#                     print(\"dp[%d][%d]=max(dp[%d][%d]+1,dp[%d][%d])\"%(j,k,i,j,j,k))\n",
    "#                     print(dp[j][k],dp[i][j]+1,end=\"\\n\")\n",
    "                ret = max(dp[j][k],ret)\n",
    "        return 0 if ret==2 else ret\n",
    "        "
   ]
  },
  {
   "cell_type": "code",
   "execution_count": null,
   "metadata": {
    "collapsed": true
   },
   "outputs": [],
   "source": []
  },
  {
   "cell_type": "code",
   "execution_count": 102,
   "metadata": {
    "collapsed": true
   },
   "outputs": [],
   "source": [
    "sol = Solution()"
   ]
  },
  {
   "cell_type": "code",
   "execution_count": 103,
   "metadata": {},
   "outputs": [
    {
     "data": {
      "text/plain": [
       "3"
      ]
     },
     "execution_count": 103,
     "metadata": {},
     "output_type": "execute_result"
    }
   ],
   "source": [
    "sol.lenLongestFibSubseq([1,3,7,11,12,14,18])"
   ]
  },
  {
   "cell_type": "code",
   "execution_count": 104,
   "metadata": {},
   "outputs": [
    {
     "data": {
      "text/plain": [
       "5"
      ]
     },
     "execution_count": 104,
     "metadata": {},
     "output_type": "execute_result"
    }
   ],
   "source": [
    "sol.lenLongestFibSubseq([1,2,3,4,5,6,7,8])"
   ]
  },
  {
   "cell_type": "code",
   "execution_count": 105,
   "metadata": {},
   "outputs": [
    {
     "data": {
      "text/plain": [
       "0"
      ]
     },
     "execution_count": 105,
     "metadata": {},
     "output_type": "execute_result"
    }
   ],
   "source": [
    "sol.lenLongestFibSubseq([1,3,5])"
   ]
  }
 ],
 "metadata": {
  "kernelspec": {
   "display_name": "Python 3",
   "language": "python",
   "name": "python3"
  },
  "language_info": {
   "codemirror_mode": {
    "name": "ipython",
    "version": 3
   },
   "file_extension": ".py",
   "mimetype": "text/x-python",
   "name": "python",
   "nbconvert_exporter": "python",
   "pygments_lexer": "ipython3",
   "version": "3.6.1"
  }
 },
 "nbformat": 4,
 "nbformat_minor": 2
}
