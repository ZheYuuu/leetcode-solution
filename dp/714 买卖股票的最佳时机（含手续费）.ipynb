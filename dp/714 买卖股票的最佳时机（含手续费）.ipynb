{
 "cells": [
  {
   "cell_type": "markdown",
   "metadata": {},
   "source": [
    "给定一个整数数组 prices，其中第 i 个元素代表了第 i 天的股票价格 ；非负整数 fee 代表了交易股票的手续费用。\n",
    "\n",
    "你可以无限次地完成交易，但是你每次交易都需要付手续费。如果你已经购买了一个股票，在卖出它之前你就不能再继续购买股票了。\n",
    "\n",
    "返回获得利润的最大值。\n",
    "\n",
    "示例 1:\n",
    "\n",
    "输入: prices = [1, 3, 2, 8, 4, 9], fee = 2\n",
    "输出: 8\n",
    "解释: 能够达到的最大利润:  \n",
    "在此处买入 prices[0] = 1\n",
    "在此处卖出 prices[3] = 8\n",
    "在此处买入 prices[4] = 4\n",
    "在此处卖出 prices[5] = 9\n",
    "总利润: ((8 - 1) - 2) + ((9 - 4) - 2) = 8.\n",
    "注意:\n",
    "\n",
    "0 < prices.length <= 50000.\n",
    "0 < prices[i] < 50000.\n",
    "0 <= fee < 50000."
   ]
  },
  {
   "cell_type": "code",
   "execution_count": null,
   "metadata": {
    "collapsed": true
   },
   "outputs": [],
   "source": [
    "class Solution:\n",
    "    def maxProfit(self, prices, fee):\n",
    "        \"\"\"\n",
    "        :type prices: List[int]\n",
    "        :type fee: int\n",
    "        :rtype: int\n",
    "        \"\"\"\n",
    "        unhold = 0\n",
    "        hold = -prices[0]\n",
    "        for i in range(1,len(prices)):\n",
    "            tmp = unhold\n",
    "            unhold = max(unhold, hold + prices[i] -fee)\n",
    "            hold = max(hold, tmp - prices[i])\n",
    "        return max(hold,unhold)"
   ]
  }
 ],
 "metadata": {
  "kernelspec": {
   "display_name": "Python 3",
   "language": "python",
   "name": "python3"
  },
  "language_info": {
   "codemirror_mode": {
    "name": "ipython",
    "version": 3
   },
   "file_extension": ".py",
   "mimetype": "text/x-python",
   "name": "python",
   "nbconvert_exporter": "python",
   "pygments_lexer": "ipython3",
   "version": "3.6.1"
  }
 },
 "nbformat": 4,
 "nbformat_minor": 2
}
