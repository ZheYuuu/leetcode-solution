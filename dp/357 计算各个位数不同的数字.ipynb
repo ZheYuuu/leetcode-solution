{
 "cells": [
  {
   "cell_type": "code",
   "execution_count": 1,
   "metadata": {},
   "outputs": [
    {
     "ename": "SyntaxError",
     "evalue": "invalid character in identifier (<ipython-input-1-36f82f4fdee1>, line 1)",
     "output_type": "error",
     "traceback": [
      "\u001b[1;36m  File \u001b[1;32m\"<ipython-input-1-36f82f4fdee1>\"\u001b[1;36m, line \u001b[1;32m1\u001b[0m\n\u001b[1;33m    给定一个非负整数 n，计算各位数字都不同的数字 x 的个数，其中 0 ≤ x < 10n 。\u001b[0m\n\u001b[1;37m                          ^\u001b[0m\n\u001b[1;31mSyntaxError\u001b[0m\u001b[1;31m:\u001b[0m invalid character in identifier\n"
     ]
    }
   ],
   "source": [
    "给定一个非负整数 n，计算各位数字都不同的数字 x 的个数，其中 0 ≤ x < 10n 。\n",
    "\n",
    "示例:\n",
    "\n",
    "输入: 2\n",
    "输出: 91 \n",
    "解释: 答案应为除去 11,22,33,44,55,66,77,88,99 外，在 [0,100) 区间内的所有数字。"
   ]
  },
  {
   "cell_type": "code",
   "execution_count": null,
   "metadata": {
    "collapsed": true
   },
   "outputs": [],
   "source": [
    "# 纯递归\n",
    "class Solution(object):\n",
    "    def countNumbersWithUniqueDigits(self, n):\n",
    "        \"\"\"\n",
    "        :type n: int\n",
    "        :rtype: int\n",
    "        \"\"\"\n",
    "        if n>8:\n",
    "            return\n",
    "        self.cnt = 0\n",
    "        def func(nums,n,curr):\n",
    "            if curr>=n:\n",
    "                return\n",
    "            for i,val in enumerate(nums):\n",
    "                if curr==0 and val==0:\n",
    "                    continue\n",
    "                tmp = nums.pop(i)\n",
    "                self.cnt += 1\n",
    "                func(nums,n,curr+1)\n",
    "                nums.insert(i,tmp)\n",
    "        func([i for i in range(0,10)],n,0)\n",
    "        return self.cnt+1 "
   ]
  },
  {
   "cell_type": "code",
   "execution_count": 6,
   "metadata": {
    "collapsed": true
   },
   "outputs": [],
   "source": [
    "class Solution(object):\n",
    "    def countNumbersWithUniqueDigits(self, n):\n",
    "        \"\"\"\n",
    "        :type n: int\n",
    "        :rtype: int\n",
    "        \"\"\"\n",
    "        if n==0:\n",
    "            return 1\n",
    "        dp = [0 for _ in range(n+1)]\n",
    "        dp[0] = 1\n",
    "        dp[1] = 10\n",
    "        for i in range(2,n+1):\n",
    "            dp[i] = dp[i-1] + (dp[i-1]-dp[i-2])*(10-i+1)\n",
    "        return dp[n]"
   ]
  },
  {
   "cell_type": "code",
   "execution_count": 7,
   "metadata": {
    "collapsed": true
   },
   "outputs": [],
   "source": [
    "sol = Solution()"
   ]
  },
  {
   "cell_type": "code",
   "execution_count": 10,
   "metadata": {},
   "outputs": [
    {
     "data": {
      "text/plain": [
       "739"
      ]
     },
     "execution_count": 10,
     "metadata": {},
     "output_type": "execute_result"
    }
   ],
   "source": [
    "sol.countNumbersWithUniqueDigits(4)"
   ]
  },
  {
   "cell_type": "code",
   "execution_count": null,
   "metadata": {
    "collapsed": true
   },
   "outputs": [],
   "source": []
  }
 ],
 "metadata": {
  "kernelspec": {
   "display_name": "Python 3",
   "language": "python",
   "name": "python3"
  },
  "language_info": {
   "codemirror_mode": {
    "name": "ipython",
    "version": 3
   },
   "file_extension": ".py",
   "mimetype": "text/x-python",
   "name": "python",
   "nbconvert_exporter": "python",
   "pygments_lexer": "ipython3",
   "version": "3.6.1"
  }
 },
 "nbformat": 4,
 "nbformat_minor": 2
}
