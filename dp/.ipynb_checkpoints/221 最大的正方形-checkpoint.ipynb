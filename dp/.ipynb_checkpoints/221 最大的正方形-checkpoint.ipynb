{
 "cells": [
  {
   "cell_type": "code",
   "execution_count": null,
   "metadata": {
    "collapsed": true
   },
   "outputs": [],
   "source": [
    "在一个由 0 和 1 组成的二维矩阵内，找到只包含 1 的最大正方形，并返回其面积。\n",
    "\n",
    "示例:\n",
    "\n",
    "输入: \n",
    "\n",
    "1 0 1 0 0\n",
    "1 0 1 1 1\n",
    "1 1 1 1 1\n",
    "1 0 0 1 0\n",
    "\n",
    "输出: 4"
   ]
  },
  {
   "cell_type": "code",
   "execution_count": null,
   "metadata": {
    "collapsed": true
   },
   "outputs": [],
   "source": [
    "class Solution:\n",
    "    def maximalSquare(self, matrix):\n",
    "        \"\"\"\n",
    "        :type matrix: List[List[str]]\n",
    "        :rtype: int\n",
    "        \"\"\"\n",
    "        if not matrix:\n",
    "            return 0\n",
    "        m = len(matrix)\n",
    "        n = len(matrix[0])\n",
    "        dp = [[0 for j in range(n)] for i in range(m)]\n",
    "        ret = 0\n",
    "        for i in range(m):\n",
    "            dp[i][0] = int(matrix[i][0])\n",
    "            if dp[i][0]:\n",
    "                ret = 1\n",
    "        for j in range(n):\n",
    "            dp[0][j] = int(matrix[0][j])\n",
    "            if dp[0][j]:\n",
    "                ret = 1\n",
    "        for i in range(1,m):\n",
    "            for j in range(1,n):\n",
    "                if matrix[i][j]==\"0\":\n",
    "                    continue\n",
    "                else:\n",
    "                    if dp[i][j-1]==dp[i-1][j]:\n",
    "                        side = dp[i][j-1]\n",
    "                        if matrix[i-side][j-side]==\"1\":\n",
    "                            dp[i][j] = dp[i][j-1]+1\n",
    "                        else:\n",
    "                            dp[i][j] = dp[i][j-1]\n",
    "                    else:\n",
    "                        side = min(dp[i][j-1],dp[i-1][j])\n",
    "                        \n",
    "                        dp[i][j] = side+1\n",
    "                ret = max(ret,dp[i][j])\n",
    "        return ret**2"
   ]
  }
 ],
 "metadata": {
  "kernelspec": {
   "display_name": "Python 3",
   "language": "python",
   "name": "python3"
  },
  "language_info": {
   "codemirror_mode": {
    "name": "ipython",
    "version": 3
   },
   "file_extension": ".py",
   "mimetype": "text/x-python",
   "name": "python",
   "nbconvert_exporter": "python",
   "pygments_lexer": "ipython3",
   "version": "3.6.1"
  }
 },
 "nbformat": 4,
 "nbformat_minor": 2
}
