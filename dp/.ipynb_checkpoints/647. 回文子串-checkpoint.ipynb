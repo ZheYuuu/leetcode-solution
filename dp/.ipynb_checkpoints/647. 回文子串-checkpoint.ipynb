{
 "cells": [
  {
   "cell_type": "markdown",
   "metadata": {},
   "source": [
    "给定一个字符串，你的任务是计算这个字符串中有多少个回文子串。\n",
    "\n",
    "具有不同开始位置或结束位置的子串，即使是由相同的字符组成，也会被计为是不同的子串。\n",
    "\n",
    "示例 1:\n",
    "\n",
    "输入: \"abc\"\n",
    "输出: 3\n",
    "解释: 三个回文子串: \"a\", \"b\", \"c\".\n",
    "示例 2:\n",
    "\n",
    "输入: \"aaa\"\n",
    "输出: 6\n",
    "说明: 6个回文子串: \"a\", \"a\", \"a\", \"aa\", \"aa\", \"aaa\".\n",
    "注意:\n",
    "\n",
    "输入的字符串长度不会超过1000。"
   ]
  },
  {
   "cell_type": "code",
   "execution_count": 1,
   "metadata": {
    "collapsed": true
   },
   "outputs": [],
   "source": [
    "# dp[i][j] 以A[i]为开始,A[j]为结束的子串是否为回文子串\n",
    "\n",
    "class Solution:\n",
    "    def countSubstrings(self, s):\n",
    "        \"\"\"\n",
    "        :type s: str\n",
    "        :rtype: int\n",
    "        \"\"\"\n",
    "        dp = [[0 for _ in s] for _ in s]\n",
    "        res_arr = []\n",
    "        res = 0\n",
    "        for j in range(len(s)):\n",
    "            for i in range(j,-1,-1):\n",
    "                if s[i]==s[j] and (j-i<2 or dp[i+1][j-1]):\n",
    "                    dp[i][j] = 1\n",
    "                    res += 1 \n",
    "                    res_arr.append(s[i:j+1])\n",
    "        # print(res_arr)\n",
    "        return res"
   ]
  },
  {
   "cell_type": "code",
   "execution_count": null,
   "metadata": {
    "collapsed": true
   },
   "outputs": [],
   "source": []
  }
 ],
 "metadata": {
  "kernelspec": {
   "display_name": "Python 3",
   "language": "python",
   "name": "python3"
  },
  "language_info": {
   "codemirror_mode": {
    "name": "ipython",
    "version": 3
   },
   "file_extension": ".py",
   "mimetype": "text/x-python",
   "name": "python",
   "nbconvert_exporter": "python",
   "pygments_lexer": "ipython3",
   "version": "3.6.1"
  }
 },
 "nbformat": 4,
 "nbformat_minor": 2
}
