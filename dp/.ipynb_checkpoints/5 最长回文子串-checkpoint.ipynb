{
 "cells": [
  {
   "cell_type": "markdown",
   "metadata": {},
   "source": [
    "给定一个字符串 s，找到 s 中最长的回文子串。你可以假设 s 的最大长度为 1000。\n",
    "\n",
    "示例 1：\n",
    "\n",
    "输入: \"babad\"\n",
    "输出: \"bab\"\n",
    "注意: \"aba\" 也是一个有效答案。\n",
    "示例 2：\n",
    "\n",
    "输入: \"cbbd\"\n",
    "输出: \"bb\""
   ]
  },
  {
   "cell_type": "code",
   "execution_count": 7,
   "metadata": {
    "collapsed": true
   },
   "outputs": [],
   "source": [
    "# dp：O(n²)\n",
    "class Solution:\n",
    "    def longestPalindrome(self, s):\n",
    "        \"\"\"\n",
    "        :type s: str\n",
    "        :rtype: str\n",
    "        \"\"\"\n",
    "        arr = list(s)\n",
    "        n = len(arr)\n",
    "        dp = [[0 for _ in arr] for _ in arr]\n",
    "        left,right = 0,0\n",
    "        res = 0\n",
    "        for i in range(n-1,-1,-1):\n",
    "            for j in range(i,n):\n",
    "                if(arr[i]==arr[j] and ((j-i)<2 or dp[i+1][j-1])):\n",
    "                    dp[i][j] = 1\n",
    "                    if(res<j-i+1):\n",
    "                        res = j-i+1\n",
    "                        left = i\n",
    "                        right = j\n",
    "        return \"\".join(arr[left:right+1])"
   ]
  },
  {
   "cell_type": "code",
   "execution_count": 8,
   "metadata": {},
   "outputs": [],
   "source": [
    "sol = Solution()"
   ]
  },
  {
   "cell_type": "code",
   "execution_count": 10,
   "metadata": {},
   "outputs": [
    {
     "data": {
      "text/plain": [
       "'b'"
      ]
     },
     "execution_count": 10,
     "metadata": {},
     "output_type": "execute_result"
    }
   ],
   "source": [
    "sol.longestPalindrome(\"babad\")"
   ]
  },
  {
   "cell_type": "code",
   "execution_count": 12,
   "metadata": {},
   "outputs": [],
   "source": [
    "# 双指针由中心向外拓展\n",
    "class Solution:\n",
    "    def __init__():\n",
    "        self.max_cnt = 0\n",
    "        self.left = 0\n",
    "        self.right = 0\n",
    "    def longestPalindrome(self, s):\n",
    "        \"\"\"\n",
    "        :type s: str\n",
    "        :rtype: str\n",
    "        \"\"\"      \n",
    "        arr = list(s)\n",
    "        n = len(arr)\n",
    "        for i in range(0,n):\n",
    "            self.searchPalindrome(i,i,s)\n",
    "            self.searchPalindrome(i,i+1,s)\n",
    "        return s[self.left:selft.right+1]\n",
    "            \n",
    "    def searchPalindrome(i,j,s):\n",
    "            cnt = 0\n",
    "            while(True):\n",
    "                if(i>0 and j<len(s) and s[i]==s[j]):\n",
    "                    cnt += 1\n",
    "                    i += 1\n",
    "                    j += 1\n",
    "                else:\n",
    "                    break\n",
    "            if(cnt>self.max_cnt):\n",
    "                self.max_cnt = cnt\n",
    "                self.left = i\n",
    "                self.right = j\n",
    "            \n",
    "            \n",
    "            \n",
    "        "
   ]
  },
  {
   "cell_type": "code",
   "execution_count": null,
   "metadata": {},
   "outputs": [],
   "source": [
    "sol = Solution()"
   ]
  },
  {
   "cell_type": "code",
   "execution_count": null,
   "metadata": {
    "collapsed": true
   },
   "outputs": [],
   "source": []
  },
  {
   "cell_type": "code",
   "execution_count": null,
   "metadata": {
    "collapsed": true
   },
   "outputs": [],
   "source": []
  },
  {
   "cell_type": "code",
   "execution_count": null,
   "metadata": {
    "collapsed": true
   },
   "outputs": [],
   "source": []
  }
 ],
 "metadata": {
  "kernelspec": {
   "display_name": "Python 3",
   "language": "python",
   "name": "python3"
  },
  "language_info": {
   "codemirror_mode": {
    "name": "ipython",
    "version": 3
   },
   "file_extension": ".py",
   "mimetype": "text/x-python",
   "name": "python",
   "nbconvert_exporter": "python",
   "pygments_lexer": "ipython3",
   "version": "3.6.1"
  }
 },
 "nbformat": 4,
 "nbformat_minor": 2
}
