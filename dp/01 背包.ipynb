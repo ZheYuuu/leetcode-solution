{
 "cells": [
  {
   "cell_type": "code",
   "execution_count": 32,
   "metadata": {},
   "outputs": [],
   "source": [
    "class Solution:\n",
    "    def zeroOnePack(self, n, V, cost, weight):\n",
    "        dp = [0 for _ in range(V+1)]\n",
    "        g = [[0 for _ in range(V+1)] for _ in range(n)]\n",
    "        for i in range(n):\n",
    "            for v in range(V,cost[i]-1,-1):\n",
    "                if(dp[v]<dp[v-cost[i]]+weight[i]):\n",
    "                    dp[v]=dp[v-cost[i]]+weight[i]\n",
    "                    g[i][v] = 1\n",
    "                    \n",
    "        i = n-1\n",
    "        v = V\n",
    "        while(i>=0):\n",
    "            if(g[i][v]==0):\n",
    "                print(\"未选%d商品\"%(i+1))\n",
    "            elif(g[i][v]==1):\n",
    "                print(\"选了%d商品\"%(i+1))\n",
    "            v-=cost[i]\n",
    "            i-=1\n",
    "        return dp[V]"
   ]
  },
  {
   "cell_type": "code",
   "execution_count": 33,
   "metadata": {},
   "outputs": [],
   "source": [
    "sol = Solution()"
   ]
  },
  {
   "cell_type": "code",
   "execution_count": 34,
   "metadata": {},
   "outputs": [
    {
     "name": "stdout",
     "output_type": "stream",
     "text": [
      "选了3商品\n",
      "未选2商品\n",
      "选了1商品\n"
     ]
    },
    {
     "data": {
      "text/plain": [
       "5"
      ]
     },
     "execution_count": 34,
     "metadata": {},
     "output_type": "execute_result"
    }
   ],
   "source": [
    "weight = [3, 4, 2]\n",
    "cost = [4, 5, 3]\n",
    "n = 3\n",
    "V = 7\n",
    "sol.zeroOnePack(n,V,cost,weight)"
   ]
  },
  {
   "cell_type": "code",
   "execution_count": null,
   "metadata": {
    "collapsed": true
   },
   "outputs": [],
   "source": []
  },
  {
   "cell_type": "code",
   "execution_count": null,
   "metadata": {
    "collapsed": true
   },
   "outputs": [],
   "source": []
  }
 ],
 "metadata": {
  "kernelspec": {
   "display_name": "Python 3",
   "language": "python",
   "name": "python3"
  },
  "language_info": {
   "codemirror_mode": {
    "name": "ipython",
    "version": 3
   },
   "file_extension": ".py",
   "mimetype": "text/x-python",
   "name": "python",
   "nbconvert_exporter": "python",
   "pygments_lexer": "ipython3",
   "version": "3.6.1"
  }
 },
 "nbformat": 4,
 "nbformat_minor": 2
}
