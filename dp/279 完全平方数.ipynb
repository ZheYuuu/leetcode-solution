{
 "cells": [
  {
   "cell_type": "code",
   "execution_count": null,
   "metadata": {
    "collapsed": true
   },
   "outputs": [],
   "source": [
    "给定正整数 n，找到若干个完全平方数（比如 1, 4, 9, 16, ...）使得它们的和等于 n。你需要让组成和的完全平方数的个数最少。\n",
    "\n",
    "示例 1:\n",
    "\n",
    "输入: n = 12\n",
    "输出: 3 \n",
    "解释: 12 = 4 + 4 + 4.\n",
    "示例 2:\n",
    "\n",
    "输入: n = 13\n",
    "输出: 2\n",
    "解释: 13 = 4 + 9."
   ]
  },
  {
   "cell_type": "code",
   "execution_count": null,
   "metadata": {
    "collapsed": true
   },
   "outputs": [],
   "source": [
    "class Solution(object):\n",
    "    def numSquares(self, n):\n",
    "        \"\"\"\n",
    "        :type n: int\n",
    "        :rtype: int\n",
    "        \"\"\"\n",
    "        val = []\n",
    "        i = 1\n",
    "        while(True):\n",
    "            tmp = i**2\n",
    "            if tmp<=n:\n",
    "                val.append(tmp)\n",
    "            else:\n",
    "                break\n",
    "            i+=1\n",
    "        # print(val)\n",
    "        dp = [float(\"inf\") for _ in range(n+1)]\n",
    "        dp[0] = 0\n",
    "        for i in range(1,n+1):\n",
    "            for v in val:\n",
    "                if i-v>=0:\n",
    "                    dp[i] = min(dp[i],dp[i-v]+1)\n",
    "        return dp[-1] if dp[-1]!=float(\"inf\") else -1\n",
    "        "
   ]
  }
 ],
 "metadata": {
  "kernelspec": {
   "display_name": "Python 3",
   "language": "python",
   "name": "python3"
  },
  "language_info": {
   "codemirror_mode": {
    "name": "ipython",
    "version": 3
   },
   "file_extension": ".py",
   "mimetype": "text/x-python",
   "name": "python",
   "nbconvert_exporter": "python",
   "pygments_lexer": "ipython3",
   "version": "3.6.1"
  }
 },
 "nbformat": 4,
 "nbformat_minor": 2
}
