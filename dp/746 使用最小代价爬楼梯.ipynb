{
 "cells": [
  {
   "cell_type": "markdown",
   "metadata": {},
   "source": [
    "数组的每个索引做为一个阶梯，第 i个阶梯对应着一个非负数的体力花费值 cost[i](索引从0开始)。\n",
    "\n",
    "每当你爬上一个阶梯你都要花费对应的体力花费值，然后你可以选择继续爬一个阶梯或者爬两个阶梯。\n",
    "\n",
    "您需要找到达到楼层顶部的最低花费。在开始时，你可以选择从索引为 0 或 1 的元素作为初始阶梯。\n",
    "\n",
    "示例 1:\n",
    "\n",
    "输入: cost = [10, 15, 20]\n",
    "输出: 15\n",
    "解释: 最低花费是从cost[1]开始，然后走两步即可到阶梯顶，一共花费15。\n",
    " 示例 2:\n",
    "\n",
    "输入: cost = [1, 100, 1, 1, 1, 100, 1, 1, 100, 1]\n",
    "输出: 6\n",
    "解释: 最低花费方式是从cost[0]开始，逐个经过那些1，跳过cost[3]，一共花费6。\n",
    "注意：\n",
    "\n",
    "cost 的长度将会在 [2, 1000]。\n",
    "每一个 cost[i] 将会是一个Integer类型，范围为 [0, 999]。"
   ]
  },
  {
   "cell_type": "code",
   "execution_count": 1,
   "metadata": {
    "collapsed": true
   },
   "outputs": [],
   "source": [
    "class Solution:\n",
    "    def minCostClimbingStairs(self, cost):\n",
    "        \"\"\"\n",
    "        :type cost: List[int]\n",
    "        :rtype: int\n",
    "        \"\"\"\n",
    "        dp = [0 for _ in range(len(cost)+1)]\n",
    "        for i in range(2,len(cost)+1):\n",
    "            dp[i] = min(dp[i-1]+cost[i-1],dp[i-2]+cost[i-2])\n",
    "        return dp[-1]"
   ]
  },
  {
   "cell_type": "code",
   "execution_count": null,
   "metadata": {
    "collapsed": true
   },
   "outputs": [],
   "source": []
  }
 ],
 "metadata": {
  "kernelspec": {
   "display_name": "Python 3",
   "language": "python",
   "name": "python3"
  },
  "language_info": {
   "codemirror_mode": {
    "name": "ipython",
    "version": 3
   },
   "file_extension": ".py",
   "mimetype": "text/x-python",
   "name": "python",
   "nbconvert_exporter": "python",
   "pygments_lexer": "ipython3",
   "version": "3.6.1"
  }
 },
 "nbformat": 4,
 "nbformat_minor": 2
}
