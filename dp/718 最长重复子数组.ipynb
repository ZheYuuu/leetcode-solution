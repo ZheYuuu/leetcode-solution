{
 "cells": [
  {
   "cell_type": "markdown",
   "metadata": {},
   "source": [
    "给两个整数数组 A 和 B ，返回两个数组中公共的、长度最长的子数组的长度。\n",
    "\n",
    "示例 1:\n",
    "\n",
    "输入:\n",
    "A: [1,2,3,2,1]\n",
    "B: [3,2,1,4,7]\n",
    "输出: 3\n",
    "解释: \n",
    "长度最长的公共子数组是 [3, 2, 1]。\n",
    "说明:\n",
    "\n",
    "1 <= len(A), len(B) <= 1000\n",
    "0 <= A[i], B[i] < 100"
   ]
  },
  {
   "cell_type": "code",
   "execution_count": 4,
   "metadata": {},
   "outputs": [
    {
     "name": "stdout",
     "output_type": "stream",
     "text": [
      "1 1\n",
      "2 2\n",
      "3 3\n"
     ]
    }
   ],
   "source": [
    "A = [1,2,3,2,1]\n",
    "B = [3,2,1,4,7]\n",
    "lenA = len(A)\n",
    "lenB = len(B)\n",
    "path = (0,0)\n",
    "res = float(\"-inf\")\n",
    "dp = [[0 for _ in range(lenA+1)] for _ in range(lenB+1)]\n",
    "for i in range(1,lenA+1):\n",
    "    for j in range(1,lenB+1):\n",
    "        if(A[i-1]==B[j-1]):\n",
    "            dp[i][j] = max(dp[i-1][j-1]+1,dp[i][j])\n",
    "        if(dp[i][j]>res):\n",
    "            res = dp[i][j]\n",
    "            path = i,j\n",
    "i = path[0]-1\n",
    "j = path[1]-1\n",
    "while(i>=0 and j>=0):\n",
    "    print(A[i],B[j])\n",
    "    i = i-1\n",
    "    j = j-1"
   ]
  },
  {
   "cell_type": "code",
   "execution_count": null,
   "metadata": {
    "collapsed": true
   },
   "outputs": [],
   "source": [
    "class Solution:\n",
    "    def findLength(self, A, B):\n",
    "        \"\"\"\n",
    "        :type A: List[int]\n",
    "        :type B: List[int]\n",
    "        :rtype: int\n",
    "        \"\"\"\n",
    "#         dp[i][j] 以 A[i-1],B[j-1]结尾的最长的公共子数组长度\n",
    "        dp = [[0 for _ in range(len(B)+1)] for _ in range(len(A)+1)]\n",
    "        ret = float(\"-inf\")\n",
    "        for i in range(1,len(A)+1):\n",
    "            for j in range(1,len(B)+1):\n",
    "                dp[i][j] = A[i-1]==B[j-1] and dp[i-1][j-1]+1  or 0\n",
    "                ret = ret>dp[i][j] and ret or dp[i][j]\n",
    "        return ret"
   ]
  }
 ],
 "metadata": {
  "kernelspec": {
   "display_name": "Python 3",
   "language": "python",
   "name": "python3"
  },
  "language_info": {
   "codemirror_mode": {
    "name": "ipython",
    "version": 3
   },
   "file_extension": ".py",
   "mimetype": "text/x-python",
   "name": "python",
   "nbconvert_exporter": "python",
   "pygments_lexer": "ipython3",
   "version": "3.6.1"
  }
 },
 "nbformat": 4,
 "nbformat_minor": 2
}
