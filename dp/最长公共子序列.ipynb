{
 "cells": [
  {
   "cell_type": "code",
   "execution_count": null,
   "metadata": {
    "collapsed": true
   },
   "outputs": [],
   "source": [
    "最长公共子序列（可以不连续）\n",
    "最长公共子串（必须连续）"
   ]
  },
  {
   "cell_type": "code",
   "execution_count": 23,
   "metadata": {},
   "outputs": [
    {
     "name": "stdout",
     "output_type": "stream",
     "text": [
      "[0, 0, 0, 0, 0, 0, 0]\n",
      "[0, 0, 0, 0, 1, 1, 1]\n",
      "[0, 1, 1, 1, 1, 2, 2]\n",
      "[0, 1, 1, 2, 2, 2, 2]\n",
      "[0, 1, 1, 2, 2, 3, 3]\n",
      "[0, 1, 2, 2, 2, 3, 3]\n",
      "[0, 1, 2, 2, 3, 3, 4]\n",
      "[0, 1, 2, 2, 3, 4, 4]\n",
      "\n",
      "[0, 0, 0, 0, 0, 0, 0]\n",
      "[0, '↑', '↑', '↑', '↖', '←', '↖']\n",
      "[0, '↖', '←', '←', '↑', '↖', '←']\n",
      "[0, '↑', '↑', '↖', '←', '↑', '↑']\n",
      "[0, '↖', '↑', '↑', '↑', '↖', '←']\n",
      "[0, '↑', '↖', '↑', '↑', '↑', '↑']\n",
      "[0, '↑', '↑', '↑', '↖', '↑', '↖']\n",
      "[0, '↖', '↑', '↑', '↑', '↖', '↑']\n",
      "B\n",
      "C\n",
      "B\n",
      "A\n"
     ]
    }
   ],
   "source": [
    "def lcs_length(x,y):\n",
    "    m = len(x)\n",
    "    n = len(y)\n",
    "    dp = [[0 for _ in range(n+1)] for _ in range(m+1)]\n",
    "    route = [[0 for _ in range(n+1)] for _ in range(m+1)]\n",
    "    for i in range(1,m+1):\n",
    "        for j in range(1,n+1):\n",
    "            if x[i-1]==y[j-1]:\n",
    "                dp[i][j] = dp[i-1][j-1]+1\n",
    "                route[i][j] = \"↖\"\n",
    "            elif dp[i-1][j]>=dp[i][j-1]:\n",
    "                dp[i][j] = dp[i-1][j]\n",
    "                route[i][j] = \"↑\"\n",
    "            else:\n",
    "                dp[i][j] = dp[i][j-1]\n",
    "                route[i][j] = \"←\"\n",
    "    return dp,route\n",
    "def print_lcs(route,x,dp,i,j):\n",
    "    if i==0 or j==0:\n",
    "        return\n",
    "    if route[i][j]==\"↖\":\n",
    "        \n",
    "        print_lcs(route,x,dp,i-1,j-1)\n",
    "        print(x[i-1])\n",
    "    elif route[i][j]==\"↑\":\n",
    "        print_lcs(route,x,dp,i-1,j)\n",
    "    else:\n",
    "        print_lcs(route,x,dp,i,j-1)\n",
    "        \n",
    "x = [\"A\",\"B\",\"C\",\"B\",\"D\",\"A\",\"B\"]\n",
    "y = [\"B\",\"D\",\"C\",\"A\",\"B\",\"A\"]\n",
    "vis = [[0 for _ in range(len(y)+1)] for _ in range(len(x)+1)]\n",
    "dp,route = lcs_length(x,y)\n",
    "for d in dp:\n",
    "    print(d)\n",
    "print()\n",
    "for r in route:\n",
    "    print(r)\n",
    "    \n",
    "print_lcs(route,x,dp,len(x),len(y))\n",
    "        \n",
    "    "
   ]
  },
  {
   "cell_type": "code",
   "execution_count": null,
   "metadata": {
    "collapsed": true
   },
   "outputs": [],
   "source": []
  },
  {
   "cell_type": "code",
   "execution_count": null,
   "metadata": {
    "collapsed": true
   },
   "outputs": [],
   "source": []
  }
 ],
 "metadata": {
  "kernelspec": {
   "display_name": "Python 3",
   "language": "python",
   "name": "python3"
  },
  "language_info": {
   "codemirror_mode": {
    "name": "ipython",
    "version": 3
   },
   "file_extension": ".py",
   "mimetype": "text/x-python",
   "name": "python",
   "nbconvert_exporter": "python",
   "pygments_lexer": "ipython3",
   "version": "3.6.1"
  }
 },
 "nbformat": 4,
 "nbformat_minor": 2
}
