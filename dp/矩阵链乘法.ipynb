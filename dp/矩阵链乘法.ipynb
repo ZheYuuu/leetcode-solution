{
 "cells": [
  {
   "cell_type": "code",
   "execution_count": 31,
   "metadata": {},
   "outputs": [],
   "source": [
    "def matrix_chain_order(p):\n",
    "    n = len(p)-1\n",
    "    m = [[0 for _ in range(n)] for _ in range(n)]\n",
    "    s = [[0 for _ in range(n)] for _ in range(n)]\n",
    "#     l为矩阵链长度\n",
    "    for l in range(2,n+1):\n",
    "#         i：以第i个矩阵为矩阵链起点  [1,2,3,4,....n-l+1],n-l+2,n-l+3,....n\n",
    "        for i in range(1,n-l+2):  #最后一个i为n-l+1\n",
    "            j = i+l-1             #矩阵链终点\n",
    "            m[i-1][j-1] = float(\"inf\")  #注意-1\n",
    "            for k in range(i,j):   #k为分割点p[i...k] and  p[k+1....j]\n",
    "                tmp = m[i-1][k-1]+m[k][j-1]+p[i-1]*p[k]*p[j]\n",
    "                if m[i-1][j-1] > tmp:\n",
    "                    m[i-1][j-1] = tmp\n",
    "                    s[i-1][j-1] = k-1   # k需要-1\n",
    "    return m,s\n",
    "def print_optimal_parens(s,i,j):\n",
    "#     print(i,j)\n",
    "    if i==j:\n",
    "        print(\"A[%d]\"%(i+1),end=\"\")\n",
    "    else:\n",
    "        print(\"(\",end=\"\")\n",
    "        print_optimal_parens(s,i,s[i][j])\n",
    "        print_optimal_parens(s,s[i][j]+1,j)\n",
    "        print(\")\",end=\"\")\n",
    "\n",
    "\n",
    "    \n",
    "                \n",
    "            \n",
    "            "
   ]
  },
  {
   "cell_type": "code",
   "execution_count": null,
   "metadata": {
    "collapsed": true
   },
   "outputs": [],
   "source": []
  },
  {
   "cell_type": "code",
   "execution_count": 32,
   "metadata": {},
   "outputs": [
    {
     "name": "stdout",
     "output_type": "stream",
     "text": [
      "[0, 15750, 7875, 9375, 11875, 15125]\n",
      "[0, 0, 2625, 4375, 7125, 10500]\n",
      "[0, 0, 0, 750, 2500, 5375]\n",
      "[0, 0, 0, 0, 1000, 3500]\n",
      "[0, 0, 0, 0, 0, 5000]\n",
      "[0, 0, 0, 0, 0, 0]\n",
      "--------------------\n",
      "[0, 0, 0, 2, 2, 2]\n",
      "[0, 0, 1, 2, 2, 2]\n",
      "[0, 0, 0, 2, 2, 2]\n",
      "[0, 0, 0, 0, 3, 4]\n",
      "[0, 0, 0, 0, 0, 4]\n",
      "[0, 0, 0, 0, 0, 0]\n",
      "((A[1](A[2]A[3]))((A[4]A[5])A[6]))"
     ]
    }
   ],
   "source": [
    "p = [30,35,15,5,10,20,25]\n",
    "m,s = matrix_chain_order(p)\n",
    "for mm in m:\n",
    "    print(mm)\n",
    "print(\"-\"*20)\n",
    "for ss in s:\n",
    "    print(ss)\n",
    "print_optimal_parens(s,0,len(p)-2)"
   ]
  },
  {
   "cell_type": "code",
   "execution_count": null,
   "metadata": {
    "collapsed": true
   },
   "outputs": [],
   "source": []
  },
  {
   "cell_type": "code",
   "execution_count": null,
   "metadata": {
    "collapsed": true
   },
   "outputs": [],
   "source": []
  }
 ],
 "metadata": {
  "kernelspec": {
   "display_name": "Python 3",
   "language": "python",
   "name": "python3"
  },
  "language_info": {
   "codemirror_mode": {
    "name": "ipython",
    "version": 3
   },
   "file_extension": ".py",
   "mimetype": "text/x-python",
   "name": "python",
   "nbconvert_exporter": "python",
   "pygments_lexer": "ipython3",
   "version": "3.6.1"
  }
 },
 "nbformat": 4,
 "nbformat_minor": 2
}
